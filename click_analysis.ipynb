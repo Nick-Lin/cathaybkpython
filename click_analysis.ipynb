{
 "cells": [
  {
   "cell_type": "markdown",
   "metadata": {},
   "source": [
    "- head xaa | awk 'BEGIN{FS=\",\"}{if(NF ==25) print $0}' xaa | icon -c > yaa"
   ]
  },
  {
   "cell_type": "code",
   "execution_count": 33,
   "metadata": {
    "collapsed": true
   },
   "outputs": [],
   "source": [
    "col = ['EventID','EventTimestamp','FieldIsChainedItemSelect','FormID','FormName','ObjectAlttext','ObjectClass','ObjectHierarchyID','ObjectHierarchyName','ObjectHref','ObjectID','ObjectIsDownload','ObjectIsLink','ObjectName','ObjectSourceType','ObjectSrc','ObjectTagName','ObjectType','PageEventIndex','PageInstanceID','PreviousChainedISEventIndex','SessionNumber','TrackingUuid','UnformattedHierarchyID','UnformattedHierarchyName']"
   ]
  },
  {
   "cell_type": "code",
   "execution_count": null,
   "metadata": {
    "collapsed": true
   },
   "outputs": [],
   "source": [
    "col = ['EventID','EventTimestamp','FieldIsChainedItemSelect','FormID','FormName',\\\n",
    "       'ObjectAlttext','ObjectClass','ObjectHierarchyID','ObjectHierarchyName','ObjectHref',\\\n",
    "       'ObjectID','ObjectIsDownload','ObjectIsLink','ObjectName','ObjectSourceType','ObjectSrc',\\\n",
    "       'ObjectTagName','ObjectType','PageEventIndex','PageInstanceID','PreviousChainedISEventIndex',\\\n",
    "       'SessionNumber','TrackingUuid',\\\n",
    "       'UnformattedHierarchyID','UnformattedHierarchyName']"
   ]
  },
  {
   "cell_type": "code",
   "execution_count": 31,
   "metadata": {
    "collapsed": false
   },
   "outputs": [
    {
     "data": {
      "text/plain": [
       "\"\\n    df.columns = col\\n    df2 = df[['EventID', 'EventTimestamp', 'FormID', 'FormName', 'ObjectClass',\\n       'ObjectHierarchyName', 'ObjectHref', 'ObjectID', 'ObjectName',\\n       'ObjectSourceType', 'ObjectSrc', 'ObjectTagName', 'ObjectType',\\n       'SessionNumber']]\\n    dftotal.append(df2)\\n\""
      ]
     },
     "execution_count": 31,
     "metadata": {},
     "output_type": "execute_result"
    }
   ],
   "source": [
    "import pandas\n",
    "dftotal = []\n",
    "#for l in 'abcdefghijkl':\n",
    "df = pandas.read_csv('clickdata/za{}'.format('a'), sep = ',' \\\n",
    "                     , encoding = 'utf-8' \\\n",
    "                     , header=None \\\n",
    "                     , parse_dates=[1]\\\n",
    "                     , na_values=['NaN','Null'])\n",
    "'''\n",
    "    df.columns = col\n",
    "    df2 = df[['EventID', 'EventTimestamp', 'FormID', 'FormName', 'ObjectClass',\n",
    "       'ObjectHierarchyName', 'ObjectHref', 'ObjectID', 'ObjectName',\n",
    "       'ObjectSourceType', 'ObjectSrc', 'ObjectTagName', 'ObjectType',\n",
    "       'SessionNumber']]\n",
    "    dftotal.append(df2)\n",
    "'''"
   ]
  },
  {
   "cell_type": "code",
   "execution_count": 38,
   "metadata": {
    "collapsed": false
   },
   "outputs": [
    {
     "data": {
      "text/plain": [
       "EventID                                     e0f41d61-ccfe-4e6a-bced-672082e03e77\n",
       "EventTimestamp                                        2016-07-20 18:38:31.228000\n",
       "FieldIsChainedItemSelect                                                     NaN\n",
       "FormID                                                                       NaN\n",
       "FormName                                                                     NaN\n",
       "ObjectAlttext                                                   ?            ...\n",
       "ObjectClass                                                           btn_tab on\n",
       "ObjectHierarchyID                                credit_apply_index/tab_shopping\n",
       "ObjectHierarchyName                                                          NaN\n",
       "ObjectHref                     https://www.cathaybk.com.tw/cathaybk/OnlineLoa...\n",
       "ObjectID                                                            tab_shopping\n",
       "ObjectIsDownload                                                               0\n",
       "ObjectIsLink                                                                   1\n",
       "ObjectName                                                                   NaN\n",
       "ObjectSourceType                                                             NaN\n",
       "ObjectSrc                      https://www.cathaybk.com.tw/cathaybk/OnlineLoa...\n",
       "ObjectTagName                                                                  A\n",
       "ObjectType                                                                  LINK\n",
       "PageEventIndex                                                                13\n",
       "PageInstanceID                                                         200812634\n",
       "PreviousChainedISEventIndex                                                  NaN\n",
       "SessionNumber                                                           20081425\n",
       "TrackingUuid                                7d38ef5a-79b5-443f-8253-4a013cbbf474\n",
       "UnformattedHierarchyID                  ///credit_apply_index/////tab_shopping/ \n",
       "UnformattedHierarchyName                                              ///////// \n",
       "Name: 4, dtype: object"
      ]
     },
     "execution_count": 38,
     "metadata": {},
     "output_type": "execute_result"
    }
   ],
   "source": [
    "df.iloc[4,]"
   ]
  },
  {
   "cell_type": "code",
   "execution_count": 23,
   "metadata": {
    "collapsed": false
   },
   "outputs": [],
   "source": [
    "df = pandas.concat(dftotal)"
   ]
  },
  {
   "cell_type": "code",
   "execution_count": 30,
   "metadata": {
    "collapsed": false
   },
   "outputs": [
    {
     "ename": "NameError",
     "evalue": "name 'df2' is not defined",
     "output_type": "error",
     "traceback": [
      "\u001b[1;31m---------------------------------------------------------------------------\u001b[0m",
      "\u001b[1;31mNameError\u001b[0m                                 Traceback (most recent call last)",
      "\u001b[1;32m<ipython-input-30-d83dea889f3c>\u001b[0m in \u001b[0;36m<module>\u001b[1;34m()\u001b[0m\n\u001b[1;32m----> 1\u001b[1;33m \u001b[1;32mdel\u001b[0m \u001b[0mdf2\u001b[0m\u001b[1;33m\u001b[0m\u001b[0m\n\u001b[0m",
      "\u001b[1;31mNameError\u001b[0m: name 'df2' is not defined"
     ]
    }
   ],
   "source": [
    "del df2"
   ]
  },
  {
   "cell_type": "code",
   "execution_count": 24,
   "metadata": {
    "collapsed": false
   },
   "outputs": [
    {
     "data": {
      "text/plain": [
       "12"
      ]
     },
     "execution_count": 24,
     "metadata": {},
     "output_type": "execute_result"
    }
   ],
   "source": [
    "len(dftotal)"
   ]
  },
  {
   "cell_type": "code",
   "execution_count": 27,
   "metadata": {
    "collapsed": false
   },
   "outputs": [
    {
     "data": {
      "text/html": [
       "<div>\n",
       "<table border=\"1\" class=\"dataframe\">\n",
       "  <thead>\n",
       "    <tr style=\"text-align: right;\">\n",
       "      <th></th>\n",
       "      <th>EventID</th>\n",
       "      <th>EventTimestamp</th>\n",
       "      <th>FormID</th>\n",
       "      <th>FormName</th>\n",
       "      <th>ObjectClass</th>\n",
       "      <th>ObjectHierarchyName</th>\n",
       "      <th>ObjectHref</th>\n",
       "      <th>ObjectID</th>\n",
       "      <th>ObjectName</th>\n",
       "      <th>ObjectSourceType</th>\n",
       "      <th>ObjectSrc</th>\n",
       "      <th>ObjectTagName</th>\n",
       "      <th>ObjectType</th>\n",
       "      <th>SessionNumber</th>\n",
       "    </tr>\n",
       "  </thead>\n",
       "  <tbody>\n",
       "    <tr>\n",
       "      <th>0</th>\n",
       "      <td>1a560da0-b5cc-4589-bfb9-b243d93b053b</td>\n",
       "      <td>2016-07-20 16:11:43.119</td>\n",
       "      <td>NormalSignin</td>\n",
       "      <td>NaN</td>\n",
       "      <td>bSignin</td>\n",
       "      <td>NaN</td>\n",
       "      <td>NaN</td>\n",
       "      <td>NaN</td>\n",
       "      <td>NaN</td>\n",
       "      <td>submit</td>\n",
       "      <td>NaN</td>\n",
       "      <td>BUTTON</td>\n",
       "      <td>SUBMIT</td>\n",
       "      <td>20029488</td>\n",
       "    </tr>\n",
       "    <tr>\n",
       "      <th>1</th>\n",
       "      <td>9a2de21e-34c2-43e1-9d9e-b0cc1bbc5570</td>\n",
       "      <td>2016-07-20 20:13:11.316</td>\n",
       "      <td>NormalSignin</td>\n",
       "      <td>NaN</td>\n",
       "      <td>bSignin</td>\n",
       "      <td>NaN</td>\n",
       "      <td>NaN</td>\n",
       "      <td>NaN</td>\n",
       "      <td>NaN</td>\n",
       "      <td>submit</td>\n",
       "      <td>NaN</td>\n",
       "      <td>BUTTON</td>\n",
       "      <td>SUBMIT</td>\n",
       "      <td>20105815</td>\n",
       "    </tr>\n",
       "    <tr>\n",
       "      <th>2</th>\n",
       "      <td>0c4c1857-7e81-403f-9394-746026293b3f</td>\n",
       "      <td>2016-07-20 16:25:37.285</td>\n",
       "      <td>NaN</td>\n",
       "      <td>NaN</td>\n",
       "      <td>lnk</td>\n",
       "      <td>NaN</td>\n",
       "      <td>https://www.mybank.com.tw/MyBank/Quicklinks/Ac...</td>\n",
       "      <td>NaN</td>\n",
       "      <td>NaN</td>\n",
       "      <td>NaN</td>\n",
       "      <td>https://www.mybank.com.tw/MyBank/Quicklinks/Ac...</td>\n",
       "      <td>A</td>\n",
       "      <td>LINK</td>\n",
       "      <td>20035524</td>\n",
       "    </tr>\n",
       "    <tr>\n",
       "      <th>3</th>\n",
       "      <td>42eb8067-f5cb-4760-ab68-3868a9dd8f39</td>\n",
       "      <td>2016-07-20 03:16:01.447</td>\n",
       "      <td>NormalSignin</td>\n",
       "      <td>NaN</td>\n",
       "      <td>bSignin</td>\n",
       "      <td>NaN</td>\n",
       "      <td>NaN</td>\n",
       "      <td>NaN</td>\n",
       "      <td>NaN</td>\n",
       "      <td>submit</td>\n",
       "      <td>NaN</td>\n",
       "      <td>BUTTON</td>\n",
       "      <td>SUBMIT</td>\n",
       "      <td>19746244</td>\n",
       "    </tr>\n",
       "    <tr>\n",
       "      <th>4</th>\n",
       "      <td>7c672670-4013-4210-9c1e-100edfff3f7e</td>\n",
       "      <td>2016-07-20 17:34:38.740</td>\n",
       "      <td>NaN</td>\n",
       "      <td>NaN</td>\n",
       "      <td>NaN</td>\n",
       "      <td>@-nJ</td>\n",
       "      <td>NaN</td>\n",
       "      <td>@-nJ</td>\n",
       "      <td>@-nJ</td>\n",
       "      <td>button</td>\n",
       "      <td>NaN</td>\n",
       "      <td>NaN</td>\n",
       "      <td>BUTTON</td>\n",
       "      <td>20060810</td>\n",
       "    </tr>\n",
       "  </tbody>\n",
       "</table>\n",
       "</div>"
      ],
      "text/plain": [
       "                                EventID          EventTimestamp        FormID  \\\n",
       "0  1a560da0-b5cc-4589-bfb9-b243d93b053b 2016-07-20 16:11:43.119  NormalSignin   \n",
       "1  9a2de21e-34c2-43e1-9d9e-b0cc1bbc5570 2016-07-20 20:13:11.316  NormalSignin   \n",
       "2  0c4c1857-7e81-403f-9394-746026293b3f 2016-07-20 16:25:37.285           NaN   \n",
       "3  42eb8067-f5cb-4760-ab68-3868a9dd8f39 2016-07-20 03:16:01.447  NormalSignin   \n",
       "4  7c672670-4013-4210-9c1e-100edfff3f7e 2016-07-20 17:34:38.740           NaN   \n",
       "\n",
       "  FormName ObjectClass ObjectHierarchyName  \\\n",
       "0      NaN     bSignin                 NaN   \n",
       "1      NaN     bSignin                 NaN   \n",
       "2      NaN         lnk                 NaN   \n",
       "3      NaN     bSignin                 NaN   \n",
       "4      NaN         NaN                @-nJ   \n",
       "\n",
       "                                          ObjectHref ObjectID ObjectName  \\\n",
       "0                                                NaN      NaN        NaN   \n",
       "1                                                NaN      NaN        NaN   \n",
       "2  https://www.mybank.com.tw/MyBank/Quicklinks/Ac...      NaN        NaN   \n",
       "3                                                NaN      NaN        NaN   \n",
       "4                                                NaN     @-nJ       @-nJ   \n",
       "\n",
       "  ObjectSourceType                                          ObjectSrc  \\\n",
       "0           submit                                                NaN   \n",
       "1           submit                                                NaN   \n",
       "2              NaN  https://www.mybank.com.tw/MyBank/Quicklinks/Ac...   \n",
       "3           submit                                                NaN   \n",
       "4           button                                                NaN   \n",
       "\n",
       "  ObjectTagName ObjectType  SessionNumber  \n",
       "0        BUTTON     SUBMIT       20029488  \n",
       "1        BUTTON     SUBMIT       20105815  \n",
       "2             A       LINK       20035524  \n",
       "3        BUTTON     SUBMIT       19746244  \n",
       "4           NaN     BUTTON       20060810  "
      ]
     },
     "execution_count": 27,
     "metadata": {},
     "output_type": "execute_result"
    }
   ],
   "source": [
    "df.head()"
   ]
  },
  {
   "cell_type": "code",
   "execution_count": 18,
   "metadata": {
    "collapsed": false
   },
   "outputs": [
    {
     "ename": "KeyError",
     "evalue": "'PageInstanceID'",
     "output_type": "error",
     "traceback": [
      "\u001b[1;31m---------------------------------------------------------------------------\u001b[0m",
      "\u001b[1;31mKeyError\u001b[0m                                  Traceback (most recent call last)",
      "\u001b[1;32mC:\\Anaconda3\\lib\\site-packages\\pandas\\indexes\\base.py\u001b[0m in \u001b[0;36mget_loc\u001b[1;34m(self, key, method, tolerance)\u001b[0m\n\u001b[0;32m   1944\u001b[0m             \u001b[1;32mtry\u001b[0m\u001b[1;33m:\u001b[0m\u001b[1;33m\u001b[0m\u001b[0m\n\u001b[1;32m-> 1945\u001b[1;33m                 \u001b[1;32mreturn\u001b[0m \u001b[0mself\u001b[0m\u001b[1;33m.\u001b[0m\u001b[0m_engine\u001b[0m\u001b[1;33m.\u001b[0m\u001b[0mget_loc\u001b[0m\u001b[1;33m(\u001b[0m\u001b[0mkey\u001b[0m\u001b[1;33m)\u001b[0m\u001b[1;33m\u001b[0m\u001b[0m\n\u001b[0m\u001b[0;32m   1946\u001b[0m             \u001b[1;32mexcept\u001b[0m \u001b[0mKeyError\u001b[0m\u001b[1;33m:\u001b[0m\u001b[1;33m\u001b[0m\u001b[0m\n",
      "\u001b[1;32mpandas\\index.pyx\u001b[0m in \u001b[0;36mpandas.index.IndexEngine.get_loc (pandas\\index.c:4154)\u001b[1;34m()\u001b[0m\n",
      "\u001b[1;32mpandas\\index.pyx\u001b[0m in \u001b[0;36mpandas.index.IndexEngine.get_loc (pandas\\index.c:4018)\u001b[1;34m()\u001b[0m\n",
      "\u001b[1;32mpandas\\hashtable.pyx\u001b[0m in \u001b[0;36mpandas.hashtable.PyObjectHashTable.get_item (pandas\\hashtable.c:12368)\u001b[1;34m()\u001b[0m\n",
      "\u001b[1;32mpandas\\hashtable.pyx\u001b[0m in \u001b[0;36mpandas.hashtable.PyObjectHashTable.get_item (pandas\\hashtable.c:12322)\u001b[1;34m()\u001b[0m\n",
      "\u001b[1;31mKeyError\u001b[0m: 'PageInstanceID'",
      "\nDuring handling of the above exception, another exception occurred:\n",
      "\u001b[1;31mKeyError\u001b[0m                                  Traceback (most recent call last)",
      "\u001b[1;32m<ipython-input-18-99071c2ae986>\u001b[0m in \u001b[0;36m<module>\u001b[1;34m()\u001b[0m\n\u001b[1;32m----> 1\u001b[1;33m \u001b[1;32mdel\u001b[0m \u001b[0mdf\u001b[0m\u001b[1;33m[\u001b[0m\u001b[1;34m'PageInstanceID'\u001b[0m\u001b[1;33m]\u001b[0m\u001b[1;33m\u001b[0m\u001b[0m\n\u001b[0m\u001b[0;32m      2\u001b[0m \u001b[1;32mdel\u001b[0m \u001b[0mdf\u001b[0m\u001b[1;33m[\u001b[0m\u001b[1;34m'ObjectHierarchyID'\u001b[0m\u001b[1;33m]\u001b[0m\u001b[1;33m\u001b[0m\u001b[0m\n",
      "\u001b[1;32mC:\\Anaconda3\\lib\\site-packages\\pandas\\core\\generic.py\u001b[0m in \u001b[0;36m__delitem__\u001b[1;34m(self, key)\u001b[0m\n\u001b[0;32m   1604\u001b[0m             \u001b[1;31m# there was no match, this call should raise the appropriate\u001b[0m\u001b[1;33m\u001b[0m\u001b[1;33m\u001b[0m\u001b[0m\n\u001b[0;32m   1605\u001b[0m             \u001b[1;31m# exception:\u001b[0m\u001b[1;33m\u001b[0m\u001b[1;33m\u001b[0m\u001b[0m\n\u001b[1;32m-> 1606\u001b[1;33m             \u001b[0mself\u001b[0m\u001b[1;33m.\u001b[0m\u001b[0m_data\u001b[0m\u001b[1;33m.\u001b[0m\u001b[0mdelete\u001b[0m\u001b[1;33m(\u001b[0m\u001b[0mkey\u001b[0m\u001b[1;33m)\u001b[0m\u001b[1;33m\u001b[0m\u001b[0m\n\u001b[0m\u001b[0;32m   1607\u001b[0m \u001b[1;33m\u001b[0m\u001b[0m\n\u001b[0;32m   1608\u001b[0m         \u001b[1;31m# delete from the caches\u001b[0m\u001b[1;33m\u001b[0m\u001b[1;33m\u001b[0m\u001b[0m\n",
      "\u001b[1;32mC:\\Anaconda3\\lib\\site-packages\\pandas\\core\\internals.py\u001b[0m in \u001b[0;36mdelete\u001b[1;34m(self, item)\u001b[0m\n\u001b[0;32m   3347\u001b[0m         \u001b[0mDelete\u001b[0m \u001b[0mselected\u001b[0m \u001b[0mitem\u001b[0m \u001b[1;33m(\u001b[0m\u001b[0mitems\u001b[0m \u001b[1;32mif\u001b[0m \u001b[0mnon\u001b[0m\u001b[1;33m-\u001b[0m\u001b[0munique\u001b[0m\u001b[1;33m)\u001b[0m \u001b[1;32min\u001b[0m\u001b[1;33m-\u001b[0m\u001b[0mplace\u001b[0m\u001b[1;33m.\u001b[0m\u001b[1;33m\u001b[0m\u001b[0m\n\u001b[0;32m   3348\u001b[0m         \"\"\"\n\u001b[1;32m-> 3349\u001b[1;33m         \u001b[0mindexer\u001b[0m \u001b[1;33m=\u001b[0m \u001b[0mself\u001b[0m\u001b[1;33m.\u001b[0m\u001b[0mitems\u001b[0m\u001b[1;33m.\u001b[0m\u001b[0mget_loc\u001b[0m\u001b[1;33m(\u001b[0m\u001b[0mitem\u001b[0m\u001b[1;33m)\u001b[0m\u001b[1;33m\u001b[0m\u001b[0m\n\u001b[0m\u001b[0;32m   3350\u001b[0m \u001b[1;33m\u001b[0m\u001b[0m\n\u001b[0;32m   3351\u001b[0m         \u001b[0mis_deleted\u001b[0m \u001b[1;33m=\u001b[0m \u001b[0mnp\u001b[0m\u001b[1;33m.\u001b[0m\u001b[0mzeros\u001b[0m\u001b[1;33m(\u001b[0m\u001b[0mself\u001b[0m\u001b[1;33m.\u001b[0m\u001b[0mshape\u001b[0m\u001b[1;33m[\u001b[0m\u001b[1;36m0\u001b[0m\u001b[1;33m]\u001b[0m\u001b[1;33m,\u001b[0m \u001b[0mdtype\u001b[0m\u001b[1;33m=\u001b[0m\u001b[0mnp\u001b[0m\u001b[1;33m.\u001b[0m\u001b[0mbool_\u001b[0m\u001b[1;33m)\u001b[0m\u001b[1;33m\u001b[0m\u001b[0m\n",
      "\u001b[1;32mC:\\Anaconda3\\lib\\site-packages\\pandas\\indexes\\base.py\u001b[0m in \u001b[0;36mget_loc\u001b[1;34m(self, key, method, tolerance)\u001b[0m\n\u001b[0;32m   1945\u001b[0m                 \u001b[1;32mreturn\u001b[0m \u001b[0mself\u001b[0m\u001b[1;33m.\u001b[0m\u001b[0m_engine\u001b[0m\u001b[1;33m.\u001b[0m\u001b[0mget_loc\u001b[0m\u001b[1;33m(\u001b[0m\u001b[0mkey\u001b[0m\u001b[1;33m)\u001b[0m\u001b[1;33m\u001b[0m\u001b[0m\n\u001b[0;32m   1946\u001b[0m             \u001b[1;32mexcept\u001b[0m \u001b[0mKeyError\u001b[0m\u001b[1;33m:\u001b[0m\u001b[1;33m\u001b[0m\u001b[0m\n\u001b[1;32m-> 1947\u001b[1;33m                 \u001b[1;32mreturn\u001b[0m \u001b[0mself\u001b[0m\u001b[1;33m.\u001b[0m\u001b[0m_engine\u001b[0m\u001b[1;33m.\u001b[0m\u001b[0mget_loc\u001b[0m\u001b[1;33m(\u001b[0m\u001b[0mself\u001b[0m\u001b[1;33m.\u001b[0m\u001b[0m_maybe_cast_indexer\u001b[0m\u001b[1;33m(\u001b[0m\u001b[0mkey\u001b[0m\u001b[1;33m)\u001b[0m\u001b[1;33m)\u001b[0m\u001b[1;33m\u001b[0m\u001b[0m\n\u001b[0m\u001b[0;32m   1948\u001b[0m \u001b[1;33m\u001b[0m\u001b[0m\n\u001b[0;32m   1949\u001b[0m         \u001b[0mindexer\u001b[0m \u001b[1;33m=\u001b[0m \u001b[0mself\u001b[0m\u001b[1;33m.\u001b[0m\u001b[0mget_indexer\u001b[0m\u001b[1;33m(\u001b[0m\u001b[1;33m[\u001b[0m\u001b[0mkey\u001b[0m\u001b[1;33m]\u001b[0m\u001b[1;33m,\u001b[0m \u001b[0mmethod\u001b[0m\u001b[1;33m=\u001b[0m\u001b[0mmethod\u001b[0m\u001b[1;33m,\u001b[0m \u001b[0mtolerance\u001b[0m\u001b[1;33m=\u001b[0m\u001b[0mtolerance\u001b[0m\u001b[1;33m)\u001b[0m\u001b[1;33m\u001b[0m\u001b[0m\n",
      "\u001b[1;32mpandas\\index.pyx\u001b[0m in \u001b[0;36mpandas.index.IndexEngine.get_loc (pandas\\index.c:4154)\u001b[1;34m()\u001b[0m\n",
      "\u001b[1;32mpandas\\index.pyx\u001b[0m in \u001b[0;36mpandas.index.IndexEngine.get_loc (pandas\\index.c:4018)\u001b[1;34m()\u001b[0m\n",
      "\u001b[1;32mpandas\\hashtable.pyx\u001b[0m in \u001b[0;36mpandas.hashtable.PyObjectHashTable.get_item (pandas\\hashtable.c:12368)\u001b[1;34m()\u001b[0m\n",
      "\u001b[1;32mpandas\\hashtable.pyx\u001b[0m in \u001b[0;36mpandas.hashtable.PyObjectHashTable.get_item (pandas\\hashtable.c:12322)\u001b[1;34m()\u001b[0m\n",
      "\u001b[1;31mKeyError\u001b[0m: 'PageInstanceID'"
     ]
    }
   ],
   "source": [
    "del df['PageInstanceID']\n",
    "del df['ObjectHierarchyID']"
   ]
  },
  {
   "cell_type": "code",
   "execution_count": 19,
   "metadata": {
    "collapsed": false
   },
   "outputs": [
    {
     "name": "stdout",
     "output_type": "stream",
     "text": [
      "<class 'pandas.core.frame.DataFrame'>\n",
      "RangeIndex: 197638 entries, 0 to 197637\n",
      "Data columns (total 14 columns):\n",
      "EventID                197638 non-null object\n",
      "EventTimestamp         197638 non-null datetime64[ns]\n",
      "FormID                 81212 non-null object\n",
      "FormName               22519 non-null object\n",
      "ObjectClass            128873 non-null object\n",
      "ObjectHierarchyName    92393 non-null object\n",
      "ObjectHref             61712 non-null object\n",
      "ObjectID               91507 non-null object\n",
      "ObjectName             87519 non-null object\n",
      "ObjectSourceType       100893 non-null object\n",
      "ObjectSrc              53651 non-null object\n",
      "ObjectTagName          183791 non-null object\n",
      "ObjectType             197638 non-null object\n",
      "SessionNumber          197638 non-null int64\n",
      "dtypes: datetime64[ns](1), int64(1), object(12)\n",
      "memory usage: 21.1+ MB\n"
     ]
    }
   ],
   "source": [
    "df.info()"
   ]
  },
  {
   "cell_type": "code",
   "execution_count": 21,
   "metadata": {
    "collapsed": false
   },
   "outputs": [
    {
     "data": {
      "text/plain": [
       "Index(['EventID', 'EventTimestamp', 'FormID', 'FormName', 'ObjectClass',\n",
       "       'ObjectHierarchyName', 'ObjectHref', 'ObjectID', 'ObjectName',\n",
       "       'ObjectSourceType', 'ObjectSrc', 'ObjectTagName', 'ObjectType',\n",
       "       'SessionNumber'],\n",
       "      dtype='object')"
      ]
     },
     "execution_count": 21,
     "metadata": {},
     "output_type": "execute_result"
    }
   ],
   "source": [
    "df.columns"
   ]
  },
  {
   "cell_type": "code",
   "execution_count": 37,
   "metadata": {
    "collapsed": false
   },
   "outputs": [
    {
     "data": {
      "text/plain": [
       "array([nan, '國泰世華銀行-登入', 'check', 'CustID', 'item.OutwardAcct',\n",
       "       '國泰世華銀行-匯率查詢', 'B0103_NexStep', 'ImageCheckCode', 'BPtrBankID',\n",
       "       'F0101_PortfolioByAcct_Rst', 'TxnType', 'B0101_ItemTxn',\n",
       "       'OutwardAcct', 'signin', '匯率查詢-所有匯率', 'menu2', 'InwardCur', 'aaa',\n",
       "       'InAmt01', 'Image32', 'B0103_Next15', 'Image31', 'InwardAcct',\n",
       "       '國泰世華銀行', 'StepFirst', '貼心服務', 'identity', 'MyMemo', '匯率查詢',\n",
       "       'B0301_RegXfer_Rst', 'AcctNo', 'OutAmt01', 'nexStep',\n",
       "       'NextStepToCfm', 'B0302_UnRegXfer_Rst', 'Image33', 'Amount', 'idx',\n",
       "       'select', 'email', 'logout', 'Card2', 'B0103_Next7', 'main',\n",
       "       'CertNo', 'B0103_Print', '申請信用卡-台塑聯名卡', 'OutwardCur', 'district',\n",
       "       'chkReadConfirm', 'B0301nexStep', 'B0103_day30', 'back', 'Location',\n",
       "       'TxnVerifyCtrl', 'BankInward', 'TypeRows[2].QAs[3].Result',\n",
       "       'AuthNo', 'QryDay', 'btnTransfer2', '線上申請業務', '返回', 'btnSend',\n",
       "       'BtnHisRate', 'ACNO', 'TypeRows[2].QAs[2].Result', 'ProjectID',\n",
       "       'InAmt02', 'P0601_PwdChg_Set', 'B0103_1Mon', 'btnQuery',\n",
       "       'UsedTransfer', '轉帳/發紅包', 'CardNo', 'StartDay', 'langUI_766',\n",
       "       'Acno', 'go', 'checkbox', 'B0409_CreditCardBill_Inp2Cfm2',\n",
       "       'B0302nexStep', 'confirm', 'MobileNo', 'nav_news', 'chbox', '外匯匯率',\n",
       "       'cmdQrySWC', 'langUI_152', 'Reader', '輸入吉祥話', 'Query', 'selCur',\n",
       "       'Card1', 'DropDownListCType', 'Machine_Type', 'query', 'BankType',\n",
       "       'radio1', 'langUI_3159', '卡片說明-MasterCard 台塑悠遊聯名白金卡'], dtype=object)"
      ]
     },
     "execution_count": 37,
     "metadata": {},
     "output_type": "execute_result"
    }
   ],
   "source": [
    "df['ObjectName'].unique()[0:100]"
   ]
  },
  {
   "cell_type": "code",
   "execution_count": 6,
   "metadata": {
    "collapsed": false
   },
   "outputs": [
    {
     "ename": "AttributeError",
     "evalue": "'DataFrame' object has no attribute 'ObjectIsLink'",
     "output_type": "error",
     "traceback": [
      "\u001b[1;31m---------------------------------------------------------------------------\u001b[0m",
      "\u001b[1;31mAttributeError\u001b[0m                            Traceback (most recent call last)",
      "\u001b[1;32m<ipython-input-6-746b6701ed9c>\u001b[0m in \u001b[0;36m<module>\u001b[1;34m()\u001b[0m\n\u001b[1;32m----> 1\u001b[1;33m \u001b[0mdf\u001b[0m\u001b[1;33m[\u001b[0m\u001b[0mdf\u001b[0m\u001b[1;33m.\u001b[0m\u001b[0mObjectIsLink\u001b[0m \u001b[1;33m==\u001b[0m \u001b[1;36m1\u001b[0m\u001b[1;33m]\u001b[0m    \u001b[1;33m.\u001b[0m\u001b[0mgroupby\u001b[0m\u001b[1;33m(\u001b[0m\u001b[1;34m'SessionNumber'\u001b[0m\u001b[1;33m)\u001b[0m\u001b[1;33m[\u001b[0m\u001b[1;34m'SessionNumber'\u001b[0m\u001b[1;33m]\u001b[0m    \u001b[1;33m.\u001b[0m\u001b[0mcount\u001b[0m\u001b[1;33m(\u001b[0m\u001b[1;33m)\u001b[0m    \u001b[1;33m.\u001b[0m\u001b[0msort_values\u001b[0m\u001b[1;33m(\u001b[0m\u001b[0mascending\u001b[0m\u001b[1;33m=\u001b[0m\u001b[1;32mFalse\u001b[0m\u001b[1;33m)\u001b[0m    \u001b[1;33m.\u001b[0m\u001b[0mhead\u001b[0m\u001b[1;33m(\u001b[0m\u001b[1;36m10\u001b[0m\u001b[1;33m)\u001b[0m\u001b[1;33m\u001b[0m\u001b[0m\n\u001b[0m",
      "\u001b[1;32mC:\\Anaconda32\\lib\\site-packages\\pandas\\core\\generic.py\u001b[0m in \u001b[0;36m__getattr__\u001b[1;34m(self, name)\u001b[0m\n\u001b[0;32m   2670\u001b[0m             \u001b[1;32mif\u001b[0m \u001b[0mname\u001b[0m \u001b[1;32min\u001b[0m \u001b[0mself\u001b[0m\u001b[1;33m.\u001b[0m\u001b[0m_info_axis\u001b[0m\u001b[1;33m:\u001b[0m\u001b[1;33m\u001b[0m\u001b[0m\n\u001b[0;32m   2671\u001b[0m                 \u001b[1;32mreturn\u001b[0m \u001b[0mself\u001b[0m\u001b[1;33m[\u001b[0m\u001b[0mname\u001b[0m\u001b[1;33m]\u001b[0m\u001b[1;33m\u001b[0m\u001b[0m\n\u001b[1;32m-> 2672\u001b[1;33m             \u001b[1;32mreturn\u001b[0m \u001b[0mobject\u001b[0m\u001b[1;33m.\u001b[0m\u001b[0m__getattribute__\u001b[0m\u001b[1;33m(\u001b[0m\u001b[0mself\u001b[0m\u001b[1;33m,\u001b[0m \u001b[0mname\u001b[0m\u001b[1;33m)\u001b[0m\u001b[1;33m\u001b[0m\u001b[0m\n\u001b[0m\u001b[0;32m   2673\u001b[0m \u001b[1;33m\u001b[0m\u001b[0m\n\u001b[0;32m   2674\u001b[0m     \u001b[1;32mdef\u001b[0m \u001b[0m__setattr__\u001b[0m\u001b[1;33m(\u001b[0m\u001b[0mself\u001b[0m\u001b[1;33m,\u001b[0m \u001b[0mname\u001b[0m\u001b[1;33m,\u001b[0m \u001b[0mvalue\u001b[0m\u001b[1;33m)\u001b[0m\u001b[1;33m:\u001b[0m\u001b[1;33m\u001b[0m\u001b[0m\n",
      "\u001b[1;31mAttributeError\u001b[0m: 'DataFrame' object has no attribute 'ObjectIsLink'"
     ]
    }
   ],
   "source": [
    "df[df.ObjectIsLink == 1]\\\n",
    "    .groupby('SessionNumber')['SessionNumber']\\\n",
    "    .count()\\\n",
    "    .sort_values(ascending=False)\\\n",
    "    .head(10)"
   ]
  },
  {
   "cell_type": "code",
   "execution_count": 51,
   "metadata": {
    "collapsed": false
   },
   "outputs": [
    {
     "data": {
      "text/plain": [
       "0    16\n",
       "1    20\n",
       "2    16\n",
       "3     3\n",
       "4    17\n",
       "Name: EventTimestamp, dtype: int64"
      ]
     },
     "execution_count": 51,
     "metadata": {},
     "output_type": "execute_result"
    }
   ],
   "source": [
    "df.EventTimestamp.dt.hour.head()"
   ]
  },
  {
   "cell_type": "code",
   "execution_count": 67,
   "metadata": {
    "collapsed": false
   },
   "outputs": [
    {
     "name": "stdout",
     "output_type": "stream",
     "text": [
      "Populating the interactive namespace from numpy and matplotlib\n"
     ]
    },
    {
     "data": {
      "text/plain": [
       "<matplotlib.axes._subplots.AxesSubplot at 0x1b535e80>"
      ]
     },
     "execution_count": 67,
     "metadata": {},
     "output_type": "execute_result"
    },
    {
     "data": {
      "image/png": "[encoded data removed]",
      "text/plain": [
       "<matplotlib.figure.Figure at 0x1b78e128>"
      ]
     },
     "metadata": {},
     "output_type": "display_data"
    }
   ],
   "source": [
    "%pylab inline\n",
    "a = df.EventTimestamp.dt.hour.value_counts().sort_index()\n",
    "\n",
    "a.plot(kind='line')"
   ]
  },
  {
   "cell_type": "markdown",
   "metadata": {},
   "source": [
    "## 取得所有的Click"
   ]
  },
  {
   "cell_type": "code",
   "execution_count": 74,
   "metadata": {
    "collapsed": false
   },
   "outputs": [],
   "source": [
    "import pandas\n",
    "col = ['EventID','EventTimestamp','FieldIsChainedItemSelect','FormID','FormName','ObjectAlttext','ObjectClass','ObjectHierarchyID','ObjectHierarchyName','ObjectHref','ObjectID','ObjectIsDownload','ObjectIsLink','ObjectName','ObjectSourceType','ObjectSrc','ObjectTagName','ObjectType','PageEventIndex','PageInstanceID','PreviousChainedISEventIndex','SessionNumber','TrackingUuid','UnformattedHierarchyID','UnformattedHierarchyName']\n",
    "file_suffix = 'abcdefghijkl'\n",
    "dfary = []\n",
    "for f in file_suffix:\n",
    "    df = pandas.read_csv('bigdata/ya' + f, sep = ',' \\\n",
    "                         , encoding = 'big5' \\\n",
    "                         , header=None \\\n",
    "                         , parse_dates=[1]\\\n",
    "                         , na_values=['NaN','Null'])\n",
    "    df.columns = col\n",
    "    df2 = df[df.ObjectIsLink == 1]\n",
    "    dfary.append(df2)"
   ]
  },
  {
   "cell_type": "code",
   "execution_count": 75,
   "metadata": {
    "collapsed": true
   },
   "outputs": [],
   "source": [
    "dfall = pandas.concat(dfary)"
   ]
  },
  {
   "cell_type": "code",
   "execution_count": 76,
   "metadata": {
    "collapsed": true
   },
   "outputs": [],
   "source": [
    "del dfary"
   ]
  },
  {
   "cell_type": "code",
   "execution_count": 77,
   "metadata": {
    "collapsed": false
   },
   "outputs": [
    {
     "name": "stdout",
     "output_type": "stream",
     "text": [
      "<class 'pandas.core.frame.DataFrame'>\n",
      "Int64Index: 695522 entries, 2 to 153341\n",
      "Data columns (total 25 columns):\n",
      "EventID                        695522 non-null object\n",
      "EventTimestamp                 695522 non-null datetime64[ns]\n",
      "FieldIsChainedItemSelect       0 non-null float64\n",
      "FormID                         0 non-null object\n",
      "FormName                       1 non-null object\n",
      "ObjectAlttext                  576279 non-null object\n",
      "ObjectClass                    391177 non-null object\n",
      "ObjectHierarchyID              667093 non-null object\n",
      "ObjectHierarchyName            45046 non-null object\n",
      "ObjectHref                     695522 non-null object\n",
      "ObjectID                       70364 non-null object\n",
      "ObjectIsDownload               695522 non-null int64\n",
      "ObjectIsLink                   695522 non-null int64\n",
      "ObjectName                     17261 non-null object\n",
      "ObjectSourceType               1 non-null object\n",
      "ObjectSrc                      602642 non-null object\n",
      "ObjectTagName                  695522 non-null object\n",
      "ObjectType                     695522 non-null object\n",
      "PageEventIndex                 695522 non-null int64\n",
      "PageInstanceID                 695522 non-null int64\n",
      "PreviousChainedISEventIndex    0 non-null float64\n",
      "SessionNumber                  695522 non-null int64\n",
      "TrackingUuid                   695522 non-null object\n",
      "UnformattedHierarchyID         695522 non-null object\n",
      "UnformattedHierarchyName       695522 non-null object\n",
      "dtypes: datetime64[ns](1), float64(2), int64(5), object(17)\n",
      "memory usage: 138.0+ MB\n"
     ]
    }
   ],
   "source": [
    "dfall.info()"
   ]
  },
  {
   "cell_type": "code",
   "execution_count": 78,
   "metadata": {
    "collapsed": false
   },
   "outputs": [
    {
     "name": "stdout",
     "output_type": "stream",
     "text": [
      "Populating the interactive namespace from numpy and matplotlib\n"
     ]
    },
    {
     "name": "stderr",
     "output_type": "stream",
     "text": [
      "WARNING: pylab import has clobbered these variables: ['f']\n",
      "`%matplotlib` prevents importing * from pylab and numpy\n"
     ]
    },
    {
     "data": {
      "text/plain": [
       "<matplotlib.axes._subplots.AxesSubplot at 0x3251bbe0>"
      ]
     },
     "execution_count": 78,
     "metadata": {},
     "output_type": "execute_result"
    },
    {
     "data": {
      "image/png": "[encoded data removed]",
      "text/plain": [
       "<matplotlib.figure.Figure at 0x39334358>"
      ]
     },
     "metadata": {},
     "output_type": "display_data"
    }
   ],
   "source": [
    "%pylab inline\n",
    "a = dfall.EventTimestamp.dt.hour.value_counts().sort_index()\n",
    "\n",
    "a.plot(kind='line')"
   ]
  },
  {
   "cell_type": "code",
   "execution_count": 79,
   "metadata": {
    "collapsed": false
   },
   "outputs": [
    {
     "data": {
      "text/plain": [
       "0     18869\n",
       "1     11160\n",
       "2      6531\n",
       "3      4313\n",
       "4      3276\n",
       "5      3573\n",
       "6      7539\n",
       "7     13603\n",
       "8     32303\n",
       "9     55157\n",
       "10    54001\n",
       "11    38617\n",
       "12    47523\n",
       "13    53369\n",
       "14    52620\n",
       "15    47244\n",
       "16    40424\n",
       "17    33000\n",
       "18    26907\n",
       "19    24522\n",
       "20    28460\n",
       "21    31431\n",
       "22    32833\n",
       "23    28247\n",
       "Name: EventTimestamp, dtype: int64"
      ]
     },
     "execution_count": 79,
     "metadata": {},
     "output_type": "execute_result"
    }
   ],
   "source": [
    "a"
   ]
  },
  {
   "cell_type": "code",
   "execution_count": 88,
   "metadata": {
    "collapsed": false
   },
   "outputs": [
    {
     "data": {
      "text/plain": [
       "False    640186\n",
       "True      55336\n",
       "Name: ObjectHref, dtype: int64"
      ]
     },
     "execution_count": 88,
     "metadata": {},
     "output_type": "execute_result"
    }
   ],
   "source": [
    "dfall.ObjectHref.str.contains('card').value_counts()"
   ]
  },
  {
   "cell_type": "code",
   "execution_count": 107,
   "metadata": {
    "collapsed": false
   },
   "outputs": [],
   "source": [
    "url_mapping_raw = pandas.read_excel('bigdata/url_mapping.xlsx', sheetname = [i for i in range(1,12)])"
   ]
  },
  {
   "cell_type": "code",
   "execution_count": 108,
   "metadata": {
    "collapsed": false
   },
   "outputs": [],
   "source": [
    "url_mapping_concat = pandas.concat(url_mapping_raw)"
   ]
  },
  {
   "cell_type": "code",
   "execution_count": 125,
   "metadata": {
    "collapsed": false
   },
   "outputs": [],
   "source": [
    "#tag_map = url_mapping_concat[['URL','層級1', '層級2','層級3','層級4', '頁面名稱']]\n",
    "tag_map = url_mapping_concat[['URL','層級2']]"
   ]
  },
  {
   "cell_type": "code",
   "execution_count": 126,
   "metadata": {
    "collapsed": false
   },
   "outputs": [
    {
     "data": {
      "text/html": [
       "<div>\n",
       "<table border=\"1\" class=\"dataframe\">\n",
       "  <thead>\n",
       "    <tr style=\"text-align: right;\">\n",
       "      <th></th>\n",
       "      <th></th>\n",
       "      <th>URL</th>\n",
       "      <th>層級2</th>\n",
       "    </tr>\n",
       "  </thead>\n",
       "  <tbody>\n",
       "    <tr>\n",
       "      <th rowspan=\"5\" valign=\"top\">1</th>\n",
       "      <th>0</th>\n",
       "      <td>https://www.cathaybk.com.tw/cathaybk/about_vis...</td>\n",
       "      <td>關於我們</td>\n",
       "    </tr>\n",
       "    <tr>\n",
       "      <th>1</th>\n",
       "      <td>https://www.cathaybk.com.tw/cathaybk/about.asp</td>\n",
       "      <td>關於我們</td>\n",
       "    </tr>\n",
       "    <tr>\n",
       "      <th>2</th>\n",
       "      <td>https://www.cathaybk.com.tw/cathaybk/about_int...</td>\n",
       "      <td>關於我們</td>\n",
       "    </tr>\n",
       "    <tr>\n",
       "      <th>3</th>\n",
       "      <td>https://www.cathaybk.com.tw/cathaybk/doc/state...</td>\n",
       "      <td>關於我們</td>\n",
       "    </tr>\n",
       "    <tr>\n",
       "      <th>4</th>\n",
       "      <td>https://www.cathaybk.com.tw/cathaybk/doc/state...</td>\n",
       "      <td>關於我們</td>\n",
       "    </tr>\n",
       "  </tbody>\n",
       "</table>\n",
       "</div>"
      ],
      "text/plain": [
       "                                                   URL   層級2\n",
       "1 0  https://www.cathaybk.com.tw/cathaybk/about_vis...  關於我們\n",
       "  1     https://www.cathaybk.com.tw/cathaybk/about.asp  關於我們\n",
       "  2  https://www.cathaybk.com.tw/cathaybk/about_int...  關於我們\n",
       "  3  https://www.cathaybk.com.tw/cathaybk/doc/state...  關於我們\n",
       "  4  https://www.cathaybk.com.tw/cathaybk/doc/state...  關於我們"
      ]
     },
     "execution_count": 126,
     "metadata": {},
     "output_type": "execute_result"
    }
   ],
   "source": [
    "tag_map.head()"
   ]
  },
  {
   "cell_type": "code",
   "execution_count": 127,
   "metadata": {
    "collapsed": false
   },
   "outputs": [],
   "source": [
    "dfpartial = dfall[['EventID','EventTimestamp','ObjectHref','SessionNumber','TrackingUuid']]"
   ]
  },
  {
   "cell_type": "code",
   "execution_count": 128,
   "metadata": {
    "collapsed": false
   },
   "outputs": [],
   "source": [
    "dfmerge = pandas.merge(dfpartial, tag_map,left_on='ObjectHref', right_on='URL', how='inner')"
   ]
  },
  {
   "cell_type": "code",
   "execution_count": 129,
   "metadata": {
    "collapsed": false
   },
   "outputs": [
    {
     "data": {
      "text/html": [
       "<div>\n",
       "<table border=\"1\" class=\"dataframe\">\n",
       "  <thead>\n",
       "    <tr style=\"text-align: right;\">\n",
       "      <th></th>\n",
       "      <th>EventID</th>\n",
       "      <th>EventTimestamp</th>\n",
       "      <th>ObjectHref</th>\n",
       "      <th>SessionNumber</th>\n",
       "      <th>TrackingUuid</th>\n",
       "      <th>URL</th>\n",
       "      <th>層級2</th>\n",
       "    </tr>\n",
       "  </thead>\n",
       "  <tbody>\n",
       "    <tr>\n",
       "      <th>0</th>\n",
       "      <td>5d97a415-6928-40da-8ed9-855e7ce65622</td>\n",
       "      <td>2016-07-20 19:24:59.909</td>\n",
       "      <td>https://www.cathaybk.com.tw/cathaybk/personal_...</td>\n",
       "      <td>20093743</td>\n",
       "      <td>5db44afe-7376-4a35-bda4-938c93a40908</td>\n",
       "      <td>https://www.cathaybk.com.tw/cathaybk/personal_...</td>\n",
       "      <td>壽險服務</td>\n",
       "    </tr>\n",
       "    <tr>\n",
       "      <th>1</th>\n",
       "      <td>5d97a415-6928-40da-8ed9-855e7ce65622</td>\n",
       "      <td>2016-07-20 19:24:59.909</td>\n",
       "      <td>https://www.cathaybk.com.tw/cathaybk/personal_...</td>\n",
       "      <td>20093743</td>\n",
       "      <td>5db44afe-7376-4a35-bda4-938c93a40908</td>\n",
       "      <td>https://www.cathaybk.com.tw/cathaybk/personal_...</td>\n",
       "      <td>業務介紹-保險</td>\n",
       "    </tr>\n",
       "    <tr>\n",
       "      <th>2</th>\n",
       "      <td>e36845c1-989f-416b-b47e-068ff54b0ca7</td>\n",
       "      <td>2016-07-20 07:27:11.660</td>\n",
       "      <td>https://www.cathaybk.com.tw/cathaybk/personal_...</td>\n",
       "      <td>19756440</td>\n",
       "      <td>1ef48221-ea64-4f66-8cd6-0b231b1703b9</td>\n",
       "      <td>https://www.cathaybk.com.tw/cathaybk/personal_...</td>\n",
       "      <td>壽險服務</td>\n",
       "    </tr>\n",
       "    <tr>\n",
       "      <th>3</th>\n",
       "      <td>e36845c1-989f-416b-b47e-068ff54b0ca7</td>\n",
       "      <td>2016-07-20 07:27:11.660</td>\n",
       "      <td>https://www.cathaybk.com.tw/cathaybk/personal_...</td>\n",
       "      <td>19756440</td>\n",
       "      <td>1ef48221-ea64-4f66-8cd6-0b231b1703b9</td>\n",
       "      <td>https://www.cathaybk.com.tw/cathaybk/personal_...</td>\n",
       "      <td>業務介紹-保險</td>\n",
       "    </tr>\n",
       "    <tr>\n",
       "      <th>4</th>\n",
       "      <td>cf234edb-02b2-48a8-b85c-a204dd944daa</td>\n",
       "      <td>2016-07-20 15:39:09.913</td>\n",
       "      <td>https://www.cathaybk.com.tw/cathaybk/personal_...</td>\n",
       "      <td>20014051</td>\n",
       "      <td>b786ef5a-db15-44ae-b4ca-fa0f31aebc93</td>\n",
       "      <td>https://www.cathaybk.com.tw/cathaybk/personal_...</td>\n",
       "      <td>壽險服務</td>\n",
       "    </tr>\n",
       "  </tbody>\n",
       "</table>\n",
       "</div>"
      ],
      "text/plain": [
       "                                EventID          EventTimestamp  \\\n",
       "0  5d97a415-6928-40da-8ed9-855e7ce65622 2016-07-20 19:24:59.909   \n",
       "1  5d97a415-6928-40da-8ed9-855e7ce65622 2016-07-20 19:24:59.909   \n",
       "2  e36845c1-989f-416b-b47e-068ff54b0ca7 2016-07-20 07:27:11.660   \n",
       "3  e36845c1-989f-416b-b47e-068ff54b0ca7 2016-07-20 07:27:11.660   \n",
       "4  cf234edb-02b2-48a8-b85c-a204dd944daa 2016-07-20 15:39:09.913   \n",
       "\n",
       "                                          ObjectHref  SessionNumber  \\\n",
       "0  https://www.cathaybk.com.tw/cathaybk/personal_...       20093743   \n",
       "1  https://www.cathaybk.com.tw/cathaybk/personal_...       20093743   \n",
       "2  https://www.cathaybk.com.tw/cathaybk/personal_...       19756440   \n",
       "3  https://www.cathaybk.com.tw/cathaybk/personal_...       19756440   \n",
       "4  https://www.cathaybk.com.tw/cathaybk/personal_...       20014051   \n",
       "\n",
       "                           TrackingUuid  \\\n",
       "0  5db44afe-7376-4a35-bda4-938c93a40908   \n",
       "1  5db44afe-7376-4a35-bda4-938c93a40908   \n",
       "2  1ef48221-ea64-4f66-8cd6-0b231b1703b9   \n",
       "3  1ef48221-ea64-4f66-8cd6-0b231b1703b9   \n",
       "4  b786ef5a-db15-44ae-b4ca-fa0f31aebc93   \n",
       "\n",
       "                                                 URL      層級2  \n",
       "0  https://www.cathaybk.com.tw/cathaybk/personal_...     壽險服務  \n",
       "1  https://www.cathaybk.com.tw/cathaybk/personal_...  業務介紹-保險  \n",
       "2  https://www.cathaybk.com.tw/cathaybk/personal_...     壽險服務  \n",
       "3  https://www.cathaybk.com.tw/cathaybk/personal_...  業務介紹-保險  \n",
       "4  https://www.cathaybk.com.tw/cathaybk/personal_...     壽險服務  "
      ]
     },
     "execution_count": 129,
     "metadata": {},
     "output_type": "execute_result"
    }
   ],
   "source": [
    "dfmerge.head()"
   ]
  },
  {
   "cell_type": "code",
   "execution_count": 166,
   "metadata": {
    "collapsed": false
   },
   "outputs": [],
   "source": [
    "session_cat_gb = dfmerge.groupby(['SessionNumber','層級2'])[['SessionNumber']].count()\n"
   ]
  },
  {
   "cell_type": "code",
   "execution_count": 167,
   "metadata": {
    "collapsed": false
   },
   "outputs": [],
   "source": [
    "session_cat_gb.columns = ['Count']"
   ]
  },
  {
   "cell_type": "code",
   "execution_count": 170,
   "metadata": {
    "collapsed": false
   },
   "outputs": [],
   "source": [
    "sesssion_done = session_cat_gb.reset_index(level=['SessionNumber','層級2'])\n"
   ]
  },
  {
   "cell_type": "code",
   "execution_count": 171,
   "metadata": {
    "collapsed": false
   },
   "outputs": [
    {
     "data": {
      "text/html": [
       "<div>\n",
       "<table border=\"1\" class=\"dataframe\">\n",
       "  <thead>\n",
       "    <tr style=\"text-align: right;\">\n",
       "      <th></th>\n",
       "      <th>SessionNumber</th>\n",
       "      <th>層級2</th>\n",
       "      <th>Count</th>\n",
       "    </tr>\n",
       "  </thead>\n",
       "  <tbody>\n",
       "    <tr>\n",
       "      <th>0</th>\n",
       "      <td>19728895</td>\n",
       "      <td>刷卡優惠-信用卡活動登陸</td>\n",
       "      <td>2</td>\n",
       "    </tr>\n",
       "    <tr>\n",
       "      <th>1</th>\n",
       "      <td>19728895</td>\n",
       "      <td>刷卡優惠-精選優惠</td>\n",
       "      <td>3</td>\n",
       "    </tr>\n",
       "    <tr>\n",
       "      <th>2</th>\n",
       "      <td>19728898</td>\n",
       "      <td>MyBill輕鬆繳線上服務</td>\n",
       "      <td>1</td>\n",
       "    </tr>\n",
       "    <tr>\n",
       "      <th>3</th>\n",
       "      <td>19728910</td>\n",
       "      <td>首頁</td>\n",
       "      <td>1</td>\n",
       "    </tr>\n",
       "    <tr>\n",
       "      <th>4</th>\n",
       "      <td>19728936</td>\n",
       "      <td>刷卡優惠-舞動紅利</td>\n",
       "      <td>2</td>\n",
       "    </tr>\n",
       "  </tbody>\n",
       "</table>\n",
       "</div>"
      ],
      "text/plain": [
       "   SessionNumber            層級2  Count\n",
       "0       19728895   刷卡優惠-信用卡活動登陸      2\n",
       "1       19728895      刷卡優惠-精選優惠      3\n",
       "2       19728898  MyBill輕鬆繳線上服務      1\n",
       "3       19728910             首頁      1\n",
       "4       19728936      刷卡優惠-舞動紅利      2"
      ]
     },
     "execution_count": 171,
     "metadata": {},
     "output_type": "execute_result"
    }
   ],
   "source": [
    "sesssion_done.head()"
   ]
  },
  {
   "cell_type": "code",
   "execution_count": 172,
   "metadata": {
    "collapsed": true
   },
   "outputs": [],
   "source": [
    "pivoted = sesssion_done.pivot(index='SessionNumber', columns='層級2', values='Count')"
   ]
  },
  {
   "cell_type": "code",
   "execution_count": 173,
   "metadata": {
    "collapsed": false
   },
   "outputs": [
    {
     "data": {
      "text/html": [
       "<div>\n",
       "<table border=\"1\" class=\"dataframe\">\n",
       "  <thead>\n",
       "    <tr style=\"text-align: right;\">\n",
       "      <th>層級2</th>\n",
       "      <th>About us</th>\n",
       "      <th>Financial Highlights</th>\n",
       "      <th>International Network</th>\n",
       "      <th>Internet Banking</th>\n",
       "      <th>Line Pay</th>\n",
       "      <th>MyBill輕鬆繳線上服務</th>\n",
       "      <th>OBU業務</th>\n",
       "      <th>OBU業務(業務介紹)</th>\n",
       "      <th>myATM</th>\n",
       "      <th>不動產信託</th>\n",
       "      <th>...</th>\n",
       "      <th>轉貸首頁-國泰世華財富管理客戶</th>\n",
       "      <th>轉貸首頁-大台北捷運沿線</th>\n",
       "      <th>迎新有禮</th>\n",
       "      <th>金融看板</th>\n",
       "      <th>關於我們</th>\n",
       "      <th>隨身密碼</th>\n",
       "      <th>預約信貸諮詢</th>\n",
       "      <th>預約其他貸款諮詢</th>\n",
       "      <th>預約房貸諮詢</th>\n",
       "      <th>首頁</th>\n",
       "    </tr>\n",
       "    <tr>\n",
       "      <th>SessionNumber</th>\n",
       "      <th></th>\n",
       "      <th></th>\n",
       "      <th></th>\n",
       "      <th></th>\n",
       "      <th></th>\n",
       "      <th></th>\n",
       "      <th></th>\n",
       "      <th></th>\n",
       "      <th></th>\n",
       "      <th></th>\n",
       "      <th></th>\n",
       "      <th></th>\n",
       "      <th></th>\n",
       "      <th></th>\n",
       "      <th></th>\n",
       "      <th></th>\n",
       "      <th></th>\n",
       "      <th></th>\n",
       "      <th></th>\n",
       "      <th></th>\n",
       "      <th></th>\n",
       "    </tr>\n",
       "  </thead>\n",
       "  <tbody>\n",
       "    <tr>\n",
       "      <th>19728895</th>\n",
       "      <td>NaN</td>\n",
       "      <td>NaN</td>\n",
       "      <td>NaN</td>\n",
       "      <td>NaN</td>\n",
       "      <td>NaN</td>\n",
       "      <td>NaN</td>\n",
       "      <td>NaN</td>\n",
       "      <td>NaN</td>\n",
       "      <td>NaN</td>\n",
       "      <td>NaN</td>\n",
       "      <td>...</td>\n",
       "      <td>NaN</td>\n",
       "      <td>NaN</td>\n",
       "      <td>NaN</td>\n",
       "      <td>NaN</td>\n",
       "      <td>NaN</td>\n",
       "      <td>NaN</td>\n",
       "      <td>NaN</td>\n",
       "      <td>NaN</td>\n",
       "      <td>NaN</td>\n",
       "      <td>NaN</td>\n",
       "    </tr>\n",
       "    <tr>\n",
       "      <th>19728898</th>\n",
       "      <td>NaN</td>\n",
       "      <td>NaN</td>\n",
       "      <td>NaN</td>\n",
       "      <td>NaN</td>\n",
       "      <td>NaN</td>\n",
       "      <td>1.0</td>\n",
       "      <td>NaN</td>\n",
       "      <td>NaN</td>\n",
       "      <td>NaN</td>\n",
       "      <td>NaN</td>\n",
       "      <td>...</td>\n",
       "      <td>NaN</td>\n",
       "      <td>NaN</td>\n",
       "      <td>NaN</td>\n",
       "      <td>NaN</td>\n",
       "      <td>NaN</td>\n",
       "      <td>NaN</td>\n",
       "      <td>NaN</td>\n",
       "      <td>NaN</td>\n",
       "      <td>NaN</td>\n",
       "      <td>NaN</td>\n",
       "    </tr>\n",
       "    <tr>\n",
       "      <th>19728910</th>\n",
       "      <td>NaN</td>\n",
       "      <td>NaN</td>\n",
       "      <td>NaN</td>\n",
       "      <td>NaN</td>\n",
       "      <td>NaN</td>\n",
       "      <td>NaN</td>\n",
       "      <td>NaN</td>\n",
       "      <td>NaN</td>\n",
       "      <td>NaN</td>\n",
       "      <td>NaN</td>\n",
       "      <td>...</td>\n",
       "      <td>NaN</td>\n",
       "      <td>NaN</td>\n",
       "      <td>NaN</td>\n",
       "      <td>NaN</td>\n",
       "      <td>NaN</td>\n",
       "      <td>NaN</td>\n",
       "      <td>NaN</td>\n",
       "      <td>NaN</td>\n",
       "      <td>NaN</td>\n",
       "      <td>1.0</td>\n",
       "    </tr>\n",
       "    <tr>\n",
       "      <th>19728936</th>\n",
       "      <td>NaN</td>\n",
       "      <td>NaN</td>\n",
       "      <td>NaN</td>\n",
       "      <td>NaN</td>\n",
       "      <td>NaN</td>\n",
       "      <td>NaN</td>\n",
       "      <td>NaN</td>\n",
       "      <td>NaN</td>\n",
       "      <td>NaN</td>\n",
       "      <td>NaN</td>\n",
       "      <td>...</td>\n",
       "      <td>NaN</td>\n",
       "      <td>NaN</td>\n",
       "      <td>NaN</td>\n",
       "      <td>NaN</td>\n",
       "      <td>NaN</td>\n",
       "      <td>NaN</td>\n",
       "      <td>NaN</td>\n",
       "      <td>NaN</td>\n",
       "      <td>NaN</td>\n",
       "      <td>NaN</td>\n",
       "    </tr>\n",
       "    <tr>\n",
       "      <th>19728938</th>\n",
       "      <td>NaN</td>\n",
       "      <td>NaN</td>\n",
       "      <td>NaN</td>\n",
       "      <td>NaN</td>\n",
       "      <td>NaN</td>\n",
       "      <td>NaN</td>\n",
       "      <td>NaN</td>\n",
       "      <td>NaN</td>\n",
       "      <td>NaN</td>\n",
       "      <td>NaN</td>\n",
       "      <td>...</td>\n",
       "      <td>NaN</td>\n",
       "      <td>NaN</td>\n",
       "      <td>NaN</td>\n",
       "      <td>NaN</td>\n",
       "      <td>NaN</td>\n",
       "      <td>NaN</td>\n",
       "      <td>NaN</td>\n",
       "      <td>NaN</td>\n",
       "      <td>NaN</td>\n",
       "      <td>1.0</td>\n",
       "    </tr>\n",
       "  </tbody>\n",
       "</table>\n",
       "<p>5 rows × 130 columns</p>\n",
       "</div>"
      ],
      "text/plain": [
       "層級2            About us  Financial Highlights  International Network  \\\n",
       "SessionNumber                                                          \n",
       "19728895            NaN                   NaN                    NaN   \n",
       "19728898            NaN                   NaN                    NaN   \n",
       "19728910            NaN                   NaN                    NaN   \n",
       "19728936            NaN                   NaN                    NaN   \n",
       "19728938            NaN                   NaN                    NaN   \n",
       "\n",
       "層級2            Internet Banking  Line Pay  MyBill輕鬆繳線上服務  OBU業務  OBU業務(業務介紹)  \\\n",
       "SessionNumber                                                                  \n",
       "19728895                    NaN       NaN            NaN    NaN          NaN   \n",
       "19728898                    NaN       NaN            1.0    NaN          NaN   \n",
       "19728910                    NaN       NaN            NaN    NaN          NaN   \n",
       "19728936                    NaN       NaN            NaN    NaN          NaN   \n",
       "19728938                    NaN       NaN            NaN    NaN          NaN   \n",
       "\n",
       "層級2            myATM  不動產信託 ...   轉貸首頁-國泰世華財富管理客戶  轉貸首頁-大台北捷運沿線  迎新有禮  金融看板  \\\n",
       "SessionNumber               ...                                               \n",
       "19728895         NaN    NaN ...               NaN           NaN   NaN   NaN   \n",
       "19728898         NaN    NaN ...               NaN           NaN   NaN   NaN   \n",
       "19728910         NaN    NaN ...               NaN           NaN   NaN   NaN   \n",
       "19728936         NaN    NaN ...               NaN           NaN   NaN   NaN   \n",
       "19728938         NaN    NaN ...               NaN           NaN   NaN   NaN   \n",
       "\n",
       "層級2            關於我們  隨身密碼  預約信貸諮詢  預約其他貸款諮詢  預約房貸諮詢   首頁  \n",
       "SessionNumber                                             \n",
       "19728895        NaN   NaN     NaN       NaN     NaN  NaN  \n",
       "19728898        NaN   NaN     NaN       NaN     NaN  NaN  \n",
       "19728910        NaN   NaN     NaN       NaN     NaN  1.0  \n",
       "19728936        NaN   NaN     NaN       NaN     NaN  NaN  \n",
       "19728938        NaN   NaN     NaN       NaN     NaN  1.0  \n",
       "\n",
       "[5 rows x 130 columns]"
      ]
     },
     "execution_count": 173,
     "metadata": {},
     "output_type": "execute_result"
    }
   ],
   "source": [
    "pivoted.head()"
   ]
  },
  {
   "cell_type": "code",
   "execution_count": null,
   "metadata": {
    "collapsed": true
   },
   "outputs": [],
   "source": [
    "pivoted = sesssion_done.pivot('date', 'variable')\n"
   ]
  }
 ],
 "metadata": {
  "anaconda-cloud": {},
  "kernelspec": {
   "display_name": "Python [Root]",
   "language": "python",
   "name": "Python [Root]"
  },
  "language_info": {
   "codemirror_mode": {
    "name": "ipython",
    "version": 3
   },
   "file_extension": ".py",
   "mimetype": "text/x-python",
   "name": "python",
   "nbconvert_exporter": "python",
   "pygments_lexer": "ipython3",
   "version": "3.5.2"
  }
 },
 "nbformat": 4,
 "nbformat_minor": 0
}
