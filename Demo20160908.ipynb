{
 "cells": [
  {
   "cell_type": "markdown",
   "metadata": {},
   "source": [
    "## 讀取資料"
   ]
  },
  {
   "cell_type": "code",
   "execution_count": 1,
   "metadata": {
    "collapsed": true
   },
   "outputs": [],
   "source": [
    "col = ['AttributionSequenceInSession', 'EventTimestamp', 'PageInstanceID',\n",
    "       'PageLocation', 'PageLocationDomain', 'PageSequenceInAttribution',\n",
    "       'PageSequenceInSession', 'PageTitle', 'ReferringPageInstanceID',\n",
    "       'SessionNumber', 'TopLevelWindowID', 'TrackingUuid', 'ProfileUiid']"
   ]
  },
  {
   "cell_type": "code",
   "execution_count": 2,
   "metadata": {
    "collapsed": true
   },
   "outputs": [],
   "source": [
    "import pandas\n",
    "df_lists = []\n",
    "for l in 'abcdefg':\n",
    "    if l == 'a':\n",
    "        df = pandas.read_csv('bigdatatmp/ya{}'.format(l), encoding = 'utf-8' , parse_dates=[1])\n",
    "    else:\n",
    "        df = pandas.read_csv('bigdatatmp/ya{}'.format(l), header=None, encoding = 'utf-8' , parse_dates=[1])\n",
    "        df.columns = col\n",
    "    df_lists.append(df)"
   ]
  },
  {
   "cell_type": "code",
   "execution_count": 3,
   "metadata": {
    "collapsed": true
   },
   "outputs": [],
   "source": [
    "page01 = pandas.concat(df_lists)"
   ]
  },
  {
   "cell_type": "code",
   "execution_count": 5,
   "metadata": {
    "collapsed": false
   },
   "outputs": [
    {
     "name": "stdout",
     "output_type": "stream",
     "text": [
      "<class 'pandas.core.frame.DataFrame'>\n",
      "Int64Index: 6795332 entries, 0 to 804240\n",
      "Data columns (total 13 columns):\n",
      "AttributionSequenceInSession    int64\n",
      "EventTimestamp                  datetime64[ns]\n",
      "PageInstanceID                  int64\n",
      "PageLocation                    object\n",
      "PageLocationDomain              object\n",
      "PageSequenceInAttribution       int64\n",
      "PageSequenceInSession           int64\n",
      "PageTitle                       object\n",
      "ReferringPageInstanceID         object\n",
      "SessionNumber                   int64\n",
      "TopLevelWindowID                object\n",
      "TrackingUuid                    object\n",
      "ProfileUiid                     object\n",
      "dtypes: datetime64[ns](1), int64(5), object(7)\n",
      "memory usage: 725.8+ MB\n"
     ]
    }
   ],
   "source": [
    "page01.info()"
   ]
  },
  {
   "cell_type": "code",
   "execution_count": 9,
   "metadata": {
    "collapsed": false
   },
   "outputs": [
    {
     "name": "stderr",
     "output_type": "stream",
     "text": [
      "C:\\Anaconda32\\lib\\site-packages\\pandas\\core\\generic.py:1101: PerformanceWarning: \n",
      "your performance may suffer as PyTables will pickle object types that it cannot\n",
      "map directly to c-types [inferred_type->mixed,key->block2_values] [items->['PageLocation', 'PageLocationDomain', 'PageTitle', 'ReferringPageInstanceID', 'TopLevelWindowID', 'TrackingUuid', 'ProfileUiid']]\n",
      "\n",
      "  return pytables.to_hdf(path_or_buf, key, self, **kwargs)\n"
     ]
    }
   ],
   "source": [
    "page01.to_hdf('test3.h5', 'test1', complevel = 9,complib = 'zlib' )"
   ]
  },
  {
   "cell_type": "code",
   "execution_count": 10,
   "metadata": {
    "collapsed": true
   },
   "outputs": [],
   "source": [
    "del page01"
   ]
  },
  {
   "cell_type": "code",
   "execution_count": 11,
   "metadata": {
    "collapsed": true
   },
   "outputs": [],
   "source": [
    "page01 = pandas.read_hdf('test3.h5')"
   ]
  },
  {
   "cell_type": "code",
   "execution_count": 13,
   "metadata": {
    "collapsed": false
   },
   "outputs": [
    {
     "name": "stdout",
     "output_type": "stream",
     "text": [
      "<class 'pandas.core.frame.DataFrame'>\n",
      "Int64Index: 6795332 entries, 0 to 804240\n",
      "Data columns (total 13 columns):\n",
      "AttributionSequenceInSession    int64\n",
      "EventTimestamp                  datetime64[ns]\n",
      "PageInstanceID                  int64\n",
      "PageLocation                    object\n",
      "PageLocationDomain              object\n",
      "PageSequenceInAttribution       int64\n",
      "PageSequenceInSession           int64\n",
      "PageTitle                       object\n",
      "ReferringPageInstanceID         object\n",
      "SessionNumber                   int64\n",
      "TopLevelWindowID                object\n",
      "TrackingUuid                    object\n",
      "ProfileUiid                     object\n",
      "dtypes: datetime64[ns](1), int64(5), object(7)\n",
      "memory usage: 725.8+ MB\n"
     ]
    }
   ],
   "source": [
    "page01.info()"
   ]
  },
  {
   "cell_type": "code",
   "execution_count": 16,
   "metadata": {
    "collapsed": false
   },
   "outputs": [
    {
     "data": {
      "text/html": [
       "<div>\n",
       "<table border=\"1\" class=\"dataframe\">\n",
       "  <thead>\n",
       "    <tr style=\"text-align: right;\">\n",
       "      <th></th>\n",
       "      <th>AttributionSequenceInSession</th>\n",
       "      <th>EventTimestamp</th>\n",
       "      <th>PageInstanceID</th>\n",
       "      <th>PageLocation</th>\n",
       "      <th>PageLocationDomain</th>\n",
       "      <th>PageSequenceInAttribution</th>\n",
       "      <th>PageSequenceInSession</th>\n",
       "      <th>PageTitle</th>\n",
       "      <th>ReferringPageInstanceID</th>\n",
       "      <th>SessionNumber</th>\n",
       "      <th>TopLevelWindowID</th>\n",
       "      <th>TrackingUuid</th>\n",
       "      <th>ProfileUiid</th>\n",
       "    </tr>\n",
       "  </thead>\n",
       "  <tbody>\n",
       "    <tr>\n",
       "      <th>0</th>\n",
       "      <td>1</td>\n",
       "      <td>2016-07-20 16:11:23.384</td>\n",
       "      <td>200292034</td>\n",
       "      <td>https://www.mybank.com.tw/mybank/home/MyMobiBank</td>\n",
       "      <td>https://www.mybank.com.tw</td>\n",
       "      <td>1</td>\n",
       "      <td>1</td>\n",
       "      <td>@MyBank - H</td>\n",
       "      <td>Null</td>\n",
       "      <td>20029488</td>\n",
       "      <td>_14690022832350.8330724521074444_</td>\n",
       "      <td>e91778f6-dd1a-469a-ae6e-8778e71c3460</td>\n",
       "      <td>Null</td>\n",
       "    </tr>\n",
       "    <tr>\n",
       "      <th>1</th>\n",
       "      <td>1</td>\n",
       "      <td>2016-07-20 20:12:59.788</td>\n",
       "      <td>201053626</td>\n",
       "      <td>https://www.mybank.com.tw/MyBank/Quicklinks/Ho...</td>\n",
       "      <td>https://www.mybank.com.tw</td>\n",
       "      <td>2</td>\n",
       "      <td>2</td>\n",
       "      <td>@MyBank - H</td>\n",
       "      <td>Null</td>\n",
       "      <td>20105815</td>\n",
       "      <td>_14690167588220.0396215803685962_</td>\n",
       "      <td>a9fdf990-bd01-4370-87ec-72f1cf0b257f</td>\n",
       "      <td>Null</td>\n",
       "    </tr>\n",
       "    <tr>\n",
       "      <th>2</th>\n",
       "      <td>1</td>\n",
       "      <td>2016-07-20 11:31:30.485</td>\n",
       "      <td>198801327</td>\n",
       "      <td>https://www.mybank.com.tw/MyBank/Quicklinks/Home</td>\n",
       "      <td>https://www.mybank.com.tw</td>\n",
       "      <td>1</td>\n",
       "      <td>1</td>\n",
       "      <td>@MyBank - H</td>\n",
       "      <td>Null</td>\n",
       "      <td>19880321</td>\n",
       "      <td>_14689854656640.46536951102007046_</td>\n",
       "      <td>4170b9b6-6cd0-4452-a40f-0469fdbf4489</td>\n",
       "      <td>Null</td>\n",
       "    </tr>\n",
       "    <tr>\n",
       "      <th>3</th>\n",
       "      <td>1</td>\n",
       "      <td>2016-07-20 12:45:29.674</td>\n",
       "      <td>199200852</td>\n",
       "      <td>app://com.cathaybk.mymobibank.android.app</td>\n",
       "      <td>app://com.cathaybk.mymobibank.android.app</td>\n",
       "      <td>1</td>\n",
       "      <td>1</td>\n",
       "      <td>@</td>\n",
       "      <td>Null</td>\n",
       "      <td>19920228</td>\n",
       "      <td>Null</td>\n",
       "      <td>2ca95944-8442-49cd-b37b-e18d460e003a</td>\n",
       "      <td>Null</td>\n",
       "    </tr>\n",
       "    <tr>\n",
       "      <th>4</th>\n",
       "      <td>1</td>\n",
       "      <td>2016-07-20 17:34:26.700</td>\n",
       "      <td>200603410</td>\n",
       "      <td>app://com.cathaybk.mmb.ios.app/@</td>\n",
       "      <td>app://com.cathaybk.mmb.ios.app</td>\n",
       "      <td>2</td>\n",
       "      <td>2</td>\n",
       "      <td>@</td>\n",
       "      <td>Null</td>\n",
       "      <td>20060810</td>\n",
       "      <td>Null</td>\n",
       "      <td>86e51bd4-3893-4b24-9a36-79172908be34</td>\n",
       "      <td>Null</td>\n",
       "    </tr>\n",
       "  </tbody>\n",
       "</table>\n",
       "</div>"
      ],
      "text/plain": [
       "   AttributionSequenceInSession          EventTimestamp  PageInstanceID  \\\n",
       "0                             1 2016-07-20 16:11:23.384       200292034   \n",
       "1                             1 2016-07-20 20:12:59.788       201053626   \n",
       "2                             1 2016-07-20 11:31:30.485       198801327   \n",
       "3                             1 2016-07-20 12:45:29.674       199200852   \n",
       "4                             1 2016-07-20 17:34:26.700       200603410   \n",
       "\n",
       "                                        PageLocation  \\\n",
       "0   https://www.mybank.com.tw/mybank/home/MyMobiBank   \n",
       "1  https://www.mybank.com.tw/MyBank/Quicklinks/Ho...   \n",
       "2   https://www.mybank.com.tw/MyBank/Quicklinks/Home   \n",
       "3          app://com.cathaybk.mymobibank.android.app   \n",
       "4                   app://com.cathaybk.mmb.ios.app/@   \n",
       "\n",
       "                          PageLocationDomain  PageSequenceInAttribution  \\\n",
       "0                  https://www.mybank.com.tw                          1   \n",
       "1                  https://www.mybank.com.tw                          2   \n",
       "2                  https://www.mybank.com.tw                          1   \n",
       "3  app://com.cathaybk.mymobibank.android.app                          1   \n",
       "4             app://com.cathaybk.mmb.ios.app                          2   \n",
       "\n",
       "   PageSequenceInSession    PageTitle ReferringPageInstanceID  SessionNumber  \\\n",
       "0                      1  @MyBank - H                    Null       20029488   \n",
       "1                      2  @MyBank - H                    Null       20105815   \n",
       "2                      1  @MyBank - H                    Null       19880321   \n",
       "3                      1            @                    Null       19920228   \n",
       "4                      2            @                    Null       20060810   \n",
       "\n",
       "                     TopLevelWindowID                          TrackingUuid  \\\n",
       "0   _14690022832350.8330724521074444_  e91778f6-dd1a-469a-ae6e-8778e71c3460   \n",
       "1   _14690167588220.0396215803685962_  a9fdf990-bd01-4370-87ec-72f1cf0b257f   \n",
       "2  _14689854656640.46536951102007046_  4170b9b6-6cd0-4452-a40f-0469fdbf4489   \n",
       "3                                Null  2ca95944-8442-49cd-b37b-e18d460e003a   \n",
       "4                                Null  86e51bd4-3893-4b24-9a36-79172908be34   \n",
       "\n",
       "  ProfileUiid  \n",
       "0        Null  \n",
       "1        Null  \n",
       "2        Null  \n",
       "3        Null  \n",
       "4        Null  "
      ]
     },
     "execution_count": 16,
     "metadata": {},
     "output_type": "execute_result"
    }
   ],
   "source": [
    "page01.head()"
   ]
  },
  {
   "cell_type": "code",
   "execution_count": 19,
   "metadata": {
    "collapsed": false
   },
   "outputs": [
    {
     "data": {
      "text/plain": [
       "0     https://www.mybank.com.tw/mybank/home/MyMobiBank\n",
       "1    https://www.mybank.com.tw/MyBank/Quicklinks/Ho...\n",
       "2     https://www.mybank.com.tw/MyBank/Quicklinks/Home\n",
       "Name: PageLocation, dtype: object"
      ]
     },
     "execution_count": 19,
     "metadata": {},
     "output_type": "execute_result"
    }
   ],
   "source": [
    "page01.PageLocation.head(3)"
   ]
  },
  {
   "cell_type": "code",
   "execution_count": 21,
   "metadata": {
    "collapsed": false
   },
   "outputs": [
    {
     "data": {
      "text/plain": [
       "0     https://www.mybank.com.tw/mybank/home/MyMobiBank\n",
       "1    https://www.mybank.com.tw/MyBank/Quicklinks/Ho...\n",
       "2     https://www.mybank.com.tw/MyBank/Quicklinks/Home\n",
       "Name: PageLocation, dtype: object"
      ]
     },
     "execution_count": 21,
     "metadata": {},
     "output_type": "execute_result"
    }
   ],
   "source": [
    "page01['PageLocation'].head(3)"
   ]
  },
  {
   "cell_type": "code",
   "execution_count": 23,
   "metadata": {
    "collapsed": false
   },
   "outputs": [
    {
     "data": {
      "text/plain": [
       "0    False\n",
       "1    False\n",
       "2    False\n",
       "3     True\n",
       "4     True\n",
       "Name: PageLocation, dtype: bool"
      ]
     },
     "execution_count": 23,
     "metadata": {},
     "output_type": "execute_result"
    }
   ],
   "source": [
    "page01.PageLocation.str.contains('app:').head()"
   ]
  },
  {
   "cell_type": "code",
   "execution_count": 24,
   "metadata": {
    "collapsed": false
   },
   "outputs": [
    {
     "name": "stderr",
     "output_type": "stream",
     "text": [
      "C:\\Anaconda32\\lib\\site-packages\\pandas\\core\\generic.py:1101: PerformanceWarning: \n",
      "your performance may suffer as PyTables will pickle object types that it cannot\n",
      "map directly to c-types [inferred_type->mixed,key->block2_values] [items->['PageLocation', 'PageLocationDomain', 'PageTitle', 'ReferringPageInstanceID', 'TopLevelWindowID', 'TrackingUuid', 'ProfileUiid']]\n",
      "\n",
      "  return pytables.to_hdf(path_or_buf, key, self, **kwargs)\n"
     ]
    }
   ],
   "source": [
    "web01 = page01[~page01.PageLocation.str.contains('app:')]\n",
    "web01.to_hdf('w1.h5', 'w1')"
   ]
  },
  {
   "cell_type": "markdown",
   "metadata": {},
   "source": [
    "## 資料探索"
   ]
  },
  {
   "cell_type": "code",
   "execution_count": 26,
   "metadata": {
    "collapsed": false
   },
   "outputs": [
    {
     "data": {
      "text/html": [
       "<div>\n",
       "<table border=\"1\" class=\"dataframe\">\n",
       "  <thead>\n",
       "    <tr style=\"text-align: right;\">\n",
       "      <th></th>\n",
       "      <th>AttributionSequenceInSession</th>\n",
       "      <th>EventTimestamp</th>\n",
       "      <th>PageInstanceID</th>\n",
       "      <th>PageLocation</th>\n",
       "      <th>PageLocationDomain</th>\n",
       "      <th>PageSequenceInAttribution</th>\n",
       "      <th>PageSequenceInSession</th>\n",
       "      <th>PageTitle</th>\n",
       "      <th>ReferringPageInstanceID</th>\n",
       "      <th>SessionNumber</th>\n",
       "      <th>TopLevelWindowID</th>\n",
       "      <th>TrackingUuid</th>\n",
       "      <th>ProfileUiid</th>\n",
       "    </tr>\n",
       "  </thead>\n",
       "  <tbody>\n",
       "    <tr>\n",
       "      <th>0</th>\n",
       "      <td>1</td>\n",
       "      <td>2016-07-20 16:11:23.384</td>\n",
       "      <td>200292034</td>\n",
       "      <td>https://www.mybank.com.tw/mybank/home/MyMobiBank</td>\n",
       "      <td>https://www.mybank.com.tw</td>\n",
       "      <td>1</td>\n",
       "      <td>1</td>\n",
       "      <td>@MyBank - H</td>\n",
       "      <td>Null</td>\n",
       "      <td>20029488</td>\n",
       "      <td>_14690022832350.8330724521074444_</td>\n",
       "      <td>e91778f6-dd1a-469a-ae6e-8778e71c3460</td>\n",
       "      <td>Null</td>\n",
       "    </tr>\n",
       "    <tr>\n",
       "      <th>1</th>\n",
       "      <td>1</td>\n",
       "      <td>2016-07-20 20:12:59.788</td>\n",
       "      <td>201053626</td>\n",
       "      <td>https://www.mybank.com.tw/MyBank/Quicklinks/Ho...</td>\n",
       "      <td>https://www.mybank.com.tw</td>\n",
       "      <td>2</td>\n",
       "      <td>2</td>\n",
       "      <td>@MyBank - H</td>\n",
       "      <td>Null</td>\n",
       "      <td>20105815</td>\n",
       "      <td>_14690167588220.0396215803685962_</td>\n",
       "      <td>a9fdf990-bd01-4370-87ec-72f1cf0b257f</td>\n",
       "      <td>Null</td>\n",
       "    </tr>\n",
       "    <tr>\n",
       "      <th>2</th>\n",
       "      <td>1</td>\n",
       "      <td>2016-07-20 11:31:30.485</td>\n",
       "      <td>198801327</td>\n",
       "      <td>https://www.mybank.com.tw/MyBank/Quicklinks/Home</td>\n",
       "      <td>https://www.mybank.com.tw</td>\n",
       "      <td>1</td>\n",
       "      <td>1</td>\n",
       "      <td>@MyBank - H</td>\n",
       "      <td>Null</td>\n",
       "      <td>19880321</td>\n",
       "      <td>_14689854656640.46536951102007046_</td>\n",
       "      <td>4170b9b6-6cd0-4452-a40f-0469fdbf4489</td>\n",
       "      <td>Null</td>\n",
       "    </tr>\n",
       "    <tr>\n",
       "      <th>5</th>\n",
       "      <td>1</td>\n",
       "      <td>2016-07-20 12:17:57.815</td>\n",
       "      <td>199060283</td>\n",
       "      <td>https://www.cathaybk.com.tw/cathaybk/personal_...</td>\n",
       "      <td>https://www.cathaybk.com.tw</td>\n",
       "      <td>1</td>\n",
       "      <td>1</td>\n",
       "      <td>w{@-HA-Yv</td>\n",
       "      <td>Null</td>\n",
       "      <td>19906076</td>\n",
       "      <td>_14689882765560.7659958160835434_</td>\n",
       "      <td>2ca95944-8442-49cd-b37b-e18d460e003a</td>\n",
       "      <td>Null</td>\n",
       "    </tr>\n",
       "    <tr>\n",
       "      <th>6</th>\n",
       "      <td>1</td>\n",
       "      <td>2016-07-20 09:49:22.541</td>\n",
       "      <td>198152696</td>\n",
       "      <td>https://www.mybank.com.tw/MyBank/Quicklinks/Ho...</td>\n",
       "      <td>https://www.mybank.com.tw</td>\n",
       "      <td>1</td>\n",
       "      <td>1</td>\n",
       "      <td>@MyBank - H</td>\n",
       "      <td>Null</td>\n",
       "      <td>19815597</td>\n",
       "      <td>_14689757969690.06123872986063361_</td>\n",
       "      <td>9984fbef-6750-4e57-87c7-656f0b361d65</td>\n",
       "      <td>Null</td>\n",
       "    </tr>\n",
       "  </tbody>\n",
       "</table>\n",
       "</div>"
      ],
      "text/plain": [
       "   AttributionSequenceInSession          EventTimestamp  PageInstanceID  \\\n",
       "0                             1 2016-07-20 16:11:23.384       200292034   \n",
       "1                             1 2016-07-20 20:12:59.788       201053626   \n",
       "2                             1 2016-07-20 11:31:30.485       198801327   \n",
       "5                             1 2016-07-20 12:17:57.815       199060283   \n",
       "6                             1 2016-07-20 09:49:22.541       198152696   \n",
       "\n",
       "                                        PageLocation  \\\n",
       "0   https://www.mybank.com.tw/mybank/home/MyMobiBank   \n",
       "1  https://www.mybank.com.tw/MyBank/Quicklinks/Ho...   \n",
       "2   https://www.mybank.com.tw/MyBank/Quicklinks/Home   \n",
       "5  https://www.cathaybk.com.tw/cathaybk/personal_...   \n",
       "6  https://www.mybank.com.tw/MyBank/Quicklinks/Ho...   \n",
       "\n",
       "            PageLocationDomain  PageSequenceInAttribution  \\\n",
       "0    https://www.mybank.com.tw                          1   \n",
       "1    https://www.mybank.com.tw                          2   \n",
       "2    https://www.mybank.com.tw                          1   \n",
       "5  https://www.cathaybk.com.tw                          1   \n",
       "6    https://www.mybank.com.tw                          1   \n",
       "\n",
       "   PageSequenceInSession    PageTitle ReferringPageInstanceID  SessionNumber  \\\n",
       "0                      1  @MyBank - H                    Null       20029488   \n",
       "1                      2  @MyBank - H                    Null       20105815   \n",
       "2                      1  @MyBank - H                    Null       19880321   \n",
       "5                      1    w{@-HA-Yv                    Null       19906076   \n",
       "6                      1  @MyBank - H                    Null       19815597   \n",
       "\n",
       "                     TopLevelWindowID                          TrackingUuid  \\\n",
       "0   _14690022832350.8330724521074444_  e91778f6-dd1a-469a-ae6e-8778e71c3460   \n",
       "1   _14690167588220.0396215803685962_  a9fdf990-bd01-4370-87ec-72f1cf0b257f   \n",
       "2  _14689854656640.46536951102007046_  4170b9b6-6cd0-4452-a40f-0469fdbf4489   \n",
       "5   _14689882765560.7659958160835434_  2ca95944-8442-49cd-b37b-e18d460e003a   \n",
       "6  _14689757969690.06123872986063361_  9984fbef-6750-4e57-87c7-656f0b361d65   \n",
       "\n",
       "  ProfileUiid  \n",
       "0        Null  \n",
       "1        Null  \n",
       "2        Null  \n",
       "5        Null  \n",
       "6        Null  "
      ]
     },
     "execution_count": 26,
     "metadata": {},
     "output_type": "execute_result"
    }
   ],
   "source": [
    "web01.head()"
   ]
  },
  {
   "cell_type": "code",
   "execution_count": 28,
   "metadata": {
    "collapsed": false
   },
   "outputs": [
    {
     "data": {
      "text/plain": [
       "0   2016-07-20 16:11:23.384\n",
       "1   2016-07-20 20:12:59.788\n",
       "2   2016-07-20 11:31:30.485\n",
       "5   2016-07-20 12:17:57.815\n",
       "6   2016-07-20 09:49:22.541\n",
       "Name: EventTimestamp, dtype: datetime64[ns]"
      ]
     },
     "execution_count": 28,
     "metadata": {},
     "output_type": "execute_result"
    }
   ],
   "source": [
    "web01.EventTimestamp.head()"
   ]
  },
  {
   "cell_type": "code",
   "execution_count": 30,
   "metadata": {
    "collapsed": false
   },
   "outputs": [
    {
     "data": {
      "text/plain": [
       "0    2016-07-20\n",
       "1    2016-07-20\n",
       "2    2016-07-20\n",
       "5    2016-07-20\n",
       "6    2016-07-20\n",
       "Name: EventTimestamp, dtype: object"
      ]
     },
     "execution_count": 30,
     "metadata": {},
     "output_type": "execute_result"
    }
   ],
   "source": [
    "web01.EventTimestamp.dt.date.head()"
   ]
  },
  {
   "cell_type": "code",
   "execution_count": 31,
   "metadata": {
    "collapsed": false
   },
   "outputs": [
    {
     "data": {
      "text/plain": [
       "2016-07-25    951282\n",
       "2016-07-20    883184\n",
       "2016-07-21    874897\n",
       "2016-07-22    834354\n",
       "2016-07-23    337603\n",
       "2016-07-24    328683\n",
       "Name: EventTimestamp, dtype: int64"
      ]
     },
     "execution_count": 31,
     "metadata": {},
     "output_type": "execute_result"
    }
   ],
   "source": [
    "web01.EventTimestamp.dt.date.value_counts()"
   ]
  },
  {
   "cell_type": "code",
   "execution_count": 37,
   "metadata": {
    "collapsed": false
   },
   "outputs": [
    {
     "data": {
      "text/plain": [
       "4210003"
      ]
     },
     "execution_count": 37,
     "metadata": {},
     "output_type": "execute_result"
    }
   ],
   "source": [
    "web01.EventTimestamp.dt.date.count()"
   ]
  },
  {
   "cell_type": "code",
   "execution_count": 32,
   "metadata": {
    "collapsed": true
   },
   "outputs": [],
   "source": [
    "web_view_by_date = web01.EventTimestamp.dt.date.value_counts()"
   ]
  },
  {
   "cell_type": "code",
   "execution_count": 33,
   "metadata": {
    "collapsed": false
   },
   "outputs": [
    {
     "data": {
      "text/plain": [
       "pandas.core.series.Series"
      ]
     },
     "execution_count": 33,
     "metadata": {},
     "output_type": "execute_result"
    }
   ],
   "source": [
    "type(web_view_by_date)"
   ]
  },
  {
   "cell_type": "code",
   "execution_count": 35,
   "metadata": {
    "collapsed": false
   },
   "outputs": [
    {
     "name": "stdout",
     "output_type": "stream",
     "text": [
      "Series([], dtype: float64)\n",
      "2016-07-25    951282\n",
      "2016-07-20    883184\n",
      "2016-07-21    874897\n",
      "2016-07-22    834354\n",
      "2016-07-23    337603\n",
      "2016-07-24    328683\n",
      "dtype: int64\n"
     ]
    }
   ],
   "source": [
    "empty_series = pandas.Series()\n",
    "print(empty_series)\n",
    "empty_series= empty_series.append(web_view_by_date)\n",
    "print(empty_series)"
   ]
  },
  {
   "cell_type": "markdown",
   "metadata": {},
   "source": [
    "## 讀取page01 ~ 07 的資料"
   ]
  },
  {
   "cell_type": "code",
   "execution_count": 36,
   "metadata": {
    "collapsed": true
   },
   "outputs": [],
   "source": [
    "import pandas\n",
    "date_series = pandas.Series([])\n",
    "for p in range(1,8):\n",
    "    web = pandas.read_hdf('web0{}.h5'.format(p))\n",
    "    web_view_date = web.EventTimestamp.dt.date.value_counts()\n",
    "    date_series = date_series.append(web_view_date)\n"
   ]
  },
  {
   "cell_type": "code",
   "execution_count": 39,
   "metadata": {
    "collapsed": false
   },
   "outputs": [
    {
     "data": {
      "text/plain": [
       "2016-07-20     883184\n",
       "2016-07-21     874897\n",
       "2016-07-22     834354\n",
       "2016-07-23     337603\n",
       "2016-07-24     328683\n",
       "2016-07-25     951282\n",
       "2016-07-26     898462\n",
       "2016-07-27     877343\n",
       "2016-07-28     913577\n",
       "2016-07-29    1210027\n",
       "2016-07-30     395106\n",
       "2016-07-31     382709\n",
       "2016-08-01    1456365\n",
       "2016-08-02    1250164\n",
       "2016-08-03    1146646\n",
       "2016-08-04    1125910\n",
       "2016-08-05    1612407\n",
       "2016-08-06     450696\n",
       "2016-08-07     373144\n",
       "2016-08-08    1196956\n",
       "2016-08-09    1146753\n",
       "2016-08-10    1124049\n",
       "2016-08-11    1161011\n",
       "2016-08-12    1081757\n",
       "2016-08-13     146594\n",
       "2016-08-14     375267\n",
       "2016-08-15    1234007\n",
       "2016-08-16    1171552\n",
       "2016-08-17    1103967\n",
       "2016-08-18    1080477\n",
       "2016-08-19    1069106\n",
       "2016-08-20     406383\n",
       "dtype: int64"
      ]
     },
     "execution_count": 39,
     "metadata": {},
     "output_type": "execute_result"
    }
   ],
   "source": [
    "date_series.sort_index()"
   ]
  },
  {
   "cell_type": "code",
   "execution_count": 41,
   "metadata": {
    "collapsed": false
   },
   "outputs": [
    {
     "name": "stdout",
     "output_type": "stream",
     "text": [
      "Populating the interactive namespace from numpy and matplotlib\n"
     ]
    }
   ],
   "source": [
    "%pylab inline\n",
    "?date_series.plot\n",
    "#date_series.sort_index().plot(kind='line')"
   ]
  },
  {
   "cell_type": "code",
   "execution_count": 42,
   "metadata": {
    "collapsed": false
   },
   "outputs": [
    {
     "data": {
      "text/plain": [
       "<matplotlib.axes._subplots.AxesSubplot at 0xeda975c0>"
      ]
     },
     "execution_count": 42,
     "metadata": {},
     "output_type": "execute_result"
    },
    {
     "data": {
      "image/png": "[encoded data removed]",
      "text/plain": [
       "<matplotlib.figure.Figure at 0xeda9a240>"
      ]
     },
     "metadata": {},
     "output_type": "display_data"
    }
   ],
   "source": [
    "date_series.sort_index().plot(kind='line', figsize=[20, 10])"
   ]
  },
  {
   "cell_type": "code",
   "execution_count": 46,
   "metadata": {
    "collapsed": false
   },
   "outputs": [],
   "source": [
    "date_series.index =pandas.to_datetime(date_series.index)"
   ]
  },
  {
   "cell_type": "code",
   "execution_count": 51,
   "metadata": {
    "collapsed": false
   },
   "outputs": [],
   "source": [
    "from24to31 = date_series[(date_series.index >= '2016-07-24') & (date_series.index < '2016-07-31') ]"
   ]
  },
  {
   "cell_type": "code",
   "execution_count": 54,
   "metadata": {
    "collapsed": false
   },
   "outputs": [
    {
     "data": {
      "text/plain": [
       "<matplotlib.axes._subplots.AxesSubplot at 0xad9299e8>"
      ]
     },
     "execution_count": 54,
     "metadata": {},
     "output_type": "execute_result"
    },
    {
     "data": {
      "image/png": "[encoded data removed]",
      "text/plain": [
       "<matplotlib.figure.Figure at 0xad65f6a0>"
      ]
     },
     "metadata": {},
     "output_type": "display_data"
    }
   ],
   "source": [
    "from24to31.sort_index().plot(kind='bar')"
   ]
  },
  {
   "cell_type": "markdown",
   "metadata": {},
   "source": [
    "## 月末時候使用者都在看什麼"
   ]
  },
  {
   "cell_type": "code",
   "execution_count": 61,
   "metadata": {
    "collapsed": true
   },
   "outputs": [],
   "source": [
    "del web"
   ]
  },
  {
   "cell_type": "code",
   "execution_count": 56,
   "metadata": {
    "collapsed": false
   },
   "outputs": [],
   "source": [
    "import pandas\n",
    "pageview0720_0730 = pandas.read_hdf('pageview0720_0730.h5')"
   ]
  },
  {
   "cell_type": "code",
   "execution_count": 62,
   "metadata": {
    "collapsed": false
   },
   "outputs": [
    {
     "data": {
      "text/plain": [
       "2016-07-29    1210027\n",
       "2016-07-25     951282\n",
       "2016-07-28     913577\n",
       "2016-07-26     898462\n",
       "2016-07-20     883184\n",
       "2016-07-27     877343\n",
       "2016-07-21     874897\n",
       "2016-07-22     834354\n",
       "2016-07-30     395106\n",
       "2016-07-31     382709\n",
       "2016-07-23     337603\n",
       "2016-07-24     328683\n",
       "Name: EventTimestamp, dtype: int64"
      ]
     },
     "execution_count": 62,
     "metadata": {},
     "output_type": "execute_result"
    }
   ],
   "source": [
    "pageview0720_0730.EventTimestamp.dt.date.value_counts()"
   ]
  },
  {
   "cell_type": "code",
   "execution_count": 70,
   "metadata": {
    "collapsed": false
   },
   "outputs": [],
   "source": [
    "pagecnt0722= pageview0720_0730[(pageview0720_0730.EventTimestamp >= '2016-07-22') &\n",
    "                 (pageview0720_0730.EventTimestamp < '2016-07-23')]['PageLocation'].value_counts()"
   ]
  },
  {
   "cell_type": "code",
   "execution_count": 72,
   "metadata": {
    "collapsed": false
   },
   "outputs": [
    {
     "data": {
      "text/plain": [
       "https://www.mybank.com.tw/MyBank/Quicklinks/Home                    115914\n",
       "https://www.mybank.com.tw/mybank                                     69945\n",
       "https://www.mybank.com.tw/MyBank/Quicklinks/Home/Logout              47824\n",
       "https://www.cathaybk.com.tw/cathaybk/personal_info07.asp             36816\n",
       "https://www.cathaybk.com.tw/cathaybk/                                35319\n",
       "https://www.mybank.com.tw/MyBank/Quicklinks/Home/MyMobiBank          31110\n",
       "https://www.mybank.com.tw/mybank/home/MyMobiBank                     28562\n",
       "https://www.mybank.com.tw/MyBank/Home/Login                          21698\n",
       "https://www.mybank.com.tw/MyBank/MyMobiBank/AcctInq/B0101_DepInq     17905\n",
       "https://www.mybank.com.tw/mybank/Home/MyMobiBank                     15084\n",
       "Name: PageLocation, dtype: int64"
      ]
     },
     "execution_count": 72,
     "metadata": {},
     "output_type": "execute_result"
    }
   ],
   "source": [
    "pagecnt0722[0:10]"
   ]
  },
  {
   "cell_type": "code",
   "execution_count": 73,
   "metadata": {
    "collapsed": true
   },
   "outputs": [],
   "source": [
    "pagecnt0729= pageview0720_0730[(pageview0720_0730.EventTimestamp >= '2016-07-29') &\n",
    "                 (pageview0720_0730.EventTimestamp < '2016-07-30')]['PageLocation'].value_counts()"
   ]
  },
  {
   "cell_type": "code",
   "execution_count": 74,
   "metadata": {
    "collapsed": false
   },
   "outputs": [
    {
     "data": {
      "text/plain": [
       "https://www.mybank.com.tw/MyBank/Quicklinks/Home                    173547\n",
       "https://www.mybank.com.tw/mybank                                     99065\n",
       "https://www.mybank.com.tw/MyBank/Quicklinks/Home/Logout              72819\n",
       "https://www.cathaybk.com.tw/cathaybk/personal_info07.asp             67174\n",
       "https://www.cathaybk.com.tw/cathaybk/                                45161\n",
       "https://www.mybank.com.tw/MyBank/Quicklinks/Home/MyMobiBank          44202\n",
       "https://www.mybank.com.tw/mybank/home/MyMobiBank                     38303\n",
       "https://www.mybank.com.tw/MyBank/Home/Login                          33719\n",
       "https://www.mybank.com.tw/MyBank/MyMobiBank/AcctInq/B0101_DepInq     25942\n",
       "https://www.myb2b.com.tw/ebank/default.asp                           22225\n",
       "Name: PageLocation, dtype: int64"
      ]
     },
     "execution_count": 74,
     "metadata": {},
     "output_type": "execute_result"
    }
   ],
   "source": [
    "pagecnt0729[0:10]"
   ]
  },
  {
   "cell_type": "code",
   "execution_count": 86,
   "metadata": {
    "collapsed": false
   },
   "outputs": [],
   "source": [
    "merged_df = pandas.concat([pagecnt0722, pagecnt0729], axis=1)"
   ]
  },
  {
   "cell_type": "code",
   "execution_count": 91,
   "metadata": {
    "collapsed": false
   },
   "outputs": [],
   "source": [
    "merged_df.columns= [ '0722', '0729']"
   ]
  },
  {
   "cell_type": "code",
   "execution_count": 99,
   "metadata": {
    "collapsed": false
   },
   "outputs": [
    {
     "data": {
      "text/plain": [
       "<matplotlib.axes._subplots.AxesSubplot at 0xd080d198>"
      ]
     },
     "execution_count": 99,
     "metadata": {},
     "output_type": "execute_result"
    },
    {
     "data": {
      "image/png": "[encoded data removed]",
      "text/plain": [
       "<matplotlib.figure.Figure at 0x9c3e79b0>"
      ]
     },
     "metadata": {},
     "output_type": "display_data"
    }
   ],
   "source": [
    "merged_df.sort_values('0729', ascending=False).head(20).plot(kind='bar')"
   ]
  },
  {
   "cell_type": "code",
   "execution_count": 100,
   "metadata": {
    "collapsed": true
   },
   "outputs": [],
   "source": [
    "pagecnt0724= pageview0720_0730[(pageview0720_0730.EventTimestamp >= '2016-07-24') &\n",
    "                 (pageview0720_0730.EventTimestamp < '2016-07-25')]['PageLocation'].value_counts()"
   ]
  },
  {
   "cell_type": "code",
   "execution_count": 102,
   "metadata": {
    "collapsed": false
   },
   "outputs": [
    {
     "data": {
      "text/plain": [
       "https://www.mybank.com.tw/MyBank/Quicklinks/Home                    41680\n",
       "https://www.mybank.com.tw/mybank                                    26118\n",
       "https://www.mybank.com.tw/MyBank/Quicklinks/Home/Logout             17836\n",
       "https://www.mybank.com.tw/MyBank/Quicklinks/Home/MyMobiBank         17421\n",
       "https://www.mybank.com.tw/mybank/home/MyMobiBank                    16075\n",
       "https://www.cathaybk.com.tw/cathaybk/                               11249\n",
       "https://www.mybank.com.tw/MyBank/MyMobiBank/AcctInq/B0101_DepInq     9630\n",
       "https://www.mybank.com.tw/MyBank/Home/Login                          8931\n",
       "https://www.mybank.com.tw/mybank/Home/MyMobiBank                     8663\n",
       "https://www.cathaybk.com.tw/cathaybk/personal_info07.asp             6201\n",
       "Name: PageLocation, dtype: int64"
      ]
     },
     "execution_count": 102,
     "metadata": {},
     "output_type": "execute_result"
    }
   ],
   "source": [
    "pagecnt0724[0:10]"
   ]
  },
  {
   "cell_type": "code",
   "execution_count": 106,
   "metadata": {
    "collapsed": false
   },
   "outputs": [
    {
     "data": {
      "text/plain": [
       "https://www.mybank.com.tw/MyBank/Quicklinks/Home                    115914\n",
       "https://www.mybank.com.tw/mybank                                     69945\n",
       "https://www.mybank.com.tw/MyBank/Quicklinks/Home/Logout              47824\n",
       "https://www.cathaybk.com.tw/cathaybk/personal_info07.asp             36816\n",
       "https://www.cathaybk.com.tw/cathaybk/                                35319\n",
       "https://www.mybank.com.tw/MyBank/Quicklinks/Home/MyMobiBank          31110\n",
       "https://www.mybank.com.tw/mybank/home/MyMobiBank                     28562\n",
       "https://www.mybank.com.tw/MyBank/Home/Login                          21698\n",
       "https://www.mybank.com.tw/MyBank/MyMobiBank/AcctInq/B0101_DepInq     17905\n",
       "https://www.mybank.com.tw/mybank/Home/MyMobiBank                     15084\n",
       "Name: PageLocation, dtype: int64"
      ]
     },
     "execution_count": 106,
     "metadata": {},
     "output_type": "execute_result"
    }
   ],
   "source": [
    "pagecnt0722[0:10]"
   ]
  },
  {
   "cell_type": "code",
   "execution_count": 107,
   "metadata": {
    "collapsed": true
   },
   "outputs": [],
   "source": [
    "merged_df2 = pandas.concat([pagecnt0722, pagecnt0724], axis=1)"
   ]
  },
  {
   "cell_type": "code",
   "execution_count": 108,
   "metadata": {
    "collapsed": true
   },
   "outputs": [],
   "source": [
    "merged_df2.columns= [ '0722', '0724']"
   ]
  },
  {
   "cell_type": "code",
   "execution_count": 109,
   "metadata": {
    "collapsed": false
   },
   "outputs": [
    {
     "data": {
      "text/plain": [
       "<matplotlib.axes._subplots.AxesSubplot at 0xd4846940>"
      ]
     },
     "execution_count": 109,
     "metadata": {},
     "output_type": "execute_result"
    },
    {
     "data": {
      "image/png": "[encoded data removed]",
      "text/plain": [
       "<matplotlib.figure.Figure at 0xd485a550>"
      ]
     },
     "metadata": {},
     "output_type": "display_data"
    }
   ],
   "source": [
    "merged_df2.sort_values('0724', ascending=False).head(20).plot(kind='bar')"
   ]
  },
  {
   "cell_type": "markdown",
   "metadata": {},
   "source": [
    "## 讀取Visitor 的資訊"
   ]
  },
  {
   "cell_type": "code",
   "execution_count": 1,
   "metadata": {
    "collapsed": false
   },
   "outputs": [
    {
     "name": "stdout",
     "output_type": "stream",
     "text": [
      "<class 'pandas.core.frame.DataFrame'>\n",
      "Int64Index: 3232176 entries, 0 to 3232175\n",
      "Data columns (total 4 columns):\n",
      "CookieUniqueVisitorTrackingId    object\n",
      "EventTimestamp                   datetime64[ns]\n",
      "SessionNumber                    int64\n",
      "TrackingUuid                     object\n",
      "dtypes: datetime64[ns](1), int64(1), object(2)\n",
      "memory usage: 123.3+ MB\n"
     ]
    }
   ],
   "source": [
    "import pandas\n",
    "visitor = pandas.read_hdf('visitor.h5')\n",
    "visitor.info()\n"
   ]
  },
  {
   "cell_type": "code",
   "execution_count": 112,
   "metadata": {
    "collapsed": false
   },
   "outputs": [
    {
     "data": {
      "text/html": [
       "<div>\n",
       "<table border=\"1\" class=\"dataframe\">\n",
       "  <thead>\n",
       "    <tr style=\"text-align: right;\">\n",
       "      <th></th>\n",
       "      <th>CookieUniqueVisitorTrackingId</th>\n",
       "      <th>EventTimestamp</th>\n",
       "      <th>SessionNumber</th>\n",
       "      <th>TrackingUuid</th>\n",
       "    </tr>\n",
       "  </thead>\n",
       "  <tbody>\n",
       "    <tr>\n",
       "      <th>0</th>\n",
       "      <td>9c35ec76214740e9bd5cdc660d534d2f</td>\n",
       "      <td>2016-07-20 16:11:43.150</td>\n",
       "      <td>20029488</td>\n",
       "      <td>dddd32a4-3682-471a-a163-4c7bf62f3071</td>\n",
       "    </tr>\n",
       "    <tr>\n",
       "      <th>1</th>\n",
       "      <td>25811d71ea5f4edd9a784e1617a5a691</td>\n",
       "      <td>2016-07-20 20:13:13.161</td>\n",
       "      <td>20105815</td>\n",
       "      <td>53112d09-3db9-4106-b473-21242767df23</td>\n",
       "    </tr>\n",
       "    <tr>\n",
       "      <th>2</th>\n",
       "      <td>a3d2ca8ab6d94ca1adb9bd51a6e7d42f</td>\n",
       "      <td>2016-07-20 11:31:30.485</td>\n",
       "      <td>19880321</td>\n",
       "      <td>1db3e23d-2b8f-48c7-8551-5615ffd80ad1</td>\n",
       "    </tr>\n",
       "    <tr>\n",
       "      <th>3</th>\n",
       "      <td>7693b6b203f240599d71d31fd202f329</td>\n",
       "      <td>2016-07-20 12:45:29.674</td>\n",
       "      <td>19920228</td>\n",
       "      <td>a0d8cb8b-2022-4998-864f-2fab866b6b2a</td>\n",
       "    </tr>\n",
       "    <tr>\n",
       "      <th>4</th>\n",
       "      <td>c1f31e426e594b7ab2c8daf2b2c001c4</td>\n",
       "      <td>2016-07-20 17:34:25.508</td>\n",
       "      <td>20060810</td>\n",
       "      <td>b80043ad-53a0-4936-99d0-49443ef9cb4e</td>\n",
       "    </tr>\n",
       "  </tbody>\n",
       "</table>\n",
       "</div>"
      ],
      "text/plain": [
       "      CookieUniqueVisitorTrackingId          EventTimestamp  SessionNumber  \\\n",
       "0  9c35ec76214740e9bd5cdc660d534d2f 2016-07-20 16:11:43.150       20029488   \n",
       "1  25811d71ea5f4edd9a784e1617a5a691 2016-07-20 20:13:13.161       20105815   \n",
       "2  a3d2ca8ab6d94ca1adb9bd51a6e7d42f 2016-07-20 11:31:30.485       19880321   \n",
       "3  7693b6b203f240599d71d31fd202f329 2016-07-20 12:45:29.674       19920228   \n",
       "4  c1f31e426e594b7ab2c8daf2b2c001c4 2016-07-20 17:34:25.508       20060810   \n",
       "\n",
       "                           TrackingUuid  \n",
       "0  dddd32a4-3682-471a-a163-4c7bf62f3071  \n",
       "1  53112d09-3db9-4106-b473-21242767df23  \n",
       "2  1db3e23d-2b8f-48c7-8551-5615ffd80ad1  \n",
       "3  a0d8cb8b-2022-4998-864f-2fab866b6b2a  \n",
       "4  b80043ad-53a0-4936-99d0-49443ef9cb4e  "
      ]
     },
     "execution_count": 112,
     "metadata": {},
     "output_type": "execute_result"
    }
   ],
   "source": [
    "visitor.head()"
   ]
  },
  {
   "cell_type": "code",
   "execution_count": 113,
   "metadata": {
    "collapsed": true
   },
   "outputs": [],
   "source": [
    "visitor['EventDate'] = visitor['EventTimestamp'].dt.date"
   ]
  },
  {
   "cell_type": "code",
   "execution_count": 116,
   "metadata": {
    "collapsed": false
   },
   "outputs": [
    {
     "data": {
      "text/plain": [
       "<matplotlib.axes._subplots.AxesSubplot at 0x110dcc160>"
      ]
     },
     "execution_count": 116,
     "metadata": {},
     "output_type": "execute_result"
    },
    {
     "data": {
      "image/png": "[encoded data removed]",
      "text/plain": [
       "<matplotlib.figure.Figure at 0xa498cb38>"
      ]
     },
     "metadata": {},
     "output_type": "display_data"
    }
   ],
   "source": [
    "# select count(cookieuniquevisitortrackingid), eventdate from visior\n",
    "# group by eventdate\n",
    "visitor_cnt = visitor.groupby('EventDate')['CookieUniqueVisitorTrackingId'].count()\n",
    "visitor_cnt.plot(kind= 'bar')"
   ]
  },
  {
   "cell_type": "code",
   "execution_count": 117,
   "metadata": {
    "collapsed": true
   },
   "outputs": [],
   "source": [
    "# select cookieuniquevisitortrackingid, eventdate, count(session) from visitor\n",
    "# group by cookieuniquevisitortrackingid, eventdate\n",
    "visitor_on_site = visitor.groupby(['EventDate','CookieUniqueVisitorTrackingId'])['SessionNumber'].count()\n"
   ]
  },
  {
   "cell_type": "code",
   "execution_count": 119,
   "metadata": {
    "collapsed": false
   },
   "outputs": [
    {
     "data": {
      "text/plain": [
       "array([ True,  True,  True, ..., False, False, False], dtype=bool)"
      ]
     },
     "execution_count": 119,
     "metadata": {},
     "output_type": "execute_result"
    }
   ],
   "source": [
    "import pandas\n",
    "pandas.to_datetime(visitor_on_site.index.get_level_values('EventDate')) == '2016-07-20' "
   ]
  },
  {
   "cell_type": "code",
   "execution_count": 136,
   "metadata": {
    "collapsed": true
   },
   "outputs": [],
   "source": [
    "visitor_on_0720  = visitor_on_site[pandas.to_datetime(visitor_on_site.index.get_level_values('EventDate')) == '2016-07-20' ]"
   ]
  },
  {
   "cell_type": "code",
   "execution_count": 122,
   "metadata": {
    "collapsed": false
   },
   "outputs": [
    {
     "data": {
      "text/plain": [
       "EventDate   CookieUniqueVisitorTrackingId   \n",
       "2016-07-20  000030264ec54bb997703e9e05d25c4d    4\n",
       "            00003862177641d08c8fa11eb807feb0    2\n",
       "            000044d10f0a41a68ad6c91bc2afae22    2\n",
       "            000048e29626421ea25e0497a09b2d74    1\n",
       "            0000ae4014c24ad58287bf3481f1fef1    1\n",
       "Name: SessionNumber, dtype: int64"
      ]
     },
     "execution_count": 122,
     "metadata": {},
     "output_type": "execute_result"
    }
   ],
   "source": [
    "visitor_on_0720.head()"
   ]
  },
  {
   "cell_type": "code",
   "execution_count": 124,
   "metadata": {
    "collapsed": false
   },
   "outputs": [
    {
     "data": {
      "text/plain": [
       "count    262361.000000\n",
       "mean          1.886969\n",
       "std           1.937555\n",
       "min           1.000000\n",
       "25%           1.000000\n",
       "50%           2.000000\n",
       "75%           2.000000\n",
       "max         656.000000\n",
       "Name: SessionNumber, dtype: float64"
      ]
     },
     "execution_count": 124,
     "metadata": {},
     "output_type": "execute_result"
    }
   ],
   "source": [
    "visitor_on_0720.describe()"
   ]
  },
  {
   "cell_type": "code",
   "execution_count": 125,
   "metadata": {
    "collapsed": false
   },
   "outputs": [
    {
     "data": {
      "text/plain": [
       "<matplotlib.axes._subplots.AxesSubplot at 0xd4822ba8>"
      ]
     },
     "execution_count": 125,
     "metadata": {},
     "output_type": "execute_result"
    },
    {
     "data": {
      "image/png": "[encoded data removed]",
      "text/plain": [
       "<matplotlib.figure.Figure at 0xd4813f98>"
      ]
     },
     "metadata": {},
     "output_type": "display_data"
    }
   ],
   "source": [
    "visitor_on_0720.plot(kind='hist')"
   ]
  },
  {
   "cell_type": "code",
   "execution_count": 137,
   "metadata": {
    "collapsed": false
   },
   "outputs": [
    {
     "data": {
      "text/plain": [
       "<matplotlib.axes._subplots.AxesSubplot at 0xaac15d30>"
      ]
     },
     "execution_count": 137,
     "metadata": {},
     "output_type": "execute_result"
    },
    {
     "data": {
      "image/png": "[encoded data removed]",
      "text/plain": [
       "<matplotlib.figure.Figure at 0xf3656748>"
      ]
     },
     "metadata": {},
     "output_type": "display_data"
    }
   ],
   "source": [
    "visitor_on_0720.plot(kind='box')"
   ]
  },
  {
   "cell_type": "code",
   "execution_count": 128,
   "metadata": {
    "collapsed": false
   },
   "outputs": [
    {
     "data": {
      "text/plain": [
       "EventDate   CookieUniqueVisitorTrackingId   \n",
       "2016-07-20  ?                                   656\n",
       "            36686bfc2aac4d72b231efe6a92c2098     54\n",
       "            7d20af43a7e841b6a7ba74f9663c081d     50\n",
       "            6b6b6fec868d4a2aa1c71998dd258472     50\n",
       "            8c0400581a214af6b2638d9138ad8e04     41\n",
       "Name: SessionNumber, dtype: int64"
      ]
     },
     "execution_count": 128,
     "metadata": {},
     "output_type": "execute_result"
    }
   ],
   "source": [
    "visitor_on_0720.sort_values(ascending=False).head()"
   ]
  },
  {
   "cell_type": "code",
   "execution_count": 138,
   "metadata": {
    "collapsed": false
   },
   "outputs": [],
   "source": [
    "visitor_on_0720 = visitor_on_0720[visitor_on_0720 < 100]"
   ]
  },
  {
   "cell_type": "code",
   "execution_count": 134,
   "metadata": {
    "collapsed": false
   },
   "outputs": [
    {
     "data": {
      "text/plain": [
       "<matplotlib.axes._subplots.AxesSubplot at 0xa497f160>"
      ]
     },
     "execution_count": 134,
     "metadata": {},
     "output_type": "execute_result"
    },
    {
     "data": {
      "image/png": "[encoded data removed]",
      "text/plain": [
       "<matplotlib.figure.Figure at 0xad4b2da0>"
      ]
     },
     "metadata": {},
     "output_type": "display_data"
    }
   ],
   "source": [
    "visitor_on_0720.plot(kind='hist')"
   ]
  },
  {
   "cell_type": "code",
   "execution_count": 139,
   "metadata": {
    "collapsed": false
   },
   "outputs": [
    {
     "data": {
      "text/plain": [
       "<matplotlib.axes._subplots.AxesSubplot at 0xf3650dd8>"
      ]
     },
     "execution_count": 139,
     "metadata": {},
     "output_type": "execute_result"
    },
    {
     "data": {
      "image/png": "[encoded data removed]",
      "text/plain": [
       "<matplotlib.figure.Figure at 0xa8b5ce48>"
      ]
     },
     "metadata": {},
     "output_type": "display_data"
    }
   ],
   "source": [
    "visitor_on_0720.plot(kind='box')"
   ]
  },
  {
   "cell_type": "code",
   "execution_count": 145,
   "metadata": {
    "collapsed": false
   },
   "outputs": [
    {
     "data": {
      "text/plain": [
       "count    262360.000000\n",
       "mean          1.884476\n",
       "std           1.457153\n",
       "min           1.000000\n",
       "25%           1.000000\n",
       "50%           2.000000\n",
       "75%           2.000000\n",
       "max          54.000000\n",
       "Name: SessionNumber, dtype: float64"
      ]
     },
     "execution_count": 145,
     "metadata": {},
     "output_type": "execute_result"
    }
   ],
   "source": [
    "visitor_on_0720.describe()"
   ]
  },
  {
   "cell_type": "code",
   "execution_count": 2,
   "metadata": {
    "collapsed": true
   },
   "outputs": [],
   "source": [
    "import pandas\n",
    "pageview = pandas.read_hdf('pageview0720_0730.h5')"
   ]
  },
  {
   "cell_type": "code",
   "execution_count": 149,
   "metadata": {
    "collapsed": false
   },
   "outputs": [
    {
     "data": {
      "text/html": [
       "<div>\n",
       "<table border=\"1\" class=\"dataframe\">\n",
       "  <thead>\n",
       "    <tr style=\"text-align: right;\">\n",
       "      <th></th>\n",
       "      <th>EventTimestamp</th>\n",
       "      <th>PageLocation</th>\n",
       "      <th>SessionNumber</th>\n",
       "      <th>TrackingUuid</th>\n",
       "    </tr>\n",
       "  </thead>\n",
       "  <tbody>\n",
       "    <tr>\n",
       "      <th>0</th>\n",
       "      <td>2016-07-20 16:11:23.384</td>\n",
       "      <td>https://www.mybank.com.tw/mybank/home/MyMobiBank</td>\n",
       "      <td>20029488</td>\n",
       "      <td>e91778f6-dd1a-469a-ae6e-8778e71c3460</td>\n",
       "    </tr>\n",
       "    <tr>\n",
       "      <th>1</th>\n",
       "      <td>2016-07-20 20:12:59.788</td>\n",
       "      <td>https://www.mybank.com.tw/MyBank/Quicklinks/Ho...</td>\n",
       "      <td>20105815</td>\n",
       "      <td>a9fdf990-bd01-4370-87ec-72f1cf0b257f</td>\n",
       "    </tr>\n",
       "    <tr>\n",
       "      <th>2</th>\n",
       "      <td>2016-07-20 11:31:30.485</td>\n",
       "      <td>https://www.mybank.com.tw/MyBank/Quicklinks/Home</td>\n",
       "      <td>19880321</td>\n",
       "      <td>4170b9b6-6cd0-4452-a40f-0469fdbf4489</td>\n",
       "    </tr>\n",
       "    <tr>\n",
       "      <th>5</th>\n",
       "      <td>2016-07-20 12:17:57.815</td>\n",
       "      <td>https://www.cathaybk.com.tw/cathaybk/personal_...</td>\n",
       "      <td>19906076</td>\n",
       "      <td>2ca95944-8442-49cd-b37b-e18d460e003a</td>\n",
       "    </tr>\n",
       "    <tr>\n",
       "      <th>6</th>\n",
       "      <td>2016-07-20 09:49:22.541</td>\n",
       "      <td>https://www.mybank.com.tw/MyBank/Quicklinks/Ho...</td>\n",
       "      <td>19815597</td>\n",
       "      <td>9984fbef-6750-4e57-87c7-656f0b361d65</td>\n",
       "    </tr>\n",
       "  </tbody>\n",
       "</table>\n",
       "</div>"
      ],
      "text/plain": [
       "           EventTimestamp                                       PageLocation  \\\n",
       "0 2016-07-20 16:11:23.384   https://www.mybank.com.tw/mybank/home/MyMobiBank   \n",
       "1 2016-07-20 20:12:59.788  https://www.mybank.com.tw/MyBank/Quicklinks/Ho...   \n",
       "2 2016-07-20 11:31:30.485   https://www.mybank.com.tw/MyBank/Quicklinks/Home   \n",
       "5 2016-07-20 12:17:57.815  https://www.cathaybk.com.tw/cathaybk/personal_...   \n",
       "6 2016-07-20 09:49:22.541  https://www.mybank.com.tw/MyBank/Quicklinks/Ho...   \n",
       "\n",
       "   SessionNumber                          TrackingUuid  \n",
       "0       20029488  e91778f6-dd1a-469a-ae6e-8778e71c3460  \n",
       "1       20105815  a9fdf990-bd01-4370-87ec-72f1cf0b257f  \n",
       "2       19880321  4170b9b6-6cd0-4452-a40f-0469fdbf4489  \n",
       "5       19906076  2ca95944-8442-49cd-b37b-e18d460e003a  \n",
       "6       19815597  9984fbef-6750-4e57-87c7-656f0b361d65  "
      ]
     },
     "execution_count": 149,
     "metadata": {},
     "output_type": "execute_result"
    }
   ],
   "source": [
    "pageview.head()"
   ]
  },
  {
   "cell_type": "code",
   "execution_count": 153,
   "metadata": {
    "collapsed": false
   },
   "outputs": [
    {
     "data": {
      "text/plain": [
       "PageLocation\n",
       "https://www.mybank.com.tw/MyBank/Quicklinks/Home                    1263661\n",
       "https://www.mybank.com.tw/mybank                                     754313\n",
       "https://www.mybank.com.tw/MyBank/Quicklinks/Home/Logout              506928\n",
       "https://www.cathaybk.com.tw/cathaybk/                                363317\n",
       "https://www.cathaybk.com.tw/cathaybk/personal_info07.asp             355214\n",
       "https://www.mybank.com.tw/MyBank/Quicklinks/Home/MyMobiBank          354759\n",
       "https://www.mybank.com.tw/mybank/home/MyMobiBank                     326093\n",
       "https://www.mybank.com.tw/MyBank/Home/Login                          233959\n",
       "https://www.mybank.com.tw/MyBank/MyMobiBank/AcctInq/B0101_DepInq     205154\n",
       "https://www.mybank.com.tw/mybank/Home/MyMobiBank                     171560\n",
       "Name: SessionNumber, dtype: int64"
      ]
     },
     "execution_count": 153,
     "metadata": {},
     "output_type": "execute_result"
    }
   ],
   "source": [
    "# select count(sessionnumber), count(pagelocation)\n",
    "# from pageview groupby (sessionnumber)\n",
    "pageview.groupby('PageLocation')['SessionNumber'].count().sort_values(ascending=False)[0:10]"
   ]
  },
  {
   "cell_type": "code",
   "execution_count": 155,
   "metadata": {
    "collapsed": false
   },
   "outputs": [
    {
     "name": "stdout",
     "output_type": "stream",
     "text": [
      "<class 'pandas.core.frame.DataFrame'>\n",
      "Int64Index: 3232176 entries, 0 to 3232175\n",
      "Data columns (total 5 columns):\n",
      "CookieUniqueVisitorTrackingId    object\n",
      "EventTimestamp                   datetime64[ns]\n",
      "SessionNumber                    int64\n",
      "TrackingUuid                     object\n",
      "EventDate                        object\n",
      "dtypes: datetime64[ns](1), int64(1), object(3)\n",
      "memory usage: 148.0+ MB\n"
     ]
    }
   ],
   "source": [
    "visitor.info()"
   ]
  },
  {
   "cell_type": "code",
   "execution_count": 157,
   "metadata": {
    "collapsed": false
   },
   "outputs": [
    {
     "name": "stdout",
     "output_type": "stream",
     "text": [
      "<class 'pandas.core.frame.DataFrame'>\n",
      "Int64Index: 8887227 entries, 0 to 378996\n",
      "Data columns (total 4 columns):\n",
      "EventTimestamp    datetime64[ns]\n",
      "PageLocation      object\n",
      "SessionNumber     int64\n",
      "TrackingUuid      object\n",
      "dtypes: datetime64[ns](1), int64(1), object(2)\n",
      "memory usage: 339.0+ MB\n"
     ]
    }
   ],
   "source": [
    "pageview.info()"
   ]
  },
  {
   "cell_type": "code",
   "execution_count": 3,
   "metadata": {
    "collapsed": true
   },
   "outputs": [],
   "source": [
    "#select * from visitor inner join pageview \n",
    "#on visitor.sessionnumber = pageview.sesssionumber\n",
    "\n",
    "import pandas\n",
    "#?pandas.merge\n",
    "visitor_pageview = pandas.merge(visitor, pageview, left_on='SessionNumber',\n",
    "             right_on='SessionNumber', how = 'inner')"
   ]
  },
  {
   "cell_type": "code",
   "execution_count": 161,
   "metadata": {
    "collapsed": false
   },
   "outputs": [
    {
     "name": "stdout",
     "output_type": "stream",
     "text": [
      "<class 'pandas.core.frame.DataFrame'>\n",
      "Int64Index: 10459878 entries, 0 to 10459877\n",
      "Data columns (total 8 columns):\n",
      "CookieUniqueVisitorTrackingId    object\n",
      "EventTimestamp_x                 datetime64[ns]\n",
      "SessionNumber                    int64\n",
      "TrackingUuid_x                   object\n",
      "EventDate                        object\n",
      "EventTimestamp_y                 datetime64[ns]\n",
      "PageLocation                     object\n",
      "TrackingUuid_y                   object\n",
      "dtypes: datetime64[ns](2), int64(1), object(5)\n",
      "memory usage: 718.2+ MB\n"
     ]
    }
   ],
   "source": [
    "visitor_pageview.info()"
   ]
  },
  {
   "cell_type": "code",
   "execution_count": 163,
   "metadata": {
    "collapsed": false
   },
   "outputs": [
    {
     "data": {
      "text/html": [
       "<div>\n",
       "<table border=\"1\" class=\"dataframe\">\n",
       "  <thead>\n",
       "    <tr style=\"text-align: right;\">\n",
       "      <th></th>\n",
       "      <th>CookieUniqueVisitorTrackingId</th>\n",
       "      <th>EventTimestamp_x</th>\n",
       "      <th>SessionNumber</th>\n",
       "      <th>TrackingUuid_x</th>\n",
       "      <th>EventDate</th>\n",
       "      <th>EventTimestamp_y</th>\n",
       "      <th>PageLocation</th>\n",
       "      <th>TrackingUuid_y</th>\n",
       "    </tr>\n",
       "  </thead>\n",
       "  <tbody>\n",
       "    <tr>\n",
       "      <th>0</th>\n",
       "      <td>9c35ec76214740e9bd5cdc660d534d2f</td>\n",
       "      <td>2016-07-20 16:11:43.150</td>\n",
       "      <td>20029488</td>\n",
       "      <td>dddd32a4-3682-471a-a163-4c7bf62f3071</td>\n",
       "      <td>2016-07-20</td>\n",
       "      <td>2016-07-20 16:11:23.384</td>\n",
       "      <td>https://www.mybank.com.tw/mybank/home/MyMobiBank</td>\n",
       "      <td>e91778f6-dd1a-469a-ae6e-8778e71c3460</td>\n",
       "    </tr>\n",
       "    <tr>\n",
       "      <th>1</th>\n",
       "      <td>9c35ec76214740e9bd5cdc660d534d2f</td>\n",
       "      <td>2016-07-20 16:11:43.150</td>\n",
       "      <td>20029488</td>\n",
       "      <td>dddd32a4-3682-471a-a163-4c7bf62f3071</td>\n",
       "      <td>2016-07-20</td>\n",
       "      <td>2016-07-20 16:11:43.150</td>\n",
       "      <td>https://www.mybank.com.tw/MyBank/MyMobiBank/Ac...</td>\n",
       "      <td>e91778f6-dd1a-469a-ae6e-8778e71c3460</td>\n",
       "    </tr>\n",
       "    <tr>\n",
       "      <th>2</th>\n",
       "      <td>9c35ec76214740e9bd5cdc660d534d2f</td>\n",
       "      <td>2016-07-20 16:11:23.384</td>\n",
       "      <td>20029488</td>\n",
       "      <td>dddd32a4-3682-471a-a163-4c7bf62f3071</td>\n",
       "      <td>2016-07-20</td>\n",
       "      <td>2016-07-20 16:11:23.384</td>\n",
       "      <td>https://www.mybank.com.tw/mybank/home/MyMobiBank</td>\n",
       "      <td>e91778f6-dd1a-469a-ae6e-8778e71c3460</td>\n",
       "    </tr>\n",
       "    <tr>\n",
       "      <th>3</th>\n",
       "      <td>9c35ec76214740e9bd5cdc660d534d2f</td>\n",
       "      <td>2016-07-20 16:11:23.384</td>\n",
       "      <td>20029488</td>\n",
       "      <td>dddd32a4-3682-471a-a163-4c7bf62f3071</td>\n",
       "      <td>2016-07-20</td>\n",
       "      <td>2016-07-20 16:11:43.150</td>\n",
       "      <td>https://www.mybank.com.tw/MyBank/MyMobiBank/Ac...</td>\n",
       "      <td>e91778f6-dd1a-469a-ae6e-8778e71c3460</td>\n",
       "    </tr>\n",
       "    <tr>\n",
       "      <th>4</th>\n",
       "      <td>25811d71ea5f4edd9a784e1617a5a691</td>\n",
       "      <td>2016-07-20 20:13:13.161</td>\n",
       "      <td>20105815</td>\n",
       "      <td>53112d09-3db9-4106-b473-21242767df23</td>\n",
       "      <td>2016-07-20</td>\n",
       "      <td>2016-07-20 20:12:59.788</td>\n",
       "      <td>https://www.mybank.com.tw/MyBank/Quicklinks/Ho...</td>\n",
       "      <td>a9fdf990-bd01-4370-87ec-72f1cf0b257f</td>\n",
       "    </tr>\n",
       "  </tbody>\n",
       "</table>\n",
       "</div>"
      ],
      "text/plain": [
       "      CookieUniqueVisitorTrackingId        EventTimestamp_x  SessionNumber  \\\n",
       "0  9c35ec76214740e9bd5cdc660d534d2f 2016-07-20 16:11:43.150       20029488   \n",
       "1  9c35ec76214740e9bd5cdc660d534d2f 2016-07-20 16:11:43.150       20029488   \n",
       "2  9c35ec76214740e9bd5cdc660d534d2f 2016-07-20 16:11:23.384       20029488   \n",
       "3  9c35ec76214740e9bd5cdc660d534d2f 2016-07-20 16:11:23.384       20029488   \n",
       "4  25811d71ea5f4edd9a784e1617a5a691 2016-07-20 20:13:13.161       20105815   \n",
       "\n",
       "                         TrackingUuid_x   EventDate        EventTimestamp_y  \\\n",
       "0  dddd32a4-3682-471a-a163-4c7bf62f3071  2016-07-20 2016-07-20 16:11:23.384   \n",
       "1  dddd32a4-3682-471a-a163-4c7bf62f3071  2016-07-20 2016-07-20 16:11:43.150   \n",
       "2  dddd32a4-3682-471a-a163-4c7bf62f3071  2016-07-20 2016-07-20 16:11:23.384   \n",
       "3  dddd32a4-3682-471a-a163-4c7bf62f3071  2016-07-20 2016-07-20 16:11:43.150   \n",
       "4  53112d09-3db9-4106-b473-21242767df23  2016-07-20 2016-07-20 20:12:59.788   \n",
       "\n",
       "                                        PageLocation  \\\n",
       "0   https://www.mybank.com.tw/mybank/home/MyMobiBank   \n",
       "1  https://www.mybank.com.tw/MyBank/MyMobiBank/Ac...   \n",
       "2   https://www.mybank.com.tw/mybank/home/MyMobiBank   \n",
       "3  https://www.mybank.com.tw/MyBank/MyMobiBank/Ac...   \n",
       "4  https://www.mybank.com.tw/MyBank/Quicklinks/Ho...   \n",
       "\n",
       "                         TrackingUuid_y  \n",
       "0  e91778f6-dd1a-469a-ae6e-8778e71c3460  \n",
       "1  e91778f6-dd1a-469a-ae6e-8778e71c3460  \n",
       "2  e91778f6-dd1a-469a-ae6e-8778e71c3460  \n",
       "3  e91778f6-dd1a-469a-ae6e-8778e71c3460  \n",
       "4  a9fdf990-bd01-4370-87ec-72f1cf0b257f  "
      ]
     },
     "execution_count": 163,
     "metadata": {},
     "output_type": "execute_result"
    }
   ],
   "source": [
    "visitor_pageview.head()"
   ]
  },
  {
   "cell_type": "code",
   "execution_count": 9,
   "metadata": {
    "collapsed": true
   },
   "outputs": [],
   "source": [
    "visitor_pageview_20160720 = visitor_pageview[visitor_pageview.EventTimestamp_x < '2016-07-21']\n"
   ]
  },
  {
   "cell_type": "code",
   "execution_count": 170,
   "metadata": {
    "collapsed": false,
    "scrolled": true
   },
   "outputs": [
    {
     "data": {
      "text/plain": [
       "CookieUniqueVisitorTrackingId\n",
       "?                                   624\n",
       "8c0400581a214af6b2638d9138ad8e04     41\n",
       "6e62e7f5f9a94f1e86e8681e6a864e58     32\n",
       "b776ca05d13846b483f5b3426d4c3f72     30\n",
       "13bafab96f5e49e28967fea8591cc374     27\n",
       "e6b23003898f42d88131a82c17e92078     25\n",
       "84e7c81b495141d8b44139530d495f0a     25\n",
       "a844d81647b046b58f4fb00fc23739c8     24\n",
       "f6decfb8f0bf44d6a96ececc5589353d     23\n",
       "2887f2fb5a284e4a9529f6a040e0a283     21\n",
       "5e0de95618a447f498ad91e1cf78d271     21\n",
       "625bf75a577949cfa85e6200fc2d9cda     19\n",
       "0b80beabb03e451697bf345c1607a8e4     18\n",
       "81dc61801c924c39a00f93b14c3ff383     18\n",
       "3795f1613a75443ba91c867c18a35bc3     18\n",
       "9e34ec2d5e094329b9318cfa91e8aeaa     18\n",
       "875550ae8b1146ab972e980c8c91235d     18\n",
       "0b4a742e7de647a8ad23cb41b6a97d89     18\n",
       "9146d7cf40ee4ceb8f896052379febe9     17\n",
       "4c5555431b81413986d4305de905215b     17\n",
       "6ef5af82981646adbac68030a43bfe42     17\n",
       "d9a558d5721848e5bd36c5a390ea26c9     17\n",
       "035d9c27a9be4e87b3d8d7d71e0dc008     16\n",
       "b964822963134abc886a90b9e4422927     16\n",
       "fb3c9f00a3be48e8be1dc36eed421fb7     16\n",
       "5fbd273095434990a82ee8857f027553     16\n",
       "31067825b8d54939a90b1c9edc3d10ab     15\n",
       "7470e798e2b2490ca520d4ce2bb19629     15\n",
       "abd191e5ecf14f1abc2644353bdc5e7e     15\n",
       "42f68056dee64cf9ab6629bc0734c5d1     15\n",
       "                                   ... \n",
       "a0870a46dec8421d80b19d20ca123b4e      1\n",
       "a086ca04096c42e7b9aa0d6a91d6af62      1\n",
       "a096b3a0e4854f23a50575b4af768246      1\n",
       "a08650674f7343b6a7433302894940e1      1\n",
       "a085b72ff982479aaf563bb7aa02a3e9      1\n",
       "a0853b149c9e4f9aacd30c42984bfa15      1\n",
       "a08509e0272a4951ad7e78f23ea607fd      1\n",
       "a084dfefbedd49c0a0f7061c4b22885c      1\n",
       "a0842c9a34bb48e79691f4e312cf0418      1\n",
       "a084194eb06240f6b3d71081110a958d      1\n",
       "a08b86504fef4b948ac1dfa02df523ee      1\n",
       "a08c55ec98e64dc3bfd2ad8827e1c640      1\n",
       "a08c5a2a804745fe9641ee7c5c5ae1a6      1\n",
       "a08dbd77bd8e4047b05ba1a0d8ac711d      1\n",
       "a095e2d9d461459cad0d522caca9a2e5      1\n",
       "a095d3f3293641c4aa655d1e65421152      1\n",
       "a0959dca3daf49308ce5a7685a084bdf      1\n",
       "a094eabd814348b0b9cb98784ff56b61      1\n",
       "a093f2379bc742c3910299595231d4cd      1\n",
       "a093469bc1bd4cd19c51558984f4a6f4      1\n",
       "a091d13c908c433f92d5f57a0234d03f      1\n",
       "a091665f1960448398c4cdbb82a478d3      1\n",
       "a0913226f609495f8f1b4330b61f7513      1\n",
       "a09113356246415d9ad952ac746a9ded      1\n",
       "a090f427c7904e0f83b82400f6a5f4ed      1\n",
       "a090347e34134f1c8e72556ccba6746f      1\n",
       "a08ff6bb45d1449db9321fdbd601e4c7      1\n",
       "a08e115a0ed44f279660fafa18493f08      1\n",
       "a08df71f250140728051aec31760f32d      1\n",
       "000030264ec54bb997703e9e05d25c4d      1\n",
       "Name: SessionNumber, dtype: int64"
      ]
     },
     "execution_count": 170,
     "metadata": {},
     "output_type": "execute_result"
    }
   ],
   "source": [
    "visitor_pageview_20160720.groupby('CookieUniqueVisitorTrackingId')['SessionNumber'].nunique().sort_values(ascending=False)"
   ]
  },
  {
   "cell_type": "code",
   "execution_count": 10,
   "metadata": {
    "collapsed": false
   },
   "outputs": [
    {
     "data": {
      "text/plain": [
       "42061     https://www.cathaybk.com.tw/cathaybk/personal_info07.asp\n",
       "173737    https://www.cathaybk.com.tw/cathaybk/personal_info07.asp\n",
       "174299    https://www.cathaybk.com.tw/cathaybk/personal_info07.asp\n",
       "174300    https://www.cathaybk.com.tw/cathaybk/personal_info07.asp\n",
       "205632    https://www.cathaybk.com.tw/cathaybk/personal_info07.asp\n",
       "Name: PageLocation, dtype: object"
      ]
     },
     "execution_count": 10,
     "metadata": {},
     "output_type": "execute_result"
    }
   ],
   "source": [
    "pandas.set_option('display.max_colwidth', -1)\n",
    "\n",
    "visitor_pageview_20160720[visitor_pageview_20160720['CookieUniqueVisitorTrackingId'] == 'b776ca05d13846b483f5b3426d4c3f72']['PageLocation'].head()"
   ]
  },
  {
   "cell_type": "code",
   "execution_count": 11,
   "metadata": {
    "collapsed": true
   },
   "outputs": [],
   "source": [
    "import pandas\n",
    "url_mapping_raw = pandas.read_excel('bigdata/url_mapping.xlsx', \n",
    "                    sheetname = [i for i in range(1,12)])"
   ]
  },
  {
   "cell_type": "code",
   "execution_count": 12,
   "metadata": {
    "collapsed": false
   },
   "outputs": [],
   "source": [
    "url_mapping_concat = pandas.concat(url_mapping_raw)"
   ]
  },
  {
   "cell_type": "code",
   "execution_count": 13,
   "metadata": {
    "collapsed": false
   },
   "outputs": [],
   "source": [
    "tag_map  = url_mapping_concat[['URL', '層級2','頁面名稱']]"
   ]
  },
  {
   "cell_type": "code",
   "execution_count": 14,
   "metadata": {
    "collapsed": false
   },
   "outputs": [
    {
     "name": "stderr",
     "output_type": "stream",
     "text": [
      "C:\\Anaconda3\\lib\\site-packages\\pandas\\core\\generic.py:2698: SettingWithCopyWarning: \n",
      "A value is trying to be set on a copy of a slice from a DataFrame.\n",
      "Try using .loc[row_indexer,col_indexer] = value instead\n",
      "\n",
      "See the caveats in the documentation: http://pandas.pydata.org/pandas-docs/stable/indexing.html#indexing-view-versus-copy\n",
      "  self[name] = value\n"
     ]
    }
   ],
   "source": [
    "visitor_pageview_20160720.PageLocation = visitor_pageview_20160720.PageLocation.str.strip('/')"
   ]
  },
  {
   "cell_type": "code",
   "execution_count": 15,
   "metadata": {
    "collapsed": false
   },
   "outputs": [],
   "source": [
    "visitor_pageview_tag_20160720 = pandas.merge(visitor_pageview_20160720 ,tag_map, left_on='PageLocation', right_on='URL', how = 'left')"
   ]
  },
  {
   "cell_type": "code",
   "execution_count": 234,
   "metadata": {
    "collapsed": false
   },
   "outputs": [
    {
     "data": {
      "text/html": [
       "<div>\n",
       "<table border=\"1\" class=\"dataframe\">\n",
       "  <thead>\n",
       "    <tr style=\"text-align: right;\">\n",
       "      <th></th>\n",
       "      <th>CookieUniqueVisitorTrackingId</th>\n",
       "      <th>EventTimestamp_x</th>\n",
       "      <th>SessionNumber</th>\n",
       "      <th>TrackingUuid_x</th>\n",
       "      <th>EventDate</th>\n",
       "      <th>EventTimestamp_y</th>\n",
       "      <th>PageLocation</th>\n",
       "      <th>TrackingUuid_y</th>\n",
       "      <th>URL</th>\n",
       "      <th>層級2</th>\n",
       "      <th>頁面名稱</th>\n",
       "    </tr>\n",
       "  </thead>\n",
       "  <tbody>\n",
       "    <tr>\n",
       "      <th>0</th>\n",
       "      <td>9c35ec76214740e9bd5cdc660d534d2f</td>\n",
       "      <td>2016-07-20 16:11:43.150</td>\n",
       "      <td>20029488</td>\n",
       "      <td>dddd32a4-3682-471a-a163-4c7bf62f3071</td>\n",
       "      <td>2016-07-20</td>\n",
       "      <td>2016-07-20 16:11:23.384</td>\n",
       "      <td>https://www.mybank.com.tw/mybank/home/MyMobiBank</td>\n",
       "      <td>e91778f6-dd1a-469a-ae6e-8778e71c3460</td>\n",
       "      <td>https://www.mybank.com.tw/mybank/home/MyMobiBank</td>\n",
       "      <td>行動首頁</td>\n",
       "      <td>行動首頁</td>\n",
       "    </tr>\n",
       "    <tr>\n",
       "      <th>1</th>\n",
       "      <td>9c35ec76214740e9bd5cdc660d534d2f</td>\n",
       "      <td>2016-07-20 16:11:43.150</td>\n",
       "      <td>20029488</td>\n",
       "      <td>dddd32a4-3682-471a-a163-4c7bf62f3071</td>\n",
       "      <td>2016-07-20</td>\n",
       "      <td>2016-07-20 16:11:43.150</td>\n",
       "      <td>https://www.mybank.com.tw/MyBank/MyMobiBank/AcctInq/B0101_DepInq</td>\n",
       "      <td>e91778f6-dd1a-469a-ae6e-8778e71c3460</td>\n",
       "      <td>NaN</td>\n",
       "      <td>NaN</td>\n",
       "      <td>NaN</td>\n",
       "    </tr>\n",
       "    <tr>\n",
       "      <th>2</th>\n",
       "      <td>9c35ec76214740e9bd5cdc660d534d2f</td>\n",
       "      <td>2016-07-20 16:11:23.384</td>\n",
       "      <td>20029488</td>\n",
       "      <td>dddd32a4-3682-471a-a163-4c7bf62f3071</td>\n",
       "      <td>2016-07-20</td>\n",
       "      <td>2016-07-20 16:11:23.384</td>\n",
       "      <td>https://www.mybank.com.tw/mybank/home/MyMobiBank</td>\n",
       "      <td>e91778f6-dd1a-469a-ae6e-8778e71c3460</td>\n",
       "      <td>https://www.mybank.com.tw/mybank/home/MyMobiBank</td>\n",
       "      <td>行動首頁</td>\n",
       "      <td>行動首頁</td>\n",
       "    </tr>\n",
       "    <tr>\n",
       "      <th>3</th>\n",
       "      <td>9c35ec76214740e9bd5cdc660d534d2f</td>\n",
       "      <td>2016-07-20 16:11:23.384</td>\n",
       "      <td>20029488</td>\n",
       "      <td>dddd32a4-3682-471a-a163-4c7bf62f3071</td>\n",
       "      <td>2016-07-20</td>\n",
       "      <td>2016-07-20 16:11:43.150</td>\n",
       "      <td>https://www.mybank.com.tw/MyBank/MyMobiBank/AcctInq/B0101_DepInq</td>\n",
       "      <td>e91778f6-dd1a-469a-ae6e-8778e71c3460</td>\n",
       "      <td>NaN</td>\n",
       "      <td>NaN</td>\n",
       "      <td>NaN</td>\n",
       "    </tr>\n",
       "    <tr>\n",
       "      <th>4</th>\n",
       "      <td>25811d71ea5f4edd9a784e1617a5a691</td>\n",
       "      <td>2016-07-20 20:13:13.161</td>\n",
       "      <td>20105815</td>\n",
       "      <td>53112d09-3db9-4106-b473-21242767df23</td>\n",
       "      <td>2016-07-20</td>\n",
       "      <td>2016-07-20 20:12:59.788</td>\n",
       "      <td>https://www.mybank.com.tw/MyBank/Quicklinks/Home/MyMobiBank</td>\n",
       "      <td>a9fdf990-bd01-4370-87ec-72f1cf0b257f</td>\n",
       "      <td>NaN</td>\n",
       "      <td>NaN</td>\n",
       "      <td>NaN</td>\n",
       "    </tr>\n",
       "  </tbody>\n",
       "</table>\n",
       "</div>"
      ],
      "text/plain": [
       "      CookieUniqueVisitorTrackingId        EventTimestamp_x  SessionNumber  \\\n",
       "0  9c35ec76214740e9bd5cdc660d534d2f 2016-07-20 16:11:43.150  20029488        \n",
       "1  9c35ec76214740e9bd5cdc660d534d2f 2016-07-20 16:11:43.150  20029488        \n",
       "2  9c35ec76214740e9bd5cdc660d534d2f 2016-07-20 16:11:23.384  20029488        \n",
       "3  9c35ec76214740e9bd5cdc660d534d2f 2016-07-20 16:11:23.384  20029488        \n",
       "4  25811d71ea5f4edd9a784e1617a5a691 2016-07-20 20:13:13.161  20105815        \n",
       "\n",
       "                         TrackingUuid_x   EventDate        EventTimestamp_y  \\\n",
       "0  dddd32a4-3682-471a-a163-4c7bf62f3071  2016-07-20 2016-07-20 16:11:23.384   \n",
       "1  dddd32a4-3682-471a-a163-4c7bf62f3071  2016-07-20 2016-07-20 16:11:43.150   \n",
       "2  dddd32a4-3682-471a-a163-4c7bf62f3071  2016-07-20 2016-07-20 16:11:23.384   \n",
       "3  dddd32a4-3682-471a-a163-4c7bf62f3071  2016-07-20 2016-07-20 16:11:43.150   \n",
       "4  53112d09-3db9-4106-b473-21242767df23  2016-07-20 2016-07-20 20:12:59.788   \n",
       "\n",
       "                                                       PageLocation  \\\n",
       "0  https://www.mybank.com.tw/mybank/home/MyMobiBank                   \n",
       "1  https://www.mybank.com.tw/MyBank/MyMobiBank/AcctInq/B0101_DepInq   \n",
       "2  https://www.mybank.com.tw/mybank/home/MyMobiBank                   \n",
       "3  https://www.mybank.com.tw/MyBank/MyMobiBank/AcctInq/B0101_DepInq   \n",
       "4  https://www.mybank.com.tw/MyBank/Quicklinks/Home/MyMobiBank        \n",
       "\n",
       "                         TrackingUuid_y  \\\n",
       "0  e91778f6-dd1a-469a-ae6e-8778e71c3460   \n",
       "1  e91778f6-dd1a-469a-ae6e-8778e71c3460   \n",
       "2  e91778f6-dd1a-469a-ae6e-8778e71c3460   \n",
       "3  e91778f6-dd1a-469a-ae6e-8778e71c3460   \n",
       "4  a9fdf990-bd01-4370-87ec-72f1cf0b257f   \n",
       "\n",
       "                                                URL   層級2  頁面名稱  \n",
       "0  https://www.mybank.com.tw/mybank/home/MyMobiBank  行動首頁  行動首頁  \n",
       "1  NaN                                               NaN   NaN   \n",
       "2  https://www.mybank.com.tw/mybank/home/MyMobiBank  行動首頁  行動首頁  \n",
       "3  NaN                                               NaN   NaN   \n",
       "4  NaN                                               NaN   NaN   "
      ]
     },
     "execution_count": 234,
     "metadata": {},
     "output_type": "execute_result"
    }
   ],
   "source": [
    "visitor_pageview_tag_20160720.head()"
   ]
  },
  {
   "cell_type": "code",
   "execution_count": 236,
   "metadata": {
    "collapsed": false
   },
   "outputs": [
    {
     "data": {
      "text/plain": [
       "1    https://www.mybank.com.tw/MyBank/MyMobiBank/AcctInq/B0101_DepInq\n",
       "3    https://www.mybank.com.tw/MyBank/MyMobiBank/AcctInq/B0101_DepInq\n",
       "4    https://www.mybank.com.tw/MyBank/Quicklinks/Home/MyMobiBank     \n",
       "5    https://www.mybank.com.tw/mybank/Home/MyMobiBank                \n",
       "6    https://www.mybank.com.tw/MyBank/MyMobiBank/CQuery/C0102_BillInq\n",
       "Name: PageLocation, dtype: object"
      ]
     },
     "execution_count": 236,
     "metadata": {},
     "output_type": "execute_result"
    }
   ],
   "source": [
    "visitor_pageview_tag_20160720[visitor_pageview_tag_20160720['層級2'].isnull()]['PageLocation'].head()"
   ]
  },
  {
   "cell_type": "code",
   "execution_count": 245,
   "metadata": {
    "collapsed": false
   },
   "outputs": [],
   "source": [
    "visitor_grpby_20160720 = visitor_pageview_tag_20160720.groupby(['CookieUniqueVisitorTrackingId','層級2'])['CookieUniqueVisitorTrackingId'].count()\n"
   ]
  },
  {
   "cell_type": "code",
   "execution_count": 246,
   "metadata": {
    "collapsed": false
   },
   "outputs": [
    {
     "data": {
      "text/plain": [
       "pandas.core.series.Series"
      ]
     },
     "execution_count": 246,
     "metadata": {},
     "output_type": "execute_result"
    }
   ],
   "source": [
    "type(visitor_grpby_20160720) #.head(100)"
   ]
  },
  {
   "cell_type": "code",
   "execution_count": 247,
   "metadata": {
    "collapsed": false
   },
   "outputs": [
    {
     "data": {
      "text/html": [
       "<div>\n",
       "<table border=\"1\" class=\"dataframe\">\n",
       "  <thead>\n",
       "    <tr style=\"text-align: right;\">\n",
       "      <th></th>\n",
       "      <th>層級2</th>\n",
       "      <th>CookieUniqueVisitorTrackingId</th>\n",
       "    </tr>\n",
       "    <tr>\n",
       "      <th>CookieUniqueVisitorTrackingId</th>\n",
       "      <th></th>\n",
       "      <th></th>\n",
       "    </tr>\n",
       "  </thead>\n",
       "  <tbody>\n",
       "    <tr>\n",
       "      <th>000030264ec54bb997703e9e05d25c4d</th>\n",
       "      <td>線上櫃台</td>\n",
       "      <td>4</td>\n",
       "    </tr>\n",
       "    <tr>\n",
       "      <th>000030264ec54bb997703e9e05d25c4d</th>\n",
       "      <td>首頁</td>\n",
       "      <td>32</td>\n",
       "    </tr>\n",
       "    <tr>\n",
       "      <th>00003862177641d08c8fa11eb807feb0</th>\n",
       "      <td>線上櫃台</td>\n",
       "      <td>2</td>\n",
       "    </tr>\n",
       "    <tr>\n",
       "      <th>00003862177641d08c8fa11eb807feb0</th>\n",
       "      <td>首頁</td>\n",
       "      <td>4</td>\n",
       "    </tr>\n",
       "    <tr>\n",
       "      <th>000044d10f0a41a68ad6c91bc2afae22</th>\n",
       "      <td>首頁</td>\n",
       "      <td>2</td>\n",
       "    </tr>\n",
       "  </tbody>\n",
       "</table>\n",
       "</div>"
      ],
      "text/plain": [
       "                                   層級2  CookieUniqueVisitorTrackingId\n",
       "CookieUniqueVisitorTrackingId                                        \n",
       "000030264ec54bb997703e9e05d25c4d  線上櫃台  4                            \n",
       "000030264ec54bb997703e9e05d25c4d  首頁    32                           \n",
       "00003862177641d08c8fa11eb807feb0  線上櫃台  2                            \n",
       "00003862177641d08c8fa11eb807feb0  首頁    4                            \n",
       "000044d10f0a41a68ad6c91bc2afae22  首頁    2                            "
      ]
     },
     "execution_count": 247,
     "metadata": {},
     "output_type": "execute_result"
    }
   ],
   "source": [
    "visitor_grpby_20160720 = visitor_grpby_20160720.reset_index('層級2')\n",
    "visitor_grpby_20160720.head()"
   ]
  },
  {
   "cell_type": "code",
   "execution_count": 248,
   "metadata": {
    "collapsed": true
   },
   "outputs": [],
   "source": [
    "visitor_grpby_20160720.columns = ['level2', 'count']"
   ]
  },
  {
   "cell_type": "code",
   "execution_count": 255,
   "metadata": {
    "collapsed": false
   },
   "outputs": [],
   "source": [
    "visitor_grpby_20160720 = visitor_grpby_20160720.reset_index()"
   ]
  },
  {
   "cell_type": "code",
   "execution_count": 256,
   "metadata": {
    "collapsed": false
   },
   "outputs": [
    {
     "name": "stdout",
     "output_type": "stream",
     "text": [
      "<class 'pandas.core.frame.DataFrame'>\n",
      "RangeIndex: 235285 entries, 0 to 235284\n",
      "Data columns (total 3 columns):\n",
      "CookieUniqueVisitorTrackingId    235285 non-null object\n",
      "level2                           235285 non-null object\n",
      "count                            235285 non-null int64\n",
      "dtypes: int64(1), object(2)\n",
      "memory usage: 5.4+ MB\n"
     ]
    }
   ],
   "source": [
    "visitor_grpby_20160720.info()"
   ]
  },
  {
   "cell_type": "code",
   "execution_count": 283,
   "metadata": {
    "collapsed": true
   },
   "outputs": [],
   "source": [
    "pivoted = visitor_grpby_20160720.pivot(index='CookieUniqueVisitorTrackingId', columns='level2', values='count')"
   ]
  },
  {
   "cell_type": "code",
   "execution_count": 284,
   "metadata": {
    "collapsed": false
   },
   "outputs": [],
   "source": [
    "pivoted = pivoted.ix[:,20:30]"
   ]
  },
  {
   "cell_type": "code",
   "execution_count": 267,
   "metadata": {
    "collapsed": false
   },
   "outputs": [],
   "source": [
    "a = pandas.DataFrame([{'height':180, 'weight': 70, 'age':21}, \n",
    "                      {'height':170, 'weight':62, 'age':18},\n",
    "                      {'height':160, 'weight':46, 'age':35}])"
   ]
  },
  {
   "cell_type": "code",
   "execution_count": 269,
   "metadata": {
    "collapsed": false
   },
   "outputs": [
    {
     "data": {
      "text/html": [
       "<div>\n",
       "<table border=\"1\" class=\"dataframe\">\n",
       "  <thead>\n",
       "    <tr style=\"text-align: right;\">\n",
       "      <th></th>\n",
       "      <th>age</th>\n",
       "      <th>height</th>\n",
       "      <th>weight</th>\n",
       "    </tr>\n",
       "  </thead>\n",
       "  <tbody>\n",
       "    <tr>\n",
       "      <th>age</th>\n",
       "      <td>82.333333</td>\n",
       "      <td>-70.0</td>\n",
       "      <td>-97.333333</td>\n",
       "    </tr>\n",
       "    <tr>\n",
       "      <th>height</th>\n",
       "      <td>-70.000000</td>\n",
       "      <td>100.0</td>\n",
       "      <td>120.000000</td>\n",
       "    </tr>\n",
       "    <tr>\n",
       "      <th>weight</th>\n",
       "      <td>-97.333333</td>\n",
       "      <td>120.0</td>\n",
       "      <td>149.333333</td>\n",
       "    </tr>\n",
       "  </tbody>\n",
       "</table>\n",
       "</div>"
      ],
      "text/plain": [
       "              age  height      weight\n",
       "age     82.333333 -70.0   -97.333333 \n",
       "height -70.000000  100.0   120.000000\n",
       "weight -97.333333  120.0   149.333333"
      ]
     },
     "execution_count": 269,
     "metadata": {},
     "output_type": "execute_result"
    }
   ],
   "source": [
    "a.cov()"
   ]
  },
  {
   "cell_type": "code",
   "execution_count": 270,
   "metadata": {
    "collapsed": false
   },
   "outputs": [
    {
     "data": {
      "text/html": [
       "<div>\n",
       "<table border=\"1\" class=\"dataframe\">\n",
       "  <thead>\n",
       "    <tr style=\"text-align: right;\">\n",
       "      <th></th>\n",
       "      <th>age</th>\n",
       "      <th>height</th>\n",
       "      <th>weight</th>\n",
       "    </tr>\n",
       "  </thead>\n",
       "  <tbody>\n",
       "    <tr>\n",
       "      <th>age</th>\n",
       "      <td>1.000000</td>\n",
       "      <td>-0.771454</td>\n",
       "      <td>-0.877800</td>\n",
       "    </tr>\n",
       "    <tr>\n",
       "      <th>height</th>\n",
       "      <td>-0.771454</td>\n",
       "      <td>1.000000</td>\n",
       "      <td>0.981981</td>\n",
       "    </tr>\n",
       "    <tr>\n",
       "      <th>weight</th>\n",
       "      <td>-0.877800</td>\n",
       "      <td>0.981981</td>\n",
       "      <td>1.000000</td>\n",
       "    </tr>\n",
       "  </tbody>\n",
       "</table>\n",
       "</div>"
      ],
      "text/plain": [
       "             age    height    weight\n",
       "age     1.000000 -0.771454 -0.877800\n",
       "height -0.771454  1.000000  0.981981\n",
       "weight -0.877800  0.981981  1.000000"
      ]
     },
     "execution_count": 270,
     "metadata": {},
     "output_type": "execute_result"
    }
   ],
   "source": [
    "a.corr()"
   ]
  },
  {
   "cell_type": "code",
   "execution_count": 285,
   "metadata": {
    "collapsed": false
   },
   "outputs": [
    {
     "data": {
      "text/html": [
       "<div>\n",
       "<table border=\"1\" class=\"dataframe\">\n",
       "  <thead>\n",
       "    <tr style=\"text-align: right;\">\n",
       "      <th>level2</th>\n",
       "      <th>優惠精選</th>\n",
       "      <th>公告事項</th>\n",
       "      <th>其他服務</th>\n",
       "      <th>其他貸款商品</th>\n",
       "      <th>其他貸款商品-小額農業貸款</th>\n",
       "      <th>其他貸款商品-汽車貸款</th>\n",
       "      <th>其他貸款商品-股票質押貸款</th>\n",
       "      <th>利率查詢</th>\n",
       "      <th>刷卡優惠-信用卡活動登陸</th>\n",
       "      <th>刷卡優惠-信用卡理財</th>\n",
       "    </tr>\n",
       "    <tr>\n",
       "      <th>level2</th>\n",
       "      <th></th>\n",
       "      <th></th>\n",
       "      <th></th>\n",
       "      <th></th>\n",
       "      <th></th>\n",
       "      <th></th>\n",
       "      <th></th>\n",
       "      <th></th>\n",
       "      <th></th>\n",
       "      <th></th>\n",
       "    </tr>\n",
       "  </thead>\n",
       "  <tbody>\n",
       "    <tr>\n",
       "      <th>優惠精選</th>\n",
       "      <td>1.000000</td>\n",
       "      <td>NaN</td>\n",
       "      <td>NaN</td>\n",
       "      <td>NaN</td>\n",
       "      <td>NaN</td>\n",
       "      <td>NaN</td>\n",
       "      <td>NaN</td>\n",
       "      <td>NaN</td>\n",
       "      <td>0.576363</td>\n",
       "      <td>1.000000</td>\n",
       "    </tr>\n",
       "    <tr>\n",
       "      <th>公告事項</th>\n",
       "      <td>NaN</td>\n",
       "      <td>1.000000</td>\n",
       "      <td>0.090784</td>\n",
       "      <td>NaN</td>\n",
       "      <td>NaN</td>\n",
       "      <td>NaN</td>\n",
       "      <td>NaN</td>\n",
       "      <td>NaN</td>\n",
       "      <td>NaN</td>\n",
       "      <td>NaN</td>\n",
       "    </tr>\n",
       "    <tr>\n",
       "      <th>其他服務</th>\n",
       "      <td>NaN</td>\n",
       "      <td>0.090784</td>\n",
       "      <td>1.000000</td>\n",
       "      <td>-0.081111</td>\n",
       "      <td>NaN</td>\n",
       "      <td>NaN</td>\n",
       "      <td>-0.081111</td>\n",
       "      <td>0.922417</td>\n",
       "      <td>0.675918</td>\n",
       "      <td>0.764816</td>\n",
       "    </tr>\n",
       "    <tr>\n",
       "      <th>其他貸款商品</th>\n",
       "      <td>NaN</td>\n",
       "      <td>NaN</td>\n",
       "      <td>-0.081111</td>\n",
       "      <td>1.000000</td>\n",
       "      <td>0.484200</td>\n",
       "      <td>0.530240</td>\n",
       "      <td>1.000000</td>\n",
       "      <td>-0.176777</td>\n",
       "      <td>NaN</td>\n",
       "      <td>-0.428161</td>\n",
       "    </tr>\n",
       "    <tr>\n",
       "      <th>其他貸款商品-小額農業貸款</th>\n",
       "      <td>NaN</td>\n",
       "      <td>NaN</td>\n",
       "      <td>NaN</td>\n",
       "      <td>0.484200</td>\n",
       "      <td>1.000000</td>\n",
       "      <td>0.371267</td>\n",
       "      <td>0.484200</td>\n",
       "      <td>NaN</td>\n",
       "      <td>NaN</td>\n",
       "      <td>NaN</td>\n",
       "    </tr>\n",
       "    <tr>\n",
       "      <th>其他貸款商品-汽車貸款</th>\n",
       "      <td>NaN</td>\n",
       "      <td>NaN</td>\n",
       "      <td>NaN</td>\n",
       "      <td>0.530240</td>\n",
       "      <td>0.371267</td>\n",
       "      <td>1.000000</td>\n",
       "      <td>0.530240</td>\n",
       "      <td>NaN</td>\n",
       "      <td>NaN</td>\n",
       "      <td>NaN</td>\n",
       "    </tr>\n",
       "    <tr>\n",
       "      <th>其他貸款商品-股票質押貸款</th>\n",
       "      <td>NaN</td>\n",
       "      <td>NaN</td>\n",
       "      <td>-0.081111</td>\n",
       "      <td>1.000000</td>\n",
       "      <td>0.484200</td>\n",
       "      <td>0.530240</td>\n",
       "      <td>1.000000</td>\n",
       "      <td>-0.176777</td>\n",
       "      <td>NaN</td>\n",
       "      <td>-0.428161</td>\n",
       "    </tr>\n",
       "    <tr>\n",
       "      <th>利率查詢</th>\n",
       "      <td>NaN</td>\n",
       "      <td>NaN</td>\n",
       "      <td>0.922417</td>\n",
       "      <td>-0.176777</td>\n",
       "      <td>NaN</td>\n",
       "      <td>NaN</td>\n",
       "      <td>-0.176777</td>\n",
       "      <td>1.000000</td>\n",
       "      <td>-0.058321</td>\n",
       "      <td>-0.097918</td>\n",
       "    </tr>\n",
       "    <tr>\n",
       "      <th>刷卡優惠-信用卡活動登陸</th>\n",
       "      <td>0.576363</td>\n",
       "      <td>NaN</td>\n",
       "      <td>0.675918</td>\n",
       "      <td>NaN</td>\n",
       "      <td>NaN</td>\n",
       "      <td>NaN</td>\n",
       "      <td>NaN</td>\n",
       "      <td>-0.058321</td>\n",
       "      <td>1.000000</td>\n",
       "      <td>0.411343</td>\n",
       "    </tr>\n",
       "    <tr>\n",
       "      <th>刷卡優惠-信用卡理財</th>\n",
       "      <td>1.000000</td>\n",
       "      <td>NaN</td>\n",
       "      <td>0.764816</td>\n",
       "      <td>-0.428161</td>\n",
       "      <td>NaN</td>\n",
       "      <td>NaN</td>\n",
       "      <td>-0.428161</td>\n",
       "      <td>-0.097918</td>\n",
       "      <td>0.411343</td>\n",
       "      <td>1.000000</td>\n",
       "    </tr>\n",
       "  </tbody>\n",
       "</table>\n",
       "</div>"
      ],
      "text/plain": [
       "level2             優惠精選     公告事項       其他服務    其他貸款商品  其他貸款商品-小額農業貸款  \\\n",
       "level2                                                                 \n",
       "優惠精選           1.000000 NaN       NaN       NaN       NaN              \n",
       "公告事項          NaN        1.000000  0.090784 NaN       NaN              \n",
       "其他服務          NaN        0.090784  1.000000 -0.081111 NaN              \n",
       "其他貸款商品        NaN       NaN       -0.081111  1.000000  0.484200        \n",
       "其他貸款商品-小額農業貸款 NaN       NaN       NaN        0.484200  1.000000        \n",
       "其他貸款商品-汽車貸款   NaN       NaN       NaN        0.530240  0.371267        \n",
       "其他貸款商品-股票質押貸款 NaN       NaN       -0.081111  1.000000  0.484200        \n",
       "利率查詢          NaN       NaN        0.922417 -0.176777 NaN              \n",
       "刷卡優惠-信用卡活動登陸   0.576363 NaN        0.675918 NaN       NaN              \n",
       "刷卡優惠-信用卡理財     1.000000 NaN        0.764816 -0.428161 NaN              \n",
       "\n",
       "level2         其他貸款商品-汽車貸款  其他貸款商品-股票質押貸款      利率查詢  刷卡優惠-信用卡活動登陸  刷卡優惠-信用卡理財  \n",
       "level2                                                                         \n",
       "優惠精選          NaN          NaN            NaN        0.576363      1.000000    \n",
       "公告事項          NaN          NaN            NaN       NaN           NaN          \n",
       "其他服務          NaN          -0.081111       0.922417  0.675918      0.764816    \n",
       "其他貸款商品         0.530240     1.000000      -0.176777 NaN           -0.428161    \n",
       "其他貸款商品-小額農業貸款  0.371267     0.484200      NaN       NaN           NaN          \n",
       "其他貸款商品-汽車貸款    1.000000     0.530240      NaN       NaN           NaN          \n",
       "其他貸款商品-股票質押貸款  0.530240     1.000000      -0.176777 NaN           -0.428161    \n",
       "利率查詢          NaN          -0.176777       1.000000 -0.058321     -0.097918    \n",
       "刷卡優惠-信用卡活動登陸  NaN          NaN            -0.058321  1.000000      0.411343    \n",
       "刷卡優惠-信用卡理財    NaN          -0.428161      -0.097918  0.411343      1.000000    "
      ]
     },
     "execution_count": 285,
     "metadata": {},
     "output_type": "execute_result"
    }
   ],
   "source": [
    "pivoted.corr()"
   ]
  },
  {
   "cell_type": "code",
   "execution_count": 286,
   "metadata": {
    "collapsed": false
   },
   "outputs": [
    {
     "data": {
      "text/plain": [
       "<matplotlib.axes._subplots.AxesSubplot at 0xd871eba8>"
      ]
     },
     "execution_count": 286,
     "metadata": {},
     "output_type": "execute_result"
    },
    {
     "data": {
      "image/png": "[encoded data removed]",
      "text/plain": [
       "<matplotlib.figure.Figure at 0xd87c2550>"
      ]
     },
     "metadata": {},
     "output_type": "display_data"
    }
   ],
   "source": [
    "%matplotlib inline\n",
    "from matplotlib import pyplot as plt\n",
    "import seaborn as sns\n",
    "sns.heatmap(pivoted.corr(), annot=True, center=0, cmap='coolwarm')"
   ]
  },
  {
   "cell_type": "code",
   "execution_count": 16,
   "metadata": {
    "collapsed": false
   },
   "outputs": [],
   "source": [
    "url_grp_20160720 = visitor_pageview_20160720.groupby(['CookieUniqueVisitorTrackingId', 'PageLocation'])['CookieUniqueVisitorTrackingId'].count()"
   ]
  },
  {
   "cell_type": "code",
   "execution_count": 17,
   "metadata": {
    "collapsed": false
   },
   "outputs": [],
   "source": [
    "url_grp_20160720 = url_grp_20160720.reset_index('PageLocation')\n",
    "#url_grp_20160720.head() \n",
    "#=url_grp_20160720.reset_index()"
   ]
  },
  {
   "cell_type": "code",
   "execution_count": 18,
   "metadata": {
    "collapsed": false
   },
   "outputs": [
    {
     "data": {
      "text/html": [
       "<div>\n",
       "<table border=\"1\" class=\"dataframe\">\n",
       "  <thead>\n",
       "    <tr style=\"text-align: right;\">\n",
       "      <th></th>\n",
       "      <th>PageLocation</th>\n",
       "      <th>CookieUniqueVisitorTrackingId</th>\n",
       "    </tr>\n",
       "    <tr>\n",
       "      <th>CookieUniqueVisitorTrackingId</th>\n",
       "      <th></th>\n",
       "      <th></th>\n",
       "    </tr>\n",
       "  </thead>\n",
       "  <tbody>\n",
       "    <tr>\n",
       "      <th>000030264ec54bb997703e9e05d25c4d</th>\n",
       "      <td>https://www.mybank.com.tw/MyBank/Home/Login</td>\n",
       "      <td>8</td>\n",
       "    </tr>\n",
       "    <tr>\n",
       "      <th>000030264ec54bb997703e9e05d25c4d</th>\n",
       "      <td>https://www.mybank.com.tw/MyBank/Home/LoginMessageReLogin</td>\n",
       "      <td>4</td>\n",
       "    </tr>\n",
       "    <tr>\n",
       "      <th>000030264ec54bb997703e9e05d25c4d</th>\n",
       "      <td>https://www.mybank.com.tw/MyBank/Quicklinks/Home</td>\n",
       "      <td>24</td>\n",
       "    </tr>\n",
       "    <tr>\n",
       "      <th>000030264ec54bb997703e9e05d25c4d</th>\n",
       "      <td>https://www.mybank.com.tw/MyBank/Quicklinks/Home/Logout</td>\n",
       "      <td>8</td>\n",
       "    </tr>\n",
       "    <tr>\n",
       "      <th>000030264ec54bb997703e9e05d25c4d</th>\n",
       "      <td>https://www.mybank.com.tw/mybank</td>\n",
       "      <td>4</td>\n",
       "    </tr>\n",
       "  </tbody>\n",
       "</table>\n",
       "</div>"
      ],
      "text/plain": [
       "                                                                               PageLocation  \\\n",
       "CookieUniqueVisitorTrackingId                                                                 \n",
       "000030264ec54bb997703e9e05d25c4d  https://www.mybank.com.tw/MyBank/Home/Login                 \n",
       "000030264ec54bb997703e9e05d25c4d  https://www.mybank.com.tw/MyBank/Home/LoginMessageReLogin   \n",
       "000030264ec54bb997703e9e05d25c4d  https://www.mybank.com.tw/MyBank/Quicklinks/Home            \n",
       "000030264ec54bb997703e9e05d25c4d  https://www.mybank.com.tw/MyBank/Quicklinks/Home/Logout     \n",
       "000030264ec54bb997703e9e05d25c4d  https://www.mybank.com.tw/mybank                            \n",
       "\n",
       "                                  CookieUniqueVisitorTrackingId  \n",
       "CookieUniqueVisitorTrackingId                                    \n",
       "000030264ec54bb997703e9e05d25c4d  8                              \n",
       "000030264ec54bb997703e9e05d25c4d  4                              \n",
       "000030264ec54bb997703e9e05d25c4d  24                             \n",
       "000030264ec54bb997703e9e05d25c4d  8                              \n",
       "000030264ec54bb997703e9e05d25c4d  4                              "
      ]
     },
     "execution_count": 18,
     "metadata": {},
     "output_type": "execute_result"
    }
   ],
   "source": [
    "url_grp_20160720.head()"
   ]
  },
  {
   "cell_type": "code",
   "execution_count": 19,
   "metadata": {
    "collapsed": false
   },
   "outputs": [],
   "source": [
    "url_grp_20160720.columns = ['PageLocation', 'Count']"
   ]
  },
  {
   "cell_type": "code",
   "execution_count": 27,
   "metadata": {
    "collapsed": false
   },
   "outputs": [],
   "source": [
    "pivoted2 = url_grp_20160720.head(100000).pivot(columns = 'PageLocation' , values = 'Count')"
   ]
  },
  {
   "cell_type": "code",
   "execution_count": 28,
   "metadata": {
    "collapsed": true
   },
   "outputs": [],
   "source": [
    "pivoted2 = pivoted2.ix[:,20:50]"
   ]
  },
  {
   "cell_type": "code",
   "execution_count": 29,
   "metadata": {
    "collapsed": false
   },
   "outputs": [
    {
     "data": {
      "text/html": [
       "<div>\n",
       "<table border=\"1\" class=\"dataframe\">\n",
       "  <thead>\n",
       "    <tr style=\"text-align: right;\">\n",
       "      <th>PageLocation</th>\n",
       "      <th>https://www.cathaybk.com.tw/Cathaybk/card/login_news_list.asp</th>\n",
       "      <th>https://www.cathaybk.com.tw/Cathaybk/deposit/rate.asp</th>\n",
       "      <th>https://www.cathaybk.com.tw/Cathaybk/e_service/linepay/event/2015/201512linepay</th>\n",
       "      <th>https://www.cathaybk.com.tw/Cathaybk/index.asp</th>\n",
       "      <th>https://www.cathaybk.com.tw/Cathaybk/index_personal.asp</th>\n",
       "      <th>https://www.cathaybk.com.tw/Cathaybk/personal_foreign05.asp</th>\n",
       "      <th>https://www.cathaybk.com.tw/Cathaybk/personal_info06.asp</th>\n",
       "      <th>https://www.cathaybk.com.tw/Cathaybk/personal_info07.asp</th>\n",
       "      <th>https://www.cathaybk.com.tw/Cathaybk/personal_marketing.asp</th>\n",
       "      <th>https://www.cathaybk.com.tw/Cathaybk/personal_marketing_life.asp</th>\n",
       "      <th>...</th>\n",
       "      <th>https://www.cathaybk.com.tw/Cathaybk/vip/news.asp</th>\n",
       "      <th>https://www.cathaybk.com.tw/MobileAcct/WebOpenAct.aspx</th>\n",
       "      <th>https://www.cathaybk.com.tw/MobileAcct/WebOpenAct_1.aspx</th>\n",
       "      <th>https://www.cathaybk.com.tw/MobileAcct/WebOpenAct_step2.aspx</th>\n",
       "      <th>https://www.cathaybk.com.tw/MobileAcct/WebOpenAct_step3.aspx</th>\n",
       "      <th>https://www.cathaybk.com.tw/cathaybk</th>\n",
       "      <th>https://www.cathaybk.com.tw/cathaybk/#</th>\n",
       "      <th>https://www.cathaybk.com.tw/cathaybk//card/event/bonus/bonus_2_1.asp</th>\n",
       "      <th>https://www.cathaybk.com.tw/cathaybk//enterprise_finance03.asp</th>\n",
       "      <th>https://www.cathaybk.com.tw/cathaybk/?aspxerrorpath=/cathaybk/DSA/OpenAccount/Step1.aspx</th>\n",
       "    </tr>\n",
       "    <tr>\n",
       "      <th>PageLocation</th>\n",
       "      <th></th>\n",
       "      <th></th>\n",
       "      <th></th>\n",
       "      <th></th>\n",
       "      <th></th>\n",
       "      <th></th>\n",
       "      <th></th>\n",
       "      <th></th>\n",
       "      <th></th>\n",
       "      <th></th>\n",
       "      <th></th>\n",
       "      <th></th>\n",
       "      <th></th>\n",
       "      <th></th>\n",
       "      <th></th>\n",
       "      <th></th>\n",
       "      <th></th>\n",
       "      <th></th>\n",
       "      <th></th>\n",
       "      <th></th>\n",
       "      <th></th>\n",
       "    </tr>\n",
       "  </thead>\n",
       "  <tbody>\n",
       "    <tr>\n",
       "      <th>https://www.cathaybk.com.tw/Cathaybk/card/login_news_list.asp</th>\n",
       "      <td>1.0</td>\n",
       "      <td>NaN</td>\n",
       "      <td>NaN</td>\n",
       "      <td>NaN</td>\n",
       "      <td>NaN</td>\n",
       "      <td>NaN</td>\n",
       "      <td>NaN</td>\n",
       "      <td>NaN</td>\n",
       "      <td>NaN</td>\n",
       "      <td>NaN</td>\n",
       "      <td>...</td>\n",
       "      <td>NaN</td>\n",
       "      <td>NaN</td>\n",
       "      <td>NaN</td>\n",
       "      <td>NaN</td>\n",
       "      <td>NaN</td>\n",
       "      <td>NaN</td>\n",
       "      <td>NaN</td>\n",
       "      <td>NaN</td>\n",
       "      <td>NaN</td>\n",
       "      <td>NaN</td>\n",
       "    </tr>\n",
       "    <tr>\n",
       "      <th>https://www.cathaybk.com.tw/Cathaybk/deposit/rate.asp</th>\n",
       "      <td>NaN</td>\n",
       "      <td>NaN</td>\n",
       "      <td>NaN</td>\n",
       "      <td>NaN</td>\n",
       "      <td>NaN</td>\n",
       "      <td>NaN</td>\n",
       "      <td>NaN</td>\n",
       "      <td>NaN</td>\n",
       "      <td>NaN</td>\n",
       "      <td>NaN</td>\n",
       "      <td>...</td>\n",
       "      <td>NaN</td>\n",
       "      <td>NaN</td>\n",
       "      <td>NaN</td>\n",
       "      <td>NaN</td>\n",
       "      <td>NaN</td>\n",
       "      <td>NaN</td>\n",
       "      <td>NaN</td>\n",
       "      <td>NaN</td>\n",
       "      <td>NaN</td>\n",
       "      <td>NaN</td>\n",
       "    </tr>\n",
       "    <tr>\n",
       "      <th>https://www.cathaybk.com.tw/Cathaybk/e_service/linepay/event/2015/201512linepay</th>\n",
       "      <td>NaN</td>\n",
       "      <td>NaN</td>\n",
       "      <td>1.0</td>\n",
       "      <td>NaN</td>\n",
       "      <td>NaN</td>\n",
       "      <td>NaN</td>\n",
       "      <td>NaN</td>\n",
       "      <td>NaN</td>\n",
       "      <td>NaN</td>\n",
       "      <td>NaN</td>\n",
       "      <td>...</td>\n",
       "      <td>NaN</td>\n",
       "      <td>NaN</td>\n",
       "      <td>NaN</td>\n",
       "      <td>NaN</td>\n",
       "      <td>NaN</td>\n",
       "      <td>NaN</td>\n",
       "      <td>NaN</td>\n",
       "      <td>NaN</td>\n",
       "      <td>NaN</td>\n",
       "      <td>NaN</td>\n",
       "    </tr>\n",
       "    <tr>\n",
       "      <th>https://www.cathaybk.com.tw/Cathaybk/index.asp</th>\n",
       "      <td>NaN</td>\n",
       "      <td>NaN</td>\n",
       "      <td>NaN</td>\n",
       "      <td>NaN</td>\n",
       "      <td>NaN</td>\n",
       "      <td>NaN</td>\n",
       "      <td>NaN</td>\n",
       "      <td>NaN</td>\n",
       "      <td>NaN</td>\n",
       "      <td>NaN</td>\n",
       "      <td>...</td>\n",
       "      <td>NaN</td>\n",
       "      <td>NaN</td>\n",
       "      <td>NaN</td>\n",
       "      <td>NaN</td>\n",
       "      <td>NaN</td>\n",
       "      <td>NaN</td>\n",
       "      <td>NaN</td>\n",
       "      <td>NaN</td>\n",
       "      <td>NaN</td>\n",
       "      <td>NaN</td>\n",
       "    </tr>\n",
       "    <tr>\n",
       "      <th>https://www.cathaybk.com.tw/Cathaybk/index_personal.asp</th>\n",
       "      <td>NaN</td>\n",
       "      <td>NaN</td>\n",
       "      <td>NaN</td>\n",
       "      <td>NaN</td>\n",
       "      <td>1.0</td>\n",
       "      <td>NaN</td>\n",
       "      <td>NaN</td>\n",
       "      <td>NaN</td>\n",
       "      <td>NaN</td>\n",
       "      <td>NaN</td>\n",
       "      <td>...</td>\n",
       "      <td>NaN</td>\n",
       "      <td>NaN</td>\n",
       "      <td>NaN</td>\n",
       "      <td>NaN</td>\n",
       "      <td>NaN</td>\n",
       "      <td>NaN</td>\n",
       "      <td>NaN</td>\n",
       "      <td>NaN</td>\n",
       "      <td>NaN</td>\n",
       "      <td>NaN</td>\n",
       "    </tr>\n",
       "    <tr>\n",
       "      <th>https://www.cathaybk.com.tw/Cathaybk/personal_foreign05.asp</th>\n",
       "      <td>NaN</td>\n",
       "      <td>NaN</td>\n",
       "      <td>NaN</td>\n",
       "      <td>NaN</td>\n",
       "      <td>NaN</td>\n",
       "      <td>1.0</td>\n",
       "      <td>NaN</td>\n",
       "      <td>NaN</td>\n",
       "      <td>NaN</td>\n",
       "      <td>NaN</td>\n",
       "      <td>...</td>\n",
       "      <td>NaN</td>\n",
       "      <td>NaN</td>\n",
       "      <td>NaN</td>\n",
       "      <td>NaN</td>\n",
       "      <td>NaN</td>\n",
       "      <td>NaN</td>\n",
       "      <td>NaN</td>\n",
       "      <td>NaN</td>\n",
       "      <td>NaN</td>\n",
       "      <td>NaN</td>\n",
       "    </tr>\n",
       "    <tr>\n",
       "      <th>https://www.cathaybk.com.tw/Cathaybk/personal_info06.asp</th>\n",
       "      <td>NaN</td>\n",
       "      <td>NaN</td>\n",
       "      <td>NaN</td>\n",
       "      <td>NaN</td>\n",
       "      <td>NaN</td>\n",
       "      <td>NaN</td>\n",
       "      <td>NaN</td>\n",
       "      <td>NaN</td>\n",
       "      <td>NaN</td>\n",
       "      <td>NaN</td>\n",
       "      <td>...</td>\n",
       "      <td>NaN</td>\n",
       "      <td>NaN</td>\n",
       "      <td>NaN</td>\n",
       "      <td>NaN</td>\n",
       "      <td>NaN</td>\n",
       "      <td>NaN</td>\n",
       "      <td>NaN</td>\n",
       "      <td>NaN</td>\n",
       "      <td>NaN</td>\n",
       "      <td>NaN</td>\n",
       "    </tr>\n",
       "    <tr>\n",
       "      <th>https://www.cathaybk.com.tw/Cathaybk/personal_info07.asp</th>\n",
       "      <td>NaN</td>\n",
       "      <td>NaN</td>\n",
       "      <td>NaN</td>\n",
       "      <td>NaN</td>\n",
       "      <td>NaN</td>\n",
       "      <td>NaN</td>\n",
       "      <td>NaN</td>\n",
       "      <td>NaN</td>\n",
       "      <td>NaN</td>\n",
       "      <td>NaN</td>\n",
       "      <td>...</td>\n",
       "      <td>NaN</td>\n",
       "      <td>NaN</td>\n",
       "      <td>NaN</td>\n",
       "      <td>NaN</td>\n",
       "      <td>NaN</td>\n",
       "      <td>NaN</td>\n",
       "      <td>NaN</td>\n",
       "      <td>NaN</td>\n",
       "      <td>NaN</td>\n",
       "      <td>NaN</td>\n",
       "    </tr>\n",
       "    <tr>\n",
       "      <th>https://www.cathaybk.com.tw/Cathaybk/personal_marketing.asp</th>\n",
       "      <td>NaN</td>\n",
       "      <td>NaN</td>\n",
       "      <td>NaN</td>\n",
       "      <td>NaN</td>\n",
       "      <td>NaN</td>\n",
       "      <td>NaN</td>\n",
       "      <td>NaN</td>\n",
       "      <td>NaN</td>\n",
       "      <td>NaN</td>\n",
       "      <td>NaN</td>\n",
       "      <td>...</td>\n",
       "      <td>NaN</td>\n",
       "      <td>NaN</td>\n",
       "      <td>NaN</td>\n",
       "      <td>NaN</td>\n",
       "      <td>NaN</td>\n",
       "      <td>NaN</td>\n",
       "      <td>NaN</td>\n",
       "      <td>NaN</td>\n",
       "      <td>NaN</td>\n",
       "      <td>NaN</td>\n",
       "    </tr>\n",
       "    <tr>\n",
       "      <th>https://www.cathaybk.com.tw/Cathaybk/personal_marketing_life.asp</th>\n",
       "      <td>NaN</td>\n",
       "      <td>NaN</td>\n",
       "      <td>NaN</td>\n",
       "      <td>NaN</td>\n",
       "      <td>NaN</td>\n",
       "      <td>NaN</td>\n",
       "      <td>NaN</td>\n",
       "      <td>NaN</td>\n",
       "      <td>NaN</td>\n",
       "      <td>NaN</td>\n",
       "      <td>...</td>\n",
       "      <td>NaN</td>\n",
       "      <td>NaN</td>\n",
       "      <td>NaN</td>\n",
       "      <td>NaN</td>\n",
       "      <td>NaN</td>\n",
       "      <td>NaN</td>\n",
       "      <td>NaN</td>\n",
       "      <td>NaN</td>\n",
       "      <td>NaN</td>\n",
       "      <td>NaN</td>\n",
       "    </tr>\n",
       "    <tr>\n",
       "      <th>https://www.cathaybk.com.tw/Cathaybk/trust/trust_2_2_2.asp</th>\n",
       "      <td>NaN</td>\n",
       "      <td>NaN</td>\n",
       "      <td>NaN</td>\n",
       "      <td>NaN</td>\n",
       "      <td>NaN</td>\n",
       "      <td>NaN</td>\n",
       "      <td>NaN</td>\n",
       "      <td>NaN</td>\n",
       "      <td>NaN</td>\n",
       "      <td>NaN</td>\n",
       "      <td>...</td>\n",
       "      <td>NaN</td>\n",
       "      <td>NaN</td>\n",
       "      <td>NaN</td>\n",
       "      <td>NaN</td>\n",
       "      <td>NaN</td>\n",
       "      <td>NaN</td>\n",
       "      <td>NaN</td>\n",
       "      <td>NaN</td>\n",
       "      <td>NaN</td>\n",
       "      <td>NaN</td>\n",
       "    </tr>\n",
       "    <tr>\n",
       "      <th>https://www.cathaybk.com.tw/Cathaybk/trust/trust_hotkey_1_07.asp</th>\n",
       "      <td>NaN</td>\n",
       "      <td>NaN</td>\n",
       "      <td>NaN</td>\n",
       "      <td>NaN</td>\n",
       "      <td>NaN</td>\n",
       "      <td>NaN</td>\n",
       "      <td>NaN</td>\n",
       "      <td>NaN</td>\n",
       "      <td>NaN</td>\n",
       "      <td>NaN</td>\n",
       "      <td>...</td>\n",
       "      <td>NaN</td>\n",
       "      <td>NaN</td>\n",
       "      <td>NaN</td>\n",
       "      <td>NaN</td>\n",
       "      <td>NaN</td>\n",
       "      <td>NaN</td>\n",
       "      <td>NaN</td>\n",
       "      <td>NaN</td>\n",
       "      <td>NaN</td>\n",
       "      <td>NaN</td>\n",
       "    </tr>\n",
       "    <tr>\n",
       "      <th>https://www.cathaybk.com.tw/Cathaybk/trust/trust_index.asp</th>\n",
       "      <td>NaN</td>\n",
       "      <td>NaN</td>\n",
       "      <td>NaN</td>\n",
       "      <td>NaN</td>\n",
       "      <td>NaN</td>\n",
       "      <td>NaN</td>\n",
       "      <td>NaN</td>\n",
       "      <td>NaN</td>\n",
       "      <td>NaN</td>\n",
       "      <td>NaN</td>\n",
       "      <td>...</td>\n",
       "      <td>NaN</td>\n",
       "      <td>NaN</td>\n",
       "      <td>NaN</td>\n",
       "      <td>NaN</td>\n",
       "      <td>NaN</td>\n",
       "      <td>NaN</td>\n",
       "      <td>NaN</td>\n",
       "      <td>NaN</td>\n",
       "      <td>NaN</td>\n",
       "      <td>NaN</td>\n",
       "    </tr>\n",
       "    <tr>\n",
       "      <th>https://www.cathaybk.com.tw/Cathaybk/trust_fundinfo01.asp</th>\n",
       "      <td>NaN</td>\n",
       "      <td>NaN</td>\n",
       "      <td>NaN</td>\n",
       "      <td>NaN</td>\n",
       "      <td>NaN</td>\n",
       "      <td>NaN</td>\n",
       "      <td>NaN</td>\n",
       "      <td>NaN</td>\n",
       "      <td>NaN</td>\n",
       "      <td>NaN</td>\n",
       "      <td>...</td>\n",
       "      <td>NaN</td>\n",
       "      <td>NaN</td>\n",
       "      <td>NaN</td>\n",
       "      <td>NaN</td>\n",
       "      <td>NaN</td>\n",
       "      <td>NaN</td>\n",
       "      <td>NaN</td>\n",
       "      <td>NaN</td>\n",
       "      <td>NaN</td>\n",
       "      <td>NaN</td>\n",
       "    </tr>\n",
       "    <tr>\n",
       "      <th>https://www.cathaybk.com.tw/Cathaybk/trust_fundinfo02.asp</th>\n",
       "      <td>NaN</td>\n",
       "      <td>NaN</td>\n",
       "      <td>NaN</td>\n",
       "      <td>NaN</td>\n",
       "      <td>NaN</td>\n",
       "      <td>NaN</td>\n",
       "      <td>NaN</td>\n",
       "      <td>NaN</td>\n",
       "      <td>NaN</td>\n",
       "      <td>NaN</td>\n",
       "      <td>...</td>\n",
       "      <td>NaN</td>\n",
       "      <td>NaN</td>\n",
       "      <td>NaN</td>\n",
       "      <td>NaN</td>\n",
       "      <td>NaN</td>\n",
       "      <td>NaN</td>\n",
       "      <td>NaN</td>\n",
       "      <td>NaN</td>\n",
       "      <td>NaN</td>\n",
       "      <td>NaN</td>\n",
       "    </tr>\n",
       "    <tr>\n",
       "      <th>https://www.cathaybk.com.tw/Cathaybk/trust_fundinfo03.asp</th>\n",
       "      <td>NaN</td>\n",
       "      <td>NaN</td>\n",
       "      <td>NaN</td>\n",
       "      <td>NaN</td>\n",
       "      <td>NaN</td>\n",
       "      <td>NaN</td>\n",
       "      <td>NaN</td>\n",
       "      <td>NaN</td>\n",
       "      <td>NaN</td>\n",
       "      <td>NaN</td>\n",
       "      <td>...</td>\n",
       "      <td>NaN</td>\n",
       "      <td>NaN</td>\n",
       "      <td>NaN</td>\n",
       "      <td>NaN</td>\n",
       "      <td>NaN</td>\n",
       "      <td>NaN</td>\n",
       "      <td>NaN</td>\n",
       "      <td>NaN</td>\n",
       "      <td>NaN</td>\n",
       "      <td>NaN</td>\n",
       "    </tr>\n",
       "    <tr>\n",
       "      <th>https://www.cathaybk.com.tw/Cathaybk/vip/hotkey_1_2.asp</th>\n",
       "      <td>NaN</td>\n",
       "      <td>NaN</td>\n",
       "      <td>NaN</td>\n",
       "      <td>NaN</td>\n",
       "      <td>NaN</td>\n",
       "      <td>NaN</td>\n",
       "      <td>NaN</td>\n",
       "      <td>NaN</td>\n",
       "      <td>NaN</td>\n",
       "      <td>NaN</td>\n",
       "      <td>...</td>\n",
       "      <td>NaN</td>\n",
       "      <td>NaN</td>\n",
       "      <td>NaN</td>\n",
       "      <td>NaN</td>\n",
       "      <td>NaN</td>\n",
       "      <td>NaN</td>\n",
       "      <td>NaN</td>\n",
       "      <td>NaN</td>\n",
       "      <td>NaN</td>\n",
       "      <td>NaN</td>\n",
       "    </tr>\n",
       "    <tr>\n",
       "      <th>https://www.cathaybk.com.tw/Cathaybk/vip/myvip_1_1_1.asp</th>\n",
       "      <td>NaN</td>\n",
       "      <td>NaN</td>\n",
       "      <td>NaN</td>\n",
       "      <td>NaN</td>\n",
       "      <td>NaN</td>\n",
       "      <td>NaN</td>\n",
       "      <td>NaN</td>\n",
       "      <td>NaN</td>\n",
       "      <td>NaN</td>\n",
       "      <td>NaN</td>\n",
       "      <td>...</td>\n",
       "      <td>NaN</td>\n",
       "      <td>NaN</td>\n",
       "      <td>NaN</td>\n",
       "      <td>NaN</td>\n",
       "      <td>NaN</td>\n",
       "      <td>NaN</td>\n",
       "      <td>NaN</td>\n",
       "      <td>NaN</td>\n",
       "      <td>NaN</td>\n",
       "      <td>NaN</td>\n",
       "    </tr>\n",
       "    <tr>\n",
       "      <th>https://www.cathaybk.com.tw/Cathaybk/vip/myvip_2016_news-1.asp</th>\n",
       "      <td>NaN</td>\n",
       "      <td>NaN</td>\n",
       "      <td>NaN</td>\n",
       "      <td>NaN</td>\n",
       "      <td>NaN</td>\n",
       "      <td>NaN</td>\n",
       "      <td>NaN</td>\n",
       "      <td>NaN</td>\n",
       "      <td>NaN</td>\n",
       "      <td>NaN</td>\n",
       "      <td>...</td>\n",
       "      <td>NaN</td>\n",
       "      <td>NaN</td>\n",
       "      <td>NaN</td>\n",
       "      <td>NaN</td>\n",
       "      <td>NaN</td>\n",
       "      <td>NaN</td>\n",
       "      <td>NaN</td>\n",
       "      <td>NaN</td>\n",
       "      <td>NaN</td>\n",
       "      <td>NaN</td>\n",
       "    </tr>\n",
       "    <tr>\n",
       "      <th>https://www.cathaybk.com.tw/Cathaybk/vip/myvip_index.asp</th>\n",
       "      <td>NaN</td>\n",
       "      <td>NaN</td>\n",
       "      <td>NaN</td>\n",
       "      <td>NaN</td>\n",
       "      <td>NaN</td>\n",
       "      <td>NaN</td>\n",
       "      <td>NaN</td>\n",
       "      <td>NaN</td>\n",
       "      <td>NaN</td>\n",
       "      <td>NaN</td>\n",
       "      <td>...</td>\n",
       "      <td>1.0</td>\n",
       "      <td>NaN</td>\n",
       "      <td>NaN</td>\n",
       "      <td>NaN</td>\n",
       "      <td>NaN</td>\n",
       "      <td>NaN</td>\n",
       "      <td>NaN</td>\n",
       "      <td>NaN</td>\n",
       "      <td>NaN</td>\n",
       "      <td>NaN</td>\n",
       "    </tr>\n",
       "    <tr>\n",
       "      <th>https://www.cathaybk.com.tw/Cathaybk/vip/news.asp</th>\n",
       "      <td>NaN</td>\n",
       "      <td>NaN</td>\n",
       "      <td>NaN</td>\n",
       "      <td>NaN</td>\n",
       "      <td>NaN</td>\n",
       "      <td>NaN</td>\n",
       "      <td>NaN</td>\n",
       "      <td>NaN</td>\n",
       "      <td>NaN</td>\n",
       "      <td>NaN</td>\n",
       "      <td>...</td>\n",
       "      <td>1.0</td>\n",
       "      <td>NaN</td>\n",
       "      <td>NaN</td>\n",
       "      <td>NaN</td>\n",
       "      <td>NaN</td>\n",
       "      <td>NaN</td>\n",
       "      <td>NaN</td>\n",
       "      <td>NaN</td>\n",
       "      <td>NaN</td>\n",
       "      <td>NaN</td>\n",
       "    </tr>\n",
       "    <tr>\n",
       "      <th>https://www.cathaybk.com.tw/MobileAcct/WebOpenAct.aspx</th>\n",
       "      <td>NaN</td>\n",
       "      <td>NaN</td>\n",
       "      <td>NaN</td>\n",
       "      <td>NaN</td>\n",
       "      <td>NaN</td>\n",
       "      <td>NaN</td>\n",
       "      <td>NaN</td>\n",
       "      <td>NaN</td>\n",
       "      <td>NaN</td>\n",
       "      <td>NaN</td>\n",
       "      <td>...</td>\n",
       "      <td>NaN</td>\n",
       "      <td>1.000000</td>\n",
       "      <td>0.621637</td>\n",
       "      <td>0.245124</td>\n",
       "      <td>NaN</td>\n",
       "      <td>0.185695</td>\n",
       "      <td>NaN</td>\n",
       "      <td>NaN</td>\n",
       "      <td>NaN</td>\n",
       "      <td>NaN</td>\n",
       "    </tr>\n",
       "    <tr>\n",
       "      <th>https://www.cathaybk.com.tw/MobileAcct/WebOpenAct_1.aspx</th>\n",
       "      <td>NaN</td>\n",
       "      <td>NaN</td>\n",
       "      <td>NaN</td>\n",
       "      <td>NaN</td>\n",
       "      <td>NaN</td>\n",
       "      <td>NaN</td>\n",
       "      <td>NaN</td>\n",
       "      <td>NaN</td>\n",
       "      <td>NaN</td>\n",
       "      <td>NaN</td>\n",
       "      <td>...</td>\n",
       "      <td>NaN</td>\n",
       "      <td>0.621637</td>\n",
       "      <td>1.000000</td>\n",
       "      <td>0.393073</td>\n",
       "      <td>NaN</td>\n",
       "      <td>NaN</td>\n",
       "      <td>NaN</td>\n",
       "      <td>NaN</td>\n",
       "      <td>NaN</td>\n",
       "      <td>NaN</td>\n",
       "    </tr>\n",
       "    <tr>\n",
       "      <th>https://www.cathaybk.com.tw/MobileAcct/WebOpenAct_step2.aspx</th>\n",
       "      <td>NaN</td>\n",
       "      <td>NaN</td>\n",
       "      <td>NaN</td>\n",
       "      <td>NaN</td>\n",
       "      <td>NaN</td>\n",
       "      <td>NaN</td>\n",
       "      <td>NaN</td>\n",
       "      <td>NaN</td>\n",
       "      <td>NaN</td>\n",
       "      <td>NaN</td>\n",
       "      <td>...</td>\n",
       "      <td>NaN</td>\n",
       "      <td>0.245124</td>\n",
       "      <td>0.393073</td>\n",
       "      <td>1.000000</td>\n",
       "      <td>NaN</td>\n",
       "      <td>0.248548</td>\n",
       "      <td>NaN</td>\n",
       "      <td>NaN</td>\n",
       "      <td>NaN</td>\n",
       "      <td>NaN</td>\n",
       "    </tr>\n",
       "    <tr>\n",
       "      <th>https://www.cathaybk.com.tw/MobileAcct/WebOpenAct_step3.aspx</th>\n",
       "      <td>NaN</td>\n",
       "      <td>NaN</td>\n",
       "      <td>NaN</td>\n",
       "      <td>NaN</td>\n",
       "      <td>NaN</td>\n",
       "      <td>NaN</td>\n",
       "      <td>NaN</td>\n",
       "      <td>NaN</td>\n",
       "      <td>NaN</td>\n",
       "      <td>NaN</td>\n",
       "      <td>...</td>\n",
       "      <td>NaN</td>\n",
       "      <td>NaN</td>\n",
       "      <td>NaN</td>\n",
       "      <td>NaN</td>\n",
       "      <td>NaN</td>\n",
       "      <td>NaN</td>\n",
       "      <td>NaN</td>\n",
       "      <td>NaN</td>\n",
       "      <td>NaN</td>\n",
       "      <td>NaN</td>\n",
       "    </tr>\n",
       "    <tr>\n",
       "      <th>https://www.cathaybk.com.tw/cathaybk</th>\n",
       "      <td>NaN</td>\n",
       "      <td>NaN</td>\n",
       "      <td>NaN</td>\n",
       "      <td>NaN</td>\n",
       "      <td>NaN</td>\n",
       "      <td>NaN</td>\n",
       "      <td>NaN</td>\n",
       "      <td>NaN</td>\n",
       "      <td>NaN</td>\n",
       "      <td>NaN</td>\n",
       "      <td>...</td>\n",
       "      <td>NaN</td>\n",
       "      <td>0.185695</td>\n",
       "      <td>NaN</td>\n",
       "      <td>0.248548</td>\n",
       "      <td>NaN</td>\n",
       "      <td>1.000000</td>\n",
       "      <td>NaN</td>\n",
       "      <td>NaN</td>\n",
       "      <td>NaN</td>\n",
       "      <td>NaN</td>\n",
       "    </tr>\n",
       "    <tr>\n",
       "      <th>https://www.cathaybk.com.tw/cathaybk/#</th>\n",
       "      <td>NaN</td>\n",
       "      <td>NaN</td>\n",
       "      <td>NaN</td>\n",
       "      <td>NaN</td>\n",
       "      <td>NaN</td>\n",
       "      <td>NaN</td>\n",
       "      <td>NaN</td>\n",
       "      <td>NaN</td>\n",
       "      <td>NaN</td>\n",
       "      <td>NaN</td>\n",
       "      <td>...</td>\n",
       "      <td>NaN</td>\n",
       "      <td>NaN</td>\n",
       "      <td>NaN</td>\n",
       "      <td>NaN</td>\n",
       "      <td>NaN</td>\n",
       "      <td>NaN</td>\n",
       "      <td>1.0</td>\n",
       "      <td>NaN</td>\n",
       "      <td>NaN</td>\n",
       "      <td>NaN</td>\n",
       "    </tr>\n",
       "    <tr>\n",
       "      <th>https://www.cathaybk.com.tw/cathaybk//card/event/bonus/bonus_2_1.asp</th>\n",
       "      <td>NaN</td>\n",
       "      <td>NaN</td>\n",
       "      <td>NaN</td>\n",
       "      <td>NaN</td>\n",
       "      <td>NaN</td>\n",
       "      <td>NaN</td>\n",
       "      <td>NaN</td>\n",
       "      <td>NaN</td>\n",
       "      <td>NaN</td>\n",
       "      <td>NaN</td>\n",
       "      <td>...</td>\n",
       "      <td>NaN</td>\n",
       "      <td>NaN</td>\n",
       "      <td>NaN</td>\n",
       "      <td>NaN</td>\n",
       "      <td>NaN</td>\n",
       "      <td>NaN</td>\n",
       "      <td>NaN</td>\n",
       "      <td>NaN</td>\n",
       "      <td>NaN</td>\n",
       "      <td>NaN</td>\n",
       "    </tr>\n",
       "    <tr>\n",
       "      <th>https://www.cathaybk.com.tw/cathaybk//enterprise_finance03.asp</th>\n",
       "      <td>NaN</td>\n",
       "      <td>NaN</td>\n",
       "      <td>NaN</td>\n",
       "      <td>NaN</td>\n",
       "      <td>NaN</td>\n",
       "      <td>NaN</td>\n",
       "      <td>NaN</td>\n",
       "      <td>NaN</td>\n",
       "      <td>NaN</td>\n",
       "      <td>NaN</td>\n",
       "      <td>...</td>\n",
       "      <td>NaN</td>\n",
       "      <td>NaN</td>\n",
       "      <td>NaN</td>\n",
       "      <td>NaN</td>\n",
       "      <td>NaN</td>\n",
       "      <td>NaN</td>\n",
       "      <td>NaN</td>\n",
       "      <td>NaN</td>\n",
       "      <td>NaN</td>\n",
       "      <td>NaN</td>\n",
       "    </tr>\n",
       "    <tr>\n",
       "      <th>https://www.cathaybk.com.tw/cathaybk/?aspxerrorpath=/cathaybk/DSA/OpenAccount/Step1.aspx</th>\n",
       "      <td>NaN</td>\n",
       "      <td>NaN</td>\n",
       "      <td>NaN</td>\n",
       "      <td>NaN</td>\n",
       "      <td>NaN</td>\n",
       "      <td>NaN</td>\n",
       "      <td>NaN</td>\n",
       "      <td>NaN</td>\n",
       "      <td>NaN</td>\n",
       "      <td>NaN</td>\n",
       "      <td>...</td>\n",
       "      <td>NaN</td>\n",
       "      <td>NaN</td>\n",
       "      <td>NaN</td>\n",
       "      <td>NaN</td>\n",
       "      <td>NaN</td>\n",
       "      <td>NaN</td>\n",
       "      <td>NaN</td>\n",
       "      <td>NaN</td>\n",
       "      <td>NaN</td>\n",
       "      <td>NaN</td>\n",
       "    </tr>\n",
       "  </tbody>\n",
       "</table>\n",
       "<p>30 rows × 30 columns</p>\n",
       "</div>"
      ],
      "text/plain": [
       "PageLocation                                                                              https://www.cathaybk.com.tw/Cathaybk/card/login_news_list.asp  \\\n",
       "PageLocation                                                                                                                                              \n",
       "https://www.cathaybk.com.tw/Cathaybk/card/login_news_list.asp                             1.0                                                             \n",
       "https://www.cathaybk.com.tw/Cathaybk/deposit/rate.asp                                    NaN                                                              \n",
       "https://www.cathaybk.com.tw/Cathaybk/e_service/linepay/event/2015/201512linepay          NaN                                                              \n",
       "https://www.cathaybk.com.tw/Cathaybk/index.asp                                           NaN                                                              \n",
       "https://www.cathaybk.com.tw/Cathaybk/index_personal.asp                                  NaN                                                              \n",
       "https://www.cathaybk.com.tw/Cathaybk/personal_foreign05.asp                              NaN                                                              \n",
       "https://www.cathaybk.com.tw/Cathaybk/personal_info06.asp                                 NaN                                                              \n",
       "https://www.cathaybk.com.tw/Cathaybk/personal_info07.asp                                 NaN                                                              \n",
       "https://www.cathaybk.com.tw/Cathaybk/personal_marketing.asp                              NaN                                                              \n",
       "https://www.cathaybk.com.tw/Cathaybk/personal_marketing_life.asp                         NaN                                                              \n",
       "https://www.cathaybk.com.tw/Cathaybk/trust/trust_2_2_2.asp                               NaN                                                              \n",
       "https://www.cathaybk.com.tw/Cathaybk/trust/trust_hotkey_1_07.asp                         NaN                                                              \n",
       "https://www.cathaybk.com.tw/Cathaybk/trust/trust_index.asp                               NaN                                                              \n",
       "https://www.cathaybk.com.tw/Cathaybk/trust_fundinfo01.asp                                NaN                                                              \n",
       "https://www.cathaybk.com.tw/Cathaybk/trust_fundinfo02.asp                                NaN                                                              \n",
       "https://www.cathaybk.com.tw/Cathaybk/trust_fundinfo03.asp                                NaN                                                              \n",
       "https://www.cathaybk.com.tw/Cathaybk/vip/hotkey_1_2.asp                                  NaN                                                              \n",
       "https://www.cathaybk.com.tw/Cathaybk/vip/myvip_1_1_1.asp                                 NaN                                                              \n",
       "https://www.cathaybk.com.tw/Cathaybk/vip/myvip_2016_news-1.asp                           NaN                                                              \n",
       "https://www.cathaybk.com.tw/Cathaybk/vip/myvip_index.asp                                 NaN                                                              \n",
       "https://www.cathaybk.com.tw/Cathaybk/vip/news.asp                                        NaN                                                              \n",
       "https://www.cathaybk.com.tw/MobileAcct/WebOpenAct.aspx                                   NaN                                                              \n",
       "https://www.cathaybk.com.tw/MobileAcct/WebOpenAct_1.aspx                                 NaN                                                              \n",
       "https://www.cathaybk.com.tw/MobileAcct/WebOpenAct_step2.aspx                             NaN                                                              \n",
       "https://www.cathaybk.com.tw/MobileAcct/WebOpenAct_step3.aspx                             NaN                                                              \n",
       "https://www.cathaybk.com.tw/cathaybk                                                     NaN                                                              \n",
       "https://www.cathaybk.com.tw/cathaybk/#                                                   NaN                                                              \n",
       "https://www.cathaybk.com.tw/cathaybk//card/event/bonus/bonus_2_1.asp                     NaN                                                              \n",
       "https://www.cathaybk.com.tw/cathaybk//enterprise_finance03.asp                           NaN                                                              \n",
       "https://www.cathaybk.com.tw/cathaybk/?aspxerrorpath=/cathaybk/DSA/OpenAccount/Step1.aspx NaN                                                              \n",
       "\n",
       "PageLocation                                                                              https://www.cathaybk.com.tw/Cathaybk/deposit/rate.asp  \\\n",
       "PageLocation                                                                                                                                      \n",
       "https://www.cathaybk.com.tw/Cathaybk/card/login_news_list.asp                            NaN                                                      \n",
       "https://www.cathaybk.com.tw/Cathaybk/deposit/rate.asp                                    NaN                                                      \n",
       "https://www.cathaybk.com.tw/Cathaybk/e_service/linepay/event/2015/201512linepay          NaN                                                      \n",
       "https://www.cathaybk.com.tw/Cathaybk/index.asp                                           NaN                                                      \n",
       "https://www.cathaybk.com.tw/Cathaybk/index_personal.asp                                  NaN                                                      \n",
       "https://www.cathaybk.com.tw/Cathaybk/personal_foreign05.asp                              NaN                                                      \n",
       "https://www.cathaybk.com.tw/Cathaybk/personal_info06.asp                                 NaN                                                      \n",
       "https://www.cathaybk.com.tw/Cathaybk/personal_info07.asp                                 NaN                                                      \n",
       "https://www.cathaybk.com.tw/Cathaybk/personal_marketing.asp                              NaN                                                      \n",
       "https://www.cathaybk.com.tw/Cathaybk/personal_marketing_life.asp                         NaN                                                      \n",
       "https://www.cathaybk.com.tw/Cathaybk/trust/trust_2_2_2.asp                               NaN                                                      \n",
       "https://www.cathaybk.com.tw/Cathaybk/trust/trust_hotkey_1_07.asp                         NaN                                                      \n",
       "https://www.cathaybk.com.tw/Cathaybk/trust/trust_index.asp                               NaN                                                      \n",
       "https://www.cathaybk.com.tw/Cathaybk/trust_fundinfo01.asp                                NaN                                                      \n",
       "https://www.cathaybk.com.tw/Cathaybk/trust_fundinfo02.asp                                NaN                                                      \n",
       "https://www.cathaybk.com.tw/Cathaybk/trust_fundinfo03.asp                                NaN                                                      \n",
       "https://www.cathaybk.com.tw/Cathaybk/vip/hotkey_1_2.asp                                  NaN                                                      \n",
       "https://www.cathaybk.com.tw/Cathaybk/vip/myvip_1_1_1.asp                                 NaN                                                      \n",
       "https://www.cathaybk.com.tw/Cathaybk/vip/myvip_2016_news-1.asp                           NaN                                                      \n",
       "https://www.cathaybk.com.tw/Cathaybk/vip/myvip_index.asp                                 NaN                                                      \n",
       "https://www.cathaybk.com.tw/Cathaybk/vip/news.asp                                        NaN                                                      \n",
       "https://www.cathaybk.com.tw/MobileAcct/WebOpenAct.aspx                                   NaN                                                      \n",
       "https://www.cathaybk.com.tw/MobileAcct/WebOpenAct_1.aspx                                 NaN                                                      \n",
       "https://www.cathaybk.com.tw/MobileAcct/WebOpenAct_step2.aspx                             NaN                                                      \n",
       "https://www.cathaybk.com.tw/MobileAcct/WebOpenAct_step3.aspx                             NaN                                                      \n",
       "https://www.cathaybk.com.tw/cathaybk                                                     NaN                                                      \n",
       "https://www.cathaybk.com.tw/cathaybk/#                                                   NaN                                                      \n",
       "https://www.cathaybk.com.tw/cathaybk//card/event/bonus/bonus_2_1.asp                     NaN                                                      \n",
       "https://www.cathaybk.com.tw/cathaybk//enterprise_finance03.asp                           NaN                                                      \n",
       "https://www.cathaybk.com.tw/cathaybk/?aspxerrorpath=/cathaybk/DSA/OpenAccount/Step1.aspx NaN                                                      \n",
       "\n",
       "PageLocation                                                                              https://www.cathaybk.com.tw/Cathaybk/e_service/linepay/event/2015/201512linepay  \\\n",
       "PageLocation                                                                                                                                                                \n",
       "https://www.cathaybk.com.tw/Cathaybk/card/login_news_list.asp                            NaN                                                                                \n",
       "https://www.cathaybk.com.tw/Cathaybk/deposit/rate.asp                                    NaN                                                                                \n",
       "https://www.cathaybk.com.tw/Cathaybk/e_service/linepay/event/2015/201512linepay           1.0                                                                               \n",
       "https://www.cathaybk.com.tw/Cathaybk/index.asp                                           NaN                                                                                \n",
       "https://www.cathaybk.com.tw/Cathaybk/index_personal.asp                                  NaN                                                                                \n",
       "https://www.cathaybk.com.tw/Cathaybk/personal_foreign05.asp                              NaN                                                                                \n",
       "https://www.cathaybk.com.tw/Cathaybk/personal_info06.asp                                 NaN                                                                                \n",
       "https://www.cathaybk.com.tw/Cathaybk/personal_info07.asp                                 NaN                                                                                \n",
       "https://www.cathaybk.com.tw/Cathaybk/personal_marketing.asp                              NaN                                                                                \n",
       "https://www.cathaybk.com.tw/Cathaybk/personal_marketing_life.asp                         NaN                                                                                \n",
       "https://www.cathaybk.com.tw/Cathaybk/trust/trust_2_2_2.asp                               NaN                                                                                \n",
       "https://www.cathaybk.com.tw/Cathaybk/trust/trust_hotkey_1_07.asp                         NaN                                                                                \n",
       "https://www.cathaybk.com.tw/Cathaybk/trust/trust_index.asp                               NaN                                                                                \n",
       "https://www.cathaybk.com.tw/Cathaybk/trust_fundinfo01.asp                                NaN                                                                                \n",
       "https://www.cathaybk.com.tw/Cathaybk/trust_fundinfo02.asp                                NaN                                                                                \n",
       "https://www.cathaybk.com.tw/Cathaybk/trust_fundinfo03.asp                                NaN                                                                                \n",
       "https://www.cathaybk.com.tw/Cathaybk/vip/hotkey_1_2.asp                                  NaN                                                                                \n",
       "https://www.cathaybk.com.tw/Cathaybk/vip/myvip_1_1_1.asp                                 NaN                                                                                \n",
       "https://www.cathaybk.com.tw/Cathaybk/vip/myvip_2016_news-1.asp                           NaN                                                                                \n",
       "https://www.cathaybk.com.tw/Cathaybk/vip/myvip_index.asp                                 NaN                                                                                \n",
       "https://www.cathaybk.com.tw/Cathaybk/vip/news.asp                                        NaN                                                                                \n",
       "https://www.cathaybk.com.tw/MobileAcct/WebOpenAct.aspx                                   NaN                                                                                \n",
       "https://www.cathaybk.com.tw/MobileAcct/WebOpenAct_1.aspx                                 NaN                                                                                \n",
       "https://www.cathaybk.com.tw/MobileAcct/WebOpenAct_step2.aspx                             NaN                                                                                \n",
       "https://www.cathaybk.com.tw/MobileAcct/WebOpenAct_step3.aspx                             NaN                                                                                \n",
       "https://www.cathaybk.com.tw/cathaybk                                                     NaN                                                                                \n",
       "https://www.cathaybk.com.tw/cathaybk/#                                                   NaN                                                                                \n",
       "https://www.cathaybk.com.tw/cathaybk//card/event/bonus/bonus_2_1.asp                     NaN                                                                                \n",
       "https://www.cathaybk.com.tw/cathaybk//enterprise_finance03.asp                           NaN                                                                                \n",
       "https://www.cathaybk.com.tw/cathaybk/?aspxerrorpath=/cathaybk/DSA/OpenAccount/Step1.aspx NaN                                                                                \n",
       "\n",
       "PageLocation                                                                              https://www.cathaybk.com.tw/Cathaybk/index.asp  \\\n",
       "PageLocation                                                                                                                               \n",
       "https://www.cathaybk.com.tw/Cathaybk/card/login_news_list.asp                            NaN                                               \n",
       "https://www.cathaybk.com.tw/Cathaybk/deposit/rate.asp                                    NaN                                               \n",
       "https://www.cathaybk.com.tw/Cathaybk/e_service/linepay/event/2015/201512linepay          NaN                                               \n",
       "https://www.cathaybk.com.tw/Cathaybk/index.asp                                           NaN                                               \n",
       "https://www.cathaybk.com.tw/Cathaybk/index_personal.asp                                  NaN                                               \n",
       "https://www.cathaybk.com.tw/Cathaybk/personal_foreign05.asp                              NaN                                               \n",
       "https://www.cathaybk.com.tw/Cathaybk/personal_info06.asp                                 NaN                                               \n",
       "https://www.cathaybk.com.tw/Cathaybk/personal_info07.asp                                 NaN                                               \n",
       "https://www.cathaybk.com.tw/Cathaybk/personal_marketing.asp                              NaN                                               \n",
       "https://www.cathaybk.com.tw/Cathaybk/personal_marketing_life.asp                         NaN                                               \n",
       "https://www.cathaybk.com.tw/Cathaybk/trust/trust_2_2_2.asp                               NaN                                               \n",
       "https://www.cathaybk.com.tw/Cathaybk/trust/trust_hotkey_1_07.asp                         NaN                                               \n",
       "https://www.cathaybk.com.tw/Cathaybk/trust/trust_index.asp                               NaN                                               \n",
       "https://www.cathaybk.com.tw/Cathaybk/trust_fundinfo01.asp                                NaN                                               \n",
       "https://www.cathaybk.com.tw/Cathaybk/trust_fundinfo02.asp                                NaN                                               \n",
       "https://www.cathaybk.com.tw/Cathaybk/trust_fundinfo03.asp                                NaN                                               \n",
       "https://www.cathaybk.com.tw/Cathaybk/vip/hotkey_1_2.asp                                  NaN                                               \n",
       "https://www.cathaybk.com.tw/Cathaybk/vip/myvip_1_1_1.asp                                 NaN                                               \n",
       "https://www.cathaybk.com.tw/Cathaybk/vip/myvip_2016_news-1.asp                           NaN                                               \n",
       "https://www.cathaybk.com.tw/Cathaybk/vip/myvip_index.asp                                 NaN                                               \n",
       "https://www.cathaybk.com.tw/Cathaybk/vip/news.asp                                        NaN                                               \n",
       "https://www.cathaybk.com.tw/MobileAcct/WebOpenAct.aspx                                   NaN                                               \n",
       "https://www.cathaybk.com.tw/MobileAcct/WebOpenAct_1.aspx                                 NaN                                               \n",
       "https://www.cathaybk.com.tw/MobileAcct/WebOpenAct_step2.aspx                             NaN                                               \n",
       "https://www.cathaybk.com.tw/MobileAcct/WebOpenAct_step3.aspx                             NaN                                               \n",
       "https://www.cathaybk.com.tw/cathaybk                                                     NaN                                               \n",
       "https://www.cathaybk.com.tw/cathaybk/#                                                   NaN                                               \n",
       "https://www.cathaybk.com.tw/cathaybk//card/event/bonus/bonus_2_1.asp                     NaN                                               \n",
       "https://www.cathaybk.com.tw/cathaybk//enterprise_finance03.asp                           NaN                                               \n",
       "https://www.cathaybk.com.tw/cathaybk/?aspxerrorpath=/cathaybk/DSA/OpenAccount/Step1.aspx NaN                                               \n",
       "\n",
       "PageLocation                                                                              https://www.cathaybk.com.tw/Cathaybk/index_personal.asp  \\\n",
       "PageLocation                                                                                                                                        \n",
       "https://www.cathaybk.com.tw/Cathaybk/card/login_news_list.asp                            NaN                                                        \n",
       "https://www.cathaybk.com.tw/Cathaybk/deposit/rate.asp                                    NaN                                                        \n",
       "https://www.cathaybk.com.tw/Cathaybk/e_service/linepay/event/2015/201512linepay          NaN                                                        \n",
       "https://www.cathaybk.com.tw/Cathaybk/index.asp                                           NaN                                                        \n",
       "https://www.cathaybk.com.tw/Cathaybk/index_personal.asp                                   1.0                                                       \n",
       "https://www.cathaybk.com.tw/Cathaybk/personal_foreign05.asp                              NaN                                                        \n",
       "https://www.cathaybk.com.tw/Cathaybk/personal_info06.asp                                 NaN                                                        \n",
       "https://www.cathaybk.com.tw/Cathaybk/personal_info07.asp                                 NaN                                                        \n",
       "https://www.cathaybk.com.tw/Cathaybk/personal_marketing.asp                              NaN                                                        \n",
       "https://www.cathaybk.com.tw/Cathaybk/personal_marketing_life.asp                         NaN                                                        \n",
       "https://www.cathaybk.com.tw/Cathaybk/trust/trust_2_2_2.asp                               NaN                                                        \n",
       "https://www.cathaybk.com.tw/Cathaybk/trust/trust_hotkey_1_07.asp                         NaN                                                        \n",
       "https://www.cathaybk.com.tw/Cathaybk/trust/trust_index.asp                               NaN                                                        \n",
       "https://www.cathaybk.com.tw/Cathaybk/trust_fundinfo01.asp                                NaN                                                        \n",
       "https://www.cathaybk.com.tw/Cathaybk/trust_fundinfo02.asp                                NaN                                                        \n",
       "https://www.cathaybk.com.tw/Cathaybk/trust_fundinfo03.asp                                NaN                                                        \n",
       "https://www.cathaybk.com.tw/Cathaybk/vip/hotkey_1_2.asp                                  NaN                                                        \n",
       "https://www.cathaybk.com.tw/Cathaybk/vip/myvip_1_1_1.asp                                 NaN                                                        \n",
       "https://www.cathaybk.com.tw/Cathaybk/vip/myvip_2016_news-1.asp                           NaN                                                        \n",
       "https://www.cathaybk.com.tw/Cathaybk/vip/myvip_index.asp                                 NaN                                                        \n",
       "https://www.cathaybk.com.tw/Cathaybk/vip/news.asp                                        NaN                                                        \n",
       "https://www.cathaybk.com.tw/MobileAcct/WebOpenAct.aspx                                   NaN                                                        \n",
       "https://www.cathaybk.com.tw/MobileAcct/WebOpenAct_1.aspx                                 NaN                                                        \n",
       "https://www.cathaybk.com.tw/MobileAcct/WebOpenAct_step2.aspx                             NaN                                                        \n",
       "https://www.cathaybk.com.tw/MobileAcct/WebOpenAct_step3.aspx                             NaN                                                        \n",
       "https://www.cathaybk.com.tw/cathaybk                                                     NaN                                                        \n",
       "https://www.cathaybk.com.tw/cathaybk/#                                                   NaN                                                        \n",
       "https://www.cathaybk.com.tw/cathaybk//card/event/bonus/bonus_2_1.asp                     NaN                                                        \n",
       "https://www.cathaybk.com.tw/cathaybk//enterprise_finance03.asp                           NaN                                                        \n",
       "https://www.cathaybk.com.tw/cathaybk/?aspxerrorpath=/cathaybk/DSA/OpenAccount/Step1.aspx NaN                                                        \n",
       "\n",
       "PageLocation                                                                              https://www.cathaybk.com.tw/Cathaybk/personal_foreign05.asp  \\\n",
       "PageLocation                                                                                                                                            \n",
       "https://www.cathaybk.com.tw/Cathaybk/card/login_news_list.asp                            NaN                                                            \n",
       "https://www.cathaybk.com.tw/Cathaybk/deposit/rate.asp                                    NaN                                                            \n",
       "https://www.cathaybk.com.tw/Cathaybk/e_service/linepay/event/2015/201512linepay          NaN                                                            \n",
       "https://www.cathaybk.com.tw/Cathaybk/index.asp                                           NaN                                                            \n",
       "https://www.cathaybk.com.tw/Cathaybk/index_personal.asp                                  NaN                                                            \n",
       "https://www.cathaybk.com.tw/Cathaybk/personal_foreign05.asp                               1.0                                                           \n",
       "https://www.cathaybk.com.tw/Cathaybk/personal_info06.asp                                 NaN                                                            \n",
       "https://www.cathaybk.com.tw/Cathaybk/personal_info07.asp                                 NaN                                                            \n",
       "https://www.cathaybk.com.tw/Cathaybk/personal_marketing.asp                              NaN                                                            \n",
       "https://www.cathaybk.com.tw/Cathaybk/personal_marketing_life.asp                         NaN                                                            \n",
       "https://www.cathaybk.com.tw/Cathaybk/trust/trust_2_2_2.asp                               NaN                                                            \n",
       "https://www.cathaybk.com.tw/Cathaybk/trust/trust_hotkey_1_07.asp                         NaN                                                            \n",
       "https://www.cathaybk.com.tw/Cathaybk/trust/trust_index.asp                               NaN                                                            \n",
       "https://www.cathaybk.com.tw/Cathaybk/trust_fundinfo01.asp                                NaN                                                            \n",
       "https://www.cathaybk.com.tw/Cathaybk/trust_fundinfo02.asp                                NaN                                                            \n",
       "https://www.cathaybk.com.tw/Cathaybk/trust_fundinfo03.asp                                NaN                                                            \n",
       "https://www.cathaybk.com.tw/Cathaybk/vip/hotkey_1_2.asp                                  NaN                                                            \n",
       "https://www.cathaybk.com.tw/Cathaybk/vip/myvip_1_1_1.asp                                 NaN                                                            \n",
       "https://www.cathaybk.com.tw/Cathaybk/vip/myvip_2016_news-1.asp                           NaN                                                            \n",
       "https://www.cathaybk.com.tw/Cathaybk/vip/myvip_index.asp                                 NaN                                                            \n",
       "https://www.cathaybk.com.tw/Cathaybk/vip/news.asp                                        NaN                                                            \n",
       "https://www.cathaybk.com.tw/MobileAcct/WebOpenAct.aspx                                   NaN                                                            \n",
       "https://www.cathaybk.com.tw/MobileAcct/WebOpenAct_1.aspx                                 NaN                                                            \n",
       "https://www.cathaybk.com.tw/MobileAcct/WebOpenAct_step2.aspx                             NaN                                                            \n",
       "https://www.cathaybk.com.tw/MobileAcct/WebOpenAct_step3.aspx                             NaN                                                            \n",
       "https://www.cathaybk.com.tw/cathaybk                                                     NaN                                                            \n",
       "https://www.cathaybk.com.tw/cathaybk/#                                                   NaN                                                            \n",
       "https://www.cathaybk.com.tw/cathaybk//card/event/bonus/bonus_2_1.asp                     NaN                                                            \n",
       "https://www.cathaybk.com.tw/cathaybk//enterprise_finance03.asp                           NaN                                                            \n",
       "https://www.cathaybk.com.tw/cathaybk/?aspxerrorpath=/cathaybk/DSA/OpenAccount/Step1.aspx NaN                                                            \n",
       "\n",
       "PageLocation                                                                              https://www.cathaybk.com.tw/Cathaybk/personal_info06.asp  \\\n",
       "PageLocation                                                                                                                                         \n",
       "https://www.cathaybk.com.tw/Cathaybk/card/login_news_list.asp                            NaN                                                         \n",
       "https://www.cathaybk.com.tw/Cathaybk/deposit/rate.asp                                    NaN                                                         \n",
       "https://www.cathaybk.com.tw/Cathaybk/e_service/linepay/event/2015/201512linepay          NaN                                                         \n",
       "https://www.cathaybk.com.tw/Cathaybk/index.asp                                           NaN                                                         \n",
       "https://www.cathaybk.com.tw/Cathaybk/index_personal.asp                                  NaN                                                         \n",
       "https://www.cathaybk.com.tw/Cathaybk/personal_foreign05.asp                              NaN                                                         \n",
       "https://www.cathaybk.com.tw/Cathaybk/personal_info06.asp                                 NaN                                                         \n",
       "https://www.cathaybk.com.tw/Cathaybk/personal_info07.asp                                 NaN                                                         \n",
       "https://www.cathaybk.com.tw/Cathaybk/personal_marketing.asp                              NaN                                                         \n",
       "https://www.cathaybk.com.tw/Cathaybk/personal_marketing_life.asp                         NaN                                                         \n",
       "https://www.cathaybk.com.tw/Cathaybk/trust/trust_2_2_2.asp                               NaN                                                         \n",
       "https://www.cathaybk.com.tw/Cathaybk/trust/trust_hotkey_1_07.asp                         NaN                                                         \n",
       "https://www.cathaybk.com.tw/Cathaybk/trust/trust_index.asp                               NaN                                                         \n",
       "https://www.cathaybk.com.tw/Cathaybk/trust_fundinfo01.asp                                NaN                                                         \n",
       "https://www.cathaybk.com.tw/Cathaybk/trust_fundinfo02.asp                                NaN                                                         \n",
       "https://www.cathaybk.com.tw/Cathaybk/trust_fundinfo03.asp                                NaN                                                         \n",
       "https://www.cathaybk.com.tw/Cathaybk/vip/hotkey_1_2.asp                                  NaN                                                         \n",
       "https://www.cathaybk.com.tw/Cathaybk/vip/myvip_1_1_1.asp                                 NaN                                                         \n",
       "https://www.cathaybk.com.tw/Cathaybk/vip/myvip_2016_news-1.asp                           NaN                                                         \n",
       "https://www.cathaybk.com.tw/Cathaybk/vip/myvip_index.asp                                 NaN                                                         \n",
       "https://www.cathaybk.com.tw/Cathaybk/vip/news.asp                                        NaN                                                         \n",
       "https://www.cathaybk.com.tw/MobileAcct/WebOpenAct.aspx                                   NaN                                                         \n",
       "https://www.cathaybk.com.tw/MobileAcct/WebOpenAct_1.aspx                                 NaN                                                         \n",
       "https://www.cathaybk.com.tw/MobileAcct/WebOpenAct_step2.aspx                             NaN                                                         \n",
       "https://www.cathaybk.com.tw/MobileAcct/WebOpenAct_step3.aspx                             NaN                                                         \n",
       "https://www.cathaybk.com.tw/cathaybk                                                     NaN                                                         \n",
       "https://www.cathaybk.com.tw/cathaybk/#                                                   NaN                                                         \n",
       "https://www.cathaybk.com.tw/cathaybk//card/event/bonus/bonus_2_1.asp                     NaN                                                         \n",
       "https://www.cathaybk.com.tw/cathaybk//enterprise_finance03.asp                           NaN                                                         \n",
       "https://www.cathaybk.com.tw/cathaybk/?aspxerrorpath=/cathaybk/DSA/OpenAccount/Step1.aspx NaN                                                         \n",
       "\n",
       "PageLocation                                                                              https://www.cathaybk.com.tw/Cathaybk/personal_info07.asp  \\\n",
       "PageLocation                                                                                                                                         \n",
       "https://www.cathaybk.com.tw/Cathaybk/card/login_news_list.asp                            NaN                                                         \n",
       "https://www.cathaybk.com.tw/Cathaybk/deposit/rate.asp                                    NaN                                                         \n",
       "https://www.cathaybk.com.tw/Cathaybk/e_service/linepay/event/2015/201512linepay          NaN                                                         \n",
       "https://www.cathaybk.com.tw/Cathaybk/index.asp                                           NaN                                                         \n",
       "https://www.cathaybk.com.tw/Cathaybk/index_personal.asp                                  NaN                                                         \n",
       "https://www.cathaybk.com.tw/Cathaybk/personal_foreign05.asp                              NaN                                                         \n",
       "https://www.cathaybk.com.tw/Cathaybk/personal_info06.asp                                 NaN                                                         \n",
       "https://www.cathaybk.com.tw/Cathaybk/personal_info07.asp                                 NaN                                                         \n",
       "https://www.cathaybk.com.tw/Cathaybk/personal_marketing.asp                              NaN                                                         \n",
       "https://www.cathaybk.com.tw/Cathaybk/personal_marketing_life.asp                         NaN                                                         \n",
       "https://www.cathaybk.com.tw/Cathaybk/trust/trust_2_2_2.asp                               NaN                                                         \n",
       "https://www.cathaybk.com.tw/Cathaybk/trust/trust_hotkey_1_07.asp                         NaN                                                         \n",
       "https://www.cathaybk.com.tw/Cathaybk/trust/trust_index.asp                               NaN                                                         \n",
       "https://www.cathaybk.com.tw/Cathaybk/trust_fundinfo01.asp                                NaN                                                         \n",
       "https://www.cathaybk.com.tw/Cathaybk/trust_fundinfo02.asp                                NaN                                                         \n",
       "https://www.cathaybk.com.tw/Cathaybk/trust_fundinfo03.asp                                NaN                                                         \n",
       "https://www.cathaybk.com.tw/Cathaybk/vip/hotkey_1_2.asp                                  NaN                                                         \n",
       "https://www.cathaybk.com.tw/Cathaybk/vip/myvip_1_1_1.asp                                 NaN                                                         \n",
       "https://www.cathaybk.com.tw/Cathaybk/vip/myvip_2016_news-1.asp                           NaN                                                         \n",
       "https://www.cathaybk.com.tw/Cathaybk/vip/myvip_index.asp                                 NaN                                                         \n",
       "https://www.cathaybk.com.tw/Cathaybk/vip/news.asp                                        NaN                                                         \n",
       "https://www.cathaybk.com.tw/MobileAcct/WebOpenAct.aspx                                   NaN                                                         \n",
       "https://www.cathaybk.com.tw/MobileAcct/WebOpenAct_1.aspx                                 NaN                                                         \n",
       "https://www.cathaybk.com.tw/MobileAcct/WebOpenAct_step2.aspx                             NaN                                                         \n",
       "https://www.cathaybk.com.tw/MobileAcct/WebOpenAct_step3.aspx                             NaN                                                         \n",
       "https://www.cathaybk.com.tw/cathaybk                                                     NaN                                                         \n",
       "https://www.cathaybk.com.tw/cathaybk/#                                                   NaN                                                         \n",
       "https://www.cathaybk.com.tw/cathaybk//card/event/bonus/bonus_2_1.asp                     NaN                                                         \n",
       "https://www.cathaybk.com.tw/cathaybk//enterprise_finance03.asp                           NaN                                                         \n",
       "https://www.cathaybk.com.tw/cathaybk/?aspxerrorpath=/cathaybk/DSA/OpenAccount/Step1.aspx NaN                                                         \n",
       "\n",
       "PageLocation                                                                              https://www.cathaybk.com.tw/Cathaybk/personal_marketing.asp  \\\n",
       "PageLocation                                                                                                                                            \n",
       "https://www.cathaybk.com.tw/Cathaybk/card/login_news_list.asp                            NaN                                                            \n",
       "https://www.cathaybk.com.tw/Cathaybk/deposit/rate.asp                                    NaN                                                            \n",
       "https://www.cathaybk.com.tw/Cathaybk/e_service/linepay/event/2015/201512linepay          NaN                                                            \n",
       "https://www.cathaybk.com.tw/Cathaybk/index.asp                                           NaN                                                            \n",
       "https://www.cathaybk.com.tw/Cathaybk/index_personal.asp                                  NaN                                                            \n",
       "https://www.cathaybk.com.tw/Cathaybk/personal_foreign05.asp                              NaN                                                            \n",
       "https://www.cathaybk.com.tw/Cathaybk/personal_info06.asp                                 NaN                                                            \n",
       "https://www.cathaybk.com.tw/Cathaybk/personal_info07.asp                                 NaN                                                            \n",
       "https://www.cathaybk.com.tw/Cathaybk/personal_marketing.asp                              NaN                                                            \n",
       "https://www.cathaybk.com.tw/Cathaybk/personal_marketing_life.asp                         NaN                                                            \n",
       "https://www.cathaybk.com.tw/Cathaybk/trust/trust_2_2_2.asp                               NaN                                                            \n",
       "https://www.cathaybk.com.tw/Cathaybk/trust/trust_hotkey_1_07.asp                         NaN                                                            \n",
       "https://www.cathaybk.com.tw/Cathaybk/trust/trust_index.asp                               NaN                                                            \n",
       "https://www.cathaybk.com.tw/Cathaybk/trust_fundinfo01.asp                                NaN                                                            \n",
       "https://www.cathaybk.com.tw/Cathaybk/trust_fundinfo02.asp                                NaN                                                            \n",
       "https://www.cathaybk.com.tw/Cathaybk/trust_fundinfo03.asp                                NaN                                                            \n",
       "https://www.cathaybk.com.tw/Cathaybk/vip/hotkey_1_2.asp                                  NaN                                                            \n",
       "https://www.cathaybk.com.tw/Cathaybk/vip/myvip_1_1_1.asp                                 NaN                                                            \n",
       "https://www.cathaybk.com.tw/Cathaybk/vip/myvip_2016_news-1.asp                           NaN                                                            \n",
       "https://www.cathaybk.com.tw/Cathaybk/vip/myvip_index.asp                                 NaN                                                            \n",
       "https://www.cathaybk.com.tw/Cathaybk/vip/news.asp                                        NaN                                                            \n",
       "https://www.cathaybk.com.tw/MobileAcct/WebOpenAct.aspx                                   NaN                                                            \n",
       "https://www.cathaybk.com.tw/MobileAcct/WebOpenAct_1.aspx                                 NaN                                                            \n",
       "https://www.cathaybk.com.tw/MobileAcct/WebOpenAct_step2.aspx                             NaN                                                            \n",
       "https://www.cathaybk.com.tw/MobileAcct/WebOpenAct_step3.aspx                             NaN                                                            \n",
       "https://www.cathaybk.com.tw/cathaybk                                                     NaN                                                            \n",
       "https://www.cathaybk.com.tw/cathaybk/#                                                   NaN                                                            \n",
       "https://www.cathaybk.com.tw/cathaybk//card/event/bonus/bonus_2_1.asp                     NaN                                                            \n",
       "https://www.cathaybk.com.tw/cathaybk//enterprise_finance03.asp                           NaN                                                            \n",
       "https://www.cathaybk.com.tw/cathaybk/?aspxerrorpath=/cathaybk/DSA/OpenAccount/Step1.aspx NaN                                                            \n",
       "\n",
       "PageLocation                                                                              https://www.cathaybk.com.tw/Cathaybk/personal_marketing_life.asp  \\\n",
       "PageLocation                                                                                                                                                 \n",
       "https://www.cathaybk.com.tw/Cathaybk/card/login_news_list.asp                            NaN                                                                 \n",
       "https://www.cathaybk.com.tw/Cathaybk/deposit/rate.asp                                    NaN                                                                 \n",
       "https://www.cathaybk.com.tw/Cathaybk/e_service/linepay/event/2015/201512linepay          NaN                                                                 \n",
       "https://www.cathaybk.com.tw/Cathaybk/index.asp                                           NaN                                                                 \n",
       "https://www.cathaybk.com.tw/Cathaybk/index_personal.asp                                  NaN                                                                 \n",
       "https://www.cathaybk.com.tw/Cathaybk/personal_foreign05.asp                              NaN                                                                 \n",
       "https://www.cathaybk.com.tw/Cathaybk/personal_info06.asp                                 NaN                                                                 \n",
       "https://www.cathaybk.com.tw/Cathaybk/personal_info07.asp                                 NaN                                                                 \n",
       "https://www.cathaybk.com.tw/Cathaybk/personal_marketing.asp                              NaN                                                                 \n",
       "https://www.cathaybk.com.tw/Cathaybk/personal_marketing_life.asp                         NaN                                                                 \n",
       "https://www.cathaybk.com.tw/Cathaybk/trust/trust_2_2_2.asp                               NaN                                                                 \n",
       "https://www.cathaybk.com.tw/Cathaybk/trust/trust_hotkey_1_07.asp                         NaN                                                                 \n",
       "https://www.cathaybk.com.tw/Cathaybk/trust/trust_index.asp                               NaN                                                                 \n",
       "https://www.cathaybk.com.tw/Cathaybk/trust_fundinfo01.asp                                NaN                                                                 \n",
       "https://www.cathaybk.com.tw/Cathaybk/trust_fundinfo02.asp                                NaN                                                                 \n",
       "https://www.cathaybk.com.tw/Cathaybk/trust_fundinfo03.asp                                NaN                                                                 \n",
       "https://www.cathaybk.com.tw/Cathaybk/vip/hotkey_1_2.asp                                  NaN                                                                 \n",
       "https://www.cathaybk.com.tw/Cathaybk/vip/myvip_1_1_1.asp                                 NaN                                                                 \n",
       "https://www.cathaybk.com.tw/Cathaybk/vip/myvip_2016_news-1.asp                           NaN                                                                 \n",
       "https://www.cathaybk.com.tw/Cathaybk/vip/myvip_index.asp                                 NaN                                                                 \n",
       "https://www.cathaybk.com.tw/Cathaybk/vip/news.asp                                        NaN                                                                 \n",
       "https://www.cathaybk.com.tw/MobileAcct/WebOpenAct.aspx                                   NaN                                                                 \n",
       "https://www.cathaybk.com.tw/MobileAcct/WebOpenAct_1.aspx                                 NaN                                                                 \n",
       "https://www.cathaybk.com.tw/MobileAcct/WebOpenAct_step2.aspx                             NaN                                                                 \n",
       "https://www.cathaybk.com.tw/MobileAcct/WebOpenAct_step3.aspx                             NaN                                                                 \n",
       "https://www.cathaybk.com.tw/cathaybk                                                     NaN                                                                 \n",
       "https://www.cathaybk.com.tw/cathaybk/#                                                   NaN                                                                 \n",
       "https://www.cathaybk.com.tw/cathaybk//card/event/bonus/bonus_2_1.asp                     NaN                                                                 \n",
       "https://www.cathaybk.com.tw/cathaybk//enterprise_finance03.asp                           NaN                                                                 \n",
       "https://www.cathaybk.com.tw/cathaybk/?aspxerrorpath=/cathaybk/DSA/OpenAccount/Step1.aspx NaN                                                                 \n",
       "\n",
       "PageLocation                                                                                                                        ...                                             \\\n",
       "PageLocation                                                                                                                        ...                                              \n",
       "https://www.cathaybk.com.tw/Cathaybk/card/login_news_list.asp                                                                       ...                                              \n",
       "https://www.cathaybk.com.tw/Cathaybk/deposit/rate.asp                                                                               ...                                              \n",
       "https://www.cathaybk.com.tw/Cathaybk/e_service/linepay/event/2015/201512linepay                                                     ...                                              \n",
       "https://www.cathaybk.com.tw/Cathaybk/index.asp                                                                                      ...                                              \n",
       "https://www.cathaybk.com.tw/Cathaybk/index_personal.asp                                                                             ...                                              \n",
       "https://www.cathaybk.com.tw/Cathaybk/personal_foreign05.asp                                                                         ...                                              \n",
       "https://www.cathaybk.com.tw/Cathaybk/personal_info06.asp                                                                            ...                                              \n",
       "https://www.cathaybk.com.tw/Cathaybk/personal_info07.asp                                                                            ...                                              \n",
       "https://www.cathaybk.com.tw/Cathaybk/personal_marketing.asp                                                                         ...                                              \n",
       "https://www.cathaybk.com.tw/Cathaybk/personal_marketing_life.asp                                                                    ...                                              \n",
       "https://www.cathaybk.com.tw/Cathaybk/trust/trust_2_2_2.asp                                                                          ...                                              \n",
       "https://www.cathaybk.com.tw/Cathaybk/trust/trust_hotkey_1_07.asp                                                                    ...                                              \n",
       "https://www.cathaybk.com.tw/Cathaybk/trust/trust_index.asp                                                                          ...                                              \n",
       "https://www.cathaybk.com.tw/Cathaybk/trust_fundinfo01.asp                                                                           ...                                              \n",
       "https://www.cathaybk.com.tw/Cathaybk/trust_fundinfo02.asp                                                                           ...                                              \n",
       "https://www.cathaybk.com.tw/Cathaybk/trust_fundinfo03.asp                                                                           ...                                              \n",
       "https://www.cathaybk.com.tw/Cathaybk/vip/hotkey_1_2.asp                                                                             ...                                              \n",
       "https://www.cathaybk.com.tw/Cathaybk/vip/myvip_1_1_1.asp                                                                            ...                                              \n",
       "https://www.cathaybk.com.tw/Cathaybk/vip/myvip_2016_news-1.asp                                                                      ...                                              \n",
       "https://www.cathaybk.com.tw/Cathaybk/vip/myvip_index.asp                                                                            ...                                              \n",
       "https://www.cathaybk.com.tw/Cathaybk/vip/news.asp                                                                                   ...                                              \n",
       "https://www.cathaybk.com.tw/MobileAcct/WebOpenAct.aspx                                                                              ...                                              \n",
       "https://www.cathaybk.com.tw/MobileAcct/WebOpenAct_1.aspx                                                                            ...                                              \n",
       "https://www.cathaybk.com.tw/MobileAcct/WebOpenAct_step2.aspx                                                                        ...                                              \n",
       "https://www.cathaybk.com.tw/MobileAcct/WebOpenAct_step3.aspx                                                                        ...                                              \n",
       "https://www.cathaybk.com.tw/cathaybk                                                                                                ...                                              \n",
       "https://www.cathaybk.com.tw/cathaybk/#                                                                                              ...                                              \n",
       "https://www.cathaybk.com.tw/cathaybk//card/event/bonus/bonus_2_1.asp                                                                ...                                              \n",
       "https://www.cathaybk.com.tw/cathaybk//enterprise_finance03.asp                                                                      ...                                              \n",
       "https://www.cathaybk.com.tw/cathaybk/?aspxerrorpath=/cathaybk/DSA/OpenAccount/Step1.aspx                                            ...                                              \n",
       "\n",
       "PageLocation                                                                              https://www.cathaybk.com.tw/Cathaybk/vip/news.asp  \\\n",
       "PageLocation                                                                                                                                  \n",
       "https://www.cathaybk.com.tw/Cathaybk/card/login_news_list.asp                            NaN                                                  \n",
       "https://www.cathaybk.com.tw/Cathaybk/deposit/rate.asp                                    NaN                                                  \n",
       "https://www.cathaybk.com.tw/Cathaybk/e_service/linepay/event/2015/201512linepay          NaN                                                  \n",
       "https://www.cathaybk.com.tw/Cathaybk/index.asp                                           NaN                                                  \n",
       "https://www.cathaybk.com.tw/Cathaybk/index_personal.asp                                  NaN                                                  \n",
       "https://www.cathaybk.com.tw/Cathaybk/personal_foreign05.asp                              NaN                                                  \n",
       "https://www.cathaybk.com.tw/Cathaybk/personal_info06.asp                                 NaN                                                  \n",
       "https://www.cathaybk.com.tw/Cathaybk/personal_info07.asp                                 NaN                                                  \n",
       "https://www.cathaybk.com.tw/Cathaybk/personal_marketing.asp                              NaN                                                  \n",
       "https://www.cathaybk.com.tw/Cathaybk/personal_marketing_life.asp                         NaN                                                  \n",
       "https://www.cathaybk.com.tw/Cathaybk/trust/trust_2_2_2.asp                               NaN                                                  \n",
       "https://www.cathaybk.com.tw/Cathaybk/trust/trust_hotkey_1_07.asp                         NaN                                                  \n",
       "https://www.cathaybk.com.tw/Cathaybk/trust/trust_index.asp                               NaN                                                  \n",
       "https://www.cathaybk.com.tw/Cathaybk/trust_fundinfo01.asp                                NaN                                                  \n",
       "https://www.cathaybk.com.tw/Cathaybk/trust_fundinfo02.asp                                NaN                                                  \n",
       "https://www.cathaybk.com.tw/Cathaybk/trust_fundinfo03.asp                                NaN                                                  \n",
       "https://www.cathaybk.com.tw/Cathaybk/vip/hotkey_1_2.asp                                  NaN                                                  \n",
       "https://www.cathaybk.com.tw/Cathaybk/vip/myvip_1_1_1.asp                                 NaN                                                  \n",
       "https://www.cathaybk.com.tw/Cathaybk/vip/myvip_2016_news-1.asp                           NaN                                                  \n",
       "https://www.cathaybk.com.tw/Cathaybk/vip/myvip_index.asp                                  1.0                                                 \n",
       "https://www.cathaybk.com.tw/Cathaybk/vip/news.asp                                         1.0                                                 \n",
       "https://www.cathaybk.com.tw/MobileAcct/WebOpenAct.aspx                                   NaN                                                  \n",
       "https://www.cathaybk.com.tw/MobileAcct/WebOpenAct_1.aspx                                 NaN                                                  \n",
       "https://www.cathaybk.com.tw/MobileAcct/WebOpenAct_step2.aspx                             NaN                                                  \n",
       "https://www.cathaybk.com.tw/MobileAcct/WebOpenAct_step3.aspx                             NaN                                                  \n",
       "https://www.cathaybk.com.tw/cathaybk                                                     NaN                                                  \n",
       "https://www.cathaybk.com.tw/cathaybk/#                                                   NaN                                                  \n",
       "https://www.cathaybk.com.tw/cathaybk//card/event/bonus/bonus_2_1.asp                     NaN                                                  \n",
       "https://www.cathaybk.com.tw/cathaybk//enterprise_finance03.asp                           NaN                                                  \n",
       "https://www.cathaybk.com.tw/cathaybk/?aspxerrorpath=/cathaybk/DSA/OpenAccount/Step1.aspx NaN                                                  \n",
       "\n",
       "PageLocation                                                                              https://www.cathaybk.com.tw/MobileAcct/WebOpenAct.aspx  \\\n",
       "PageLocation                                                                                                                                       \n",
       "https://www.cathaybk.com.tw/Cathaybk/card/login_news_list.asp                            NaN                                                       \n",
       "https://www.cathaybk.com.tw/Cathaybk/deposit/rate.asp                                    NaN                                                       \n",
       "https://www.cathaybk.com.tw/Cathaybk/e_service/linepay/event/2015/201512linepay          NaN                                                       \n",
       "https://www.cathaybk.com.tw/Cathaybk/index.asp                                           NaN                                                       \n",
       "https://www.cathaybk.com.tw/Cathaybk/index_personal.asp                                  NaN                                                       \n",
       "https://www.cathaybk.com.tw/Cathaybk/personal_foreign05.asp                              NaN                                                       \n",
       "https://www.cathaybk.com.tw/Cathaybk/personal_info06.asp                                 NaN                                                       \n",
       "https://www.cathaybk.com.tw/Cathaybk/personal_info07.asp                                 NaN                                                       \n",
       "https://www.cathaybk.com.tw/Cathaybk/personal_marketing.asp                              NaN                                                       \n",
       "https://www.cathaybk.com.tw/Cathaybk/personal_marketing_life.asp                         NaN                                                       \n",
       "https://www.cathaybk.com.tw/Cathaybk/trust/trust_2_2_2.asp                               NaN                                                       \n",
       "https://www.cathaybk.com.tw/Cathaybk/trust/trust_hotkey_1_07.asp                         NaN                                                       \n",
       "https://www.cathaybk.com.tw/Cathaybk/trust/trust_index.asp                               NaN                                                       \n",
       "https://www.cathaybk.com.tw/Cathaybk/trust_fundinfo01.asp                                NaN                                                       \n",
       "https://www.cathaybk.com.tw/Cathaybk/trust_fundinfo02.asp                                NaN                                                       \n",
       "https://www.cathaybk.com.tw/Cathaybk/trust_fundinfo03.asp                                NaN                                                       \n",
       "https://www.cathaybk.com.tw/Cathaybk/vip/hotkey_1_2.asp                                  NaN                                                       \n",
       "https://www.cathaybk.com.tw/Cathaybk/vip/myvip_1_1_1.asp                                 NaN                                                       \n",
       "https://www.cathaybk.com.tw/Cathaybk/vip/myvip_2016_news-1.asp                           NaN                                                       \n",
       "https://www.cathaybk.com.tw/Cathaybk/vip/myvip_index.asp                                 NaN                                                       \n",
       "https://www.cathaybk.com.tw/Cathaybk/vip/news.asp                                        NaN                                                       \n",
       "https://www.cathaybk.com.tw/MobileAcct/WebOpenAct.aspx                                    1.000000                                                 \n",
       "https://www.cathaybk.com.tw/MobileAcct/WebOpenAct_1.aspx                                  0.621637                                                 \n",
       "https://www.cathaybk.com.tw/MobileAcct/WebOpenAct_step2.aspx                              0.245124                                                 \n",
       "https://www.cathaybk.com.tw/MobileAcct/WebOpenAct_step3.aspx                             NaN                                                       \n",
       "https://www.cathaybk.com.tw/cathaybk                                                      0.185695                                                 \n",
       "https://www.cathaybk.com.tw/cathaybk/#                                                   NaN                                                       \n",
       "https://www.cathaybk.com.tw/cathaybk//card/event/bonus/bonus_2_1.asp                     NaN                                                       \n",
       "https://www.cathaybk.com.tw/cathaybk//enterprise_finance03.asp                           NaN                                                       \n",
       "https://www.cathaybk.com.tw/cathaybk/?aspxerrorpath=/cathaybk/DSA/OpenAccount/Step1.aspx NaN                                                       \n",
       "\n",
       "PageLocation                                                                              https://www.cathaybk.com.tw/MobileAcct/WebOpenAct_1.aspx  \\\n",
       "PageLocation                                                                                                                                         \n",
       "https://www.cathaybk.com.tw/Cathaybk/card/login_news_list.asp                            NaN                                                         \n",
       "https://www.cathaybk.com.tw/Cathaybk/deposit/rate.asp                                    NaN                                                         \n",
       "https://www.cathaybk.com.tw/Cathaybk/e_service/linepay/event/2015/201512linepay          NaN                                                         \n",
       "https://www.cathaybk.com.tw/Cathaybk/index.asp                                           NaN                                                         \n",
       "https://www.cathaybk.com.tw/Cathaybk/index_personal.asp                                  NaN                                                         \n",
       "https://www.cathaybk.com.tw/Cathaybk/personal_foreign05.asp                              NaN                                                         \n",
       "https://www.cathaybk.com.tw/Cathaybk/personal_info06.asp                                 NaN                                                         \n",
       "https://www.cathaybk.com.tw/Cathaybk/personal_info07.asp                                 NaN                                                         \n",
       "https://www.cathaybk.com.tw/Cathaybk/personal_marketing.asp                              NaN                                                         \n",
       "https://www.cathaybk.com.tw/Cathaybk/personal_marketing_life.asp                         NaN                                                         \n",
       "https://www.cathaybk.com.tw/Cathaybk/trust/trust_2_2_2.asp                               NaN                                                         \n",
       "https://www.cathaybk.com.tw/Cathaybk/trust/trust_hotkey_1_07.asp                         NaN                                                         \n",
       "https://www.cathaybk.com.tw/Cathaybk/trust/trust_index.asp                               NaN                                                         \n",
       "https://www.cathaybk.com.tw/Cathaybk/trust_fundinfo01.asp                                NaN                                                         \n",
       "https://www.cathaybk.com.tw/Cathaybk/trust_fundinfo02.asp                                NaN                                                         \n",
       "https://www.cathaybk.com.tw/Cathaybk/trust_fundinfo03.asp                                NaN                                                         \n",
       "https://www.cathaybk.com.tw/Cathaybk/vip/hotkey_1_2.asp                                  NaN                                                         \n",
       "https://www.cathaybk.com.tw/Cathaybk/vip/myvip_1_1_1.asp                                 NaN                                                         \n",
       "https://www.cathaybk.com.tw/Cathaybk/vip/myvip_2016_news-1.asp                           NaN                                                         \n",
       "https://www.cathaybk.com.tw/Cathaybk/vip/myvip_index.asp                                 NaN                                                         \n",
       "https://www.cathaybk.com.tw/Cathaybk/vip/news.asp                                        NaN                                                         \n",
       "https://www.cathaybk.com.tw/MobileAcct/WebOpenAct.aspx                                    0.621637                                                   \n",
       "https://www.cathaybk.com.tw/MobileAcct/WebOpenAct_1.aspx                                  1.000000                                                   \n",
       "https://www.cathaybk.com.tw/MobileAcct/WebOpenAct_step2.aspx                              0.393073                                                   \n",
       "https://www.cathaybk.com.tw/MobileAcct/WebOpenAct_step3.aspx                             NaN                                                         \n",
       "https://www.cathaybk.com.tw/cathaybk                                                     NaN                                                         \n",
       "https://www.cathaybk.com.tw/cathaybk/#                                                   NaN                                                         \n",
       "https://www.cathaybk.com.tw/cathaybk//card/event/bonus/bonus_2_1.asp                     NaN                                                         \n",
       "https://www.cathaybk.com.tw/cathaybk//enterprise_finance03.asp                           NaN                                                         \n",
       "https://www.cathaybk.com.tw/cathaybk/?aspxerrorpath=/cathaybk/DSA/OpenAccount/Step1.aspx NaN                                                         \n",
       "\n",
       "PageLocation                                                                              https://www.cathaybk.com.tw/MobileAcct/WebOpenAct_step2.aspx  \\\n",
       "PageLocation                                                                                                                                             \n",
       "https://www.cathaybk.com.tw/Cathaybk/card/login_news_list.asp                            NaN                                                             \n",
       "https://www.cathaybk.com.tw/Cathaybk/deposit/rate.asp                                    NaN                                                             \n",
       "https://www.cathaybk.com.tw/Cathaybk/e_service/linepay/event/2015/201512linepay          NaN                                                             \n",
       "https://www.cathaybk.com.tw/Cathaybk/index.asp                                           NaN                                                             \n",
       "https://www.cathaybk.com.tw/Cathaybk/index_personal.asp                                  NaN                                                             \n",
       "https://www.cathaybk.com.tw/Cathaybk/personal_foreign05.asp                              NaN                                                             \n",
       "https://www.cathaybk.com.tw/Cathaybk/personal_info06.asp                                 NaN                                                             \n",
       "https://www.cathaybk.com.tw/Cathaybk/personal_info07.asp                                 NaN                                                             \n",
       "https://www.cathaybk.com.tw/Cathaybk/personal_marketing.asp                              NaN                                                             \n",
       "https://www.cathaybk.com.tw/Cathaybk/personal_marketing_life.asp                         NaN                                                             \n",
       "https://www.cathaybk.com.tw/Cathaybk/trust/trust_2_2_2.asp                               NaN                                                             \n",
       "https://www.cathaybk.com.tw/Cathaybk/trust/trust_hotkey_1_07.asp                         NaN                                                             \n",
       "https://www.cathaybk.com.tw/Cathaybk/trust/trust_index.asp                               NaN                                                             \n",
       "https://www.cathaybk.com.tw/Cathaybk/trust_fundinfo01.asp                                NaN                                                             \n",
       "https://www.cathaybk.com.tw/Cathaybk/trust_fundinfo02.asp                                NaN                                                             \n",
       "https://www.cathaybk.com.tw/Cathaybk/trust_fundinfo03.asp                                NaN                                                             \n",
       "https://www.cathaybk.com.tw/Cathaybk/vip/hotkey_1_2.asp                                  NaN                                                             \n",
       "https://www.cathaybk.com.tw/Cathaybk/vip/myvip_1_1_1.asp                                 NaN                                                             \n",
       "https://www.cathaybk.com.tw/Cathaybk/vip/myvip_2016_news-1.asp                           NaN                                                             \n",
       "https://www.cathaybk.com.tw/Cathaybk/vip/myvip_index.asp                                 NaN                                                             \n",
       "https://www.cathaybk.com.tw/Cathaybk/vip/news.asp                                        NaN                                                             \n",
       "https://www.cathaybk.com.tw/MobileAcct/WebOpenAct.aspx                                    0.245124                                                       \n",
       "https://www.cathaybk.com.tw/MobileAcct/WebOpenAct_1.aspx                                  0.393073                                                       \n",
       "https://www.cathaybk.com.tw/MobileAcct/WebOpenAct_step2.aspx                              1.000000                                                       \n",
       "https://www.cathaybk.com.tw/MobileAcct/WebOpenAct_step3.aspx                             NaN                                                             \n",
       "https://www.cathaybk.com.tw/cathaybk                                                      0.248548                                                       \n",
       "https://www.cathaybk.com.tw/cathaybk/#                                                   NaN                                                             \n",
       "https://www.cathaybk.com.tw/cathaybk//card/event/bonus/bonus_2_1.asp                     NaN                                                             \n",
       "https://www.cathaybk.com.tw/cathaybk//enterprise_finance03.asp                           NaN                                                             \n",
       "https://www.cathaybk.com.tw/cathaybk/?aspxerrorpath=/cathaybk/DSA/OpenAccount/Step1.aspx NaN                                                             \n",
       "\n",
       "PageLocation                                                                              https://www.cathaybk.com.tw/MobileAcct/WebOpenAct_step3.aspx  \\\n",
       "PageLocation                                                                                                                                             \n",
       "https://www.cathaybk.com.tw/Cathaybk/card/login_news_list.asp                            NaN                                                             \n",
       "https://www.cathaybk.com.tw/Cathaybk/deposit/rate.asp                                    NaN                                                             \n",
       "https://www.cathaybk.com.tw/Cathaybk/e_service/linepay/event/2015/201512linepay          NaN                                                             \n",
       "https://www.cathaybk.com.tw/Cathaybk/index.asp                                           NaN                                                             \n",
       "https://www.cathaybk.com.tw/Cathaybk/index_personal.asp                                  NaN                                                             \n",
       "https://www.cathaybk.com.tw/Cathaybk/personal_foreign05.asp                              NaN                                                             \n",
       "https://www.cathaybk.com.tw/Cathaybk/personal_info06.asp                                 NaN                                                             \n",
       "https://www.cathaybk.com.tw/Cathaybk/personal_info07.asp                                 NaN                                                             \n",
       "https://www.cathaybk.com.tw/Cathaybk/personal_marketing.asp                              NaN                                                             \n",
       "https://www.cathaybk.com.tw/Cathaybk/personal_marketing_life.asp                         NaN                                                             \n",
       "https://www.cathaybk.com.tw/Cathaybk/trust/trust_2_2_2.asp                               NaN                                                             \n",
       "https://www.cathaybk.com.tw/Cathaybk/trust/trust_hotkey_1_07.asp                         NaN                                                             \n",
       "https://www.cathaybk.com.tw/Cathaybk/trust/trust_index.asp                               NaN                                                             \n",
       "https://www.cathaybk.com.tw/Cathaybk/trust_fundinfo01.asp                                NaN                                                             \n",
       "https://www.cathaybk.com.tw/Cathaybk/trust_fundinfo02.asp                                NaN                                                             \n",
       "https://www.cathaybk.com.tw/Cathaybk/trust_fundinfo03.asp                                NaN                                                             \n",
       "https://www.cathaybk.com.tw/Cathaybk/vip/hotkey_1_2.asp                                  NaN                                                             \n",
       "https://www.cathaybk.com.tw/Cathaybk/vip/myvip_1_1_1.asp                                 NaN                                                             \n",
       "https://www.cathaybk.com.tw/Cathaybk/vip/myvip_2016_news-1.asp                           NaN                                                             \n",
       "https://www.cathaybk.com.tw/Cathaybk/vip/myvip_index.asp                                 NaN                                                             \n",
       "https://www.cathaybk.com.tw/Cathaybk/vip/news.asp                                        NaN                                                             \n",
       "https://www.cathaybk.com.tw/MobileAcct/WebOpenAct.aspx                                   NaN                                                             \n",
       "https://www.cathaybk.com.tw/MobileAcct/WebOpenAct_1.aspx                                 NaN                                                             \n",
       "https://www.cathaybk.com.tw/MobileAcct/WebOpenAct_step2.aspx                             NaN                                                             \n",
       "https://www.cathaybk.com.tw/MobileAcct/WebOpenAct_step3.aspx                             NaN                                                             \n",
       "https://www.cathaybk.com.tw/cathaybk                                                     NaN                                                             \n",
       "https://www.cathaybk.com.tw/cathaybk/#                                                   NaN                                                             \n",
       "https://www.cathaybk.com.tw/cathaybk//card/event/bonus/bonus_2_1.asp                     NaN                                                             \n",
       "https://www.cathaybk.com.tw/cathaybk//enterprise_finance03.asp                           NaN                                                             \n",
       "https://www.cathaybk.com.tw/cathaybk/?aspxerrorpath=/cathaybk/DSA/OpenAccount/Step1.aspx NaN                                                             \n",
       "\n",
       "PageLocation                                                                              https://www.cathaybk.com.tw/cathaybk  \\\n",
       "PageLocation                                                                                                                     \n",
       "https://www.cathaybk.com.tw/Cathaybk/card/login_news_list.asp                            NaN                                     \n",
       "https://www.cathaybk.com.tw/Cathaybk/deposit/rate.asp                                    NaN                                     \n",
       "https://www.cathaybk.com.tw/Cathaybk/e_service/linepay/event/2015/201512linepay          NaN                                     \n",
       "https://www.cathaybk.com.tw/Cathaybk/index.asp                                           NaN                                     \n",
       "https://www.cathaybk.com.tw/Cathaybk/index_personal.asp                                  NaN                                     \n",
       "https://www.cathaybk.com.tw/Cathaybk/personal_foreign05.asp                              NaN                                     \n",
       "https://www.cathaybk.com.tw/Cathaybk/personal_info06.asp                                 NaN                                     \n",
       "https://www.cathaybk.com.tw/Cathaybk/personal_info07.asp                                 NaN                                     \n",
       "https://www.cathaybk.com.tw/Cathaybk/personal_marketing.asp                              NaN                                     \n",
       "https://www.cathaybk.com.tw/Cathaybk/personal_marketing_life.asp                         NaN                                     \n",
       "https://www.cathaybk.com.tw/Cathaybk/trust/trust_2_2_2.asp                               NaN                                     \n",
       "https://www.cathaybk.com.tw/Cathaybk/trust/trust_hotkey_1_07.asp                         NaN                                     \n",
       "https://www.cathaybk.com.tw/Cathaybk/trust/trust_index.asp                               NaN                                     \n",
       "https://www.cathaybk.com.tw/Cathaybk/trust_fundinfo01.asp                                NaN                                     \n",
       "https://www.cathaybk.com.tw/Cathaybk/trust_fundinfo02.asp                                NaN                                     \n",
       "https://www.cathaybk.com.tw/Cathaybk/trust_fundinfo03.asp                                NaN                                     \n",
       "https://www.cathaybk.com.tw/Cathaybk/vip/hotkey_1_2.asp                                  NaN                                     \n",
       "https://www.cathaybk.com.tw/Cathaybk/vip/myvip_1_1_1.asp                                 NaN                                     \n",
       "https://www.cathaybk.com.tw/Cathaybk/vip/myvip_2016_news-1.asp                           NaN                                     \n",
       "https://www.cathaybk.com.tw/Cathaybk/vip/myvip_index.asp                                 NaN                                     \n",
       "https://www.cathaybk.com.tw/Cathaybk/vip/news.asp                                        NaN                                     \n",
       "https://www.cathaybk.com.tw/MobileAcct/WebOpenAct.aspx                                    0.185695                               \n",
       "https://www.cathaybk.com.tw/MobileAcct/WebOpenAct_1.aspx                                 NaN                                     \n",
       "https://www.cathaybk.com.tw/MobileAcct/WebOpenAct_step2.aspx                              0.248548                               \n",
       "https://www.cathaybk.com.tw/MobileAcct/WebOpenAct_step3.aspx                             NaN                                     \n",
       "https://www.cathaybk.com.tw/cathaybk                                                      1.000000                               \n",
       "https://www.cathaybk.com.tw/cathaybk/#                                                   NaN                                     \n",
       "https://www.cathaybk.com.tw/cathaybk//card/event/bonus/bonus_2_1.asp                     NaN                                     \n",
       "https://www.cathaybk.com.tw/cathaybk//enterprise_finance03.asp                           NaN                                     \n",
       "https://www.cathaybk.com.tw/cathaybk/?aspxerrorpath=/cathaybk/DSA/OpenAccount/Step1.aspx NaN                                     \n",
       "\n",
       "PageLocation                                                                              https://www.cathaybk.com.tw/cathaybk/#  \\\n",
       "PageLocation                                                                                                                       \n",
       "https://www.cathaybk.com.tw/Cathaybk/card/login_news_list.asp                            NaN                                       \n",
       "https://www.cathaybk.com.tw/Cathaybk/deposit/rate.asp                                    NaN                                       \n",
       "https://www.cathaybk.com.tw/Cathaybk/e_service/linepay/event/2015/201512linepay          NaN                                       \n",
       "https://www.cathaybk.com.tw/Cathaybk/index.asp                                           NaN                                       \n",
       "https://www.cathaybk.com.tw/Cathaybk/index_personal.asp                                  NaN                                       \n",
       "https://www.cathaybk.com.tw/Cathaybk/personal_foreign05.asp                              NaN                                       \n",
       "https://www.cathaybk.com.tw/Cathaybk/personal_info06.asp                                 NaN                                       \n",
       "https://www.cathaybk.com.tw/Cathaybk/personal_info07.asp                                 NaN                                       \n",
       "https://www.cathaybk.com.tw/Cathaybk/personal_marketing.asp                              NaN                                       \n",
       "https://www.cathaybk.com.tw/Cathaybk/personal_marketing_life.asp                         NaN                                       \n",
       "https://www.cathaybk.com.tw/Cathaybk/trust/trust_2_2_2.asp                               NaN                                       \n",
       "https://www.cathaybk.com.tw/Cathaybk/trust/trust_hotkey_1_07.asp                         NaN                                       \n",
       "https://www.cathaybk.com.tw/Cathaybk/trust/trust_index.asp                               NaN                                       \n",
       "https://www.cathaybk.com.tw/Cathaybk/trust_fundinfo01.asp                                NaN                                       \n",
       "https://www.cathaybk.com.tw/Cathaybk/trust_fundinfo02.asp                                NaN                                       \n",
       "https://www.cathaybk.com.tw/Cathaybk/trust_fundinfo03.asp                                NaN                                       \n",
       "https://www.cathaybk.com.tw/Cathaybk/vip/hotkey_1_2.asp                                  NaN                                       \n",
       "https://www.cathaybk.com.tw/Cathaybk/vip/myvip_1_1_1.asp                                 NaN                                       \n",
       "https://www.cathaybk.com.tw/Cathaybk/vip/myvip_2016_news-1.asp                           NaN                                       \n",
       "https://www.cathaybk.com.tw/Cathaybk/vip/myvip_index.asp                                 NaN                                       \n",
       "https://www.cathaybk.com.tw/Cathaybk/vip/news.asp                                        NaN                                       \n",
       "https://www.cathaybk.com.tw/MobileAcct/WebOpenAct.aspx                                   NaN                                       \n",
       "https://www.cathaybk.com.tw/MobileAcct/WebOpenAct_1.aspx                                 NaN                                       \n",
       "https://www.cathaybk.com.tw/MobileAcct/WebOpenAct_step2.aspx                             NaN                                       \n",
       "https://www.cathaybk.com.tw/MobileAcct/WebOpenAct_step3.aspx                             NaN                                       \n",
       "https://www.cathaybk.com.tw/cathaybk                                                     NaN                                       \n",
       "https://www.cathaybk.com.tw/cathaybk/#                                                    1.0                                      \n",
       "https://www.cathaybk.com.tw/cathaybk//card/event/bonus/bonus_2_1.asp                     NaN                                       \n",
       "https://www.cathaybk.com.tw/cathaybk//enterprise_finance03.asp                           NaN                                       \n",
       "https://www.cathaybk.com.tw/cathaybk/?aspxerrorpath=/cathaybk/DSA/OpenAccount/Step1.aspx NaN                                       \n",
       "\n",
       "PageLocation                                                                              https://www.cathaybk.com.tw/cathaybk//card/event/bonus/bonus_2_1.asp  \\\n",
       "PageLocation                                                                                                                                                     \n",
       "https://www.cathaybk.com.tw/Cathaybk/card/login_news_list.asp                            NaN                                                                     \n",
       "https://www.cathaybk.com.tw/Cathaybk/deposit/rate.asp                                    NaN                                                                     \n",
       "https://www.cathaybk.com.tw/Cathaybk/e_service/linepay/event/2015/201512linepay          NaN                                                                     \n",
       "https://www.cathaybk.com.tw/Cathaybk/index.asp                                           NaN                                                                     \n",
       "https://www.cathaybk.com.tw/Cathaybk/index_personal.asp                                  NaN                                                                     \n",
       "https://www.cathaybk.com.tw/Cathaybk/personal_foreign05.asp                              NaN                                                                     \n",
       "https://www.cathaybk.com.tw/Cathaybk/personal_info06.asp                                 NaN                                                                     \n",
       "https://www.cathaybk.com.tw/Cathaybk/personal_info07.asp                                 NaN                                                                     \n",
       "https://www.cathaybk.com.tw/Cathaybk/personal_marketing.asp                              NaN                                                                     \n",
       "https://www.cathaybk.com.tw/Cathaybk/personal_marketing_life.asp                         NaN                                                                     \n",
       "https://www.cathaybk.com.tw/Cathaybk/trust/trust_2_2_2.asp                               NaN                                                                     \n",
       "https://www.cathaybk.com.tw/Cathaybk/trust/trust_hotkey_1_07.asp                         NaN                                                                     \n",
       "https://www.cathaybk.com.tw/Cathaybk/trust/trust_index.asp                               NaN                                                                     \n",
       "https://www.cathaybk.com.tw/Cathaybk/trust_fundinfo01.asp                                NaN                                                                     \n",
       "https://www.cathaybk.com.tw/Cathaybk/trust_fundinfo02.asp                                NaN                                                                     \n",
       "https://www.cathaybk.com.tw/Cathaybk/trust_fundinfo03.asp                                NaN                                                                     \n",
       "https://www.cathaybk.com.tw/Cathaybk/vip/hotkey_1_2.asp                                  NaN                                                                     \n",
       "https://www.cathaybk.com.tw/Cathaybk/vip/myvip_1_1_1.asp                                 NaN                                                                     \n",
       "https://www.cathaybk.com.tw/Cathaybk/vip/myvip_2016_news-1.asp                           NaN                                                                     \n",
       "https://www.cathaybk.com.tw/Cathaybk/vip/myvip_index.asp                                 NaN                                                                     \n",
       "https://www.cathaybk.com.tw/Cathaybk/vip/news.asp                                        NaN                                                                     \n",
       "https://www.cathaybk.com.tw/MobileAcct/WebOpenAct.aspx                                   NaN                                                                     \n",
       "https://www.cathaybk.com.tw/MobileAcct/WebOpenAct_1.aspx                                 NaN                                                                     \n",
       "https://www.cathaybk.com.tw/MobileAcct/WebOpenAct_step2.aspx                             NaN                                                                     \n",
       "https://www.cathaybk.com.tw/MobileAcct/WebOpenAct_step3.aspx                             NaN                                                                     \n",
       "https://www.cathaybk.com.tw/cathaybk                                                     NaN                                                                     \n",
       "https://www.cathaybk.com.tw/cathaybk/#                                                   NaN                                                                     \n",
       "https://www.cathaybk.com.tw/cathaybk//card/event/bonus/bonus_2_1.asp                     NaN                                                                     \n",
       "https://www.cathaybk.com.tw/cathaybk//enterprise_finance03.asp                           NaN                                                                     \n",
       "https://www.cathaybk.com.tw/cathaybk/?aspxerrorpath=/cathaybk/DSA/OpenAccount/Step1.aspx NaN                                                                     \n",
       "\n",
       "PageLocation                                                                              https://www.cathaybk.com.tw/cathaybk//enterprise_finance03.asp  \\\n",
       "PageLocation                                                                                                                                               \n",
       "https://www.cathaybk.com.tw/Cathaybk/card/login_news_list.asp                            NaN                                                               \n",
       "https://www.cathaybk.com.tw/Cathaybk/deposit/rate.asp                                    NaN                                                               \n",
       "https://www.cathaybk.com.tw/Cathaybk/e_service/linepay/event/2015/201512linepay          NaN                                                               \n",
       "https://www.cathaybk.com.tw/Cathaybk/index.asp                                           NaN                                                               \n",
       "https://www.cathaybk.com.tw/Cathaybk/index_personal.asp                                  NaN                                                               \n",
       "https://www.cathaybk.com.tw/Cathaybk/personal_foreign05.asp                              NaN                                                               \n",
       "https://www.cathaybk.com.tw/Cathaybk/personal_info06.asp                                 NaN                                                               \n",
       "https://www.cathaybk.com.tw/Cathaybk/personal_info07.asp                                 NaN                                                               \n",
       "https://www.cathaybk.com.tw/Cathaybk/personal_marketing.asp                              NaN                                                               \n",
       "https://www.cathaybk.com.tw/Cathaybk/personal_marketing_life.asp                         NaN                                                               \n",
       "https://www.cathaybk.com.tw/Cathaybk/trust/trust_2_2_2.asp                               NaN                                                               \n",
       "https://www.cathaybk.com.tw/Cathaybk/trust/trust_hotkey_1_07.asp                         NaN                                                               \n",
       "https://www.cathaybk.com.tw/Cathaybk/trust/trust_index.asp                               NaN                                                               \n",
       "https://www.cathaybk.com.tw/Cathaybk/trust_fundinfo01.asp                                NaN                                                               \n",
       "https://www.cathaybk.com.tw/Cathaybk/trust_fundinfo02.asp                                NaN                                                               \n",
       "https://www.cathaybk.com.tw/Cathaybk/trust_fundinfo03.asp                                NaN                                                               \n",
       "https://www.cathaybk.com.tw/Cathaybk/vip/hotkey_1_2.asp                                  NaN                                                               \n",
       "https://www.cathaybk.com.tw/Cathaybk/vip/myvip_1_1_1.asp                                 NaN                                                               \n",
       "https://www.cathaybk.com.tw/Cathaybk/vip/myvip_2016_news-1.asp                           NaN                                                               \n",
       "https://www.cathaybk.com.tw/Cathaybk/vip/myvip_index.asp                                 NaN                                                               \n",
       "https://www.cathaybk.com.tw/Cathaybk/vip/news.asp                                        NaN                                                               \n",
       "https://www.cathaybk.com.tw/MobileAcct/WebOpenAct.aspx                                   NaN                                                               \n",
       "https://www.cathaybk.com.tw/MobileAcct/WebOpenAct_1.aspx                                 NaN                                                               \n",
       "https://www.cathaybk.com.tw/MobileAcct/WebOpenAct_step2.aspx                             NaN                                                               \n",
       "https://www.cathaybk.com.tw/MobileAcct/WebOpenAct_step3.aspx                             NaN                                                               \n",
       "https://www.cathaybk.com.tw/cathaybk                                                     NaN                                                               \n",
       "https://www.cathaybk.com.tw/cathaybk/#                                                   NaN                                                               \n",
       "https://www.cathaybk.com.tw/cathaybk//card/event/bonus/bonus_2_1.asp                     NaN                                                               \n",
       "https://www.cathaybk.com.tw/cathaybk//enterprise_finance03.asp                           NaN                                                               \n",
       "https://www.cathaybk.com.tw/cathaybk/?aspxerrorpath=/cathaybk/DSA/OpenAccount/Step1.aspx NaN                                                               \n",
       "\n",
       "PageLocation                                                                              https://www.cathaybk.com.tw/cathaybk/?aspxerrorpath=/cathaybk/DSA/OpenAccount/Step1.aspx  \n",
       "PageLocation                                                                                                                                                                        \n",
       "https://www.cathaybk.com.tw/Cathaybk/card/login_news_list.asp                            NaN                                                                                        \n",
       "https://www.cathaybk.com.tw/Cathaybk/deposit/rate.asp                                    NaN                                                                                        \n",
       "https://www.cathaybk.com.tw/Cathaybk/e_service/linepay/event/2015/201512linepay          NaN                                                                                        \n",
       "https://www.cathaybk.com.tw/Cathaybk/index.asp                                           NaN                                                                                        \n",
       "https://www.cathaybk.com.tw/Cathaybk/index_personal.asp                                  NaN                                                                                        \n",
       "https://www.cathaybk.com.tw/Cathaybk/personal_foreign05.asp                              NaN                                                                                        \n",
       "https://www.cathaybk.com.tw/Cathaybk/personal_info06.asp                                 NaN                                                                                        \n",
       "https://www.cathaybk.com.tw/Cathaybk/personal_info07.asp                                 NaN                                                                                        \n",
       "https://www.cathaybk.com.tw/Cathaybk/personal_marketing.asp                              NaN                                                                                        \n",
       "https://www.cathaybk.com.tw/Cathaybk/personal_marketing_life.asp                         NaN                                                                                        \n",
       "https://www.cathaybk.com.tw/Cathaybk/trust/trust_2_2_2.asp                               NaN                                                                                        \n",
       "https://www.cathaybk.com.tw/Cathaybk/trust/trust_hotkey_1_07.asp                         NaN                                                                                        \n",
       "https://www.cathaybk.com.tw/Cathaybk/trust/trust_index.asp                               NaN                                                                                        \n",
       "https://www.cathaybk.com.tw/Cathaybk/trust_fundinfo01.asp                                NaN                                                                                        \n",
       "https://www.cathaybk.com.tw/Cathaybk/trust_fundinfo02.asp                                NaN                                                                                        \n",
       "https://www.cathaybk.com.tw/Cathaybk/trust_fundinfo03.asp                                NaN                                                                                        \n",
       "https://www.cathaybk.com.tw/Cathaybk/vip/hotkey_1_2.asp                                  NaN                                                                                        \n",
       "https://www.cathaybk.com.tw/Cathaybk/vip/myvip_1_1_1.asp                                 NaN                                                                                        \n",
       "https://www.cathaybk.com.tw/Cathaybk/vip/myvip_2016_news-1.asp                           NaN                                                                                        \n",
       "https://www.cathaybk.com.tw/Cathaybk/vip/myvip_index.asp                                 NaN                                                                                        \n",
       "https://www.cathaybk.com.tw/Cathaybk/vip/news.asp                                        NaN                                                                                        \n",
       "https://www.cathaybk.com.tw/MobileAcct/WebOpenAct.aspx                                   NaN                                                                                        \n",
       "https://www.cathaybk.com.tw/MobileAcct/WebOpenAct_1.aspx                                 NaN                                                                                        \n",
       "https://www.cathaybk.com.tw/MobileAcct/WebOpenAct_step2.aspx                             NaN                                                                                        \n",
       "https://www.cathaybk.com.tw/MobileAcct/WebOpenAct_step3.aspx                             NaN                                                                                        \n",
       "https://www.cathaybk.com.tw/cathaybk                                                     NaN                                                                                        \n",
       "https://www.cathaybk.com.tw/cathaybk/#                                                   NaN                                                                                        \n",
       "https://www.cathaybk.com.tw/cathaybk//card/event/bonus/bonus_2_1.asp                     NaN                                                                                        \n",
       "https://www.cathaybk.com.tw/cathaybk//enterprise_finance03.asp                           NaN                                                                                        \n",
       "https://www.cathaybk.com.tw/cathaybk/?aspxerrorpath=/cathaybk/DSA/OpenAccount/Step1.aspx NaN                                                                                        \n",
       "\n",
       "[30 rows x 30 columns]"
      ]
     },
     "execution_count": 29,
     "metadata": {},
     "output_type": "execute_result"
    }
   ],
   "source": [
    "pivoted2.corr()"
   ]
  },
  {
   "cell_type": "code",
   "execution_count": 30,
   "metadata": {
    "collapsed": false
   },
   "outputs": [
    {
     "data": {
      "text/plain": [
       "<matplotlib.axes._subplots.AxesSubplot at 0x18a994a8>"
      ]
     },
     "execution_count": 30,
     "metadata": {},
     "output_type": "execute_result"
    },
    {
     "data": {
      "image/png": "[encoded data removed]",
      "text/plain": [
       "<matplotlib.figure.Figure at 0x64496d8>"
      ]
     },
     "metadata": {},
     "output_type": "display_data"
    }
   ],
   "source": [
    "%matplotlib inline\n",
    "from matplotlib import pyplot as plt\n",
    "import seaborn as sns\n",
    "sns.heatmap(pivoted2.corr(), annot=True, center=0, cmap='coolwarm')"
   ]
  },
  {
   "cell_type": "code",
   "execution_count": null,
   "metadata": {
    "collapsed": true
   },
   "outputs": [],
   "source": []
  }
 ],
 "metadata": {
  "kernelspec": {
   "display_name": "Python 3",
   "language": "python",
   "name": "python3"
  },
  "language_info": {
   "codemirror_mode": {
    "name": "ipython",
    "version": 3
   },
   "file_extension": ".py",
   "mimetype": "text/x-python",
   "name": "python",
   "nbconvert_exporter": "python",
   "pygments_lexer": "ipython3",
   "version": "3.5.1"
  }
 },
 "nbformat": 4,
 "nbformat_minor": 0
}
