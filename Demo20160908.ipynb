{
 "cells": [
  {
   "cell_type": "markdown",
   "metadata": {},
   "source": [
    "## 讀取資料"
   ]
  },
  {
   "cell_type": "code",
   "execution_count": 1,
   "metadata": {
    "collapsed": true
   },
   "outputs": [],
   "source": [
    "col = ['AttributionSequenceInSession', 'EventTimestamp', 'PageInstanceID',\n",
    "       'PageLocation', 'PageLocationDomain', 'PageSequenceInAttribution',\n",
    "       'PageSequenceInSession', 'PageTitle', 'ReferringPageInstanceID',\n",
    "       'SessionNumber', 'TopLevelWindowID', 'TrackingUuid', 'ProfileUiid']"
   ]
  },
  {
   "cell_type": "code",
   "execution_count": 2,
   "metadata": {
    "collapsed": true
   },
   "outputs": [],
   "source": [
    "import pandas\n",
    "df_lists = []\n",
    "for l in 'abcdefg':\n",
    "    if l == 'a':\n",
    "        df = pandas.read_csv('bigdatatmp/ya{}'.format(l), encoding = 'utf-8' , parse_dates=[1])\n",
    "    else:\n",
    "        df = pandas.read_csv('bigdatatmp/ya{}'.format(l), header=None, encoding = 'utf-8' , parse_dates=[1])\n",
    "        df.columns = col\n",
    "    df_lists.append(df)"
   ]
  },
  {
   "cell_type": "code",
   "execution_count": 3,
   "metadata": {
    "collapsed": true
   },
   "outputs": [],
   "source": [
    "page01 = pandas.concat(df_lists)"
   ]
  },
  {
   "cell_type": "code",
   "execution_count": 5,
   "metadata": {
    "collapsed": false
   },
   "outputs": [
    {
     "name": "stdout",
     "output_type": "stream",
     "text": [
      "<class 'pandas.core.frame.DataFrame'>\n",
      "Int64Index: 6795332 entries, 0 to 804240\n",
      "Data columns (total 13 columns):\n",
      "AttributionSequenceInSession    int64\n",
      "EventTimestamp                  datetime64[ns]\n",
      "PageInstanceID                  int64\n",
      "PageLocation                    object\n",
      "PageLocationDomain              object\n",
      "PageSequenceInAttribution       int64\n",
      "PageSequenceInSession           int64\n",
      "PageTitle                       object\n",
      "ReferringPageInstanceID         object\n",
      "SessionNumber                   int64\n",
      "TopLevelWindowID                object\n",
      "TrackingUuid                    object\n",
      "ProfileUiid                     object\n",
      "dtypes: datetime64[ns](1), int64(5), object(7)\n",
      "memory usage: 725.8+ MB\n"
     ]
    }
   ],
   "source": [
    "page01.info()"
   ]
  },
  {
   "cell_type": "code",
   "execution_count": 9,
   "metadata": {
    "collapsed": false
   },
   "outputs": [
    {
     "name": "stderr",
     "output_type": "stream",
     "text": [
      "C:\\Anaconda32\\lib\\site-packages\\pandas\\core\\generic.py:1101: PerformanceWarning: \n",
      "your performance may suffer as PyTables will pickle object types that it cannot\n",
      "map directly to c-types [inferred_type->mixed,key->block2_values] [items->['PageLocation', 'PageLocationDomain', 'PageTitle', 'ReferringPageInstanceID', 'TopLevelWindowID', 'TrackingUuid', 'ProfileUiid']]\n",
      "\n",
      "  return pytables.to_hdf(path_or_buf, key, self, **kwargs)\n"
     ]
    }
   ],
   "source": [
    "page01.to_hdf('test3.h5', 'test1', complevel = 9,complib = 'zlib' )"
   ]
  },
  {
   "cell_type": "code",
   "execution_count": 10,
   "metadata": {
    "collapsed": true
   },
   "outputs": [],
   "source": [
    "del page01"
   ]
  },
  {
   "cell_type": "code",
   "execution_count": 11,
   "metadata": {
    "collapsed": true
   },
   "outputs": [],
   "source": [
    "page01 = pandas.read_hdf('test3.h5')"
   ]
  },
  {
   "cell_type": "code",
   "execution_count": 13,
   "metadata": {
    "collapsed": false
   },
   "outputs": [
    {
     "name": "stdout",
     "output_type": "stream",
     "text": [
      "<class 'pandas.core.frame.DataFrame'>\n",
      "Int64Index: 6795332 entries, 0 to 804240\n",
      "Data columns (total 13 columns):\n",
      "AttributionSequenceInSession    int64\n",
      "EventTimestamp                  datetime64[ns]\n",
      "PageInstanceID                  int64\n",
      "PageLocation                    object\n",
      "PageLocationDomain              object\n",
      "PageSequenceInAttribution       int64\n",
      "PageSequenceInSession           int64\n",
      "PageTitle                       object\n",
      "ReferringPageInstanceID         object\n",
      "SessionNumber                   int64\n",
      "TopLevelWindowID                object\n",
      "TrackingUuid                    object\n",
      "ProfileUiid                     object\n",
      "dtypes: datetime64[ns](1), int64(5), object(7)\n",
      "memory usage: 725.8+ MB\n"
     ]
    }
   ],
   "source": [
    "page01.info()"
   ]
  },
  {
   "cell_type": "code",
   "execution_count": 16,
   "metadata": {
    "collapsed": false
   },
   "outputs": [
    {
     "data": {
      "text/html": [
       "<div>\n",
       "<table border=\"1\" class=\"dataframe\">\n",
       "  <thead>\n",
       "    <tr style=\"text-align: right;\">\n",
       "      <th></th>\n",
       "      <th>AttributionSequenceInSession</th>\n",
       "      <th>EventTimestamp</th>\n",
       "      <th>PageInstanceID</th>\n",
       "      <th>PageLocation</th>\n",
       "      <th>PageLocationDomain</th>\n",
       "      <th>PageSequenceInAttribution</th>\n",
       "      <th>PageSequenceInSession</th>\n",
       "      <th>PageTitle</th>\n",
       "      <th>ReferringPageInstanceID</th>\n",
       "      <th>SessionNumber</th>\n",
       "      <th>TopLevelWindowID</th>\n",
       "      <th>TrackingUuid</th>\n",
       "      <th>ProfileUiid</th>\n",
       "    </tr>\n",
       "  </thead>\n",
       "  <tbody>\n",
       "    <tr>\n",
       "      <th>0</th>\n",
       "      <td>1</td>\n",
       "      <td>2016-07-20 16:11:23.384</td>\n",
       "      <td>200292034</td>\n",
       "      <td>https://www.mybank.com.tw/mybank/home/MyMobiBank</td>\n",
       "      <td>https://www.mybank.com.tw</td>\n",
       "      <td>1</td>\n",
       "      <td>1</td>\n",
       "      <td>@MyBank - H</td>\n",
       "      <td>Null</td>\n",
       "      <td>20029488</td>\n",
       "      <td>_14690022832350.8330724521074444_</td>\n",
       "      <td>e91778f6-dd1a-469a-ae6e-8778e71c3460</td>\n",
       "      <td>Null</td>\n",
       "    </tr>\n",
       "    <tr>\n",
       "      <th>1</th>\n",
       "      <td>1</td>\n",
       "      <td>2016-07-20 20:12:59.788</td>\n",
       "      <td>201053626</td>\n",
       "      <td>https://www.mybank.com.tw/MyBank/Quicklinks/Ho...</td>\n",
       "      <td>https://www.mybank.com.tw</td>\n",
       "      <td>2</td>\n",
       "      <td>2</td>\n",
       "      <td>@MyBank - H</td>\n",
       "      <td>Null</td>\n",
       "      <td>20105815</td>\n",
       "      <td>_14690167588220.0396215803685962_</td>\n",
       "      <td>a9fdf990-bd01-4370-87ec-72f1cf0b257f</td>\n",
       "      <td>Null</td>\n",
       "    </tr>\n",
       "    <tr>\n",
       "      <th>2</th>\n",
       "      <td>1</td>\n",
       "      <td>2016-07-20 11:31:30.485</td>\n",
       "      <td>198801327</td>\n",
       "      <td>https://www.mybank.com.tw/MyBank/Quicklinks/Home</td>\n",
       "      <td>https://www.mybank.com.tw</td>\n",
       "      <td>1</td>\n",
       "      <td>1</td>\n",
       "      <td>@MyBank - H</td>\n",
       "      <td>Null</td>\n",
       "      <td>19880321</td>\n",
       "      <td>_14689854656640.46536951102007046_</td>\n",
       "      <td>4170b9b6-6cd0-4452-a40f-0469fdbf4489</td>\n",
       "      <td>Null</td>\n",
       "    </tr>\n",
       "    <tr>\n",
       "      <th>3</th>\n",
       "      <td>1</td>\n",
       "      <td>2016-07-20 12:45:29.674</td>\n",
       "      <td>199200852</td>\n",
       "      <td>app://com.cathaybk.mymobibank.android.app</td>\n",
       "      <td>app://com.cathaybk.mymobibank.android.app</td>\n",
       "      <td>1</td>\n",
       "      <td>1</td>\n",
       "      <td>@</td>\n",
       "      <td>Null</td>\n",
       "      <td>19920228</td>\n",
       "      <td>Null</td>\n",
       "      <td>2ca95944-8442-49cd-b37b-e18d460e003a</td>\n",
       "      <td>Null</td>\n",
       "    </tr>\n",
       "    <tr>\n",
       "      <th>4</th>\n",
       "      <td>1</td>\n",
       "      <td>2016-07-20 17:34:26.700</td>\n",
       "      <td>200603410</td>\n",
       "      <td>app://com.cathaybk.mmb.ios.app/@</td>\n",
       "      <td>app://com.cathaybk.mmb.ios.app</td>\n",
       "      <td>2</td>\n",
       "      <td>2</td>\n",
       "      <td>@</td>\n",
       "      <td>Null</td>\n",
       "      <td>20060810</td>\n",
       "      <td>Null</td>\n",
       "      <td>86e51bd4-3893-4b24-9a36-79172908be34</td>\n",
       "      <td>Null</td>\n",
       "    </tr>\n",
       "  </tbody>\n",
       "</table>\n",
       "</div>"
      ],
      "text/plain": [
       "   AttributionSequenceInSession          EventTimestamp  PageInstanceID  \\\n",
       "0                             1 2016-07-20 16:11:23.384       200292034   \n",
       "1                             1 2016-07-20 20:12:59.788       201053626   \n",
       "2                             1 2016-07-20 11:31:30.485       198801327   \n",
       "3                             1 2016-07-20 12:45:29.674       199200852   \n",
       "4                             1 2016-07-20 17:34:26.700       200603410   \n",
       "\n",
       "                                        PageLocation  \\\n",
       "0   https://www.mybank.com.tw/mybank/home/MyMobiBank   \n",
       "1  https://www.mybank.com.tw/MyBank/Quicklinks/Ho...   \n",
       "2   https://www.mybank.com.tw/MyBank/Quicklinks/Home   \n",
       "3          app://com.cathaybk.mymobibank.android.app   \n",
       "4                   app://com.cathaybk.mmb.ios.app/@   \n",
       "\n",
       "                          PageLocationDomain  PageSequenceInAttribution  \\\n",
       "0                  https://www.mybank.com.tw                          1   \n",
       "1                  https://www.mybank.com.tw                          2   \n",
       "2                  https://www.mybank.com.tw                          1   \n",
       "3  app://com.cathaybk.mymobibank.android.app                          1   \n",
       "4             app://com.cathaybk.mmb.ios.app                          2   \n",
       "\n",
       "   PageSequenceInSession    PageTitle ReferringPageInstanceID  SessionNumber  \\\n",
       "0                      1  @MyBank - H                    Null       20029488   \n",
       "1                      2  @MyBank - H                    Null       20105815   \n",
       "2                      1  @MyBank - H                    Null       19880321   \n",
       "3                      1            @                    Null       19920228   \n",
       "4                      2            @                    Null       20060810   \n",
       "\n",
       "                     TopLevelWindowID                          TrackingUuid  \\\n",
       "0   _14690022832350.8330724521074444_  e91778f6-dd1a-469a-ae6e-8778e71c3460   \n",
       "1   _14690167588220.0396215803685962_  a9fdf990-bd01-4370-87ec-72f1cf0b257f   \n",
       "2  _14689854656640.46536951102007046_  4170b9b6-6cd0-4452-a40f-0469fdbf4489   \n",
       "3                                Null  2ca95944-8442-49cd-b37b-e18d460e003a   \n",
       "4                                Null  86e51bd4-3893-4b24-9a36-79172908be34   \n",
       "\n",
       "  ProfileUiid  \n",
       "0        Null  \n",
       "1        Null  \n",
       "2        Null  \n",
       "3        Null  \n",
       "4        Null  "
      ]
     },
     "execution_count": 16,
     "metadata": {},
     "output_type": "execute_result"
    }
   ],
   "source": [
    "page01.head()"
   ]
  },
  {
   "cell_type": "code",
   "execution_count": 19,
   "metadata": {
    "collapsed": false
   },
   "outputs": [
    {
     "data": {
      "text/plain": [
       "0     https://www.mybank.com.tw/mybank/home/MyMobiBank\n",
       "1    https://www.mybank.com.tw/MyBank/Quicklinks/Ho...\n",
       "2     https://www.mybank.com.tw/MyBank/Quicklinks/Home\n",
       "Name: PageLocation, dtype: object"
      ]
     },
     "execution_count": 19,
     "metadata": {},
     "output_type": "execute_result"
    }
   ],
   "source": [
    "page01.PageLocation.head(3)"
   ]
  },
  {
   "cell_type": "code",
   "execution_count": 21,
   "metadata": {
    "collapsed": false
   },
   "outputs": [
    {
     "data": {
      "text/plain": [
       "0     https://www.mybank.com.tw/mybank/home/MyMobiBank\n",
       "1    https://www.mybank.com.tw/MyBank/Quicklinks/Ho...\n",
       "2     https://www.mybank.com.tw/MyBank/Quicklinks/Home\n",
       "Name: PageLocation, dtype: object"
      ]
     },
     "execution_count": 21,
     "metadata": {},
     "output_type": "execute_result"
    }
   ],
   "source": [
    "page01['PageLocation'].head(3)"
   ]
  },
  {
   "cell_type": "code",
   "execution_count": 23,
   "metadata": {
    "collapsed": false
   },
   "outputs": [
    {
     "data": {
      "text/plain": [
       "0    False\n",
       "1    False\n",
       "2    False\n",
       "3     True\n",
       "4     True\n",
       "Name: PageLocation, dtype: bool"
      ]
     },
     "execution_count": 23,
     "metadata": {},
     "output_type": "execute_result"
    }
   ],
   "source": [
    "page01.PageLocation.str.contains('app:').head()"
   ]
  },
  {
   "cell_type": "code",
   "execution_count": 24,
   "metadata": {
    "collapsed": false
   },
   "outputs": [
    {
     "name": "stderr",
     "output_type": "stream",
     "text": [
      "C:\\Anaconda32\\lib\\site-packages\\pandas\\core\\generic.py:1101: PerformanceWarning: \n",
      "your performance may suffer as PyTables will pickle object types that it cannot\n",
      "map directly to c-types [inferred_type->mixed,key->block2_values] [items->['PageLocation', 'PageLocationDomain', 'PageTitle', 'ReferringPageInstanceID', 'TopLevelWindowID', 'TrackingUuid', 'ProfileUiid']]\n",
      "\n",
      "  return pytables.to_hdf(path_or_buf, key, self, **kwargs)\n"
     ]
    }
   ],
   "source": [
    "web01 = page01[~page01.PageLocation.str.contains('app:')]\n",
    "web01.to_hdf('w1.h5', 'w1')"
   ]
  },
  {
   "cell_type": "markdown",
   "metadata": {},
   "source": [
    "## 資料探索"
   ]
  },
  {
   "cell_type": "code",
   "execution_count": 26,
   "metadata": {
    "collapsed": false
   },
   "outputs": [
    {
     "data": {
      "text/html": [
       "<div>\n",
       "<table border=\"1\" class=\"dataframe\">\n",
       "  <thead>\n",
       "    <tr style=\"text-align: right;\">\n",
       "      <th></th>\n",
       "      <th>AttributionSequenceInSession</th>\n",
       "      <th>EventTimestamp</th>\n",
       "      <th>PageInstanceID</th>\n",
       "      <th>PageLocation</th>\n",
       "      <th>PageLocationDomain</th>\n",
       "      <th>PageSequenceInAttribution</th>\n",
       "      <th>PageSequenceInSession</th>\n",
       "      <th>PageTitle</th>\n",
       "      <th>ReferringPageInstanceID</th>\n",
       "      <th>SessionNumber</th>\n",
       "      <th>TopLevelWindowID</th>\n",
       "      <th>TrackingUuid</th>\n",
       "      <th>ProfileUiid</th>\n",
       "    </tr>\n",
       "  </thead>\n",
       "  <tbody>\n",
       "    <tr>\n",
       "      <th>0</th>\n",
       "      <td>1</td>\n",
       "      <td>2016-07-20 16:11:23.384</td>\n",
       "      <td>200292034</td>\n",
       "      <td>https://www.mybank.com.tw/mybank/home/MyMobiBank</td>\n",
       "      <td>https://www.mybank.com.tw</td>\n",
       "      <td>1</td>\n",
       "      <td>1</td>\n",
       "      <td>@MyBank - H</td>\n",
       "      <td>Null</td>\n",
       "      <td>20029488</td>\n",
       "      <td>_14690022832350.8330724521074444_</td>\n",
       "      <td>e91778f6-dd1a-469a-ae6e-8778e71c3460</td>\n",
       "      <td>Null</td>\n",
       "    </tr>\n",
       "    <tr>\n",
       "      <th>1</th>\n",
       "      <td>1</td>\n",
       "      <td>2016-07-20 20:12:59.788</td>\n",
       "      <td>201053626</td>\n",
       "      <td>https://www.mybank.com.tw/MyBank/Quicklinks/Ho...</td>\n",
       "      <td>https://www.mybank.com.tw</td>\n",
       "      <td>2</td>\n",
       "      <td>2</td>\n",
       "      <td>@MyBank - H</td>\n",
       "      <td>Null</td>\n",
       "      <td>20105815</td>\n",
       "      <td>_14690167588220.0396215803685962_</td>\n",
       "      <td>a9fdf990-bd01-4370-87ec-72f1cf0b257f</td>\n",
       "      <td>Null</td>\n",
       "    </tr>\n",
       "    <tr>\n",
       "      <th>2</th>\n",
       "      <td>1</td>\n",
       "      <td>2016-07-20 11:31:30.485</td>\n",
       "      <td>198801327</td>\n",
       "      <td>https://www.mybank.com.tw/MyBank/Quicklinks/Home</td>\n",
       "      <td>https://www.mybank.com.tw</td>\n",
       "      <td>1</td>\n",
       "      <td>1</td>\n",
       "      <td>@MyBank - H</td>\n",
       "      <td>Null</td>\n",
       "      <td>19880321</td>\n",
       "      <td>_14689854656640.46536951102007046_</td>\n",
       "      <td>4170b9b6-6cd0-4452-a40f-0469fdbf4489</td>\n",
       "      <td>Null</td>\n",
       "    </tr>\n",
       "    <tr>\n",
       "      <th>5</th>\n",
       "      <td>1</td>\n",
       "      <td>2016-07-20 12:17:57.815</td>\n",
       "      <td>199060283</td>\n",
       "      <td>https://www.cathaybk.com.tw/cathaybk/personal_...</td>\n",
       "      <td>https://www.cathaybk.com.tw</td>\n",
       "      <td>1</td>\n",
       "      <td>1</td>\n",
       "      <td>w{@-HA-Yv</td>\n",
       "      <td>Null</td>\n",
       "      <td>19906076</td>\n",
       "      <td>_14689882765560.7659958160835434_</td>\n",
       "      <td>2ca95944-8442-49cd-b37b-e18d460e003a</td>\n",
       "      <td>Null</td>\n",
       "    </tr>\n",
       "    <tr>\n",
       "      <th>6</th>\n",
       "      <td>1</td>\n",
       "      <td>2016-07-20 09:49:22.541</td>\n",
       "      <td>198152696</td>\n",
       "      <td>https://www.mybank.com.tw/MyBank/Quicklinks/Ho...</td>\n",
       "      <td>https://www.mybank.com.tw</td>\n",
       "      <td>1</td>\n",
       "      <td>1</td>\n",
       "      <td>@MyBank - H</td>\n",
       "      <td>Null</td>\n",
       "      <td>19815597</td>\n",
       "      <td>_14689757969690.06123872986063361_</td>\n",
       "      <td>9984fbef-6750-4e57-87c7-656f0b361d65</td>\n",
       "      <td>Null</td>\n",
       "    </tr>\n",
       "  </tbody>\n",
       "</table>\n",
       "</div>"
      ],
      "text/plain": [
       "   AttributionSequenceInSession          EventTimestamp  PageInstanceID  \\\n",
       "0                             1 2016-07-20 16:11:23.384       200292034   \n",
       "1                             1 2016-07-20 20:12:59.788       201053626   \n",
       "2                             1 2016-07-20 11:31:30.485       198801327   \n",
       "5                             1 2016-07-20 12:17:57.815       199060283   \n",
       "6                             1 2016-07-20 09:49:22.541       198152696   \n",
       "\n",
       "                                        PageLocation  \\\n",
       "0   https://www.mybank.com.tw/mybank/home/MyMobiBank   \n",
       "1  https://www.mybank.com.tw/MyBank/Quicklinks/Ho...   \n",
       "2   https://www.mybank.com.tw/MyBank/Quicklinks/Home   \n",
       "5  https://www.cathaybk.com.tw/cathaybk/personal_...   \n",
       "6  https://www.mybank.com.tw/MyBank/Quicklinks/Ho...   \n",
       "\n",
       "            PageLocationDomain  PageSequenceInAttribution  \\\n",
       "0    https://www.mybank.com.tw                          1   \n",
       "1    https://www.mybank.com.tw                          2   \n",
       "2    https://www.mybank.com.tw                          1   \n",
       "5  https://www.cathaybk.com.tw                          1   \n",
       "6    https://www.mybank.com.tw                          1   \n",
       "\n",
       "   PageSequenceInSession    PageTitle ReferringPageInstanceID  SessionNumber  \\\n",
       "0                      1  @MyBank - H                    Null       20029488   \n",
       "1                      2  @MyBank - H                    Null       20105815   \n",
       "2                      1  @MyBank - H                    Null       19880321   \n",
       "5                      1    w{@-HA-Yv                    Null       19906076   \n",
       "6                      1  @MyBank - H                    Null       19815597   \n",
       "\n",
       "                     TopLevelWindowID                          TrackingUuid  \\\n",
       "0   _14690022832350.8330724521074444_  e91778f6-dd1a-469a-ae6e-8778e71c3460   \n",
       "1   _14690167588220.0396215803685962_  a9fdf990-bd01-4370-87ec-72f1cf0b257f   \n",
       "2  _14689854656640.46536951102007046_  4170b9b6-6cd0-4452-a40f-0469fdbf4489   \n",
       "5   _14689882765560.7659958160835434_  2ca95944-8442-49cd-b37b-e18d460e003a   \n",
       "6  _14689757969690.06123872986063361_  9984fbef-6750-4e57-87c7-656f0b361d65   \n",
       "\n",
       "  ProfileUiid  \n",
       "0        Null  \n",
       "1        Null  \n",
       "2        Null  \n",
       "5        Null  \n",
       "6        Null  "
      ]
     },
     "execution_count": 26,
     "metadata": {},
     "output_type": "execute_result"
    }
   ],
   "source": [
    "web01.head()"
   ]
  },
  {
   "cell_type": "code",
   "execution_count": 28,
   "metadata": {
    "collapsed": false
   },
   "outputs": [
    {
     "data": {
      "text/plain": [
       "0   2016-07-20 16:11:23.384\n",
       "1   2016-07-20 20:12:59.788\n",
       "2   2016-07-20 11:31:30.485\n",
       "5   2016-07-20 12:17:57.815\n",
       "6   2016-07-20 09:49:22.541\n",
       "Name: EventTimestamp, dtype: datetime64[ns]"
      ]
     },
     "execution_count": 28,
     "metadata": {},
     "output_type": "execute_result"
    }
   ],
   "source": [
    "web01.EventTimestamp.head()"
   ]
  },
  {
   "cell_type": "code",
   "execution_count": 30,
   "metadata": {
    "collapsed": false
   },
   "outputs": [
    {
     "data": {
      "text/plain": [
       "0    2016-07-20\n",
       "1    2016-07-20\n",
       "2    2016-07-20\n",
       "5    2016-07-20\n",
       "6    2016-07-20\n",
       "Name: EventTimestamp, dtype: object"
      ]
     },
     "execution_count": 30,
     "metadata": {},
     "output_type": "execute_result"
    }
   ],
   "source": [
    "web01.EventTimestamp.dt.date.head()"
   ]
  },
  {
   "cell_type": "code",
   "execution_count": 31,
   "metadata": {
    "collapsed": false
   },
   "outputs": [
    {
     "data": {
      "text/plain": [
       "2016-07-25    951282\n",
       "2016-07-20    883184\n",
       "2016-07-21    874897\n",
       "2016-07-22    834354\n",
       "2016-07-23    337603\n",
       "2016-07-24    328683\n",
       "Name: EventTimestamp, dtype: int64"
      ]
     },
     "execution_count": 31,
     "metadata": {},
     "output_type": "execute_result"
    }
   ],
   "source": [
    "web01.EventTimestamp.dt.date.value_counts()"
   ]
  },
  {
   "cell_type": "code",
   "execution_count": 37,
   "metadata": {
    "collapsed": false
   },
   "outputs": [
    {
     "data": {
      "text/plain": [
       "4210003"
      ]
     },
     "execution_count": 37,
     "metadata": {},
     "output_type": "execute_result"
    }
   ],
   "source": [
    "web01.EventTimestamp.dt.date.count()"
   ]
  },
  {
   "cell_type": "code",
   "execution_count": 32,
   "metadata": {
    "collapsed": true
   },
   "outputs": [],
   "source": [
    "web_view_by_date = web01.EventTimestamp.dt.date.value_counts()"
   ]
  },
  {
   "cell_type": "code",
   "execution_count": 33,
   "metadata": {
    "collapsed": false
   },
   "outputs": [
    {
     "data": {
      "text/plain": [
       "pandas.core.series.Series"
      ]
     },
     "execution_count": 33,
     "metadata": {},
     "output_type": "execute_result"
    }
   ],
   "source": [
    "type(web_view_by_date)"
   ]
  },
  {
   "cell_type": "code",
   "execution_count": 35,
   "metadata": {
    "collapsed": false
   },
   "outputs": [
    {
     "name": "stdout",
     "output_type": "stream",
     "text": [
      "Series([], dtype: float64)\n",
      "2016-07-25    951282\n",
      "2016-07-20    883184\n",
      "2016-07-21    874897\n",
      "2016-07-22    834354\n",
      "2016-07-23    337603\n",
      "2016-07-24    328683\n",
      "dtype: int64\n"
     ]
    }
   ],
   "source": [
    "empty_series = pandas.Series()\n",
    "print(empty_series)\n",
    "empty_series= empty_series.append(web_view_by_date)\n",
    "print(empty_series)"
   ]
  },
  {
   "cell_type": "markdown",
   "metadata": {},
   "source": [
    "## 讀取page01 ~ 07 的資料"
   ]
  },
  {
   "cell_type": "code",
   "execution_count": 36,
   "metadata": {
    "collapsed": true
   },
   "outputs": [],
   "source": [
    "import pandas\n",
    "date_series = pandas.Series([])\n",
    "for p in range(1,8):\n",
    "    web = pandas.read_hdf('web0{}.h5'.format(p))\n",
    "    web_view_date = web.EventTimestamp.dt.date.value_counts()\n",
    "    date_series = date_series.append(web_view_date)\n"
   ]
  },
  {
   "cell_type": "code",
   "execution_count": 39,
   "metadata": {
    "collapsed": false
   },
   "outputs": [
    {
     "data": {
      "text/plain": [
       "2016-07-20     883184\n",
       "2016-07-21     874897\n",
       "2016-07-22     834354\n",
       "2016-07-23     337603\n",
       "2016-07-24     328683\n",
       "2016-07-25     951282\n",
       "2016-07-26     898462\n",
       "2016-07-27     877343\n",
       "2016-07-28     913577\n",
       "2016-07-29    1210027\n",
       "2016-07-30     395106\n",
       "2016-07-31     382709\n",
       "2016-08-01    1456365\n",
       "2016-08-02    1250164\n",
       "2016-08-03    1146646\n",
       "2016-08-04    1125910\n",
       "2016-08-05    1612407\n",
       "2016-08-06     450696\n",
       "2016-08-07     373144\n",
       "2016-08-08    1196956\n",
       "2016-08-09    1146753\n",
       "2016-08-10    1124049\n",
       "2016-08-11    1161011\n",
       "2016-08-12    1081757\n",
       "2016-08-13     146594\n",
       "2016-08-14     375267\n",
       "2016-08-15    1234007\n",
       "2016-08-16    1171552\n",
       "2016-08-17    1103967\n",
       "2016-08-18    1080477\n",
       "2016-08-19    1069106\n",
       "2016-08-20     406383\n",
       "dtype: int64"
      ]
     },
     "execution_count": 39,
     "metadata": {},
     "output_type": "execute_result"
    }
   ],
   "source": [
    "date_series.sort_index()"
   ]
  },
  {
   "cell_type": "code",
   "execution_count": 41,
   "metadata": {
    "collapsed": false
   },
   "outputs": [
    {
     "name": "stdout",
     "output_type": "stream",
     "text": [
      "Populating the interactive namespace from numpy and matplotlib\n"
     ]
    }
   ],
   "source": [
    "%pylab inline\n",
    "?date_series.plot\n",
    "#date_series.sort_index().plot(kind='line')"
   ]
  },
  {
   "cell_type": "code",
   "execution_count": 42,
   "metadata": {
    "collapsed": false
   },
   "outputs": [
    {
     "data": {
      "text/plain": [
       "<matplotlib.axes._subplots.AxesSubplot at 0xeda975c0>"
      ]
     },
     "execution_count": 42,
     "metadata": {},
     "output_type": "execute_result"
    },
    {
     "data": {
      "image/png": "[encoded data removed]",
      "text/plain": [
       "<matplotlib.figure.Figure at 0xeda9a240>"
      ]
     },
     "metadata": {},
     "output_type": "display_data"
    }
   ],
   "source": [
    "date_series.sort_index().plot(kind='line', figsize=[20, 10])"
   ]
  },
  {
   "cell_type": "code",
   "execution_count": 46,
   "metadata": {
    "collapsed": false
   },
   "outputs": [],
   "source": [
    "date_series.index =pandas.to_datetime(date_series.index)"
   ]
  },
  {
   "cell_type": "code",
   "execution_count": 51,
   "metadata": {
    "collapsed": false
   },
   "outputs": [],
   "source": [
    "from24to31 = date_series[(date_series.index >= '2016-07-24') & (date_series.index < '2016-07-31') ]"
   ]
  },
  {
   "cell_type": "code",
   "execution_count": 54,
   "metadata": {
    "collapsed": false
   },
   "outputs": [
    {
     "data": {
      "text/plain": [
       "<matplotlib.axes._subplots.AxesSubplot at 0xad9299e8>"
      ]
     },
     "execution_count": 54,
     "metadata": {},
     "output_type": "execute_result"
    },
    {
     "data": {
      "image/png": "[encoded data removed]",
      "text/plain": [
       "<matplotlib.figure.Figure at 0xad65f6a0>"
      ]
     },
     "metadata": {},
     "output_type": "display_data"
    }
   ],
   "source": [
    "from24to31.sort_index().plot(kind='bar')"
   ]
  },
  {
   "cell_type": "markdown",
   "metadata": {},
   "source": [
    "## 月末時候使用者都在看什麼"
   ]
  },
  {
   "cell_type": "code",
   "execution_count": 61,
   "metadata": {
    "collapsed": true
   },
   "outputs": [],
   "source": [
    "del web"
   ]
  },
  {
   "cell_type": "code",
   "execution_count": 56,
   "metadata": {
    "collapsed": false
   },
   "outputs": [],
   "source": [
    "import pandas\n",
    "pageview0720_0730 = pandas.read_hdf('pageview0720_0730.h5')"
   ]
  },
  {
   "cell_type": "code",
   "execution_count": 62,
   "metadata": {
    "collapsed": false
   },
   "outputs": [
    {
     "data": {
      "text/plain": [
       "2016-07-29    1210027\n",
       "2016-07-25     951282\n",
       "2016-07-28     913577\n",
       "2016-07-26     898462\n",
       "2016-07-20     883184\n",
       "2016-07-27     877343\n",
       "2016-07-21     874897\n",
       "2016-07-22     834354\n",
       "2016-07-30     395106\n",
       "2016-07-31     382709\n",
       "2016-07-23     337603\n",
       "2016-07-24     328683\n",
       "Name: EventTimestamp, dtype: int64"
      ]
     },
     "execution_count": 62,
     "metadata": {},
     "output_type": "execute_result"
    }
   ],
   "source": [
    "pageview0720_0730.EventTimestamp.dt.date.value_counts()"
   ]
  },
  {
   "cell_type": "code",
   "execution_count": 70,
   "metadata": {
    "collapsed": false
   },
   "outputs": [],
   "source": [
    "pagecnt0722= pageview0720_0730[(pageview0720_0730.EventTimestamp >= '2016-07-22') &\n",
    "                 (pageview0720_0730.EventTimestamp < '2016-07-23')]['PageLocation'].value_counts()"
   ]
  },
  {
   "cell_type": "code",
   "execution_count": 72,
   "metadata": {
    "collapsed": false
   },
   "outputs": [
    {
     "data": {
      "text/plain": [
       "https://www.mybank.com.tw/MyBank/Quicklinks/Home                    115914\n",
       "https://www.mybank.com.tw/mybank                                     69945\n",
       "https://www.mybank.com.tw/MyBank/Quicklinks/Home/Logout              47824\n",
       "https://www.cathaybk.com.tw/cathaybk/personal_info07.asp             36816\n",
       "https://www.cathaybk.com.tw/cathaybk/                                35319\n",
       "https://www.mybank.com.tw/MyBank/Quicklinks/Home/MyMobiBank          31110\n",
       "https://www.mybank.com.tw/mybank/home/MyMobiBank                     28562\n",
       "https://www.mybank.com.tw/MyBank/Home/Login                          21698\n",
       "https://www.mybank.com.tw/MyBank/MyMobiBank/AcctInq/B0101_DepInq     17905\n",
       "https://www.mybank.com.tw/mybank/Home/MyMobiBank                     15084\n",
       "Name: PageLocation, dtype: int64"
      ]
     },
     "execution_count": 72,
     "metadata": {},
     "output_type": "execute_result"
    }
   ],
   "source": [
    "pagecnt0722[0:10]"
   ]
  },
  {
   "cell_type": "code",
   "execution_count": 73,
   "metadata": {
    "collapsed": true
   },
   "outputs": [],
   "source": [
    "pagecnt0729= pageview0720_0730[(pageview0720_0730.EventTimestamp >= '2016-07-29') &\n",
    "                 (pageview0720_0730.EventTimestamp < '2016-07-30')]['PageLocation'].value_counts()"
   ]
  },
  {
   "cell_type": "code",
   "execution_count": 74,
   "metadata": {
    "collapsed": false
   },
   "outputs": [
    {
     "data": {
      "text/plain": [
       "https://www.mybank.com.tw/MyBank/Quicklinks/Home                    173547\n",
       "https://www.mybank.com.tw/mybank                                     99065\n",
       "https://www.mybank.com.tw/MyBank/Quicklinks/Home/Logout              72819\n",
       "https://www.cathaybk.com.tw/cathaybk/personal_info07.asp             67174\n",
       "https://www.cathaybk.com.tw/cathaybk/                                45161\n",
       "https://www.mybank.com.tw/MyBank/Quicklinks/Home/MyMobiBank          44202\n",
       "https://www.mybank.com.tw/mybank/home/MyMobiBank                     38303\n",
       "https://www.mybank.com.tw/MyBank/Home/Login                          33719\n",
       "https://www.mybank.com.tw/MyBank/MyMobiBank/AcctInq/B0101_DepInq     25942\n",
       "https://www.myb2b.com.tw/ebank/default.asp                           22225\n",
       "Name: PageLocation, dtype: int64"
      ]
     },
     "execution_count": 74,
     "metadata": {},
     "output_type": "execute_result"
    }
   ],
   "source": [
    "pagecnt0729[0:10]"
   ]
  },
  {
   "cell_type": "code",
   "execution_count": 86,
   "metadata": {
    "collapsed": false
   },
   "outputs": [],
   "source": [
    "merged_df = pandas.concat([pagecnt0722, pagecnt0729], axis=1)"
   ]
  },
  {
   "cell_type": "code",
   "execution_count": 91,
   "metadata": {
    "collapsed": false
   },
   "outputs": [],
   "source": [
    "merged_df.columns= [ '0722', '0729']"
   ]
  },
  {
   "cell_type": "code",
   "execution_count": 99,
   "metadata": {
    "collapsed": false
   },
   "outputs": [
    {
     "data": {
      "text/plain": [
       "<matplotlib.axes._subplots.AxesSubplot at 0xd080d198>"
      ]
     },
     "execution_count": 99,
     "metadata": {},
     "output_type": "execute_result"
    },
    {
     "data": {
      "image/png": "[encoded data removed]",
      "text/plain": [
       "<matplotlib.figure.Figure at 0x9c3e79b0>"
      ]
     },
     "metadata": {},
     "output_type": "display_data"
    }
   ],
   "source": [
    "merged_df.sort_values('0729', ascending=False).head(20).plot(kind='bar')"
   ]
  },
  {
   "cell_type": "code",
   "execution_count": 100,
   "metadata": {
    "collapsed": true
   },
   "outputs": [],
   "source": [
    "pagecnt0724= pageview0720_0730[(pageview0720_0730.EventTimestamp >= '2016-07-24') &\n",
    "                 (pageview0720_0730.EventTimestamp < '2016-07-25')]['PageLocation'].value_counts()"
   ]
  },
  {
   "cell_type": "code",
   "execution_count": 102,
   "metadata": {
    "collapsed": false
   },
   "outputs": [
    {
     "data": {
      "text/plain": [
       "https://www.mybank.com.tw/MyBank/Quicklinks/Home                    41680\n",
       "https://www.mybank.com.tw/mybank                                    26118\n",
       "https://www.mybank.com.tw/MyBank/Quicklinks/Home/Logout             17836\n",
       "https://www.mybank.com.tw/MyBank/Quicklinks/Home/MyMobiBank         17421\n",
       "https://www.mybank.com.tw/mybank/home/MyMobiBank                    16075\n",
       "https://www.cathaybk.com.tw/cathaybk/                               11249\n",
       "https://www.mybank.com.tw/MyBank/MyMobiBank/AcctInq/B0101_DepInq     9630\n",
       "https://www.mybank.com.tw/MyBank/Home/Login                          8931\n",
       "https://www.mybank.com.tw/mybank/Home/MyMobiBank                     8663\n",
       "https://www.cathaybk.com.tw/cathaybk/personal_info07.asp             6201\n",
       "Name: PageLocation, dtype: int64"
      ]
     },
     "execution_count": 102,
     "metadata": {},
     "output_type": "execute_result"
    }
   ],
   "source": [
    "pagecnt0724[0:10]"
   ]
  },
  {
   "cell_type": "code",
   "execution_count": 106,
   "metadata": {
    "collapsed": false
   },
   "outputs": [
    {
     "data": {
      "text/plain": [
       "https://www.mybank.com.tw/MyBank/Quicklinks/Home                    115914\n",
       "https://www.mybank.com.tw/mybank                                     69945\n",
       "https://www.mybank.com.tw/MyBank/Quicklinks/Home/Logout              47824\n",
       "https://www.cathaybk.com.tw/cathaybk/personal_info07.asp             36816\n",
       "https://www.cathaybk.com.tw/cathaybk/                                35319\n",
       "https://www.mybank.com.tw/MyBank/Quicklinks/Home/MyMobiBank          31110\n",
       "https://www.mybank.com.tw/mybank/home/MyMobiBank                     28562\n",
       "https://www.mybank.com.tw/MyBank/Home/Login                          21698\n",
       "https://www.mybank.com.tw/MyBank/MyMobiBank/AcctInq/B0101_DepInq     17905\n",
       "https://www.mybank.com.tw/mybank/Home/MyMobiBank                     15084\n",
       "Name: PageLocation, dtype: int64"
      ]
     },
     "execution_count": 106,
     "metadata": {},
     "output_type": "execute_result"
    }
   ],
   "source": [
    "pagecnt0722[0:10]"
   ]
  },
  {
   "cell_type": "code",
   "execution_count": 107,
   "metadata": {
    "collapsed": true
   },
   "outputs": [],
   "source": [
    "merged_df2 = pandas.concat([pagecnt0722, pagecnt0724], axis=1)"
   ]
  },
  {
   "cell_type": "code",
   "execution_count": 108,
   "metadata": {
    "collapsed": true
   },
   "outputs": [],
   "source": [
    "merged_df2.columns= [ '0722', '0724']"
   ]
  },
  {
   "cell_type": "code",
   "execution_count": 109,
   "metadata": {
    "collapsed": false
   },
   "outputs": [
    {
     "data": {
      "text/plain": [
       "<matplotlib.axes._subplots.AxesSubplot at 0xd4846940>"
      ]
     },
     "execution_count": 109,
     "metadata": {},
     "output_type": "execute_result"
    },
    {
     "data": {
      "image/png": "[encoded data removed]",
      "text/plain": [
       "<matplotlib.figure.Figure at 0xd485a550>"
      ]
     },
     "metadata": {},
     "output_type": "display_data"
    }
   ],
   "source": [
    "merged_df2.sort_values('0724', ascending=False).head(20).plot(kind='bar')"
   ]
  },
  {
   "cell_type": "markdown",
   "metadata": {},
   "source": [
    "## 讀取Visitor 的資訊"
   ]
  },
  {
   "cell_type": "code",
   "execution_count": 110,
   "metadata": {
    "collapsed": false
   },
   "outputs": [
    {
     "name": "stdout",
     "output_type": "stream",
     "text": [
      "<class 'pandas.core.frame.DataFrame'>\n",
      "Int64Index: 3232176 entries, 0 to 3232175\n",
      "Data columns (total 4 columns):\n",
      "CookieUniqueVisitorTrackingId    object\n",
      "EventTimestamp                   datetime64[ns]\n",
      "SessionNumber                    int64\n",
      "TrackingUuid                     object\n",
      "dtypes: datetime64[ns](1), int64(1), object(2)\n",
      "memory usage: 123.3+ MB\n"
     ]
    }
   ],
   "source": [
    "import pandas\n",
    "visitor = pandas.read_hdf('visitor.h5')\n",
    "visitor.info()\n"
   ]
  },
  {
   "cell_type": "code",
   "execution_count": 112,
   "metadata": {
    "collapsed": false
   },
   "outputs": [
    {
     "data": {
      "text/html": [
       "<div>\n",
       "<table border=\"1\" class=\"dataframe\">\n",
       "  <thead>\n",
       "    <tr style=\"text-align: right;\">\n",
       "      <th></th>\n",
       "      <th>CookieUniqueVisitorTrackingId</th>\n",
       "      <th>EventTimestamp</th>\n",
       "      <th>SessionNumber</th>\n",
       "      <th>TrackingUuid</th>\n",
       "    </tr>\n",
       "  </thead>\n",
       "  <tbody>\n",
       "    <tr>\n",
       "      <th>0</th>\n",
       "      <td>9c35ec76214740e9bd5cdc660d534d2f</td>\n",
       "      <td>2016-07-20 16:11:43.150</td>\n",
       "      <td>20029488</td>\n",
       "      <td>dddd32a4-3682-471a-a163-4c7bf62f3071</td>\n",
       "    </tr>\n",
       "    <tr>\n",
       "      <th>1</th>\n",
       "      <td>25811d71ea5f4edd9a784e1617a5a691</td>\n",
       "      <td>2016-07-20 20:13:13.161</td>\n",
       "      <td>20105815</td>\n",
       "      <td>53112d09-3db9-4106-b473-21242767df23</td>\n",
       "    </tr>\n",
       "    <tr>\n",
       "      <th>2</th>\n",
       "      <td>a3d2ca8ab6d94ca1adb9bd51a6e7d42f</td>\n",
       "      <td>2016-07-20 11:31:30.485</td>\n",
       "      <td>19880321</td>\n",
       "      <td>1db3e23d-2b8f-48c7-8551-5615ffd80ad1</td>\n",
       "    </tr>\n",
       "    <tr>\n",
       "      <th>3</th>\n",
       "      <td>7693b6b203f240599d71d31fd202f329</td>\n",
       "      <td>2016-07-20 12:45:29.674</td>\n",
       "      <td>19920228</td>\n",
       "      <td>a0d8cb8b-2022-4998-864f-2fab866b6b2a</td>\n",
       "    </tr>\n",
       "    <tr>\n",
       "      <th>4</th>\n",
       "      <td>c1f31e426e594b7ab2c8daf2b2c001c4</td>\n",
       "      <td>2016-07-20 17:34:25.508</td>\n",
       "      <td>20060810</td>\n",
       "      <td>b80043ad-53a0-4936-99d0-49443ef9cb4e</td>\n",
       "    </tr>\n",
       "  </tbody>\n",
       "</table>\n",
       "</div>"
      ],
      "text/plain": [
       "      CookieUniqueVisitorTrackingId          EventTimestamp  SessionNumber  \\\n",
       "0  9c35ec76214740e9bd5cdc660d534d2f 2016-07-20 16:11:43.150       20029488   \n",
       "1  25811d71ea5f4edd9a784e1617a5a691 2016-07-20 20:13:13.161       20105815   \n",
       "2  a3d2ca8ab6d94ca1adb9bd51a6e7d42f 2016-07-20 11:31:30.485       19880321   \n",
       "3  7693b6b203f240599d71d31fd202f329 2016-07-20 12:45:29.674       19920228   \n",
       "4  c1f31e426e594b7ab2c8daf2b2c001c4 2016-07-20 17:34:25.508       20060810   \n",
       "\n",
       "                           TrackingUuid  \n",
       "0  dddd32a4-3682-471a-a163-4c7bf62f3071  \n",
       "1  53112d09-3db9-4106-b473-21242767df23  \n",
       "2  1db3e23d-2b8f-48c7-8551-5615ffd80ad1  \n",
       "3  a0d8cb8b-2022-4998-864f-2fab866b6b2a  \n",
       "4  b80043ad-53a0-4936-99d0-49443ef9cb4e  "
      ]
     },
     "execution_count": 112,
     "metadata": {},
     "output_type": "execute_result"
    }
   ],
   "source": [
    "visitor.head()"
   ]
  },
  {
   "cell_type": "code",
   "execution_count": 113,
   "metadata": {
    "collapsed": true
   },
   "outputs": [],
   "source": [
    "visitor['EventDate'] = visitor['EventTimestamp'].dt.date"
   ]
  },
  {
   "cell_type": "code",
   "execution_count": 116,
   "metadata": {
    "collapsed": false
   },
   "outputs": [
    {
     "data": {
      "text/plain": [
       "<matplotlib.axes._subplots.AxesSubplot at 0x110dcc160>"
      ]
     },
     "execution_count": 116,
     "metadata": {},
     "output_type": "execute_result"
    },
    {
     "data": {
      "image/png": "[encoded data removed]",
      "text/plain": [
       "<matplotlib.figure.Figure at 0xa498cb38>"
      ]
     },
     "metadata": {},
     "output_type": "display_data"
    }
   ],
   "source": [
    "# select count(cookieuniquevisitortrackingid), eventdate from visior\n",
    "# group by eventdate\n",
    "visitor_cnt = visitor.groupby('EventDate')['CookieUniqueVisitorTrackingId'].count()\n",
    "visitor_cnt.plot(kind= 'bar')"
   ]
  },
  {
   "cell_type": "code",
   "execution_count": 117,
   "metadata": {
    "collapsed": true
   },
   "outputs": [],
   "source": [
    "# select cookieuniquevisitortrackingid, eventdate, count(session) from visitor\n",
    "# group by cookieuniquevisitortrackingid, eventdate\n",
    "visitor_on_site = visitor.groupby(['EventDate','CookieUniqueVisitorTrackingId'])['SessionNumber'].count()\n"
   ]
  },
  {
   "cell_type": "code",
   "execution_count": 119,
   "metadata": {
    "collapsed": false
   },
   "outputs": [
    {
     "data": {
      "text/plain": [
       "array([ True,  True,  True, ..., False, False, False], dtype=bool)"
      ]
     },
     "execution_count": 119,
     "metadata": {},
     "output_type": "execute_result"
    }
   ],
   "source": [
    "import pandas\n",
    "pandas.to_datetime(visitor_on_site.index.get_level_values('EventDate')) == '2016-07-20' "
   ]
  },
  {
   "cell_type": "code",
   "execution_count": 136,
   "metadata": {
    "collapsed": true
   },
   "outputs": [],
   "source": [
    "visitor_on_0720  = visitor_on_site[pandas.to_datetime(visitor_on_site.index.get_level_values('EventDate')) == '2016-07-20' ]"
   ]
  },
  {
   "cell_type": "code",
   "execution_count": 122,
   "metadata": {
    "collapsed": false
   },
   "outputs": [
    {
     "data": {
      "text/plain": [
       "EventDate   CookieUniqueVisitorTrackingId   \n",
       "2016-07-20  000030264ec54bb997703e9e05d25c4d    4\n",
       "            00003862177641d08c8fa11eb807feb0    2\n",
       "            000044d10f0a41a68ad6c91bc2afae22    2\n",
       "            000048e29626421ea25e0497a09b2d74    1\n",
       "            0000ae4014c24ad58287bf3481f1fef1    1\n",
       "Name: SessionNumber, dtype: int64"
      ]
     },
     "execution_count": 122,
     "metadata": {},
     "output_type": "execute_result"
    }
   ],
   "source": [
    "visitor_on_0720.head()"
   ]
  },
  {
   "cell_type": "code",
   "execution_count": 124,
   "metadata": {
    "collapsed": false
   },
   "outputs": [
    {
     "data": {
      "text/plain": [
       "count    262361.000000\n",
       "mean          1.886969\n",
       "std           1.937555\n",
       "min           1.000000\n",
       "25%           1.000000\n",
       "50%           2.000000\n",
       "75%           2.000000\n",
       "max         656.000000\n",
       "Name: SessionNumber, dtype: float64"
      ]
     },
     "execution_count": 124,
     "metadata": {},
     "output_type": "execute_result"
    }
   ],
   "source": [
    "visitor_on_0720.describe()"
   ]
  },
  {
   "cell_type": "code",
   "execution_count": 125,
   "metadata": {
    "collapsed": false
   },
   "outputs": [
    {
     "data": {
      "text/plain": [
       "<matplotlib.axes._subplots.AxesSubplot at 0xd4822ba8>"
      ]
     },
     "execution_count": 125,
     "metadata": {},
     "output_type": "execute_result"
    },
    {
     "data": {
      "image/png": "[encoded data removed]",
      "text/plain": [
       "<matplotlib.figure.Figure at 0xd4813f98>"
      ]
     },
     "metadata": {},
     "output_type": "display_data"
    }
   ],
   "source": [
    "visitor_on_0720.plot(kind='hist')"
   ]
  },
  {
   "cell_type": "code",
   "execution_count": 137,
   "metadata": {
    "collapsed": false
   },
   "outputs": [
    {
     "data": {
      "text/plain": [
       "<matplotlib.axes._subplots.AxesSubplot at 0xaac15d30>"
      ]
     },
     "execution_count": 137,
     "metadata": {},
     "output_type": "execute_result"
    },
    {
     "data": {
      "image/png": "[encoded data removed]",
      "text/plain": [
       "<matplotlib.figure.Figure at 0xf3656748>"
      ]
     },
     "metadata": {},
     "output_type": "display_data"
    }
   ],
   "source": [
    "visitor_on_0720.plot(kind='box')"
   ]
  },
  {
   "cell_type": "code",
   "execution_count": 128,
   "metadata": {
    "collapsed": false
   },
   "outputs": [
    {
     "data": {
      "text/plain": [
       "EventDate   CookieUniqueVisitorTrackingId   \n",
       "2016-07-20  ?                                   656\n",
       "            36686bfc2aac4d72b231efe6a92c2098     54\n",
       "            7d20af43a7e841b6a7ba74f9663c081d     50\n",
       "            6b6b6fec868d4a2aa1c71998dd258472     50\n",
       "            8c0400581a214af6b2638d9138ad8e04     41\n",
       "Name: SessionNumber, dtype: int64"
      ]
     },
     "execution_count": 128,
     "metadata": {},
     "output_type": "execute_result"
    }
   ],
   "source": [
    "visitor_on_0720.sort_values(ascending=False).head()"
   ]
  },
  {
   "cell_type": "code",
   "execution_count": 138,
   "metadata": {
    "collapsed": false
   },
   "outputs": [],
   "source": [
    "visitor_on_0720 = visitor_on_0720[visitor_on_0720 < 100]"
   ]
  },
  {
   "cell_type": "code",
   "execution_count": 134,
   "metadata": {
    "collapsed": false
   },
   "outputs": [
    {
     "data": {
      "text/plain": [
       "<matplotlib.axes._subplots.AxesSubplot at 0xa497f160>"
      ]
     },
     "execution_count": 134,
     "metadata": {},
     "output_type": "execute_result"
    },
    {
     "data": {
      "image/png": "[encoded data removed]",
      "text/plain": [
       "<matplotlib.figure.Figure at 0xad4b2da0>"
      ]
     },
     "metadata": {},
     "output_type": "display_data"
    }
   ],
   "source": [
    "visitor_on_0720.plot(kind='hist')"
   ]
  },
  {
   "cell_type": "code",
   "execution_count": 139,
   "metadata": {
    "collapsed": false
   },
   "outputs": [
    {
     "data": {
      "text/plain": [
       "<matplotlib.axes._subplots.AxesSubplot at 0xf3650dd8>"
      ]
     },
     "execution_count": 139,
     "metadata": {},
     "output_type": "execute_result"
    },
    {
     "data": {
      "image/png": "[encoded data removed]",
      "text/plain": [
       "<matplotlib.figure.Figure at 0xa8b5ce48>"
      ]
     },
     "metadata": {},
     "output_type": "display_data"
    }
   ],
   "source": [
    "visitor_on_0720.plot(kind='box')"
   ]
  },
  {
   "cell_type": "code",
   "execution_count": 135,
   "metadata": {
    "collapsed": false
   },
   "outputs": [
    {
     "data": {
      "text/plain": [
       "count    262360.000000\n",
       "mean          1.884476\n",
       "std           1.457153\n",
       "min           1.000000\n",
       "25%           1.000000\n",
       "50%           2.000000\n",
       "75%           2.000000\n",
       "max          54.000000\n",
       "Name: SessionNumber, dtype: float64"
      ]
     },
     "execution_count": 135,
     "metadata": {},
     "output_type": "execute_result"
    }
   ],
   "source": [
    "visitor_on_0720.describe()"
   ]
  }
 ],
 "metadata": {
  "kernelspec": {
   "display_name": "Python [Root]",
   "language": "python",
   "name": "Python [Root]"
  },
  "language_info": {
   "codemirror_mode": {
    "name": "ipython",
    "version": 3
   },
   "file_extension": ".py",
   "mimetype": "text/x-python",
   "name": "python",
   "nbconvert_exporter": "python",
   "pygments_lexer": "ipython3",
   "version": "3.5.2"
  }
 },
 "nbformat": 4,
 "nbformat_minor": 0
}
