{
 "cells": [
  {
   "cell_type": "markdown",
   "metadata": {},
   "source": [
    "## 讀取iris 資料集"
   ]
  },
  {
   "cell_type": "code",
   "execution_count": 1,
   "metadata": {
    "collapsed": true
   },
   "outputs": [],
   "source": [
    "from sklearn.datasets import load_iris\n",
    "iris = load_iris()"
   ]
  },
  {
   "cell_type": "code",
   "execution_count": 5,
   "metadata": {
    "collapsed": false
   },
   "outputs": [
    {
     "name": "stdout",
     "output_type": "stream",
     "text": [
      "(150, 4)\n",
      "(150,)\n"
     ]
    }
   ],
   "source": [
    "print(iris.data.shape)\n",
    "print(iris.target.shape)"
   ]
  },
  {
   "cell_type": "code",
   "execution_count": 7,
   "metadata": {
    "collapsed": false
   },
   "outputs": [
    {
     "data": {
      "text/plain": [
       "array([0, 0, 0, 0, 0, 0, 0, 0, 0, 0, 0, 0, 0, 0, 0, 0, 0, 0, 0, 0, 0, 0, 0,\n",
       "       0, 0, 0, 0, 0, 0, 0, 0, 0, 0, 0, 0, 0, 0, 0, 0, 0, 0, 0, 0, 0, 0, 0,\n",
       "       0, 0, 0, 0, 1, 1, 1, 1, 1, 1, 1, 1, 1, 1, 1, 1, 1, 1, 1, 1, 1, 1, 1,\n",
       "       1, 1, 1, 1, 1, 1, 1, 1, 1, 1, 1, 1, 1, 1, 1, 1, 1, 1, 1, 1, 1, 1, 1,\n",
       "       1, 1, 1, 1, 1, 1, 1, 1, 2, 2, 2, 2, 2, 2, 2, 2, 2, 2, 2, 2, 2, 2, 2,\n",
       "       2, 2, 2, 2, 2, 2, 2, 2, 2, 2, 2, 2, 2, 2, 2, 2, 2, 2, 2, 2, 2, 2, 2,\n",
       "       2, 2, 2, 2, 2, 2, 2, 2, 2, 2, 2, 2])"
      ]
     },
     "execution_count": 7,
     "metadata": {},
     "output_type": "execute_result"
    }
   ],
   "source": [
    "iris.target"
   ]
  },
  {
   "cell_type": "markdown",
   "metadata": {},
   "source": [
    "## 建立決策樹"
   ]
  },
  {
   "cell_type": "code",
   "execution_count": 42,
   "metadata": {
    "collapsed": true
   },
   "outputs": [],
   "source": [
    "from sklearn import tree\n",
    "treemodel = tree.DecisionTreeClassifier(max_depth = 2)\n",
    "clf = treemodel.fit(iris.data, iris.target)"
   ]
  },
  {
   "cell_type": "code",
   "execution_count": 43,
   "metadata": {
    "collapsed": false
   },
   "outputs": [
    {
     "data": {
      "text/plain": [
       "DecisionTreeClassifier(class_weight=None, criterion='gini', max_depth=2,\n",
       "            max_features=None, max_leaf_nodes=None, min_samples_leaf=1,\n",
       "            min_samples_split=2, min_weight_fraction_leaf=0.0,\n",
       "            presort=False, random_state=None, splitter='best')"
      ]
     },
     "execution_count": 43,
     "metadata": {},
     "output_type": "execute_result"
    }
   ],
   "source": [
    "clf"
   ]
  },
  {
   "cell_type": "markdown",
   "metadata": {},
   "source": [
    "## 繪製決策樹"
   ]
  },
  {
   "cell_type": "code",
   "execution_count": 34,
   "metadata": {
    "collapsed": true
   },
   "outputs": [],
   "source": [
    "tree.export_graphviz(clf, out_file='tree.dot') "
   ]
  },
  {
   "cell_type": "code",
   "execution_count": 15,
   "metadata": {
    "collapsed": false
   },
   "outputs": [
    {
     "name": "stdout",
     "output_type": "stream",
     "text": [
      "Iris Plants Database\n",
      "\n",
      "Notes\n",
      "-----\n",
      "Data Set Characteristics:\n",
      "    :Number of Instances: 150 (50 in each of three classes)\n",
      "    :Number of Attributes: 4 numeric, predictive attributes and the class\n",
      "    :Attribute Information:\n",
      "        - sepal length in cm\n",
      "        - sepal width in cm\n",
      "        - petal length in cm\n",
      "        - petal width in cm\n",
      "        - class:\n",
      "                - Iris-Setosa\n",
      "                - Iris-Versicolour\n",
      "                - Iris-Virginica\n",
      "    :Summary Statistics:\n",
      "\n",
      "    ============== ==== ==== ======= ===== ====================\n",
      "                    Min  Max   Mean    SD   Class Correlation\n",
      "    ============== ==== ==== ======= ===== ====================\n",
      "    sepal length:   4.3  7.9   5.84   0.83    0.7826\n",
      "    sepal width:    2.0  4.4   3.05   0.43   -0.4194\n",
      "    petal length:   1.0  6.9   3.76   1.76    0.9490  (high!)\n",
      "    petal width:    0.1  2.5   1.20  0.76     0.9565  (high!)\n",
      "    ============== ==== ==== ======= ===== ====================\n",
      "\n",
      "    :Missing Attribute Values: None\n",
      "    :Class Distribution: 33.3% for each of 3 classes.\n",
      "    :Creator: R.A. Fisher\n",
      "    :Donor: Michael Marshall (MARSHALL%PLU@io.arc.nasa.gov)\n",
      "    :Date: July, 1988\n",
      "\n",
      "This is a copy of UCI ML iris datasets.\n",
      "http://archive.ics.uci.edu/ml/datasets/Iris\n",
      "\n",
      "The famous Iris database, first used by Sir R.A Fisher\n",
      "\n",
      "This is perhaps the best known database to be found in the\n",
      "pattern recognition literature.  Fisher's paper is a classic in the field and\n",
      "is referenced frequently to this day.  (See Duda & Hart, for example.)  The\n",
      "data set contains 3 classes of 50 instances each, where each class refers to a\n",
      "type of iris plant.  One class is linearly separable from the other 2; the\n",
      "latter are NOT linearly separable from each other.\n",
      "\n",
      "References\n",
      "----------\n",
      "   - Fisher,R.A. \"The use of multiple measurements in taxonomic problems\"\n",
      "     Annual Eugenics, 7, Part II, 179-188 (1936); also in \"Contributions to\n",
      "     Mathematical Statistics\" (John Wiley, NY, 1950).\n",
      "   - Duda,R.O., & Hart,P.E. (1973) Pattern Classification and Scene Analysis.\n",
      "     (Q327.D83) John Wiley & Sons.  ISBN 0-471-22361-1.  See page 218.\n",
      "   - Dasarathy, B.V. (1980) \"Nosing Around the Neighborhood: A New System\n",
      "     Structure and Classification Rule for Recognition in Partially Exposed\n",
      "     Environments\".  IEEE Transactions on Pattern Analysis and Machine\n",
      "     Intelligence, Vol. PAMI-2, No. 1, 67-71.\n",
      "   - Gates, G.W. (1972) \"The Reduced Nearest Neighbor Rule\".  IEEE Transactions\n",
      "     on Information Theory, May 1972, 431-433.\n",
      "   - See also: 1988 MLC Proceedings, 54-64.  Cheeseman et al\"s AUTOCLASS II\n",
      "     conceptual clustering system finds 3 classes in the data.\n",
      "   - Many, many more ...\n",
      "\n"
     ]
    }
   ],
   "source": [
    "print(iris['DESCR'])"
   ]
  },
  {
   "cell_type": "markdown",
   "metadata": {},
   "source": [
    "## 視覺化呈現資料"
   ]
  },
  {
   "cell_type": "code",
   "execution_count": 31,
   "metadata": {
    "collapsed": false
   },
   "outputs": [
    {
     "name": "stdout",
     "output_type": "stream",
     "text": [
      "Populating the interactive namespace from numpy and matplotlib\n"
     ]
    },
    {
     "data": {
      "image/png": "[encoded data removed]",
      "text/plain": [
       "<matplotlib.figure.Figure at 0xb202a20>"
      ]
     },
     "metadata": {},
     "output_type": "display_data"
    }
   ],
   "source": [
    "%pylab inline\n",
    "plt.figure(figsize=(12, 12))\n",
    "plt.subplot(221)\n",
    "plt.scatter(iris.data[:,2], iris.data[:,3], c=iris.target)\n",
    "plt.show()"
   ]
  },
  {
   "cell_type": "code",
   "execution_count": 35,
   "metadata": {
    "collapsed": false
   },
   "outputs": [
    {
     "name": "stdout",
     "output_type": "stream",
     "text": [
      "Populating the interactive namespace from numpy and matplotlib\n"
     ]
    },
    {
     "name": "stderr",
     "output_type": "stream",
     "text": [
      "WARNING: pylab import has clobbered these variables: ['clf']\n",
      "`%matplotlib` prevents importing * from pylab and numpy\n"
     ]
    },
    {
     "data": {
      "image/png": "[encoded data removed]",
      "text/plain": [
       "<IPython.core.display.Image object>"
      ]
     },
     "execution_count": 35,
     "metadata": {},
     "output_type": "execute_result"
    }
   ],
   "source": [
    "%pylab inline\n",
    "from IPython.display import Image \n",
    "Image('tree2.png')\n"
   ]
  },
  {
   "cell_type": "markdown",
   "metadata": {},
   "source": [
    "## 產生預測結果"
   ]
  },
  {
   "cell_type": "code",
   "execution_count": 44,
   "metadata": {
    "collapsed": false
   },
   "outputs": [],
   "source": [
    "predicted = clf.predict(iris.data)"
   ]
  },
  {
   "cell_type": "code",
   "execution_count": 45,
   "metadata": {
    "collapsed": false
   },
   "outputs": [
    {
     "data": {
      "text/plain": [
       "array([0, 0, 0, 0, 0, 0, 0, 0, 0, 0, 0, 0, 0, 0, 0, 0, 0, 0, 0, 0, 0, 0, 0,\n",
       "       0, 0, 0, 0, 0, 0, 0, 0, 0, 0, 0, 0, 0, 0, 0, 0, 0, 0, 0, 0, 0, 0, 0,\n",
       "       0, 0, 0, 0, 1, 1, 1, 1, 1, 1, 1, 1, 1, 1, 1, 1, 1, 1, 1, 1, 1, 1, 1,\n",
       "       1, 2, 1, 1, 1, 1, 1, 1, 1, 1, 1, 1, 1, 1, 1, 1, 1, 1, 1, 1, 1, 1, 1,\n",
       "       1, 1, 1, 1, 1, 1, 1, 1, 2, 2, 2, 2, 2, 2, 1, 2, 2, 2, 2, 2, 2, 2, 2,\n",
       "       2, 2, 2, 2, 1, 2, 2, 2, 2, 2, 2, 2, 2, 2, 1, 2, 2, 2, 1, 1, 2, 2, 2,\n",
       "       2, 2, 2, 2, 2, 2, 2, 2, 2, 2, 2, 2])"
      ]
     },
     "execution_count": 45,
     "metadata": {},
     "output_type": "execute_result"
    }
   ],
   "source": [
    "predicted"
   ]
  },
  {
   "cell_type": "code",
   "execution_count": 46,
   "metadata": {
    "collapsed": false
   },
   "outputs": [
    {
     "data": {
      "text/plain": [
       "array([[50,  0,  0],\n",
       "       [ 0, 49,  5],\n",
       "       [ 0,  1, 45]])"
      ]
     },
     "execution_count": 46,
     "metadata": {},
     "output_type": "execute_result"
    }
   ],
   "source": [
    "from sklearn.metrics import confusion_matrix \n",
    "cm = confusion_matrix(predicted, iris.target)\n",
    "cm\n"
   ]
  },
  {
   "cell_type": "code",
   "execution_count": 47,
   "metadata": {
    "collapsed": false
   },
   "outputs": [
    {
     "data": {
      "text/plain": [
       "0.95999999999999996"
      ]
     },
     "execution_count": 47,
     "metadata": {},
     "output_type": "execute_result"
    }
   ],
   "source": [
    "from sklearn.metrics import accuracy_score\n",
    "accuracy_score(predicted, iris.target)"
   ]
  },
  {
   "cell_type": "code",
   "execution_count": 49,
   "metadata": {
    "collapsed": false
   },
   "outputs": [
    {
     "data": {
      "text/plain": [
       "0.96"
      ]
     },
     "execution_count": 49,
     "metadata": {},
     "output_type": "execute_result"
    }
   ],
   "source": [
    "accu = 144 /150\n",
    "accu"
   ]
  },
  {
   "cell_type": "markdown",
   "metadata": {},
   "source": [
    "## 將資料分成訓練與測試資料集"
   ]
  },
  {
   "cell_type": "code",
   "execution_count": 50,
   "metadata": {
    "collapsed": false
   },
   "outputs": [
    {
     "data": {
      "text/plain": [
       "(150, 4)"
      ]
     },
     "execution_count": 50,
     "metadata": {},
     "output_type": "execute_result"
    }
   ],
   "source": [
    "iris.data.shape"
   ]
  },
  {
   "cell_type": "code",
   "execution_count": 51,
   "metadata": {
    "collapsed": false
   },
   "outputs": [
    {
     "data": {
      "text/plain": [
       "(150,)"
      ]
     },
     "execution_count": 51,
     "metadata": {},
     "output_type": "execute_result"
    }
   ],
   "source": [
    "iris.target.shape"
   ]
  },
  {
   "cell_type": "code",
   "execution_count": 55,
   "metadata": {
    "collapsed": true
   },
   "outputs": [],
   "source": [
    "from sklearn.cross_validation import train_test_split\n",
    "X_train, X_test, y_train, y_test = train_test_split(iris.data, iris.target, test_size=0.33, random_state=42)\n",
    "# iris.data  = X_train(67%) + X_test(33%)\n",
    "# iris.target = y_train(67%) + y_test(*33%)"
   ]
  },
  {
   "cell_type": "code",
   "execution_count": 56,
   "metadata": {
    "collapsed": false
   },
   "outputs": [
    {
     "name": "stdout",
     "output_type": "stream",
     "text": [
      "(100, 4)\n",
      "(50, 4)\n"
     ]
    }
   ],
   "source": [
    "print(X_train.shape)\n",
    "print(X_test.shape)"
   ]
  },
  {
   "cell_type": "code",
   "execution_count": 57,
   "metadata": {
    "collapsed": false
   },
   "outputs": [
    {
     "name": "stdout",
     "output_type": "stream",
     "text": [
      "(100,)\n",
      "(50,)\n"
     ]
    }
   ],
   "source": [
    "print(y_train.shape)\n",
    "print(y_test.shape)"
   ]
  },
  {
   "cell_type": "markdown",
   "metadata": {},
   "source": [
    "## 跟據訓練資料集建立模型, 套用到測試資料集"
   ]
  },
  {
   "cell_type": "code",
   "execution_count": 58,
   "metadata": {
    "collapsed": true
   },
   "outputs": [],
   "source": [
    "from sklearn import tree\n",
    "treemodel = tree.DecisionTreeClassifier(max_depth = 2)\n",
    "clf = treemodel.fit(X_train, y_train)"
   ]
  },
  {
   "cell_type": "code",
   "execution_count": 59,
   "metadata": {
    "collapsed": true
   },
   "outputs": [],
   "source": [
    "predicted = clf.predict(X_test)"
   ]
  },
  {
   "cell_type": "markdown",
   "metadata": {},
   "source": [
    "## 驗證模型準確率"
   ]
  },
  {
   "cell_type": "code",
   "execution_count": 60,
   "metadata": {
    "collapsed": false
   },
   "outputs": [
    {
     "data": {
      "text/plain": [
       "array([[19,  0,  0],\n",
       "       [ 0, 15,  1],\n",
       "       [ 0,  0, 15]])"
      ]
     },
     "execution_count": 60,
     "metadata": {},
     "output_type": "execute_result"
    }
   ],
   "source": [
    "from sklearn.metrics import confusion_matrix \n",
    "cm = confusion_matrix(predicted, y_test)\n",
    "cm"
   ]
  },
  {
   "cell_type": "code",
   "execution_count": 61,
   "metadata": {
    "collapsed": false
   },
   "outputs": [
    {
     "data": {
      "text/plain": [
       "0.97999999999999998"
      ]
     },
     "execution_count": 61,
     "metadata": {},
     "output_type": "execute_result"
    }
   ],
   "source": [
    "from sklearn.metrics import accuracy_score\n",
    "accuracy_score(predicted, y_test)"
   ]
  },
  {
   "cell_type": "markdown",
   "metadata": {},
   "source": [
    "## 讀取使用者的PageView 資料"
   ]
  },
  {
   "cell_type": "code",
   "execution_count": null,
   "metadata": {
    "collapsed": true
   },
   "outputs": [],
   "source": [
    "import pandas\n",
    "pageview = pandas.read_hdf('pageview0720_0730.h5')"
   ]
  },
  {
   "cell_type": "code",
   "execution_count": null,
   "metadata": {
    "collapsed": false
   },
   "outputs": [],
   "source": [
    "pageview[pageview.PageLocation == 'https://www.cathaybk.com.tw/cathaybk/Online_ActivateCardForm.asp'].head()"
   ]
  },
  {
   "cell_type": "code",
   "execution_count": null,
   "metadata": {
    "collapsed": false
   },
   "outputs": [],
   "source": [
    "import pandas\n",
    "pandas.set_option('display.max_colwidth', 1000)\n",
    "pageview[pageview.SessionNumber == 20161424].sort_values('EventTimestamp')"
   ]
  },
  {
   "cell_type": "markdown",
   "metadata": {},
   "source": [
    "## 統計線上開卡人數"
   ]
  },
  {
   "cell_type": "code",
   "execution_count": null,
   "metadata": {
    "collapsed": false
   },
   "outputs": [],
   "source": [
    "activate = 'https://www.cathaybk.com.tw/cathaybk/Online_ActivateCardForm.asp'\n",
    "pageview[pageview.PageLocation == activate].count()"
   ]
  },
  {
   "cell_type": "code",
   "execution_count": null,
   "metadata": {
    "collapsed": false
   },
   "outputs": [],
   "source": [
    "len(pageview[pageview.PageLocation == activate].SessionNumber.unique())"
   ]
  },
  {
   "cell_type": "code",
   "execution_count": 6,
   "metadata": {
    "collapsed": false
   },
   "outputs": [
    {
     "data": {
      "text/plain": [
       "8887227"
      ]
     },
     "execution_count": 6,
     "metadata": {},
     "output_type": "execute_result"
    }
   ],
   "source": [
    "pageview.SessionNumber.count()"
   ]
  },
  {
   "cell_type": "markdown",
   "metadata": {},
   "source": [
    "## 表列開過卡(Online_ActivateCardForm)的人(Session)"
   ]
  },
  {
   "cell_type": "code",
   "execution_count": 7,
   "metadata": {
    "collapsed": true
   },
   "outputs": [],
   "source": [
    "activate = 'https://www.cathaybk.com.tw/cathaybk/Online_ActivateCardForm.asp'\n",
    "activateuser = pageview[pageview.PageLocation == activate].SessionNumber"
   ]
  },
  {
   "cell_type": "code",
   "execution_count": 8,
   "metadata": {
    "collapsed": false
   },
   "outputs": [
    {
     "data": {
      "text/plain": [
       "https://www.cathaybk.com.tw/cathaybk/Online_ActivateCardForm.asp             4859\n",
       "https://www.cathaybk.com.tw/cathaybk/OnlineLoan/ActivateCardForm.aspx        4307\n",
       "https://www.cathaybk.com.tw/cathaybk/card/index.asp                          3038\n",
       "https://www.cathaybk.com.tw/cathaybk/card/card/card.asp                      2302\n",
       "https://www.cathaybk.com.tw/cathaybk/OnlineLoan/ActivateCardForm.aspx#TOP    1983\n",
       "Name: PageLocation, dtype: int64"
      ]
     },
     "execution_count": 8,
     "metadata": {},
     "output_type": "execute_result"
    }
   ],
   "source": [
    "pageview[pageview.SessionNumber.isin(activateuser)].PageLocation.value_counts().sort_values(ascending=False).head()"
   ]
  },
  {
   "cell_type": "markdown",
   "metadata": {},
   "source": [
    "## 表列出瀏覽過 card/card/card.asp (信用卡產品介紹) 的人(Session)"
   ]
  },
  {
   "cell_type": "code",
   "execution_count": 9,
   "metadata": {
    "collapsed": false
   },
   "outputs": [
    {
     "data": {
      "text/plain": [
       "EventTimestamp    69796\n",
       "PageLocation      69796\n",
       "SessionNumber     69796\n",
       "TrackingUuid      69796\n",
       "dtype: int64"
      ]
     },
     "execution_count": 9,
     "metadata": {},
     "output_type": "execute_result"
    }
   ],
   "source": [
    "cardview = 'https://www.cathaybk.com.tw/cathaybk/card/card/card.asp'\n",
    "pageview[pageview.PageLocation == cardview].count()"
   ]
  },
  {
   "cell_type": "code",
   "execution_count": 10,
   "metadata": {
    "collapsed": false
   },
   "outputs": [
    {
     "data": {
      "text/plain": [
       "45400"
      ]
     },
     "execution_count": 10,
     "metadata": {},
     "output_type": "execute_result"
    }
   ],
   "source": [
    "cardview = 'https://www.cathaybk.com.tw/cathaybk/card/card/card.asp'\n",
    "len(pageview[pageview.PageLocation == cardview].SessionNumber.unique())"
   ]
  },
  {
   "cell_type": "code",
   "execution_count": 11,
   "metadata": {
    "collapsed": true
   },
   "outputs": [],
   "source": [
    "# cardViewUsers 代表不重覆的 Session\n",
    "cardViewUsers = pageview[pageview.PageLocation == cardview].SessionNumber.unique()"
   ]
  },
  {
   "cell_type": "code",
   "execution_count": 12,
   "metadata": {
    "collapsed": false
   },
   "outputs": [
    {
     "data": {
      "text/plain": [
       "array([20031976, 20161424, 20141562, ..., 23631707, 23651466, 23628176], dtype=int64)"
      ]
     },
     "execution_count": 12,
     "metadata": {},
     "output_type": "execute_result"
    }
   ],
   "source": [
    "cardViewUsers"
   ]
  },
  {
   "cell_type": "markdown",
   "metadata": {},
   "source": [
    "## 看過 card/card/card.asp(信用卡產品介紹) 的人的頁面瀏覽行為"
   ]
  },
  {
   "cell_type": "code",
   "execution_count": 13,
   "metadata": {
    "collapsed": true
   },
   "outputs": [],
   "source": [
    "cardViewBehavior  = pageview[pageview.SessionNumber.isin(cardViewUsers)]"
   ]
  },
  {
   "cell_type": "code",
   "execution_count": 14,
   "metadata": {
    "collapsed": false
   },
   "outputs": [
    {
     "data": {
      "text/html": [
       "<div>\n",
       "<table border=\"1\" class=\"dataframe\">\n",
       "  <thead>\n",
       "    <tr style=\"text-align: right;\">\n",
       "      <th></th>\n",
       "      <th>EventTimestamp</th>\n",
       "      <th>PageLocation</th>\n",
       "      <th>SessionNumber</th>\n",
       "      <th>TrackingUuid</th>\n",
       "    </tr>\n",
       "  </thead>\n",
       "  <tbody>\n",
       "    <tr>\n",
       "      <th>75</th>\n",
       "      <td>2016-07-20 23:57:52.280</td>\n",
       "      <td>https://www.cathaybk.com.tw/cathaybk/card/event/2011/travel_1.asp</td>\n",
       "      <td>20161424</td>\n",
       "      <td>fe01c11e-89c0-4e67-aa02-50c203894881</td>\n",
       "    </tr>\n",
       "    <tr>\n",
       "      <th>78</th>\n",
       "      <td>2016-07-20 16:18:14.586</td>\n",
       "      <td>https://www.cathaybk.com.tw/cathaybk/</td>\n",
       "      <td>20031976</td>\n",
       "      <td>e91778f6-dd1a-469a-ae6e-8778e71c3460</td>\n",
       "    </tr>\n",
       "    <tr>\n",
       "      <th>219</th>\n",
       "      <td>2016-07-20 23:56:11.286</td>\n",
       "      <td>https://www.cathaybk.com.tw/cathaybk/card/event/2012/201203newcard_ggg/index.asp</td>\n",
       "      <td>20161424</td>\n",
       "      <td>fe01c11e-89c0-4e67-aa02-50c203894881</td>\n",
       "    </tr>\n",
       "    <tr>\n",
       "      <th>222</th>\n",
       "      <td>2016-07-20 16:18:29.279</td>\n",
       "      <td>https://www.cathaybk.com.tw/cathaybk/card/card/allcard.asp</td>\n",
       "      <td>20031976</td>\n",
       "      <td>e91778f6-dd1a-469a-ae6e-8778e71c3460</td>\n",
       "    </tr>\n",
       "    <tr>\n",
       "      <th>363</th>\n",
       "      <td>2016-07-20 23:55:03.662</td>\n",
       "      <td>https://www.mybank.com.tw/mybank</td>\n",
       "      <td>20161424</td>\n",
       "      <td>fe01c11e-89c0-4e67-aa02-50c203894881</td>\n",
       "    </tr>\n",
       "  </tbody>\n",
       "</table>\n",
       "</div>"
      ],
      "text/plain": [
       "             EventTimestamp  \\\n",
       "75  2016-07-20 23:57:52.280   \n",
       "78  2016-07-20 16:18:14.586   \n",
       "219 2016-07-20 23:56:11.286   \n",
       "222 2016-07-20 16:18:29.279   \n",
       "363 2016-07-20 23:55:03.662   \n",
       "\n",
       "                                                                         PageLocation  \\\n",
       "75                  https://www.cathaybk.com.tw/cathaybk/card/event/2011/travel_1.asp   \n",
       "78                                              https://www.cathaybk.com.tw/cathaybk/   \n",
       "219  https://www.cathaybk.com.tw/cathaybk/card/event/2012/201203newcard_ggg/index.asp   \n",
       "222                        https://www.cathaybk.com.tw/cathaybk/card/card/allcard.asp   \n",
       "363                                                  https://www.mybank.com.tw/mybank   \n",
       "\n",
       "     SessionNumber                          TrackingUuid  \n",
       "75        20161424  fe01c11e-89c0-4e67-aa02-50c203894881  \n",
       "78        20031976  e91778f6-dd1a-469a-ae6e-8778e71c3460  \n",
       "219       20161424  fe01c11e-89c0-4e67-aa02-50c203894881  \n",
       "222       20031976  e91778f6-dd1a-469a-ae6e-8778e71c3460  \n",
       "363       20161424  fe01c11e-89c0-4e67-aa02-50c203894881  "
      ]
     },
     "execution_count": 14,
     "metadata": {},
     "output_type": "execute_result"
    }
   ],
   "source": [
    "cardViewBehavior.head()"
   ]
  },
  {
   "cell_type": "markdown",
   "metadata": {},
   "source": [
    "## 資料預處理"
   ]
  },
  {
   "cell_type": "code",
   "execution_count": 15,
   "metadata": {
    "collapsed": false
   },
   "outputs": [
    {
     "data": {
      "text/plain": [
       "'cathay.bk.com/query'"
      ]
     },
     "execution_count": 15,
     "metadata": {},
     "output_type": "execute_result"
    }
   ],
   "source": [
    "a = 'cathay.bk.com/query?q=123'\n",
    "a[:a.find('?')]"
   ]
  },
  {
   "cell_type": "code",
   "execution_count": 16,
   "metadata": {
    "collapsed": false
   },
   "outputs": [
    {
     "name": "stderr",
     "output_type": "stream",
     "text": [
      "C:\\Anaconda3\\lib\\site-packages\\pandas\\core\\generic.py:2701: SettingWithCopyWarning: \n",
      "A value is trying to be set on a copy of a slice from a DataFrame.\n",
      "Try using .loc[row_indexer,col_indexer] = value instead\n",
      "\n",
      "See the caveats in the documentation: http://pandas.pydata.org/pandas-docs/stable/indexing.html#indexing-view-versus-copy\n",
      "  self[name] = value\n"
     ]
    }
   ],
   "source": [
    "#移除掉 ? 後面資料\n",
    "cardViewBehavior.PageLocation = cardViewBehavior.PageLocation.map(lambda link: link[:link.find('?')].strip().replace('https://www.cathayholdings.com/bank/', 'https://www.cathaybk.com.tw/') if link.find('?') > 0 else link.strip().replace('https://www.cathayholdings.com/bank/', 'https://www.cathaybk.com.tw/'))\n",
    "\n",
    "#移除掉 # 後面資料\n",
    "cardViewBehavior.PageLocation = cardViewBehavior.PageLocation.map(lambda link: link[:link.find('#')].strip() if link.find('#') > 0 else link.strip())\n",
    "\n",
    "#將aspx 變為asp\n",
    "cardViewBehavior.PageLocation = cardViewBehavior.PageLocation.map(lambda link: link.replace('.aspx', '.asp'))\n"
   ]
  },
  {
   "cell_type": "markdown",
   "metadata": {},
   "source": [
    "## 統計每個Session 看過的PageLocation 次數"
   ]
  },
  {
   "cell_type": "code",
   "execution_count": 17,
   "metadata": {
    "collapsed": false
   },
   "outputs": [
    {
     "data": {
      "text/plain": [
       "SessionNumber  PageLocation                                                                        \n",
       "19728893       https://www.cathaybk.com.tw/Cathaybk/card/index.asp                                     1\n",
       "               https://www.cathaybk.com.tw/cathaybk/OnlineLoan/creditcard/card_apply/Apply_Cfm.asp     7\n",
       "               https://www.cathaybk.com.tw/cathaybk/OnlineLoan/creditcard/card_apply/Apply_Inp1.asp    3\n",
       "               https://www.cathaybk.com.tw/cathaybk/OnlineLoan/creditcard/card_apply/Apply_Inp2.asp    3\n",
       "               https://www.cathaybk.com.tw/cathaybk/OnlineLoan/creditcard/card_apply/Apply_Inp4.asp    1\n",
       "Name: EventTimestamp, dtype: int64"
      ]
     },
     "execution_count": 17,
     "metadata": {},
     "output_type": "execute_result"
    }
   ],
   "source": [
    "# select SessionNumber, PageLocation, count(*)\n",
    "# from cardviewbehavior gorup by SessionNumber, PageLocation\n",
    "cardViewBehavior.groupby(['SessionNumber', 'PageLocation'])['EventTimestamp'].count().head()"
   ]
  },
  {
   "cell_type": "markdown",
   "metadata": {},
   "source": [
    "## 將資料轉變為Pivot Table"
   ]
  },
  {
   "cell_type": "code",
   "execution_count": 18,
   "metadata": {
    "collapsed": true
   },
   "outputs": [],
   "source": [
    "cardViewBehaviorGrp = cardViewBehavior.groupby(['SessionNumber', 'PageLocation'])['EventTimestamp'].count()"
   ]
  },
  {
   "cell_type": "code",
   "execution_count": 19,
   "metadata": {
    "collapsed": false
   },
   "outputs": [],
   "source": [
    "cardViewBehaviorGrp  = cardViewBehaviorGrp.reset_index()\n",
    "cardViewBehaviorGrp.columns = ['SessionNumber', 'PageLocation', 'count']"
   ]
  },
  {
   "cell_type": "code",
   "execution_count": 20,
   "metadata": {
    "collapsed": false
   },
   "outputs": [
    {
     "data": {
      "text/html": [
       "<div>\n",
       "<table border=\"1\" class=\"dataframe\">\n",
       "  <thead>\n",
       "    <tr style=\"text-align: right;\">\n",
       "      <th></th>\n",
       "      <th>SessionNumber</th>\n",
       "      <th>PageLocation</th>\n",
       "      <th>count</th>\n",
       "    </tr>\n",
       "  </thead>\n",
       "  <tbody>\n",
       "    <tr>\n",
       "      <th>0</th>\n",
       "      <td>19728893</td>\n",
       "      <td>https://www.cathaybk.com.tw/Cathaybk/card/index.asp</td>\n",
       "      <td>1</td>\n",
       "    </tr>\n",
       "    <tr>\n",
       "      <th>1</th>\n",
       "      <td>19728893</td>\n",
       "      <td>https://www.cathaybk.com.tw/cathaybk/OnlineLoan/creditcard/card_apply/Apply_Cfm.asp</td>\n",
       "      <td>7</td>\n",
       "    </tr>\n",
       "    <tr>\n",
       "      <th>2</th>\n",
       "      <td>19728893</td>\n",
       "      <td>https://www.cathaybk.com.tw/cathaybk/OnlineLoan/creditcard/card_apply/Apply_Inp1.asp</td>\n",
       "      <td>3</td>\n",
       "    </tr>\n",
       "    <tr>\n",
       "      <th>3</th>\n",
       "      <td>19728893</td>\n",
       "      <td>https://www.cathaybk.com.tw/cathaybk/OnlineLoan/creditcard/card_apply/Apply_Inp2.asp</td>\n",
       "      <td>3</td>\n",
       "    </tr>\n",
       "    <tr>\n",
       "      <th>4</th>\n",
       "      <td>19728893</td>\n",
       "      <td>https://www.cathaybk.com.tw/cathaybk/OnlineLoan/creditcard/card_apply/Apply_Inp4.asp</td>\n",
       "      <td>1</td>\n",
       "    </tr>\n",
       "    <tr>\n",
       "      <th>5</th>\n",
       "      <td>19728893</td>\n",
       "      <td>https://www.cathaybk.com.tw/cathaybk/OnlineLoan/creditcard/card_apply/Apply_Rst.asp</td>\n",
       "      <td>1</td>\n",
       "    </tr>\n",
       "    <tr>\n",
       "      <th>6</th>\n",
       "      <td>19728893</td>\n",
       "      <td>https://www.cathaybk.com.tw/cathaybk/OnlineLoan/creditcard/card_apply/applicationType.asp</td>\n",
       "      <td>3</td>\n",
       "    </tr>\n",
       "    <tr>\n",
       "      <th>7</th>\n",
       "      <td>19728893</td>\n",
       "      <td>https://www.cathaybk.com.tw/cathaybk/OnlineLoan/creditcard/card_apply/index.asp</td>\n",
       "      <td>1</td>\n",
       "    </tr>\n",
       "    <tr>\n",
       "      <th>8</th>\n",
       "      <td>19728893</td>\n",
       "      <td>https://www.cathaybk.com.tw/cathaybk/OnlineLoan/creditcard/card_apply/validate.asp</td>\n",
       "      <td>2</td>\n",
       "    </tr>\n",
       "    <tr>\n",
       "      <th>9</th>\n",
       "      <td>19728893</td>\n",
       "      <td>https://www.cathaybk.com.tw/cathaybk/OnlineLoan_card_apply.asp</td>\n",
       "      <td>1</td>\n",
       "    </tr>\n",
       "  </tbody>\n",
       "</table>\n",
       "</div>"
      ],
      "text/plain": [
       "   SessionNumber  \\\n",
       "0       19728893   \n",
       "1       19728893   \n",
       "2       19728893   \n",
       "3       19728893   \n",
       "4       19728893   \n",
       "5       19728893   \n",
       "6       19728893   \n",
       "7       19728893   \n",
       "8       19728893   \n",
       "9       19728893   \n",
       "\n",
       "                                                                                PageLocation  \\\n",
       "0                                        https://www.cathaybk.com.tw/Cathaybk/card/index.asp   \n",
       "1        https://www.cathaybk.com.tw/cathaybk/OnlineLoan/creditcard/card_apply/Apply_Cfm.asp   \n",
       "2       https://www.cathaybk.com.tw/cathaybk/OnlineLoan/creditcard/card_apply/Apply_Inp1.asp   \n",
       "3       https://www.cathaybk.com.tw/cathaybk/OnlineLoan/creditcard/card_apply/Apply_Inp2.asp   \n",
       "4       https://www.cathaybk.com.tw/cathaybk/OnlineLoan/creditcard/card_apply/Apply_Inp4.asp   \n",
       "5        https://www.cathaybk.com.tw/cathaybk/OnlineLoan/creditcard/card_apply/Apply_Rst.asp   \n",
       "6  https://www.cathaybk.com.tw/cathaybk/OnlineLoan/creditcard/card_apply/applicationType.asp   \n",
       "7            https://www.cathaybk.com.tw/cathaybk/OnlineLoan/creditcard/card_apply/index.asp   \n",
       "8         https://www.cathaybk.com.tw/cathaybk/OnlineLoan/creditcard/card_apply/validate.asp   \n",
       "9                             https://www.cathaybk.com.tw/cathaybk/OnlineLoan_card_apply.asp   \n",
       "\n",
       "   count  \n",
       "0      1  \n",
       "1      7  \n",
       "2      3  \n",
       "3      3  \n",
       "4      1  \n",
       "5      1  \n",
       "6      3  \n",
       "7      1  \n",
       "8      2  \n",
       "9      1  "
      ]
     },
     "execution_count": 20,
     "metadata": {},
     "output_type": "execute_result"
    }
   ],
   "source": [
    "cardViewBehaviorGrp.head(10)"
   ]
  },
  {
   "cell_type": "code",
   "execution_count": 21,
   "metadata": {
    "collapsed": false
   },
   "outputs": [
    {
     "data": {
      "text/plain": [
       "45400"
      ]
     },
     "execution_count": 21,
     "metadata": {},
     "output_type": "execute_result"
    }
   ],
   "source": [
    "len(cardViewBehaviorGrp.PageLocation.unique())\n",
    "len(cardViewBehaviorGrp.SessionNumber.unique())"
   ]
  },
  {
   "cell_type": "code",
   "execution_count": 22,
   "metadata": {
    "collapsed": true
   },
   "outputs": [],
   "source": [
    "cardViewBehaviorGrp_df  = cardViewBehaviorGrp.pivot(index = 'SessionNumber', columns= 'PageLocation', values='count')"
   ]
  },
  {
   "cell_type": "code",
   "execution_count": 23,
   "metadata": {
    "collapsed": false
   },
   "outputs": [
    {
     "data": {
      "text/plain": [
       "(45400, 1089)"
      ]
     },
     "execution_count": 23,
     "metadata": {},
     "output_type": "execute_result"
    }
   ],
   "source": [
    "cardViewBehaviorGrp_df.shape"
   ]
  },
  {
   "cell_type": "code",
   "execution_count": 24,
   "metadata": {
    "collapsed": false
   },
   "outputs": [
    {
     "data": {
      "text/html": [
       "<div>\n",
       "<table border=\"1\" class=\"dataframe\">\n",
       "  <thead>\n",
       "    <tr style=\"text-align: right;\">\n",
       "      <th>PageLocation</th>\n",
       "      <th>https://www.cathaybk.com.tw/Cathaybk/Card/mybill_net/CathayLife/Card/search.asp</th>\n",
       "      <th>https://www.cathaybk.com.tw/Cathaybk/GS/search.asp</th>\n",
       "      <th>https://www.cathaybk.com.tw/Cathaybk/OnlineLoan/creditcard/card_apply/index.asp</th>\n",
       "      <th>https://www.cathaybk.com.tw/Cathaybk/OnlineLoan_card_apply.asp</th>\n",
       "      <th>https://www.cathaybk.com.tw/Cathaybk/card/card/allcard.asp</th>\n",
       "      <th>https://www.cathaybk.com.tw/Cathaybk/card/card/card.asp</th>\n",
       "      <th>https://www.cathaybk.com.tw/Cathaybk/card/card/card_1.asp</th>\n",
       "      <th>https://www.cathaybk.com.tw/Cathaybk/card/card/card_11.asp</th>\n",
       "      <th>https://www.cathaybk.com.tw/Cathaybk/card/card/card_28.asp</th>\n",
       "      <th>https://www.cathaybk.com.tw/Cathaybk/card/card/card_3.asp</th>\n",
       "      <th>...</th>\n",
       "      <th>https://www.mybank.com.tw/NewOnlineLoan/intro.asp</th>\n",
       "      <th>https://www.mybank.com.tw/mybank</th>\n",
       "      <th>https://www.mybank.com.tw/mybank/</th>\n",
       "      <th>https://www.mybank.com.tw/mybank/Home/Login</th>\n",
       "      <th>https://www.mybank.com.tw/mybank/Home/MyMobiBank</th>\n",
       "      <th>https://www.mybank.com.tw/mybank/Home/MyMobiBankLogin_OTP</th>\n",
       "      <th>https://www.mybank.com.tw/mybank/Outer/L0101_EmailAuth</th>\n",
       "      <th>https://www.mybank.com.tw/mybank/Quicklinks/Outer/HowToApply</th>\n",
       "      <th>https://www.mybank.com.tw/mybank/Quicklinks/Outer/TxnOverViewRst</th>\n",
       "      <th>https://www.mybank.com.tw/mybank/home/MyMobiBank</th>\n",
       "    </tr>\n",
       "    <tr>\n",
       "      <th>SessionNumber</th>\n",
       "      <th></th>\n",
       "      <th></th>\n",
       "      <th></th>\n",
       "      <th></th>\n",
       "      <th></th>\n",
       "      <th></th>\n",
       "      <th></th>\n",
       "      <th></th>\n",
       "      <th></th>\n",
       "      <th></th>\n",
       "      <th></th>\n",
       "      <th></th>\n",
       "      <th></th>\n",
       "      <th></th>\n",
       "      <th></th>\n",
       "      <th></th>\n",
       "      <th></th>\n",
       "      <th></th>\n",
       "      <th></th>\n",
       "      <th></th>\n",
       "      <th></th>\n",
       "    </tr>\n",
       "  </thead>\n",
       "  <tbody>\n",
       "    <tr>\n",
       "      <th>19728893</th>\n",
       "      <td>NaN</td>\n",
       "      <td>NaN</td>\n",
       "      <td>NaN</td>\n",
       "      <td>NaN</td>\n",
       "      <td>NaN</td>\n",
       "      <td>NaN</td>\n",
       "      <td>NaN</td>\n",
       "      <td>NaN</td>\n",
       "      <td>NaN</td>\n",
       "      <td>NaN</td>\n",
       "      <td>...</td>\n",
       "      <td>NaN</td>\n",
       "      <td>NaN</td>\n",
       "      <td>NaN</td>\n",
       "      <td>NaN</td>\n",
       "      <td>NaN</td>\n",
       "      <td>NaN</td>\n",
       "      <td>NaN</td>\n",
       "      <td>NaN</td>\n",
       "      <td>NaN</td>\n",
       "      <td>NaN</td>\n",
       "    </tr>\n",
       "    <tr>\n",
       "      <th>19728895</th>\n",
       "      <td>NaN</td>\n",
       "      <td>NaN</td>\n",
       "      <td>NaN</td>\n",
       "      <td>NaN</td>\n",
       "      <td>NaN</td>\n",
       "      <td>NaN</td>\n",
       "      <td>NaN</td>\n",
       "      <td>NaN</td>\n",
       "      <td>NaN</td>\n",
       "      <td>NaN</td>\n",
       "      <td>...</td>\n",
       "      <td>NaN</td>\n",
       "      <td>NaN</td>\n",
       "      <td>NaN</td>\n",
       "      <td>NaN</td>\n",
       "      <td>NaN</td>\n",
       "      <td>NaN</td>\n",
       "      <td>NaN</td>\n",
       "      <td>NaN</td>\n",
       "      <td>NaN</td>\n",
       "      <td>NaN</td>\n",
       "    </tr>\n",
       "    <tr>\n",
       "      <th>19728937</th>\n",
       "      <td>NaN</td>\n",
       "      <td>NaN</td>\n",
       "      <td>NaN</td>\n",
       "      <td>NaN</td>\n",
       "      <td>NaN</td>\n",
       "      <td>NaN</td>\n",
       "      <td>NaN</td>\n",
       "      <td>NaN</td>\n",
       "      <td>NaN</td>\n",
       "      <td>NaN</td>\n",
       "      <td>...</td>\n",
       "      <td>NaN</td>\n",
       "      <td>NaN</td>\n",
       "      <td>NaN</td>\n",
       "      <td>NaN</td>\n",
       "      <td>NaN</td>\n",
       "      <td>NaN</td>\n",
       "      <td>NaN</td>\n",
       "      <td>NaN</td>\n",
       "      <td>NaN</td>\n",
       "      <td>NaN</td>\n",
       "    </tr>\n",
       "    <tr>\n",
       "      <th>19728989</th>\n",
       "      <td>NaN</td>\n",
       "      <td>NaN</td>\n",
       "      <td>NaN</td>\n",
       "      <td>NaN</td>\n",
       "      <td>NaN</td>\n",
       "      <td>NaN</td>\n",
       "      <td>NaN</td>\n",
       "      <td>NaN</td>\n",
       "      <td>NaN</td>\n",
       "      <td>NaN</td>\n",
       "      <td>...</td>\n",
       "      <td>NaN</td>\n",
       "      <td>3.0</td>\n",
       "      <td>NaN</td>\n",
       "      <td>NaN</td>\n",
       "      <td>NaN</td>\n",
       "      <td>NaN</td>\n",
       "      <td>NaN</td>\n",
       "      <td>NaN</td>\n",
       "      <td>NaN</td>\n",
       "      <td>NaN</td>\n",
       "    </tr>\n",
       "    <tr>\n",
       "      <th>19729241</th>\n",
       "      <td>NaN</td>\n",
       "      <td>NaN</td>\n",
       "      <td>NaN</td>\n",
       "      <td>NaN</td>\n",
       "      <td>NaN</td>\n",
       "      <td>NaN</td>\n",
       "      <td>NaN</td>\n",
       "      <td>NaN</td>\n",
       "      <td>NaN</td>\n",
       "      <td>NaN</td>\n",
       "      <td>...</td>\n",
       "      <td>NaN</td>\n",
       "      <td>NaN</td>\n",
       "      <td>NaN</td>\n",
       "      <td>NaN</td>\n",
       "      <td>NaN</td>\n",
       "      <td>NaN</td>\n",
       "      <td>NaN</td>\n",
       "      <td>NaN</td>\n",
       "      <td>NaN</td>\n",
       "      <td>NaN</td>\n",
       "    </tr>\n",
       "  </tbody>\n",
       "</table>\n",
       "<p>5 rows × 1089 columns</p>\n",
       "</div>"
      ],
      "text/plain": [
       "PageLocation   https://www.cathaybk.com.tw/Cathaybk/Card/mybill_net/CathayLife/Card/search.asp  \\\n",
       "SessionNumber                                                                                    \n",
       "19728893                                                                                   NaN   \n",
       "19728895                                                                                   NaN   \n",
       "19728937                                                                                   NaN   \n",
       "19728989                                                                                   NaN   \n",
       "19729241                                                                                   NaN   \n",
       "\n",
       "PageLocation   https://www.cathaybk.com.tw/Cathaybk/GS/search.asp  \\\n",
       "SessionNumber                                                       \n",
       "19728893                                                      NaN   \n",
       "19728895                                                      NaN   \n",
       "19728937                                                      NaN   \n",
       "19728989                                                      NaN   \n",
       "19729241                                                      NaN   \n",
       "\n",
       "PageLocation   https://www.cathaybk.com.tw/Cathaybk/OnlineLoan/creditcard/card_apply/index.asp  \\\n",
       "SessionNumber                                                                                    \n",
       "19728893                                                                                   NaN   \n",
       "19728895                                                                                   NaN   \n",
       "19728937                                                                                   NaN   \n",
       "19728989                                                                                   NaN   \n",
       "19729241                                                                                   NaN   \n",
       "\n",
       "PageLocation   https://www.cathaybk.com.tw/Cathaybk/OnlineLoan_card_apply.asp  \\\n",
       "SessionNumber                                                                   \n",
       "19728893                                                                  NaN   \n",
       "19728895                                                                  NaN   \n",
       "19728937                                                                  NaN   \n",
       "19728989                                                                  NaN   \n",
       "19729241                                                                  NaN   \n",
       "\n",
       "PageLocation   https://www.cathaybk.com.tw/Cathaybk/card/card/allcard.asp  \\\n",
       "SessionNumber                                                               \n",
       "19728893                                                              NaN   \n",
       "19728895                                                              NaN   \n",
       "19728937                                                              NaN   \n",
       "19728989                                                              NaN   \n",
       "19729241                                                              NaN   \n",
       "\n",
       "PageLocation   https://www.cathaybk.com.tw/Cathaybk/card/card/card.asp  \\\n",
       "SessionNumber                                                            \n",
       "19728893                                                           NaN   \n",
       "19728895                                                           NaN   \n",
       "19728937                                                           NaN   \n",
       "19728989                                                           NaN   \n",
       "19729241                                                           NaN   \n",
       "\n",
       "PageLocation   https://www.cathaybk.com.tw/Cathaybk/card/card/card_1.asp  \\\n",
       "SessionNumber                                                              \n",
       "19728893                                                             NaN   \n",
       "19728895                                                             NaN   \n",
       "19728937                                                             NaN   \n",
       "19728989                                                             NaN   \n",
       "19729241                                                             NaN   \n",
       "\n",
       "PageLocation   https://www.cathaybk.com.tw/Cathaybk/card/card/card_11.asp  \\\n",
       "SessionNumber                                                               \n",
       "19728893                                                              NaN   \n",
       "19728895                                                              NaN   \n",
       "19728937                                                              NaN   \n",
       "19728989                                                              NaN   \n",
       "19729241                                                              NaN   \n",
       "\n",
       "PageLocation   https://www.cathaybk.com.tw/Cathaybk/card/card/card_28.asp  \\\n",
       "SessionNumber                                                               \n",
       "19728893                                                              NaN   \n",
       "19728895                                                              NaN   \n",
       "19728937                                                              NaN   \n",
       "19728989                                                              NaN   \n",
       "19729241                                                              NaN   \n",
       "\n",
       "PageLocation   https://www.cathaybk.com.tw/Cathaybk/card/card/card_3.asp  \\\n",
       "SessionNumber                                                              \n",
       "19728893                                                             NaN   \n",
       "19728895                                                             NaN   \n",
       "19728937                                                             NaN   \n",
       "19728989                                                             NaN   \n",
       "19729241                                                             NaN   \n",
       "\n",
       "PageLocation                         ...                         \\\n",
       "SessionNumber                        ...                          \n",
       "19728893                             ...                          \n",
       "19728895                             ...                          \n",
       "19728937                             ...                          \n",
       "19728989                             ...                          \n",
       "19729241                             ...                          \n",
       "\n",
       "PageLocation   https://www.mybank.com.tw/NewOnlineLoan/intro.asp  \\\n",
       "SessionNumber                                                      \n",
       "19728893                                                     NaN   \n",
       "19728895                                                     NaN   \n",
       "19728937                                                     NaN   \n",
       "19728989                                                     NaN   \n",
       "19729241                                                     NaN   \n",
       "\n",
       "PageLocation   https://www.mybank.com.tw/mybank  \\\n",
       "SessionNumber                                     \n",
       "19728893                                    NaN   \n",
       "19728895                                    NaN   \n",
       "19728937                                    NaN   \n",
       "19728989                                    3.0   \n",
       "19729241                                    NaN   \n",
       "\n",
       "PageLocation   https://www.mybank.com.tw/mybank/  \\\n",
       "SessionNumber                                      \n",
       "19728893                                     NaN   \n",
       "19728895                                     NaN   \n",
       "19728937                                     NaN   \n",
       "19728989                                     NaN   \n",
       "19729241                                     NaN   \n",
       "\n",
       "PageLocation   https://www.mybank.com.tw/mybank/Home/Login  \\\n",
       "SessionNumber                                                \n",
       "19728893                                               NaN   \n",
       "19728895                                               NaN   \n",
       "19728937                                               NaN   \n",
       "19728989                                               NaN   \n",
       "19729241                                               NaN   \n",
       "\n",
       "PageLocation   https://www.mybank.com.tw/mybank/Home/MyMobiBank  \\\n",
       "SessionNumber                                                     \n",
       "19728893                                                    NaN   \n",
       "19728895                                                    NaN   \n",
       "19728937                                                    NaN   \n",
       "19728989                                                    NaN   \n",
       "19729241                                                    NaN   \n",
       "\n",
       "PageLocation   https://www.mybank.com.tw/mybank/Home/MyMobiBankLogin_OTP  \\\n",
       "SessionNumber                                                              \n",
       "19728893                                                             NaN   \n",
       "19728895                                                             NaN   \n",
       "19728937                                                             NaN   \n",
       "19728989                                                             NaN   \n",
       "19729241                                                             NaN   \n",
       "\n",
       "PageLocation   https://www.mybank.com.tw/mybank/Outer/L0101_EmailAuth  \\\n",
       "SessionNumber                                                           \n",
       "19728893                                                          NaN   \n",
       "19728895                                                          NaN   \n",
       "19728937                                                          NaN   \n",
       "19728989                                                          NaN   \n",
       "19729241                                                          NaN   \n",
       "\n",
       "PageLocation   https://www.mybank.com.tw/mybank/Quicklinks/Outer/HowToApply  \\\n",
       "SessionNumber                                                                 \n",
       "19728893                                                                NaN   \n",
       "19728895                                                                NaN   \n",
       "19728937                                                                NaN   \n",
       "19728989                                                                NaN   \n",
       "19729241                                                                NaN   \n",
       "\n",
       "PageLocation   https://www.mybank.com.tw/mybank/Quicklinks/Outer/TxnOverViewRst  \\\n",
       "SessionNumber                                                                     \n",
       "19728893                                                                    NaN   \n",
       "19728895                                                                    NaN   \n",
       "19728937                                                                    NaN   \n",
       "19728989                                                                    NaN   \n",
       "19729241                                                                    NaN   \n",
       "\n",
       "PageLocation   https://www.mybank.com.tw/mybank/home/MyMobiBank  \n",
       "SessionNumber                                                    \n",
       "19728893                                                    NaN  \n",
       "19728895                                                    NaN  \n",
       "19728937                                                    NaN  \n",
       "19728989                                                    NaN  \n",
       "19729241                                                    NaN  \n",
       "\n",
       "[5 rows x 1089 columns]"
      ]
     },
     "execution_count": 24,
     "metadata": {},
     "output_type": "execute_result"
    }
   ],
   "source": [
    "cardViewBehaviorGrp_df.head()"
   ]
  },
  {
   "cell_type": "markdown",
   "metadata": {},
   "source": [
    "## 將nan 轉變為0"
   ]
  },
  {
   "cell_type": "code",
   "execution_count": 25,
   "metadata": {
    "collapsed": true
   },
   "outputs": [],
   "source": [
    "cardViewBehaviorGrp_df = cardViewBehaviorGrp_df.fillna(0)"
   ]
  },
  {
   "cell_type": "code",
   "execution_count": 26,
   "metadata": {
    "collapsed": false,
    "scrolled": true
   },
   "outputs": [
    {
     "data": {
      "text/html": [
       "<div>\n",
       "<table border=\"1\" class=\"dataframe\">\n",
       "  <thead>\n",
       "    <tr style=\"text-align: right;\">\n",
       "      <th>PageLocation</th>\n",
       "      <th>https://www.cathaybk.com.tw/Cathaybk/Card/mybill_net/CathayLife/Card/search.asp</th>\n",
       "      <th>https://www.cathaybk.com.tw/Cathaybk/GS/search.asp</th>\n",
       "      <th>https://www.cathaybk.com.tw/Cathaybk/OnlineLoan/creditcard/card_apply/index.asp</th>\n",
       "      <th>https://www.cathaybk.com.tw/Cathaybk/OnlineLoan_card_apply.asp</th>\n",
       "      <th>https://www.cathaybk.com.tw/Cathaybk/card/card/allcard.asp</th>\n",
       "      <th>https://www.cathaybk.com.tw/Cathaybk/card/card/card.asp</th>\n",
       "      <th>https://www.cathaybk.com.tw/Cathaybk/card/card/card_1.asp</th>\n",
       "      <th>https://www.cathaybk.com.tw/Cathaybk/card/card/card_11.asp</th>\n",
       "      <th>https://www.cathaybk.com.tw/Cathaybk/card/card/card_28.asp</th>\n",
       "      <th>https://www.cathaybk.com.tw/Cathaybk/card/card/card_3.asp</th>\n",
       "      <th>...</th>\n",
       "      <th>https://www.mybank.com.tw/NewOnlineLoan/intro.asp</th>\n",
       "      <th>https://www.mybank.com.tw/mybank</th>\n",
       "      <th>https://www.mybank.com.tw/mybank/</th>\n",
       "      <th>https://www.mybank.com.tw/mybank/Home/Login</th>\n",
       "      <th>https://www.mybank.com.tw/mybank/Home/MyMobiBank</th>\n",
       "      <th>https://www.mybank.com.tw/mybank/Home/MyMobiBankLogin_OTP</th>\n",
       "      <th>https://www.mybank.com.tw/mybank/Outer/L0101_EmailAuth</th>\n",
       "      <th>https://www.mybank.com.tw/mybank/Quicklinks/Outer/HowToApply</th>\n",
       "      <th>https://www.mybank.com.tw/mybank/Quicklinks/Outer/TxnOverViewRst</th>\n",
       "      <th>https://www.mybank.com.tw/mybank/home/MyMobiBank</th>\n",
       "    </tr>\n",
       "    <tr>\n",
       "      <th>SessionNumber</th>\n",
       "      <th></th>\n",
       "      <th></th>\n",
       "      <th></th>\n",
       "      <th></th>\n",
       "      <th></th>\n",
       "      <th></th>\n",
       "      <th></th>\n",
       "      <th></th>\n",
       "      <th></th>\n",
       "      <th></th>\n",
       "      <th></th>\n",
       "      <th></th>\n",
       "      <th></th>\n",
       "      <th></th>\n",
       "      <th></th>\n",
       "      <th></th>\n",
       "      <th></th>\n",
       "      <th></th>\n",
       "      <th></th>\n",
       "      <th></th>\n",
       "      <th></th>\n",
       "    </tr>\n",
       "  </thead>\n",
       "  <tbody>\n",
       "    <tr>\n",
       "      <th>19728893</th>\n",
       "      <td>0.0</td>\n",
       "      <td>0.0</td>\n",
       "      <td>0.0</td>\n",
       "      <td>0.0</td>\n",
       "      <td>0.0</td>\n",
       "      <td>0.0</td>\n",
       "      <td>0.0</td>\n",
       "      <td>0.0</td>\n",
       "      <td>0.0</td>\n",
       "      <td>0.0</td>\n",
       "      <td>...</td>\n",
       "      <td>0.0</td>\n",
       "      <td>0.0</td>\n",
       "      <td>0.0</td>\n",
       "      <td>0.0</td>\n",
       "      <td>0.0</td>\n",
       "      <td>0.0</td>\n",
       "      <td>0.0</td>\n",
       "      <td>0.0</td>\n",
       "      <td>0.0</td>\n",
       "      <td>0.0</td>\n",
       "    </tr>\n",
       "    <tr>\n",
       "      <th>19728895</th>\n",
       "      <td>0.0</td>\n",
       "      <td>0.0</td>\n",
       "      <td>0.0</td>\n",
       "      <td>0.0</td>\n",
       "      <td>0.0</td>\n",
       "      <td>0.0</td>\n",
       "      <td>0.0</td>\n",
       "      <td>0.0</td>\n",
       "      <td>0.0</td>\n",
       "      <td>0.0</td>\n",
       "      <td>...</td>\n",
       "      <td>0.0</td>\n",
       "      <td>0.0</td>\n",
       "      <td>0.0</td>\n",
       "      <td>0.0</td>\n",
       "      <td>0.0</td>\n",
       "      <td>0.0</td>\n",
       "      <td>0.0</td>\n",
       "      <td>0.0</td>\n",
       "      <td>0.0</td>\n",
       "      <td>0.0</td>\n",
       "    </tr>\n",
       "    <tr>\n",
       "      <th>19728937</th>\n",
       "      <td>0.0</td>\n",
       "      <td>0.0</td>\n",
       "      <td>0.0</td>\n",
       "      <td>0.0</td>\n",
       "      <td>0.0</td>\n",
       "      <td>0.0</td>\n",
       "      <td>0.0</td>\n",
       "      <td>0.0</td>\n",
       "      <td>0.0</td>\n",
       "      <td>0.0</td>\n",
       "      <td>...</td>\n",
       "      <td>0.0</td>\n",
       "      <td>0.0</td>\n",
       "      <td>0.0</td>\n",
       "      <td>0.0</td>\n",
       "      <td>0.0</td>\n",
       "      <td>0.0</td>\n",
       "      <td>0.0</td>\n",
       "      <td>0.0</td>\n",
       "      <td>0.0</td>\n",
       "      <td>0.0</td>\n",
       "    </tr>\n",
       "    <tr>\n",
       "      <th>19728989</th>\n",
       "      <td>0.0</td>\n",
       "      <td>0.0</td>\n",
       "      <td>0.0</td>\n",
       "      <td>0.0</td>\n",
       "      <td>0.0</td>\n",
       "      <td>0.0</td>\n",
       "      <td>0.0</td>\n",
       "      <td>0.0</td>\n",
       "      <td>0.0</td>\n",
       "      <td>0.0</td>\n",
       "      <td>...</td>\n",
       "      <td>0.0</td>\n",
       "      <td>3.0</td>\n",
       "      <td>0.0</td>\n",
       "      <td>0.0</td>\n",
       "      <td>0.0</td>\n",
       "      <td>0.0</td>\n",
       "      <td>0.0</td>\n",
       "      <td>0.0</td>\n",
       "      <td>0.0</td>\n",
       "      <td>0.0</td>\n",
       "    </tr>\n",
       "    <tr>\n",
       "      <th>19729241</th>\n",
       "      <td>0.0</td>\n",
       "      <td>0.0</td>\n",
       "      <td>0.0</td>\n",
       "      <td>0.0</td>\n",
       "      <td>0.0</td>\n",
       "      <td>0.0</td>\n",
       "      <td>0.0</td>\n",
       "      <td>0.0</td>\n",
       "      <td>0.0</td>\n",
       "      <td>0.0</td>\n",
       "      <td>...</td>\n",
       "      <td>0.0</td>\n",
       "      <td>0.0</td>\n",
       "      <td>0.0</td>\n",
       "      <td>0.0</td>\n",
       "      <td>0.0</td>\n",
       "      <td>0.0</td>\n",
       "      <td>0.0</td>\n",
       "      <td>0.0</td>\n",
       "      <td>0.0</td>\n",
       "      <td>0.0</td>\n",
       "    </tr>\n",
       "  </tbody>\n",
       "</table>\n",
       "<p>5 rows × 1089 columns</p>\n",
       "</div>"
      ],
      "text/plain": [
       "PageLocation   https://www.cathaybk.com.tw/Cathaybk/Card/mybill_net/CathayLife/Card/search.asp  \\\n",
       "SessionNumber                                                                                    \n",
       "19728893                                                                                   0.0   \n",
       "19728895                                                                                   0.0   \n",
       "19728937                                                                                   0.0   \n",
       "19728989                                                                                   0.0   \n",
       "19729241                                                                                   0.0   \n",
       "\n",
       "PageLocation   https://www.cathaybk.com.tw/Cathaybk/GS/search.asp  \\\n",
       "SessionNumber                                                       \n",
       "19728893                                                      0.0   \n",
       "19728895                                                      0.0   \n",
       "19728937                                                      0.0   \n",
       "19728989                                                      0.0   \n",
       "19729241                                                      0.0   \n",
       "\n",
       "PageLocation   https://www.cathaybk.com.tw/Cathaybk/OnlineLoan/creditcard/card_apply/index.asp  \\\n",
       "SessionNumber                                                                                    \n",
       "19728893                                                                                   0.0   \n",
       "19728895                                                                                   0.0   \n",
       "19728937                                                                                   0.0   \n",
       "19728989                                                                                   0.0   \n",
       "19729241                                                                                   0.0   \n",
       "\n",
       "PageLocation   https://www.cathaybk.com.tw/Cathaybk/OnlineLoan_card_apply.asp  \\\n",
       "SessionNumber                                                                   \n",
       "19728893                                                                  0.0   \n",
       "19728895                                                                  0.0   \n",
       "19728937                                                                  0.0   \n",
       "19728989                                                                  0.0   \n",
       "19729241                                                                  0.0   \n",
       "\n",
       "PageLocation   https://www.cathaybk.com.tw/Cathaybk/card/card/allcard.asp  \\\n",
       "SessionNumber                                                               \n",
       "19728893                                                              0.0   \n",
       "19728895                                                              0.0   \n",
       "19728937                                                              0.0   \n",
       "19728989                                                              0.0   \n",
       "19729241                                                              0.0   \n",
       "\n",
       "PageLocation   https://www.cathaybk.com.tw/Cathaybk/card/card/card.asp  \\\n",
       "SessionNumber                                                            \n",
       "19728893                                                           0.0   \n",
       "19728895                                                           0.0   \n",
       "19728937                                                           0.0   \n",
       "19728989                                                           0.0   \n",
       "19729241                                                           0.0   \n",
       "\n",
       "PageLocation   https://www.cathaybk.com.tw/Cathaybk/card/card/card_1.asp  \\\n",
       "SessionNumber                                                              \n",
       "19728893                                                             0.0   \n",
       "19728895                                                             0.0   \n",
       "19728937                                                             0.0   \n",
       "19728989                                                             0.0   \n",
       "19729241                                                             0.0   \n",
       "\n",
       "PageLocation   https://www.cathaybk.com.tw/Cathaybk/card/card/card_11.asp  \\\n",
       "SessionNumber                                                               \n",
       "19728893                                                              0.0   \n",
       "19728895                                                              0.0   \n",
       "19728937                                                              0.0   \n",
       "19728989                                                              0.0   \n",
       "19729241                                                              0.0   \n",
       "\n",
       "PageLocation   https://www.cathaybk.com.tw/Cathaybk/card/card/card_28.asp  \\\n",
       "SessionNumber                                                               \n",
       "19728893                                                              0.0   \n",
       "19728895                                                              0.0   \n",
       "19728937                                                              0.0   \n",
       "19728989                                                              0.0   \n",
       "19729241                                                              0.0   \n",
       "\n",
       "PageLocation   https://www.cathaybk.com.tw/Cathaybk/card/card/card_3.asp  \\\n",
       "SessionNumber                                                              \n",
       "19728893                                                             0.0   \n",
       "19728895                                                             0.0   \n",
       "19728937                                                             0.0   \n",
       "19728989                                                             0.0   \n",
       "19729241                                                             0.0   \n",
       "\n",
       "PageLocation                         ...                         \\\n",
       "SessionNumber                        ...                          \n",
       "19728893                             ...                          \n",
       "19728895                             ...                          \n",
       "19728937                             ...                          \n",
       "19728989                             ...                          \n",
       "19729241                             ...                          \n",
       "\n",
       "PageLocation   https://www.mybank.com.tw/NewOnlineLoan/intro.asp  \\\n",
       "SessionNumber                                                      \n",
       "19728893                                                     0.0   \n",
       "19728895                                                     0.0   \n",
       "19728937                                                     0.0   \n",
       "19728989                                                     0.0   \n",
       "19729241                                                     0.0   \n",
       "\n",
       "PageLocation   https://www.mybank.com.tw/mybank  \\\n",
       "SessionNumber                                     \n",
       "19728893                                    0.0   \n",
       "19728895                                    0.0   \n",
       "19728937                                    0.0   \n",
       "19728989                                    3.0   \n",
       "19729241                                    0.0   \n",
       "\n",
       "PageLocation   https://www.mybank.com.tw/mybank/  \\\n",
       "SessionNumber                                      \n",
       "19728893                                     0.0   \n",
       "19728895                                     0.0   \n",
       "19728937                                     0.0   \n",
       "19728989                                     0.0   \n",
       "19729241                                     0.0   \n",
       "\n",
       "PageLocation   https://www.mybank.com.tw/mybank/Home/Login  \\\n",
       "SessionNumber                                                \n",
       "19728893                                               0.0   \n",
       "19728895                                               0.0   \n",
       "19728937                                               0.0   \n",
       "19728989                                               0.0   \n",
       "19729241                                               0.0   \n",
       "\n",
       "PageLocation   https://www.mybank.com.tw/mybank/Home/MyMobiBank  \\\n",
       "SessionNumber                                                     \n",
       "19728893                                                    0.0   \n",
       "19728895                                                    0.0   \n",
       "19728937                                                    0.0   \n",
       "19728989                                                    0.0   \n",
       "19729241                                                    0.0   \n",
       "\n",
       "PageLocation   https://www.mybank.com.tw/mybank/Home/MyMobiBankLogin_OTP  \\\n",
       "SessionNumber                                                              \n",
       "19728893                                                             0.0   \n",
       "19728895                                                             0.0   \n",
       "19728937                                                             0.0   \n",
       "19728989                                                             0.0   \n",
       "19729241                                                             0.0   \n",
       "\n",
       "PageLocation   https://www.mybank.com.tw/mybank/Outer/L0101_EmailAuth  \\\n",
       "SessionNumber                                                           \n",
       "19728893                                                          0.0   \n",
       "19728895                                                          0.0   \n",
       "19728937                                                          0.0   \n",
       "19728989                                                          0.0   \n",
       "19729241                                                          0.0   \n",
       "\n",
       "PageLocation   https://www.mybank.com.tw/mybank/Quicklinks/Outer/HowToApply  \\\n",
       "SessionNumber                                                                 \n",
       "19728893                                                                0.0   \n",
       "19728895                                                                0.0   \n",
       "19728937                                                                0.0   \n",
       "19728989                                                                0.0   \n",
       "19729241                                                                0.0   \n",
       "\n",
       "PageLocation   https://www.mybank.com.tw/mybank/Quicklinks/Outer/TxnOverViewRst  \\\n",
       "SessionNumber                                                                     \n",
       "19728893                                                                    0.0   \n",
       "19728895                                                                    0.0   \n",
       "19728937                                                                    0.0   \n",
       "19728989                                                                    0.0   \n",
       "19729241                                                                    0.0   \n",
       "\n",
       "PageLocation   https://www.mybank.com.tw/mybank/home/MyMobiBank  \n",
       "SessionNumber                                                    \n",
       "19728893                                                    0.0  \n",
       "19728895                                                    0.0  \n",
       "19728937                                                    0.0  \n",
       "19728989                                                    0.0  \n",
       "19729241                                                    0.0  \n",
       "\n",
       "[5 rows x 1089 columns]"
      ]
     },
     "execution_count": 26,
     "metadata": {},
     "output_type": "execute_result"
    }
   ],
   "source": [
    "cardViewBehaviorGrp_df.head()"
   ]
  },
  {
   "cell_type": "code",
   "execution_count": null,
   "metadata": {
    "collapsed": true
   },
   "outputs": [],
   "source": [
    "cardViewBehaviorGrp_df.corr()"
   ]
  },
  {
   "cell_type": "code",
   "execution_count": 27,
   "metadata": {
    "collapsed": false
   },
   "outputs": [
    {
     "data": {
      "text/plain": [
       "SessionNumber\n",
       "19728893    0.0\n",
       "19728895    1.0\n",
       "19728937    0.0\n",
       "19728989    0.0\n",
       "19729241    0.0\n",
       "Name: https://www.cathaybk.com.tw/cathaybk/Online_ActivateCardForm.asp, dtype: float64"
      ]
     },
     "execution_count": 27,
     "metadata": {},
     "output_type": "execute_result"
    }
   ],
   "source": [
    "activate = 'https://www.cathaybk.com.tw/cathaybk/Online_ActivateCardForm.asp'\n",
    "cardViewBehaviorGrp_df[activate].head()"
   ]
  },
  {
   "cell_type": "code",
   "execution_count": 28,
   "metadata": {
    "collapsed": true
   },
   "outputs": [],
   "source": [
    "cardViewBehaviorGrp_df[activate] =  cardViewBehaviorGrp_df[activate].map(lambda e: 1 if e>=1 else 0)"
   ]
  },
  {
   "cell_type": "code",
   "execution_count": 29,
   "metadata": {
    "collapsed": false
   },
   "outputs": [
    {
     "data": {
      "text/plain": [
       "0    44241\n",
       "1     1159\n",
       "Name: https://www.cathaybk.com.tw/cathaybk/Online_ActivateCardForm.asp, dtype: int64"
      ]
     },
     "execution_count": 29,
     "metadata": {},
     "output_type": "execute_result"
    }
   ],
   "source": [
    "cardViewBehaviorGrp_df[activate].value_counts()"
   ]
  },
  {
   "cell_type": "markdown",
   "metadata": {},
   "source": [
    "## 移除重覆頁面"
   ]
  },
  {
   "cell_type": "code",
   "execution_count": null,
   "metadata": {
    "collapsed": true
   },
   "outputs": [],
   "source": [
    "del cardViewBehaviorGrp_df['https://www.cathaybk.com.tw/cathaybk/OnlineLoan/ActivateCardForm.asp']"
   ]
  },
  {
   "cell_type": "code",
   "execution_count": 146,
   "metadata": {
    "collapsed": true
   },
   "outputs": [],
   "source": [
    "del cardViewBehaviorGrp_df['https://www.cathaybk.com.tw/cathaybk/OnlineLoan/ActivateCardFormEnd.asp']"
   ]
  },
  {
   "cell_type": "code",
   "execution_count": 152,
   "metadata": {
    "collapsed": true
   },
   "outputs": [],
   "source": [
    "del cardViewBehaviorGrp_df['https://www.cathaybk.com.tw/cathaybk/card/index.asp']"
   ]
  },
  {
   "cell_type": "markdown",
   "metadata": {},
   "source": [
    "## 建立與繪製決策樹"
   ]
  },
  {
   "cell_type": "code",
   "execution_count": 161,
   "metadata": {
    "collapsed": true
   },
   "outputs": [],
   "source": [
    "from sklearn import tree\n",
    "activate = 'https://www.cathaybk.com.tw/cathaybk/Online_ActivateCardForm.asp'\n",
    "clf = tree.DecisionTreeClassifier()\n",
    "\n",
    "# data   => view count table without activate page\n",
    "# target => view count of activate page\n",
    "\n",
    "clf = clf.fit(cardViewBehaviorGrp_df.drop(activate, axis = 1), cardViewBehaviorGrp_df[activate])"
   ]
  },
  {
   "cell_type": "code",
   "execution_count": 162,
   "metadata": {
    "collapsed": true
   },
   "outputs": [],
   "source": [
    "from sklearn import tree\n",
    "tree.export_graphviz(clf, out_file='tree.dot') "
   ]
  },
  {
   "cell_type": "code",
   "execution_count": 163,
   "metadata": {
    "collapsed": false
   },
   "outputs": [
    {
     "data": {
      "text/plain": [
       "'https://www.cathaybk.com.tw/cathaybk/index.asp'"
      ]
     },
     "execution_count": 163,
     "metadata": {},
     "output_type": "execute_result"
    }
   ],
   "source": [
    "cardViewBehaviorGrp_df.drop(activate, axis = 1).columns[773]"
   ]
  },
  {
   "cell_type": "code",
   "execution_count": 164,
   "metadata": {
    "collapsed": false
   },
   "outputs": [
    {
     "ename": "SyntaxError",
     "evalue": "invalid syntax (<ipython-input-164-0930496169d9>, line 1)",
     "output_type": "error",
     "traceback": [
      "\u001b[1;36m  File \u001b[1;32m\"<ipython-input-164-0930496169d9>\"\u001b[1;36m, line \u001b[1;32m1\u001b[0m\n\u001b[1;33m    https://www.cathaybk.com.tw/cathaybk/Online_ActivateCardForm.asp\u001b[0m\n\u001b[1;37m         ^\u001b[0m\n\u001b[1;31mSyntaxError\u001b[0m\u001b[1;31m:\u001b[0m invalid syntax\n"
     ]
    }
   ],
   "source": [
    "https://www.cathaybk.com.tw/cathaybk/Online_ActivateCardForm.asp\n",
    "https://www.cathaybk.com.tw/cathaybk/OnlineLoan/ActivateCardForm.aspx"
   ]
  },
  {
   "cell_type": "markdown",
   "metadata": {},
   "source": [
    "## 產生預測結果"
   ]
  },
  {
   "cell_type": "code",
   "execution_count": 165,
   "metadata": {
    "collapsed": false
   },
   "outputs": [
    {
     "data": {
      "text/plain": [
       "array([0, 1, 0, ..., 0, 0, 0], dtype=int64)"
      ]
     },
     "execution_count": 165,
     "metadata": {},
     "output_type": "execute_result"
    }
   ],
   "source": [
    "predicted = clf.predict(cardViewBehaviorGrp_df.drop(activate, axis = 1))\n",
    "predicted\n"
   ]
  },
  {
   "cell_type": "code",
   "execution_count": 166,
   "metadata": {
    "collapsed": false
   },
   "outputs": [
    {
     "data": {
      "text/plain": [
       "array([[44240,     1],\n",
       "       [  230,   929]])"
      ]
     },
     "execution_count": 166,
     "metadata": {},
     "output_type": "execute_result"
    }
   ],
   "source": [
    "from sklearn.metrics import confusion_matrix \n",
    "cm = confusion_matrix(cardViewBehaviorGrp_df[activate], predicted) \n",
    "cm"
   ]
  },
  {
   "cell_type": "code",
   "execution_count": 167,
   "metadata": {
    "collapsed": false
   },
   "outputs": [
    {
     "data": {
      "text/plain": [
       "0.99491189427312776"
      ]
     },
     "execution_count": 167,
     "metadata": {},
     "output_type": "execute_result"
    }
   ],
   "source": [
    "from sklearn.metrics import accuracy_score\n",
    "accuracy_score(cardViewBehaviorGrp_df[activate], predicted)\n"
   ]
  },
  {
   "cell_type": "markdown",
   "metadata": {},
   "source": [
    "## 自動排序最重要的特徵"
   ]
  },
  {
   "cell_type": "code",
   "execution_count": 168,
   "metadata": {
    "collapsed": false
   },
   "outputs": [
    {
     "data": {
      "text/plain": [
       "array([  9.74614641e-05,   4.54820166e-06,   3.57358702e-06, ...,\n",
       "         1.64594478e-03,   1.53655716e-03,   4.14274488e-04])"
      ]
     },
     "execution_count": 168,
     "metadata": {},
     "output_type": "execute_result"
    }
   ],
   "source": [
    "from sklearn.ensemble import ExtraTreesClassifier\n",
    "\n",
    "clf = ExtraTreesClassifier()\n",
    "clf = clf.fit(cardViewBehaviorGrp_df.drop(activate, axis = 1), cardViewBehaviorGrp_df[activate])\n",
    "clf.feature_importances_  "
   ]
  },
  {
   "cell_type": "code",
   "execution_count": 173,
   "metadata": {
    "collapsed": false
   },
   "outputs": [
    {
     "name": "stdout",
     "output_type": "stream",
     "text": [
      "[1 2 3 4 5]\n"
     ]
    }
   ],
   "source": [
    "a = np.array([3,1,2,5,4])\n",
    "a.sort()\n",
    "print(a)"
   ]
  },
  {
   "cell_type": "code",
   "execution_count": 171,
   "metadata": {
    "collapsed": false
   },
   "outputs": [
    {
     "data": {
      "text/plain": [
       "array([1, 2, 0, 4, 3], dtype=int64)"
      ]
     },
     "execution_count": 171,
     "metadata": {},
     "output_type": "execute_result"
    }
   ],
   "source": [
    "import numpy as np\n",
    "a = np.array([3,1,2,5,4])\n",
    "a.argsort()"
   ]
  },
  {
   "cell_type": "markdown",
   "metadata": {},
   "source": [
    "## 有意義的Feature"
   ]
  },
  {
   "cell_type": "code",
   "execution_count": 178,
   "metadata": {
    "collapsed": false
   },
   "outputs": [
    {
     "name": "stdout",
     "output_type": "stream",
     "text": [
      "https://www.cathaybk.com.tw/cathaybk/card/card/card.asp 230 0.0454029644113\n",
      "https://www.cathaybk.com.tw/Cathaybk/card/index.asp 32 0.0346477367397\n",
      "https://www.cathaybk.com.tw/cathaybk/ 76 0.0330875786381\n",
      "https://www.cathaybk.com.tw/cathaybk/card/card/help.asp 262 0.0309550491023\n",
      "https://www.cathaybk.com.tw/cathaybk/card/card/right/right_1.asp 279 0.0284825505572\n",
      "https://www.cathaybk.com.tw/cathaybk/card/card/notice/notice_1.asp 265 0.022255363845\n",
      "https://www.cathaybk.com.tw/cathaybk/card/event/2011/travel_1.asp 317 0.0211829309976\n",
      "https://www.cathaybk.com.tw/cathaybk/card/event/2012/201203newcard_ggg/index.asp 321 0.0210854789658\n",
      "https://www.cathaybk.com.tw/cathaybk/card/login_news_list.asp 596 0.0203546294393\n",
      "https://www.cathaybk.com.tw/cathaybk/index.asp 773 0.0195077800287\n",
      "https://www.cathaybk.com.tw/cathaybk/OnlineLoan_card_apply.asp 165 0.0176234076387\n",
      "https://www.cathaybk.com.tw/cathaybk/OnlineLoan/creditcard/card_apply/index.asp 115 0.0167133607673\n",
      "https://www.mybank.com.tw/mybank 1076 0.0164996013677\n",
      "https://www.cathaybk.com.tw/cathaybk/mobile/index.asp 809 0.0152161288461\n",
      "https://www.cathaybk.com.tw/cathaybk/card/card/card_15.asp 236 0.0149014004848\n",
      "https://www.cathaybk.com.tw/cathaybk/card/card/allcard.asp 229 0.0145453067531\n",
      "https://www.cathaybk.com.tw/cathaybk/OnlineLoan/creditcard/card_apply/validate.asp 116 0.0132080505095\n",
      "https://www.cathaybk.com.tw/cathaybk/card/event/2016/card_news1050616.asp 513 0.0127248609968\n",
      "https://www.cathaybk.com.tw/cathaybk/card/service/quick.asp 660 0.0104467937231\n",
      "https://www.cathaybk.com.tw/cathaybk/card/card/card_14.asp 235 0.0101034687326\n",
      "https://www.cathaybk.com.tw/cathaybk/GS/search.asp 98 0.00986786022718\n",
      "https://www.cathaybk.com.tw/cathaybk/OnlineLoan/creditcard/card_apply/applicationType.asp 114 0.00979578776871\n",
      "https://www.cathaybk.com.tw/cathaybk/card/card/icard_1.asp 264 0.0091025732464\n",
      "https://www.cathaybk.com.tw/cathaybk/card/news_list.asp 635 0.00891932080713\n",
      "https://www.cathaybk.com.tw/cathaybk/card/card/card_23.asp 245 0.00784983040157\n",
      "https://www.cathaybk.com.tw/cathaybk/card/card/card_3.asp 249 0.00732589027703\n",
      "https://www.cathaybk.com.tw/cathaybk/card/event/bonus_index.asp 587 0.00719613620882\n",
      "https://www.cathaybk.com.tw/cathaybk/card/card/card_11.asp 232 0.00668202080774\n",
      "https://www.cathaybk.com.tw/cathaybk/card/card/card_2.asp 241 0.00665723329864\n"
     ]
    }
   ],
   "source": [
    "for rank in clf.feature_importances_.argsort()[:-30:-1]:\n",
    "    print(cardViewBehaviorGrp_df.drop(activate, axis = 1).columns[rank], rank, clf.feature_importances_[rank]) "
   ]
  },
  {
   "cell_type": "markdown",
   "metadata": {},
   "source": [
    "## 沒有意義的Feature"
   ]
  },
  {
   "cell_type": "code",
   "execution_count": 179,
   "metadata": {
    "collapsed": false
   },
   "outputs": [
    {
     "name": "stdout",
     "output_type": "stream",
     "text": [
      "https://www.cathaybk.com.tw/cathaybk/card/event/2016/treemall_flashsale/20160419/card_news1050419_login01.asp 542 0.0\n",
      "https://www.mybank.com.tw/MyBank/Home/WRedirectDetail 1011 0.0\n",
      "https://www.cathaybk.com.tw/cathaybk/OnlineLoan/creditcard/cashadvance_apply/Authenticate_OTP.asp 119 0.0\n",
      "https://www.cathaybk.com.tw/cathaybk/phone-call_01.asp 880 0.0\n",
      "https://www.cathaybk.com.tw/cathaybk/corp/myb2b/authorize.asp 685 0.0\n",
      "https://www.cathaybk.com.tw/cathaybk/OnlineLoan/creditcard/cashadvance_apply/finish.asp 122 0.0\n",
      "https://www.cathaybk.com.tw/cathaybk/trust/trust_2_1_4.asp 891 0.0\n",
      "https://www.mybank.com.tw/MyBank/Home/MyMobiBank 1009 0.0\n",
      "https://www.cathaybk.com.tw/cathaybk/trust/trust_2_1_5.asp 892 0.0\n",
      "https://www.cathaybk.com.tw/cathaybk/OnlineLoan/creditcard/confirm/Search_step1_account.asp 126 0.0\n",
      "https://www.cathaybk.com.tw/cathaybk/OnlineLoan/creditcard/confirm/Search_step1_card.asp 127 0.0\n",
      "https://www.cathaybk.com.tw/cathaybk/OnlineLoan/creditcard/confirm/confirm_step2_card.asp 128 0.0\n",
      "https://www.cathaybk.com.tw/cathaybk/OnlineLoan/creditcard/confirm/confirm_step3.asp 129 0.0\n",
      "https://www.cathaybk.com.tw/cathaybk/OnlineLoan/creditcard/confirm/index.asp 130 0.0\n",
      "https://www.cathaybk.com.tw/cathaybk/trust_fund_event201606.asp 898 0.0\n",
      "https://www.cathaybk.com.tw/cathaybk/OnlineLoan/creditcard/increase_limit/Finish_Message.asp 135 0.0\n",
      "https://www.cathaybk.com.tw/cathaybk/vip/event/2014/201408Fund/MobileSite/index.html 901 0.0\n",
      "https://www.mybank.com.tw/MYBANK/QUICKLINKS/HOME/LOGIN 1002 0.0\n",
      "https://www.myb2b.com.tw/ebank/top_new.asp 1001 0.0\n",
      "https://www.cathaybk.com.tw/cathaybk/corp/financing/turnover.asp 683 0.0\n",
      "https://www.cathaybk.com.tw/cathaybk/card/card/right/right_14.asp 284 0.0\n",
      "https://www.cathaybk.com.tw/cathaybk/vip/event/2014/201408Fund/index_B_5.html 910 0.0\n",
      "https://www.cathaybk.com.tw/cathaybk/card/event/2016/sun-organism/20160322/card_news1050322_index.asp 537 0.0\n",
      "https://www.mybank.com.tw/MyBank/MyMobiBank/Home/MyMobiBank 1014 0.0\n",
      "https://www.kokobank.com/KOKO/EBank/AuthorizedVSA/Index 967 0.0\n",
      "https://www.cathaybk.com.tw/cathaybk/corp/trade/charges-export.asp 691 0.0\n",
      "https://www.cathaybk.com.tw/cathaybk/DSA/OpenAccount/intro/qa.asp 97 0.0\n",
      "https://www.cathaybk.com.tw/cathaybk/card/event/2011/movie_12.asp 303 0.0\n",
      "https://www.cathaybk.com.tw/cathaybk/corp/trade/business-import.asp 689 0.0\n",
      "https://www.mybank.com.tw/MyBank/Outer/UserGuide_TDApply 1029 0.0\n"
     ]
    }
   ],
   "source": [
    "for rank in clf.feature_importances_.argsort()[0:30]:\n",
    "    print(cardViewBehaviorGrp_df.drop(activate, axis = 1).columns[rank], rank, clf.feature_importances_[rank]) "
   ]
  },
  {
   "cell_type": "markdown",
   "metadata": {},
   "source": [
    "## 分為訓練資料集與測試資料集"
   ]
  },
  {
   "cell_type": "code",
   "execution_count": 197,
   "metadata": {
    "collapsed": true
   },
   "outputs": [],
   "source": [
    "from sklearn import tree\n",
    "activate = 'https://www.cathaybk.com.tw/cathaybk/Online_ActivateCardForm.asp'\n",
    "model = tree.DecisionTreeClassifier()\n",
    "# data   => view count table without activate page\n",
    "# target => view count of activate page"
   ]
  },
  {
   "cell_type": "code",
   "execution_count": 195,
   "metadata": {
    "collapsed": true
   },
   "outputs": [],
   "source": [
    "from sklearn.cross_validation import train_test_split\n",
    "X_train, X_test, y_train, y_test = train_test_split(cardViewBehaviorGrp_df.drop(activate, axis = 1), cardViewBehaviorGrp_df[activate], test_size=0.33, random_state=42)\n",
    "# cardViewBehaviorGrp_df  = X_train(67%) + X_test(33%)\n",
    "# activate                = y_train(67%) + y_test(*33%)"
   ]
  },
  {
   "cell_type": "code",
   "execution_count": 198,
   "metadata": {
    "collapsed": true
   },
   "outputs": [],
   "source": [
    "clf = model.fit(X_train, y_train)"
   ]
  },
  {
   "cell_type": "code",
   "execution_count": 199,
   "metadata": {
    "collapsed": false
   },
   "outputs": [],
   "source": [
    "predicted = clf.predict(X_test)"
   ]
  },
  {
   "cell_type": "code",
   "execution_count": 200,
   "metadata": {
    "collapsed": false
   },
   "outputs": [
    {
     "data": {
      "text/plain": [
       "array([[14253,   345],\n",
       "       [  345,    39]])"
      ]
     },
     "execution_count": 200,
     "metadata": {},
     "output_type": "execute_result"
    }
   ],
   "source": [
    "from sklearn.metrics import confusion_matrix \n",
    "cm = confusion_matrix(predicted, y_test)\n",
    "cm"
   ]
  },
  {
   "cell_type": "code",
   "execution_count": 201,
   "metadata": {
    "collapsed": false,
    "scrolled": true
   },
   "outputs": [
    {
     "data": {
      "text/plain": [
       "0.95394473368041655"
      ]
     },
     "execution_count": 201,
     "metadata": {},
     "output_type": "execute_result"
    }
   ],
   "source": [
    "from sklearn.metrics import accuracy_score\n",
    "accuracy_score(predicted, y_test)"
   ]
  },
  {
   "cell_type": "code",
   "execution_count": 203,
   "metadata": {
    "collapsed": false
   },
   "outputs": [
    {
     "data": {
      "text/plain": [
       "0.9744713656387666"
      ]
     },
     "execution_count": 203,
     "metadata": {},
     "output_type": "execute_result"
    }
   ],
   "source": [
    "cardViewBehaviorGrp_df[activate].value_counts()\n",
    "44241 / (44241 + 1159)"
   ]
  },
  {
   "cell_type": "markdown",
   "metadata": {},
   "source": [
    "## 快速更換不同演算法"
   ]
  },
  {
   "cell_type": "code",
   "execution_count": 204,
   "metadata": {
    "collapsed": true
   },
   "outputs": [],
   "source": [
    "from sklearn.linear_model import LogisticRegression\n",
    "from sklearn.ensemble import RandomForestClassifier, GradientBoostingClassifier\n",
    "from sklearn.naive_bayes import GaussianNB\n",
    "from sklearn.neighbors import KNeighborsClassifier\n",
    "\n",
    "model = RandomForestClassifier(n_estimators=100, criterion='entropy')\n",
    "model = GradientBoostingClassifier(max_depth =4)\n",
    "model = GaussianNB()\n",
    "\n",
    "clf = model.fit(X_train, y_train)"
   ]
  },
  {
   "cell_type": "code",
   "execution_count": 205,
   "metadata": {
    "collapsed": false
   },
   "outputs": [
    {
     "data": {
      "text/plain": [
       "GaussianNB()"
      ]
     },
     "execution_count": 205,
     "metadata": {},
     "output_type": "execute_result"
    }
   ],
   "source": [
    "clf"
   ]
  }
 ],
 "metadata": {
  "anaconda-cloud": {},
  "kernelspec": {
   "display_name": "Python [Root]",
   "language": "python",
   "name": "Python [Root]"
  },
  "language_info": {
   "codemirror_mode": {
    "name": "ipython",
    "version": 3
   },
   "file_extension": ".py",
   "mimetype": "text/x-python",
   "name": "python",
   "nbconvert_exporter": "python",
   "pygments_lexer": "ipython3",
   "version": "3.5.2"
  }
 },
 "nbformat": 4,
 "nbformat_minor": 0
}
