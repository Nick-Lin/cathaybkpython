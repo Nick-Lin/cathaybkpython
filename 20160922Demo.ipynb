{
 "cells": [
  {
   "cell_type": "markdown",
   "metadata": {},
   "source": [
    "## KMEANS 分群"
   ]
  },
  {
   "cell_type": "code",
   "execution_count": 143,
   "metadata": {
    "collapsed": false
   },
   "outputs": [
    {
     "name": "stdout",
     "output_type": "stream",
     "text": [
      "Populating the interactive namespace from numpy and matplotlib\n"
     ]
    },
    {
     "data": {
      "image/png": "[encoded data removed]",
      "text/plain": [
       "<matplotlib.figure.Figure at 0x15753da0>"
      ]
     },
     "metadata": {},
     "output_type": "display_data"
    }
   ],
   "source": [
    "%pylab inline\n",
    "import numpy as np\n",
    "import matplotlib.pyplot as plt\n",
    "\n",
    "from sklearn.cluster import KMeans\n",
    "from sklearn.datasets import make_blobs\n",
    "\n",
    "from sklearn.datasets import load_iris\n",
    "iris = load_iris()\n",
    "\n",
    "X_iris = iris.data\n",
    "y_iris = iris.target\n",
    "\n",
    "k_means = cluster.KMeans(n_clusters=3)\n",
    "y_pred = k_means.fit_predict(X_iris) \n",
    "\n",
    "plt.figure(figsize=(12, 12))\n",
    "plt.subplot(221)\n",
    "plt.scatter(X_iris[:,0], X_iris[:,1], c=y_pred)\n",
    "\n",
    "plt.show()"
   ]
  },
  {
   "cell_type": "markdown",
   "metadata": {},
   "source": [
    "## 讀取Page View"
   ]
  },
  {
   "cell_type": "code",
   "execution_count": 1,
   "metadata": {
    "collapsed": true
   },
   "outputs": [],
   "source": [
    "import pandas\n",
    "pageview = pandas.read_hdf('pageview0720_0730.h5')"
   ]
  },
  {
   "cell_type": "code",
   "execution_count": 2,
   "metadata": {
    "collapsed": false
   },
   "outputs": [
    {
     "data": {
      "text/plain": [
       "count                        8887227\n",
       "unique                       8369985\n",
       "top       2016-07-29 10:29:12.964000\n",
       "freq                               7\n",
       "first     2016-07-20 00:00:00.342000\n",
       "last      2016-07-31 23:59:59.996000\n",
       "Name: EventTimestamp, dtype: object"
      ]
     },
     "execution_count": 2,
     "metadata": {},
     "output_type": "execute_result"
    }
   ],
   "source": [
    "pageview.EventTimestamp.describe()"
   ]
  },
  {
   "cell_type": "markdown",
   "metadata": {},
   "source": [
    "## 資料前處理"
   ]
  },
  {
   "cell_type": "code",
   "execution_count": 5,
   "metadata": {
    "collapsed": false
   },
   "outputs": [],
   "source": [
    "pageview.PageLocation = pageview.PageLocation.str.lower()"
   ]
  },
  {
   "cell_type": "code",
   "execution_count": 6,
   "metadata": {
    "collapsed": false
   },
   "outputs": [
    {
     "data": {
      "text/html": [
       "<div>\n",
       "<table border=\"1\" class=\"dataframe\">\n",
       "  <thead>\n",
       "    <tr style=\"text-align: right;\">\n",
       "      <th></th>\n",
       "      <th>EventTimestamp</th>\n",
       "      <th>PageLocation</th>\n",
       "      <th>SessionNumber</th>\n",
       "      <th>TrackingUuid</th>\n",
       "    </tr>\n",
       "  </thead>\n",
       "  <tbody>\n",
       "    <tr>\n",
       "      <th>0</th>\n",
       "      <td>2016-07-20 16:11:23.384</td>\n",
       "      <td>https://www.mybank.com.tw/mybank/home/mymobibank</td>\n",
       "      <td>20029488</td>\n",
       "      <td>e91778f6-dd1a-469a-ae6e-8778e71c3460</td>\n",
       "    </tr>\n",
       "    <tr>\n",
       "      <th>1</th>\n",
       "      <td>2016-07-20 20:12:59.788</td>\n",
       "      <td>https://www.mybank.com.tw/mybank/quicklinks/ho...</td>\n",
       "      <td>20105815</td>\n",
       "      <td>a9fdf990-bd01-4370-87ec-72f1cf0b257f</td>\n",
       "    </tr>\n",
       "    <tr>\n",
       "      <th>2</th>\n",
       "      <td>2016-07-20 11:31:30.485</td>\n",
       "      <td>https://www.mybank.com.tw/mybank/quicklinks/home</td>\n",
       "      <td>19880321</td>\n",
       "      <td>4170b9b6-6cd0-4452-a40f-0469fdbf4489</td>\n",
       "    </tr>\n",
       "    <tr>\n",
       "      <th>5</th>\n",
       "      <td>2016-07-20 12:17:57.815</td>\n",
       "      <td>https://www.cathaybk.com.tw/cathaybk/personal_...</td>\n",
       "      <td>19906076</td>\n",
       "      <td>2ca95944-8442-49cd-b37b-e18d460e003a</td>\n",
       "    </tr>\n",
       "    <tr>\n",
       "      <th>6</th>\n",
       "      <td>2016-07-20 09:49:22.541</td>\n",
       "      <td>https://www.mybank.com.tw/mybank/quicklinks/ho...</td>\n",
       "      <td>19815597</td>\n",
       "      <td>9984fbef-6750-4e57-87c7-656f0b361d65</td>\n",
       "    </tr>\n",
       "  </tbody>\n",
       "</table>\n",
       "</div>"
      ],
      "text/plain": [
       "           EventTimestamp                                       PageLocation  \\\n",
       "0 2016-07-20 16:11:23.384   https://www.mybank.com.tw/mybank/home/mymobibank   \n",
       "1 2016-07-20 20:12:59.788  https://www.mybank.com.tw/mybank/quicklinks/ho...   \n",
       "2 2016-07-20 11:31:30.485   https://www.mybank.com.tw/mybank/quicklinks/home   \n",
       "5 2016-07-20 12:17:57.815  https://www.cathaybk.com.tw/cathaybk/personal_...   \n",
       "6 2016-07-20 09:49:22.541  https://www.mybank.com.tw/mybank/quicklinks/ho...   \n",
       "\n",
       "   SessionNumber                          TrackingUuid  \n",
       "0       20029488  e91778f6-dd1a-469a-ae6e-8778e71c3460  \n",
       "1       20105815  a9fdf990-bd01-4370-87ec-72f1cf0b257f  \n",
       "2       19880321  4170b9b6-6cd0-4452-a40f-0469fdbf4489  \n",
       "5       19906076  2ca95944-8442-49cd-b37b-e18d460e003a  \n",
       "6       19815597  9984fbef-6750-4e57-87c7-656f0b361d65  "
      ]
     },
     "execution_count": 6,
     "metadata": {},
     "output_type": "execute_result"
    }
   ],
   "source": [
    "pageview.head()"
   ]
  },
  {
   "cell_type": "markdown",
   "metadata": {},
   "source": [
    "## 讀取URL 對照表"
   ]
  },
  {
   "cell_type": "code",
   "execution_count": 8,
   "metadata": {
    "collapsed": false
   },
   "outputs": [
    {
     "name": "stderr",
     "output_type": "stream",
     "text": [
      "C:\\Anaconda3\\lib\\site-packages\\ipykernel\\__main__.py:6: SettingWithCopyWarning: \n",
      "A value is trying to be set on a copy of a slice from a DataFrame.\n",
      "Try using .loc[row_indexer,col_indexer] = value instead\n",
      "\n",
      "See the caveats in the documentation: http://pandas.pydata.org/pandas-docs/stable/indexing.html#indexing-view-versus-copy\n"
     ]
    }
   ],
   "source": [
    "import pandas\n",
    "url_mapping_raw = pandas.read_excel('bigdata/url_mapping.xlsx', \n",
    "                    sheetname = [i for i in range(1,13)])\n",
    "url_mapping_concat = pandas.concat(url_mapping_raw)\n",
    "tag_map  = url_mapping_concat[['URL', '層級2','頁面名稱']]\n",
    "tag_map['URL'] = tag_map['URL'].str.lower()"
   ]
  },
  {
   "cell_type": "markdown",
   "metadata": {},
   "source": [
    "## 合併tag 與 pageview 資料"
   ]
  },
  {
   "cell_type": "code",
   "execution_count": 10,
   "metadata": {
    "collapsed": true
   },
   "outputs": [],
   "source": [
    "# 有很多連結還沒有標計 (可用left 檢查)\n",
    "visitor_pageview_tag = pandas.merge(pageview ,tag_map, left_on='PageLocation', right_on='URL', how = 'inner')"
   ]
  },
  {
   "cell_type": "code",
   "execution_count": 12,
   "metadata": {
    "collapsed": false
   },
   "outputs": [
    {
     "data": {
      "text/html": [
       "<div>\n",
       "<table border=\"1\" class=\"dataframe\">\n",
       "  <thead>\n",
       "    <tr style=\"text-align: right;\">\n",
       "      <th></th>\n",
       "      <th>SessionNumber</th>\n",
       "      <th>層級2</th>\n",
       "    </tr>\n",
       "  </thead>\n",
       "  <tbody>\n",
       "    <tr>\n",
       "      <th>0</th>\n",
       "      <td>20029488</td>\n",
       "      <td>行動首頁</td>\n",
       "    </tr>\n",
       "    <tr>\n",
       "      <th>1</th>\n",
       "      <td>20094212</td>\n",
       "      <td>行動首頁</td>\n",
       "    </tr>\n",
       "    <tr>\n",
       "      <th>2</th>\n",
       "      <td>19750404</td>\n",
       "      <td>行動首頁</td>\n",
       "    </tr>\n",
       "    <tr>\n",
       "      <th>3</th>\n",
       "      <td>20031099</td>\n",
       "      <td>行動首頁</td>\n",
       "    </tr>\n",
       "    <tr>\n",
       "      <th>4</th>\n",
       "      <td>19896084</td>\n",
       "      <td>行動首頁</td>\n",
       "    </tr>\n",
       "  </tbody>\n",
       "</table>\n",
       "</div>"
      ],
      "text/plain": [
       "   SessionNumber   層級2\n",
       "0       20029488  行動首頁\n",
       "1       20094212  行動首頁\n",
       "2       19750404  行動首頁\n",
       "3       20031099  行動首頁\n",
       "4       19896084  行動首頁"
      ]
     },
     "execution_count": 12,
     "metadata": {},
     "output_type": "execute_result"
    }
   ],
   "source": [
    "visitor_pageview_tag[['SessionNumber', '層級2']].head()"
   ]
  },
  {
   "cell_type": "code",
   "execution_count": 20,
   "metadata": {
    "collapsed": false
   },
   "outputs": [],
   "source": [
    "visitor_pageview_tag_grp = visitor_pageview_tag.groupby(['SessionNumber','層級2'])['層級2'].count()"
   ]
  },
  {
   "cell_type": "code",
   "execution_count": 24,
   "metadata": {
    "collapsed": false
   },
   "outputs": [],
   "source": [
    "visitor_pageview_tag_grp.name = 'count'"
   ]
  },
  {
   "cell_type": "code",
   "execution_count": 28,
   "metadata": {
    "collapsed": false
   },
   "outputs": [],
   "source": [
    "visitor_pageview_tag_grp = visitor_pageview_tag_grp.reset_index()"
   ]
  },
  {
   "cell_type": "markdown",
   "metadata": {},
   "source": [
    "## 產生計算矩陣"
   ]
  },
  {
   "cell_type": "code",
   "execution_count": 64,
   "metadata": {
    "collapsed": true
   },
   "outputs": [],
   "source": [
    "visitor_pageview_tag_grp_df = visitor_pageview_tag_grp.pivot(index='SessionNumber', columns='層級2', values='count')"
   ]
  },
  {
   "cell_type": "code",
   "execution_count": 66,
   "metadata": {
    "collapsed": true
   },
   "outputs": [],
   "source": [
    "sample_df = visitor_pageview_tag_grp_df.iloc[0:10000,]"
   ]
  },
  {
   "cell_type": "code",
   "execution_count": 67,
   "metadata": {
    "collapsed": false
   },
   "outputs": [],
   "source": [
    "visitor_pageview_tag_mat = sample_df.as_matrix()"
   ]
  },
  {
   "cell_type": "code",
   "execution_count": 68,
   "metadata": {
    "collapsed": false
   },
   "outputs": [],
   "source": [
    "import numpy as np\n",
    "visitor_pageview_tag_mat = np.nan_to_num(visitor_pageview_tag_mat)"
   ]
  },
  {
   "cell_type": "code",
   "execution_count": 70,
   "metadata": {
    "collapsed": false
   },
   "outputs": [
    {
     "name": "stdout",
     "output_type": "stream",
     "text": [
      "(10000, 128)\n"
     ]
    },
    {
     "data": {
      "text/plain": [
       "array([[ 0.,  0.,  0., ...,  0.,  0.,  1.],\n",
       "       [ 0.,  0.,  0., ...,  0.,  0.,  0.],\n",
       "       [ 0.,  0.,  0., ...,  0.,  0.,  2.],\n",
       "       ..., \n",
       "       [ 0.,  0.,  0., ...,  0.,  0.,  0.],\n",
       "       [ 0.,  0.,  0., ...,  0.,  0.,  3.],\n",
       "       [ 0.,  0.,  0., ...,  0.,  0.,  7.]])"
      ]
     },
     "execution_count": 70,
     "metadata": {},
     "output_type": "execute_result"
    }
   ],
   "source": [
    "print(visitor_pageview_tag_mat.shape)\n",
    "visitor_pageview_tag_mat"
   ]
  },
  {
   "cell_type": "markdown",
   "metadata": {},
   "source": [
    "## 計算行為相似度"
   ]
  },
  {
   "cell_type": "code",
   "execution_count": 74,
   "metadata": {
    "collapsed": false
   },
   "outputs": [],
   "source": [
    "from sklearn.metrics.pairwise import cosine_similarity\n",
    "session_similarities = cosine_similarity(visitor_pageview_tag_mat, visitor_pageview_tag_mat)\n",
    "#print(cosine_similarities)"
   ]
  },
  {
   "cell_type": "code",
   "execution_count": 75,
   "metadata": {
    "collapsed": false
   },
   "outputs": [
    {
     "data": {
      "text/plain": [
       "(10000, 10000)"
      ]
     },
     "execution_count": 75,
     "metadata": {},
     "output_type": "execute_result"
    }
   ],
   "source": [
    "session_similarities.shape"
   ]
  },
  {
   "cell_type": "markdown",
   "metadata": {},
   "source": [
    "## 使用者分群"
   ]
  },
  {
   "cell_type": "code",
   "execution_count": 121,
   "metadata": {
    "collapsed": false
   },
   "outputs": [],
   "source": [
    "from sklearn import cluster\n",
    "num_clusters = 10\n",
    "model = cluster.KMeans(n_clusters=num_clusters)\n",
    "clustered_data = model.fit_predict(visitor_pageview_tag_mat)\n"
   ]
  },
  {
   "cell_type": "code",
   "execution_count": 122,
   "metadata": {
    "collapsed": false
   },
   "outputs": [
    {
     "data": {
      "text/plain": [
       "2326"
      ]
     },
     "execution_count": 122,
     "metadata": {},
     "output_type": "execute_result"
    }
   ],
   "source": [
    "cluster_size = np.sum(clustered_data == 3)\n",
    "cluster_size"
   ]
  },
  {
   "cell_type": "code",
   "execution_count": 131,
   "metadata": {
    "collapsed": false
   },
   "outputs": [
    {
     "name": "stdout",
     "output_type": "stream",
     "text": [
      "0 層級2\n",
      "行動銀行    4474.0\n",
      "行動首頁    2064.0\n",
      "dtype: float64\n",
      "1 層級2\n",
      "外匯業務    360.0\n",
      "dtype: float64\n",
      "2 層級2\n",
      "首頁      3025.0\n",
      "線上櫃台     368.0\n",
      "登出       323.0\n",
      "dtype: float64\n",
      "3 層級2\n",
      "首頁      4731.0\n",
      "線上櫃台    2694.0\n",
      "登出      1715.0\n",
      "繳費服務     270.0\n",
      "dtype: float64\n",
      "4 層級2\n",
      "企業用戶    290.0\n",
      "dtype: float64\n",
      "5 層級2\n",
      "行動首頁            1392.0\n",
      "線上櫃台            1248.0\n",
      "信用卡新聞           1201.0\n",
      "首頁               942.0\n",
      "卡片介紹             316.0\n",
      "刷卡優惠-信用卡活動登陸     305.0\n",
      "dtype: float64\n",
      "6 層級2\n",
      "企業用戶    594.0\n",
      "dtype: float64\n",
      "7 層級2\n",
      "刷卡優惠-舞動紅利    249.0\n",
      "紅利兌換         240.0\n",
      "dtype: float64\n",
      "8 層級2\n",
      "首頁    354.0\n",
      "dtype: float64\n",
      "9 層級2\n",
      "外匯業務             1751.0\n",
      "資訊看板-利率/匯率/淨值     925.0\n",
      "dtype: float64\n"
     ]
    }
   ],
   "source": [
    "for c in range(0,num_clusters):\n",
    "    clustered_user =  sample_df[clustered_data == c].sum(numeric_only=True)\n",
    "    \n",
    "    print(c, clustered_user[clustered_user> (cluster_size * 0.1) ].sort_values(ascending=False))"
   ]
  },
  {
   "cell_type": "markdown",
   "metadata": {},
   "source": [
    "## 評估分群結果"
   ]
  },
  {
   "cell_type": "code",
   "execution_count": 128,
   "metadata": {
    "collapsed": false
   },
   "outputs": [],
   "source": [
    "from sklearn.metrics import silhouette_samples, silhouette_score\n",
    "silhouette_avg = silhouette_score(visitor_pageview_tag_mat, clustered_data)"
   ]
  },
  {
   "cell_type": "code",
   "execution_count": 129,
   "metadata": {
    "collapsed": false
   },
   "outputs": [
    {
     "data": {
      "text/plain": [
       "0.29641080705717671"
      ]
     },
     "execution_count": 129,
     "metadata": {},
     "output_type": "execute_result"
    }
   ],
   "source": [
    "silhouette_avg"
   ]
  },
  {
   "cell_type": "code",
   "execution_count": 130,
   "metadata": {
    "collapsed": false
   },
   "outputs": [
    {
     "data": {
      "text/plain": [
       "array([5, 0, 3, 0, 5, 9, 6, 3, 9, 5])"
      ]
     },
     "execution_count": 130,
     "metadata": {},
     "output_type": "execute_result"
    }
   ],
   "source": [
    "model.predict(np.nan_to_num(visitor_pageview_tag_grp_df.iloc[20000:20010,].as_matrix()) )"
   ]
  }
 ],
 "metadata": {
  "anaconda-cloud": {},
  "kernelspec": {
   "display_name": "Python [Root]",
   "language": "python",
   "name": "Python [Root]"
  },
  "language_info": {
   "codemirror_mode": {
    "name": "ipython",
    "version": 3
   },
   "file_extension": ".py",
   "mimetype": "text/x-python",
   "name": "python",
   "nbconvert_exporter": "python",
   "pygments_lexer": "ipython3",
   "version": "3.5.2"
  }
 },
 "nbformat": 4,
 "nbformat_minor": 0
}
