{
 "cells": [
  {
   "cell_type": "code",
   "execution_count": 1,
   "metadata": {
    "collapsed": true
   },
   "outputs": [],
   "source": [
    "col = ['EventID','EventTimestamp','FieldIsChainedItemSelect','FormID','FormName',\\\n",
    "       'ObjectAlttext','ObjectClass','ObjectHierarchyID','ObjectHierarchyName','ObjectHref',\\\n",
    "       'ObjectID','ObjectIsDownload','ObjectIsLink','ObjectName','ObjectSourceType','ObjectSrc',\\\n",
    "       'ObjectTagName','ObjectType','PageEventIndex','PageInstanceID','PreviousChainedISEventIndex',\\\n",
    "       'SessionNumber','TrackingUuid',\\\n",
    "       'UnformattedHierarchyID','UnformattedHierarchyName']"
   ]
  },
  {
   "cell_type": "code",
   "execution_count": 2,
   "metadata": {
    "collapsed": true
   },
   "outputs": [],
   "source": [
    "import pandas\n",
    "dftotal = []\n",
    "\n",
    "df = pandas.read_csv('clickdata/yaa', sep = ',' \\\n",
    "                     , encoding = 'utf-8' \\\n",
    "                     , header=None \\\n",
    "                     , parse_dates=[1]\\\n",
    "                     , na_values=['NaN','Null'])"
   ]
  },
  {
   "cell_type": "code",
   "execution_count": 4,
   "metadata": {
    "collapsed": false
   },
   "outputs": [],
   "source": [
    "df.columns = col"
   ]
  },
  {
   "cell_type": "code",
   "execution_count": 5,
   "metadata": {
    "collapsed": false
   },
   "outputs": [
    {
     "data": {
      "text/html": [
       "<div>\n",
       "<table border=\"1\" class=\"dataframe\">\n",
       "  <thead>\n",
       "    <tr style=\"text-align: right;\">\n",
       "      <th></th>\n",
       "      <th>EventID</th>\n",
       "      <th>EventTimestamp</th>\n",
       "      <th>FieldIsChainedItemSelect</th>\n",
       "      <th>FormID</th>\n",
       "      <th>FormName</th>\n",
       "      <th>ObjectAlttext</th>\n",
       "      <th>ObjectClass</th>\n",
       "      <th>ObjectHierarchyID</th>\n",
       "      <th>ObjectHierarchyName</th>\n",
       "      <th>ObjectHref</th>\n",
       "      <th>...</th>\n",
       "      <th>ObjectSrc</th>\n",
       "      <th>ObjectTagName</th>\n",
       "      <th>ObjectType</th>\n",
       "      <th>PageEventIndex</th>\n",
       "      <th>PageInstanceID</th>\n",
       "      <th>PreviousChainedISEventIndex</th>\n",
       "      <th>SessionNumber</th>\n",
       "      <th>TrackingUuid</th>\n",
       "      <th>UnformattedHierarchyID</th>\n",
       "      <th>UnformattedHierarchyName</th>\n",
       "    </tr>\n",
       "  </thead>\n",
       "  <tbody>\n",
       "    <tr>\n",
       "      <th>0</th>\n",
       "      <td>1a560da0-b5cc-4589-bfb9-b243d93b053b</td>\n",
       "      <td>2016-07-20 16:11:43.119</td>\n",
       "      <td>NaN</td>\n",
       "      <td>NormalSignin</td>\n",
       "      <td>NaN</td>\n",
       "      <td>NaN</td>\n",
       "      <td>bSignin</td>\n",
       "      <td>APPTxnBody/signinHolder/NormalSignin</td>\n",
       "      <td>NaN</td>\n",
       "      <td>NaN</td>\n",
       "      <td>...</td>\n",
       "      <td>NaN</td>\n",
       "      <td>BUTTON</td>\n",
       "      <td>SUBMIT</td>\n",
       "      <td>12</td>\n",
       "      <td>200292034</td>\n",
       "      <td>NaN</td>\n",
       "      <td>20029488</td>\n",
       "      <td>eae5913b-7222-44c5-a7d3-18311fd9b3a2</td>\n",
       "      <td>///APPTxnBody/signinHolder//NormalSignin/////</td>\n",
       "      <td>///////////</td>\n",
       "    </tr>\n",
       "    <tr>\n",
       "      <th>1</th>\n",
       "      <td>9a2de21e-34c2-43e1-9d9e-b0cc1bbc5570</td>\n",
       "      <td>2016-07-20 20:13:11.316</td>\n",
       "      <td>NaN</td>\n",
       "      <td>NormalSignin</td>\n",
       "      <td>NaN</td>\n",
       "      <td>NaN</td>\n",
       "      <td>bSignin</td>\n",
       "      <td>APPTxnBody/signinHolder/NormalSignin</td>\n",
       "      <td>NaN</td>\n",
       "      <td>NaN</td>\n",
       "      <td>...</td>\n",
       "      <td>NaN</td>\n",
       "      <td>BUTTON</td>\n",
       "      <td>SUBMIT</td>\n",
       "      <td>11</td>\n",
       "      <td>201053626</td>\n",
       "      <td>NaN</td>\n",
       "      <td>20105815</td>\n",
       "      <td>56c62436-1773-4e63-ad72-471d014f40d1</td>\n",
       "      <td>///APPTxnBody/signinHolder//NormalSignin/////</td>\n",
       "      <td>///////////</td>\n",
       "    </tr>\n",
       "    <tr>\n",
       "      <th>2</th>\n",
       "      <td>0c4c1857-7e81-403f-9394-746026293b3f</td>\n",
       "      <td>2016-07-20 16:25:37.285</td>\n",
       "      <td>NaN</td>\n",
       "      <td>NaN</td>\n",
       "      <td>NaN</td>\n",
       "      <td>b</td>\n",
       "      <td>lnk</td>\n",
       "      <td>main-wrapper/mIframe/content/sidenav/pc-submen...</td>\n",
       "      <td>NaN</td>\n",
       "      <td>https://www.mybank.com.tw/MyBank/Quicklinks/Ac...</td>\n",
       "      <td>...</td>\n",
       "      <td>https://www.mybank.com.tw/MyBank/Quicklinks/Ac...</td>\n",
       "      <td>A</td>\n",
       "      <td>LINK</td>\n",
       "      <td>14</td>\n",
       "      <td>200352217</td>\n",
       "      <td>NaN</td>\n",
       "      <td>20035524</td>\n",
       "      <td>eae5913b-7222-44c5-a7d3-18311fd9b3a2</td>\n",
       "      <td>///main-wrapper/mIframe/content/sidenav/pc-sub...</td>\n",
       "      <td>//////////////</td>\n",
       "    </tr>\n",
       "    <tr>\n",
       "      <th>3</th>\n",
       "      <td>42eb8067-f5cb-4760-ab68-3868a9dd8f39</td>\n",
       "      <td>2016-07-20 03:16:01.447</td>\n",
       "      <td>NaN</td>\n",
       "      <td>NormalSignin</td>\n",
       "      <td>NaN</td>\n",
       "      <td>NaN</td>\n",
       "      <td>bSignin</td>\n",
       "      <td>signinHolder/NormalSignin</td>\n",
       "      <td>NaN</td>\n",
       "      <td>NaN</td>\n",
       "      <td>...</td>\n",
       "      <td>NaN</td>\n",
       "      <td>BUTTON</td>\n",
       "      <td>SUBMIT</td>\n",
       "      <td>10</td>\n",
       "      <td>197461206</td>\n",
       "      <td>NaN</td>\n",
       "      <td>19746244</td>\n",
       "      <td>a358790d-9fb3-4d70-a10b-2005d34d1b55</td>\n",
       "      <td>///signinHolder//NormalSignin/////</td>\n",
       "      <td>//////////</td>\n",
       "    </tr>\n",
       "    <tr>\n",
       "      <th>4</th>\n",
       "      <td>7c672670-4013-4210-9c1e-100edfff3f7e</td>\n",
       "      <td>2016-07-20 17:34:38.740</td>\n",
       "      <td>NaN</td>\n",
       "      <td>NaN</td>\n",
       "      <td>NaN</td>\n",
       "      <td>NaN</td>\n",
       "      <td>NaN</td>\n",
       "      <td>@-nJ</td>\n",
       "      <td>@-nJ</td>\n",
       "      <td>NaN</td>\n",
       "      <td>...</td>\n",
       "      <td>NaN</td>\n",
       "      <td>NaN</td>\n",
       "      <td>BUTTON</td>\n",
       "      <td>2</td>\n",
       "      <td>200603410</td>\n",
       "      <td>NaN</td>\n",
       "      <td>20060810</td>\n",
       "      <td>6c469c32-6b66-46b5-a632-5eb3116757d6</td>\n",
       "      <td>//@-nJ/</td>\n",
       "      <td>//@-nJ/</td>\n",
       "    </tr>\n",
       "  </tbody>\n",
       "</table>\n",
       "<p>5 rows × 25 columns</p>\n",
       "</div>"
      ],
      "text/plain": [
       "                                EventID          EventTimestamp  \\\n",
       "0  1a560da0-b5cc-4589-bfb9-b243d93b053b 2016-07-20 16:11:43.119   \n",
       "1  9a2de21e-34c2-43e1-9d9e-b0cc1bbc5570 2016-07-20 20:13:11.316   \n",
       "2  0c4c1857-7e81-403f-9394-746026293b3f 2016-07-20 16:25:37.285   \n",
       "3  42eb8067-f5cb-4760-ab68-3868a9dd8f39 2016-07-20 03:16:01.447   \n",
       "4  7c672670-4013-4210-9c1e-100edfff3f7e 2016-07-20 17:34:38.740   \n",
       "\n",
       "   FieldIsChainedItemSelect        FormID FormName ObjectAlttext ObjectClass  \\\n",
       "0                       NaN  NormalSignin      NaN           NaN     bSignin   \n",
       "1                       NaN  NormalSignin      NaN           NaN     bSignin   \n",
       "2                       NaN           NaN      NaN             b         lnk   \n",
       "3                       NaN  NormalSignin      NaN           NaN     bSignin   \n",
       "4                       NaN           NaN      NaN           NaN         NaN   \n",
       "\n",
       "                                   ObjectHierarchyID ObjectHierarchyName  \\\n",
       "0               APPTxnBody/signinHolder/NormalSignin                 NaN   \n",
       "1               APPTxnBody/signinHolder/NormalSignin                 NaN   \n",
       "2  main-wrapper/mIframe/content/sidenav/pc-submen...                 NaN   \n",
       "3                          signinHolder/NormalSignin                 NaN   \n",
       "4                                               @-nJ                @-nJ   \n",
       "\n",
       "                                          ObjectHref  \\\n",
       "0                                                NaN   \n",
       "1                                                NaN   \n",
       "2  https://www.mybank.com.tw/MyBank/Quicklinks/Ac...   \n",
       "3                                                NaN   \n",
       "4                                                NaN   \n",
       "\n",
       "             ...             \\\n",
       "0            ...              \n",
       "1            ...              \n",
       "2            ...              \n",
       "3            ...              \n",
       "4            ...              \n",
       "\n",
       "                                           ObjectSrc  ObjectTagName  \\\n",
       "0                                                NaN         BUTTON   \n",
       "1                                                NaN         BUTTON   \n",
       "2  https://www.mybank.com.tw/MyBank/Quicklinks/Ac...              A   \n",
       "3                                                NaN         BUTTON   \n",
       "4                                                NaN            NaN   \n",
       "\n",
       "   ObjectType PageEventIndex PageInstanceID PreviousChainedISEventIndex  \\\n",
       "0      SUBMIT             12      200292034                         NaN   \n",
       "1      SUBMIT             11      201053626                         NaN   \n",
       "2        LINK             14      200352217                         NaN   \n",
       "3      SUBMIT             10      197461206                         NaN   \n",
       "4      BUTTON              2      200603410                         NaN   \n",
       "\n",
       "  SessionNumber                          TrackingUuid  \\\n",
       "0      20029488  eae5913b-7222-44c5-a7d3-18311fd9b3a2   \n",
       "1      20105815  56c62436-1773-4e63-ad72-471d014f40d1   \n",
       "2      20035524  eae5913b-7222-44c5-a7d3-18311fd9b3a2   \n",
       "3      19746244  a358790d-9fb3-4d70-a10b-2005d34d1b55   \n",
       "4      20060810  6c469c32-6b66-46b5-a632-5eb3116757d6   \n",
       "\n",
       "                              UnformattedHierarchyID  UnformattedHierarchyName  \n",
       "0     ///APPTxnBody/signinHolder//NormalSignin/////               ///////////   \n",
       "1     ///APPTxnBody/signinHolder//NormalSignin/////               ///////////   \n",
       "2  ///main-wrapper/mIframe/content/sidenav/pc-sub...           //////////////   \n",
       "3                ///signinHolder//NormalSignin/////                //////////   \n",
       "4                                            //@-nJ/                   //@-nJ/  \n",
       "\n",
       "[5 rows x 25 columns]"
      ]
     },
     "execution_count": 5,
     "metadata": {},
     "output_type": "execute_result"
    }
   ],
   "source": [
    "df.head()"
   ]
  },
  {
   "cell_type": "code",
   "execution_count": 7,
   "metadata": {
    "collapsed": false
   },
   "outputs": [
    {
     "data": {
      "text/html": [
       "<div>\n",
       "<table border=\"1\" class=\"dataframe\">\n",
       "  <thead>\n",
       "    <tr style=\"text-align: right;\">\n",
       "      <th></th>\n",
       "      <th>EventID</th>\n",
       "      <th>EventTimestamp</th>\n",
       "      <th>FieldIsChainedItemSelect</th>\n",
       "      <th>FormID</th>\n",
       "      <th>FormName</th>\n",
       "      <th>ObjectAlttext</th>\n",
       "      <th>ObjectClass</th>\n",
       "      <th>ObjectHierarchyID</th>\n",
       "      <th>ObjectHierarchyName</th>\n",
       "      <th>ObjectHref</th>\n",
       "      <th>...</th>\n",
       "      <th>ObjectSrc</th>\n",
       "      <th>ObjectTagName</th>\n",
       "      <th>ObjectType</th>\n",
       "      <th>PageEventIndex</th>\n",
       "      <th>PageInstanceID</th>\n",
       "      <th>PreviousChainedISEventIndex</th>\n",
       "      <th>SessionNumber</th>\n",
       "      <th>TrackingUuid</th>\n",
       "      <th>UnformattedHierarchyID</th>\n",
       "      <th>UnformattedHierarchyName</th>\n",
       "    </tr>\n",
       "  </thead>\n",
       "  <tbody>\n",
       "    <tr>\n",
       "      <th>71360</th>\n",
       "      <td>6314153c-1a37-405b-be63-ab9d2e10e74a</td>\n",
       "      <td>2016-07-20 23:04:53.601</td>\n",
       "      <td>NaN</td>\n",
       "      <td>NaN</td>\n",
       "      <td>NaN</td>\n",
       "      <td>dvq</td>\n",
       "      <td>NaN</td>\n",
       "      <td>d03</td>\n",
       "      <td>NaN</td>\n",
       "      <td>https://www.cathaybk.com.tw/cathaybk/card/card...</td>\n",
       "      <td>...</td>\n",
       "      <td>https://www.cathaybk.com.tw/cathaybk/card/card...</td>\n",
       "      <td>A</td>\n",
       "      <td>LINK</td>\n",
       "      <td>6</td>\n",
       "      <td>201492101</td>\n",
       "      <td>NaN</td>\n",
       "      <td>20146353</td>\n",
       "      <td>504ea466-c6c7-4496-b1d1-70421e7bfb63</td>\n",
       "      <td>///////d03///////</td>\n",
       "      <td>//////////////</td>\n",
       "    </tr>\n",
       "  </tbody>\n",
       "</table>\n",
       "<p>1 rows × 25 columns</p>\n",
       "</div>"
      ],
      "text/plain": [
       "                                    EventID          EventTimestamp  \\\n",
       "71360  6314153c-1a37-405b-be63-ab9d2e10e74a 2016-07-20 23:04:53.601   \n",
       "\n",
       "       FieldIsChainedItemSelect FormID FormName ObjectAlttext ObjectClass  \\\n",
       "71360                       NaN    NaN      NaN           dvq         NaN   \n",
       "\n",
       "      ObjectHierarchyID ObjectHierarchyName  \\\n",
       "71360               d03                 NaN   \n",
       "\n",
       "                                              ObjectHref  \\\n",
       "71360  https://www.cathaybk.com.tw/cathaybk/card/card...   \n",
       "\n",
       "                 ...             \\\n",
       "71360            ...              \n",
       "\n",
       "                                               ObjectSrc  ObjectTagName  \\\n",
       "71360  https://www.cathaybk.com.tw/cathaybk/card/card...              A   \n",
       "\n",
       "       ObjectType PageEventIndex PageInstanceID PreviousChainedISEventIndex  \\\n",
       "71360        LINK              6      201492101                         NaN   \n",
       "\n",
       "      SessionNumber                          TrackingUuid  \\\n",
       "71360      20146353  504ea466-c6c7-4496-b1d1-70421e7bfb63   \n",
       "\n",
       "       UnformattedHierarchyID  UnformattedHierarchyName  \n",
       "71360      ///////d03///////            //////////////   \n",
       "\n",
       "[1 rows x 25 columns]"
      ]
     },
     "execution_count": 7,
     "metadata": {},
     "output_type": "execute_result"
    }
   ],
   "source": [
    "df[df.EventID == '6314153c-1a37-405b-be63-ab9d2e10e74a']"
   ]
  },
  {
   "cell_type": "markdown",
   "metadata": {},
   "source": [
    "## 抓取國泰世華網頁內容"
   ]
  },
  {
   "cell_type": "code",
   "execution_count": 14,
   "metadata": {
    "collapsed": false
   },
   "outputs": [],
   "source": [
    "import requests\n",
    "res = requests.get('https://www.cathaybk.com.tw/cathaybk/card/card/card_15.asp')\n",
    "res.encoding = 'big5'\n",
    "#print(res.text)"
   ]
  },
  {
   "cell_type": "markdown",
   "metadata": {},
   "source": [
    "## 用BeautifulSoup 剖析頁面內容"
   ]
  },
  {
   "cell_type": "code",
   "execution_count": 16,
   "metadata": {
    "collapsed": false
   },
   "outputs": [],
   "source": [
    "from bs4 import BeautifulSoup\n",
    "soup = BeautifulSoup(res.text, 'html.parser')"
   ]
  },
  {
   "cell_type": "code",
   "execution_count": 20,
   "metadata": {
    "collapsed": false
   },
   "outputs": [
    {
     "name": "stdout",
     "output_type": "stream",
     "text": [
      "<class 'list'>\n",
      "1\n"
     ]
    }
   ],
   "source": [
    "#print(soup.select('#d02')) #id => #\n",
    "print(type(soup.select('#d02'))) \n",
    "print(len(soup.select('#d02'))) "
   ]
  },
  {
   "cell_type": "code",
   "execution_count": 22,
   "metadata": {
    "collapsed": false
   },
   "outputs": [
    {
     "name": "stdout",
     "output_type": "stream",
     "text": [
      "<class 'bs4.element.Tag'>\n"
     ]
    }
   ],
   "source": [
    "print(type(soup.select('#d02')[0]))"
   ]
  },
  {
   "cell_type": "code",
   "execution_count": 23,
   "metadata": {
    "collapsed": false
   },
   "outputs": [
    {
     "name": "stdout",
     "output_type": "stream",
     "text": [
      "\n",
      "\n",
      "\n",
      "卡片介紹\n",
      "專屬優惠\n",
      "卡友權益\n",
      "立即申請\n",
      "\n",
      "悠遊卡介紹\n",
      "\n",
      "\n",
      "\n",
      "\n",
      "\n",
      " \n",
      "\n",
      "\n",
      "\n",
      "\n",
      "\n",
      "\n",
      "全台國賓/台中新光影城 天天6折起\n",
      "\n",
      "刷PLAY（COMBO）悠遊聯名白金卡至影城現場購買當日電影票，憑近一個月內同卡號之單筆NT$1,000(含)以上實體刷卡簽單，享週一∼週四6折，週五∼週日及國定假日63折起優惠！\n",
      "平假日不限時段，刷卡購票享優惠價 NT$230起！\n",
      "\r\n",
      "                            ☆於國賓影城網路訂票，還享免付取票手續費NT$20優惠！\r\n",
      "                               立即訂票去~ 國賓網路訂票系統：http://www.ambassador.com.tw/\n",
      "\n",
      "\n",
      "國賓看電影APP\n",
      "Android\n",
      " \n",
      "iPhone\n",
      "\n",
      "\n",
      "\n",
      "\n",
      "\n",
      "\n",
      "\n",
      "\n",
      "注意事項:\n",
      "\n",
      "\n",
      "6折及63折優惠\n",
      "\n",
      "\n",
      "\n",
      "(1)\n",
      "活動期間至105/12/31止。\n",
      "\n",
      "\n",
      "(2)\n",
      "6折及63折優惠須至影城現場購票窗口，憑近一個月(30天)內同卡號之單筆NT$1,000(含)以上實體刷卡簽單(不含人工授權/批次/手寫授權碼/手刷式簽單，簽單上須載明部分卡號以資辨識)，並以同一卡片刷卡購票。每張刷卡簽單限單次使用。\n",
      "\n",
      "\n",
      "(3)\n",
      "購票金額以全票價計算，票價以各影城現場最新公告為準。\r\n",
      "                                   \n",
      "\n",
      "\n",
      "(4)\n",
      "6折及63折優惠不適用3D影片; 惟台中新光影城可補差額NT$70升級觀賞3D電影。\n",
      "\n",
      "\n",
      "(5)\n",
      "6折及63折優惠每卡每日限使用一次，一次限購二張(台中新光影城限購買當天同一場次)，預購、網路訂票及語音訂票均不適用。恕不提供退票或更換場次之服務。\n",
      "\n",
      "\n",
      "(6)\n",
      "國定例假日、特定節日 (如5/1勞動節)、彈性放假、週六補班或連續假期如遇週一至週四，則不適用6折優惠，可享63折優惠。\r\n",
      "                                   \n",
      "\n",
      "\n",
      "\n",
      "優惠價NT$230起\n",
      "\n",
      "\n",
      "\n",
      "(1)\n",
      "105/12/31(含)前「國賓影城」提供早場價優惠，須至國賓影城現場或國賓網路訂票系統或透過國賓看電影APP刷卡購票；「新光影城」提供2D購票優惠價，須至影城現場刷卡購票。\n",
      "\n",
      "\n",
      "(2)\n",
      "現場購票\r\n",
      "                                                              \r\n",
      "                                   \n",
      "\n",
      "\n",
      "\n",
      " \n",
      "\n",
      "\n",
      "•\n",
      "優惠價依營業地點、營業考量或影片長度而異，以各影院現場公告為準。每卡每次刷卡限購四張且限購當日場次。\n",
      "\n",
      "\n",
      "\n",
      "\n",
      "(3)\n",
      "國賓看電影APP/國賓官網訂票(僅適用國賓影城)\n",
      "\n",
      "\n",
      " \n",
      "\n",
      "\n",
      "•\n",
      "卡友須填寫國賓入會資料申請帳號，方可使用APP及網路訂票服務。已加入國賓影城會員者，無法再以同一身分證字號申請國泰世華卡友訂票帳號。\n",
      "\n",
      "\n",
      "•\n",
      "限刷國泰世華卡購票方享優惠，優惠票價依訂票頁面顯示為準。\n",
      "\n",
      "\n",
      "•\n",
      "每筆訂單限購四張，且每一帳號未取票之訂購張數不得超過四張。\n",
      "\n",
      "\n",
      "•\n",
      "訂票完成後，預訂之座位將保留至該電影場次播映結束為止。請憑具身分證字號之個人證明文件至訂票影院之會員服務窗口取票。\n",
      "\n",
      "\n",
      "•\n",
      "若欲取消訂單，須於電影開演3小時前自行至國賓看電影APP或國賓網路訂票系統取消；開演3小時至開演前30分鐘，未取票欲取消訂單者，請致電當次之訂票影院，由現場服務人員協助取消；開演前30分鐘內不得取消訂單。未於規定時間內取票或取消訂票者，恕無法退款(惟天災或人為不可抗力之因素除外)。\n",
      "\n",
      "\n",
      "•\n",
      "敬老票及特價優惠票種取票時需一併出示相關證件(身心障礙手冊/身分證)，未出示符合證件者將改為其他符合票種計費。\n",
      "\n",
      "\n",
      "\n",
      "\n",
      "\n",
      "餐飲優惠\n",
      "\n",
      "\n",
      "\n",
      "(1)\n",
      "「國賓影城」憑當日票根及國泰世華卡，享可樂、爆米花5折優惠，其他販賣部單品8折優惠。\n",
      "\n",
      "\n",
      "(2)\n",
      "「新光影城」出示國泰世華卡享NT$80加購優惠餐（內含小爆米花一份及中杯可樂一杯）。\r\n",
      "                                                              \r\n",
      "                                   \n",
      "\n",
      "\n",
      "\n",
      "\n",
      "\n",
      "\n",
      "\n",
      "\n",
      "\n",
      "\n",
      "\n",
      "如因電影發行公司規範旗下影片不適用信用卡特殊優惠，影城將無法提供上述優惠。詳細內容以影城現場及影城網站公告為準。優惠提供期間倘因不可歸責於本行之事由，本行得變更或終止優惠內容並於本行網站公告。 \n",
      "\n",
      "\n",
      "\n",
      "\n",
      "\n",
      "\n",
      "\n",
      "\n",
      "\n",
      "\n",
      "\n",
      "\n",
      "\n",
      "悠遊自動加值-享現金回饋3%\r\n",
      "                          105/12/31前，當期帳單新增一般消費NT$5,000（含）以上，完成登錄後，當期帳單悠遊自動加值金額享3%現金回饋。\n",
      "\n",
      "\n",
      "瞭解更多\n",
      "\n",
      "\n",
      "\n",
      "\n",
      "\n",
      "\n",
      "\n",
      "網路購物 紅利3倍送\r\n",
      "                           於Apple iTunes/App Store、Google Play、LINE Pay、淘寶網、泰贈點紅利網、Yahoo!奇摩購物中心/超級商城、PChome線上購物/商店街、博客來網路書店刷卡消費，單筆消費滿NT$500，享紅利3倍送。（含卡片原回饋之1倍紅利點數，每月每戶上限5,000點）\n",
      "\n",
      "\n",
      "\n",
      "\n",
      "\n",
      "注意事項:\n",
      "\n",
      "活動期限至105/12/31止。 \r\n",
      "須單筆消費滿NT$500始提供回饋。每月每戶回饋上限5,000點。\r\n",
      "紅利點數係依據刷卡金額計算其3倍回饋點數，含卡片原權益所回饋之1倍紅利點數，及本優惠加贈之2倍紅利點數。 \r\n",
      "正附卡消費合併計算，且回饋對象為正卡持卡人。 \r\n",
      "\t活動消費金額計算係指「消費日」於105/12/31（含）前且於106/1/10前完成請款之消費；分期消費以分期入帳金額計算。倘活動期間內之交易於日後發生退貨、逾期不繳或因簽帳爭議而暫停付款等情形，均不列入本活動合格消費計算。 \r\n",
      "本活動加贈之2倍紅利點數將於消費次期或次次期帳單匯入正卡持卡人帳上。 \r\n",
      "持卡人於紅利點數回饋時須持本行有效信用卡正卡，且上一期無逾期未繳款紀錄。 \r\n",
      "優惠提供期間倘因不可歸責於本行之事由，本行得變更或終止優惠內容並於本行網站公告。\r\n",
      "      \n",
      "\n",
      "\n",
      "\n",
      "\n",
      "\n",
      "\n",
      "\n",
      "\n",
      "\n",
      "\n",
      "KKBOX線上音樂會員6折優惠\r\n",
      "                          於KKBOX網站刷卡單筆購買半年期會員，享6折優惠。\r\n",
      "KKBOX網站：www.kkbox.com.tw\n",
      "\n",
      "\n",
      "\n",
      "\n",
      "\n",
      "注意事項:\n",
      "\n",
      "活動期限至105/12/31止。 \r\n",
      "本優惠限以持卡人於本行留存之email所註冊之KKBOX帳號購買，非本人帳號者，均視同原價購買，本行有權逕向持卡人收取差額。每人每半年限使用一次。 \r\n",
      "須經由KKBOX付費中心之『國泰世華PLAY悠遊聯名卡 專屬優惠』專區付款，方享有 6折優惠。 \r\n",
      "本優惠不得與其它優惠併用，或要求折抵現金。\r\n",
      "優惠提供期間倘因不可歸責於本行之事由，本行得變更或終止優惠內容並於本行網站公告。\r\n",
      "      \n",
      "\n",
      "\n",
      "\n",
      "\n",
      "\n",
      "\n",
      "\n",
      "\n",
      "\n",
      "\n",
      "\n",
      "中油加油-享現金回饋0.5%\r\n",
      "                           105/12/31前，至中油直營加油站刷卡加油，於活動期間內登錄後之加油消費享0.5%現金回饋。(每月每戶最高回饋NT$300)\n",
      "\n",
      "\n",
      "瞭解更多\n",
      "\n",
      "\n",
      "\n",
      "\n",
      "\n",
      "\n",
      "嗶悠遊卡小額消費-處處享優惠\r\n",
      "                           持國泰世華悠遊聯名卡，至全台超過萬家悠遊卡小額支付特店感應消費，或搭乘大眾運輸工具，免帶零錢、輕鬆付款，還享超多優惠！\n",
      "\n",
      "\n",
      "優惠內容\n",
      "\n",
      "\n",
      "\n",
      "\n",
      "\n",
      "\n",
      "悠遊聯名卡新戶或申辦電子帳單/本行自動扣繳者-立即享首年免年費\r\n",
      "                         105/12/31前，悠遊聯名卡新戶（核卡日前6個月內無持本行任一有效悠遊聯名卡，僅持本行其他卡片者），即享免首年\r\n",
      "NT$299年費優惠，其他卡別客戶申辦電子帳單或本行自動扣繳者亦享同等優惠！ \n",
      "※首年年費為預收制，若於申辦卡片時無享有第一年免年費之資格時，本行在核卡後之次次月份帳單上，向持卡人收取「PLAY悠遊聯名卡年費」之金額。\n",
      "※若於核卡一年內取消電子帳單或本行自動扣繳服務，本行有權逕向持卡人收取首年年費。\n",
      "\n",
      "\n",
      "\n",
      "\n",
      "\n",
      "注意事項:\n",
      "\n",
      "\n",
      "\n",
      "\n",
      "年費收費標準\n",
      "\n",
      "\n",
      "項目\n",
      "白金卡\n",
      "普卡\n",
      "\n",
      "\n",
      "首年年費優惠\n",
      "NT$299\n",
      "\n",
      "\n",
      "次年起年費\n",
      "NT$1,800\n",
      "NT$600\n",
      "\n",
      "\n",
      "\n",
      "\n",
      "\n",
      "\n",
      "\n",
      "年費減免辦法\n",
      "\n",
      "\n",
      "項目\n",
      "白金卡\n",
      "普卡\n",
      "\n",
      "\n",
      "首年減免\n",
      "1. 悠遊聯名卡新戶\r\n",
      "2. 申辦電子帳單或本行自動扣繳者\n",
      "\n",
      "\n",
      "次年起減免\n",
      "年度消費達NT$3.6萬或6次（含）以上\n",
      "年度消費達NT$1.2萬或3次（含）以上\n",
      "\n",
      "\n",
      "\n",
      "\n",
      "國泰世華PLAY（COMBO）悠遊聯名卡正卡年費如上，附卡免年費。 \r\n",
      "年度消費金額含稅款及保費，不含年費、利息費用、違約金等費用。 \r\n",
      "年費為預收制，若於申辦卡片時無享有第一年免年費之資格時，本行在核卡後之次次月份帳單上，向持卡人收取「PLAY悠遊聯名卡年費」之金額。 \r\n",
      "優惠提供期間倘因不可歸責於本行之事由，本行得變更或終止優惠內容並公告之。\r\n",
      "\r\n",
      "\r\n",
      "\r\n",
      "\r\n",
      "\r\n",
      "  \n",
      "\n",
      "\n",
      "\n",
      "\n",
      "\n",
      "\n",
      "\n",
      "\n",
      "\n",
      "\n",
      "\n",
      "\n",
      "\n",
      "\n",
      "\n",
      "機場接送享NT$788元起優惠價\n",
      "\n",
      "\n",
      "\n",
      "MasterCard白金卡\r\n",
      "                            105/12/31前，活動期間刷MasterCard白金卡購買國外機票或國外團費且金額須超過NT$10,000，且付款成功者，可享台北至桃園機場、台中至清泉崗機場、高雄至小港機場接送單趟NT$788起優惠價。 \r\n",
      "                            預約網址：http://www.24tms.com.tw/mastercard.html\r\n",
      "                            24小時預約專線：（02）77330589 \n",
      "*預約機場接送請至全鋒官網完成線上預約，如以電話預約每一預約案件需加收NT$50服務費。\n",
      "詳細內容及注意事項\n",
      "\tVISA白金卡\r\n",
      "                            105/12/31前，活動期間刷VISA白金卡購買國際線機票全額或國外團費總金額8成以上，且付款成功者，可享台北至桃園機場/台中至清泉崗機場接送單趟NT$799起，高雄至小港機場接送單趟NT$700起優惠價。\r\n",
      "                            預約網址：https://www.freeliving.com.tw/vp\r\n",
      "                            預約專線：（04）22062550\n",
      "詳細內容及注意事項\n",
      "JCB白金卡\r\n",
      "                            105/12/31前，活動期間刷JCB白金卡購買國際線機票或支付國外旅遊團費滿額，並於指定期間內(請參閱服務規範)透過服務中心預約，於本活動期間內可享JCB機場接送服務6折優惠價(請參閱)，且不限次數。\r\n",
      "                            *服務最晚須於105/12/23當日預約完畢，最晚須於105/12/31當日使用完畢。\r\n",
      "                             機場接送價格優惠表及預約網址：https://www.callcar.com.tw/project016/pricing_table.html\n",
      "詳細內容及注意事項\n",
      "\n",
      "\n",
      "\n",
      "\n",
      "\n",
      "\n",
      "\n",
      "\n",
      "ATM跨行提領手續費回饋\r\n",
      "                          105/12/31前，可享ATM跨行提領現金手續費回饋，依持卡人每月跨行提領之筆數及金額計算：(每月重新計算免費次數，每戶每月回饋上限NT$300。）\n",
      "\n",
      "單筆未滿2萬元：每月1次免費\n",
      "單筆2萬元：免費，每月回饋上限NT$300(含單筆未滿2萬元每月一次之回饋)\r\n",
      "                              說明：\r\n",
      "                              持卡人持PLAY COMBO悠遊聯名卡跨行提領現金，每次手續費NT$5於客戶提領當時，先由持卡人金融卡帳戶扣款，ATM跨行提現手續費現金回饋將撥入持卡人之信用卡帳戶內，用以扣抵未來消費款(回饋金額＝免費次數×手續費NT$5)。\n",
      "\n",
      "\n",
      "\n",
      "\n",
      "\n",
      "注意事項:\n",
      "\n",
      "\n",
      "ATM跨提手續費現金回饋，係於次月以刷卡金方式回饋至持卡人之信用卡帳戶中，用以扣抵持卡人之消費款項，持卡人不得要求折抵現金或兌換其他商品。\n",
      "持卡人於各項回饋入帳當時需為有效卡，且無任何不良信用紀錄者，方符合資格。 \n",
      "優惠提供期間倘因不可歸責本行之事由，本行得變更及終止內容，並於本行網站公告。\n",
      "\n",
      "\n",
      "\n",
      "\n",
      "\n",
      "\n",
      " \n",
      "\n",
      "\n",
      " \n",
      "\n",
      "\n",
      "\n",
      "\n",
      "\n",
      "\n"
     ]
    }
   ],
   "source": [
    "print(soup.select('#d02')[0].text)"
   ]
  },
  {
   "cell_type": "markdown",
   "metadata": {},
   "source": [
    "## BeautifulSoup範例"
   ]
  },
  {
   "cell_type": "code",
   "execution_count": 29,
   "metadata": {
    "collapsed": false
   },
   "outputs": [
    {
     "name": "stdout",
     "output_type": "stream",
     "text": [
      "[<h1 id=\"title\">Hello World</h1>]\n",
      "<h1 id=\"title\">Hello World</h1>\n",
      "Hello World\n"
     ]
    }
   ],
   "source": [
    "\n",
    "html_sample = '''\n",
    "<html> \n",
    " <body> \n",
    " <h1 id=\"title\">Hello World</h1> \n",
    " <a href=\"#\" class=\"link\">This is link1</a> \n",
    " <a href=\"# link2\" class=\"link\">This is link2</a> \n",
    " </body> \n",
    "</html>\n",
    "'''\n",
    "\n",
    "\n",
    "from bs4 import BeautifulSoup\n",
    "soup = BeautifulSoup(html_sample, 'html.parser')\n",
    "print(soup.select('h1'))\n",
    "print(soup.select('h1')[0])\n",
    "print(soup.select('h1')[0].text)"
   ]
  },
  {
   "cell_type": "code",
   "execution_count": 35,
   "metadata": {
    "collapsed": false
   },
   "outputs": [
    {
     "name": "stdout",
     "output_type": "stream",
     "text": [
      "[<h1 id=\"title\">Hello World</h1>]\n",
      "<h1 id=\"title\">Hello World</h1>\n",
      "Hello World\n"
     ]
    }
   ],
   "source": [
    "# 跟據 id = title 做存取\n",
    "print(soup.select('#title'))\n",
    "print(soup.select('#title')[0])\n",
    "print(soup.select('#title')[0].text)"
   ]
  },
  {
   "cell_type": "code",
   "execution_count": 32,
   "metadata": {
    "collapsed": false
   },
   "outputs": [
    {
     "name": "stdout",
     "output_type": "stream",
     "text": [
      "[<a class=\"link\" href=\"#\">This is link1</a>, <a class=\"link\" href=\"# link2\">This is link2</a>]\n",
      "<a class=\"link\" href=\"#\">This is link1</a>\n",
      "This is link1\n",
      "<a class=\"link\" href=\"# link2\">This is link2</a>\n",
      "This is link2\n"
     ]
    }
   ],
   "source": [
    "print(soup.select('a'))\n",
    "print(soup.select('a')[0])\n",
    "print(soup.select('a')[0].text)\n",
    "\n",
    "\n",
    "print(soup.select('a')[1])\n",
    "print(soup.select('a')[1].text)"
   ]
  },
  {
   "cell_type": "code",
   "execution_count": 38,
   "metadata": {
    "collapsed": false
   },
   "outputs": [
    {
     "name": "stdout",
     "output_type": "stream",
     "text": [
      "[<a class=\"link\" href=\"#\">This is link1</a>, <a class=\"link\" href=\"# link2\">This is link2</a>]\n",
      "<a class=\"link\" href=\"#\">This is link1</a>\n",
      "This is link1\n"
     ]
    }
   ],
   "source": [
    "print(soup.select('.link'))\n",
    "print(soup.select('.link')[0])\n",
    "print(soup.select('.link')[0].text)"
   ]
  },
  {
   "cell_type": "markdown",
   "metadata": {},
   "source": [
    "## 英文斷詞"
   ]
  },
  {
   "cell_type": "code",
   "execution_count": 40,
   "metadata": {
    "collapsed": false
   },
   "outputs": [
    {
     "data": {
      "text/plain": [
       "['this', 'is', 'a', 'book']"
      ]
     },
     "execution_count": 40,
     "metadata": {},
     "output_type": "execute_result"
    }
   ],
   "source": [
    "a = 'this is a book'\n",
    "a.split()"
   ]
  },
  {
   "cell_type": "markdown",
   "metadata": {},
   "source": [
    "## 中文斷詞"
   ]
  },
  {
   "cell_type": "code",
   "execution_count": 42,
   "metadata": {
    "collapsed": false
   },
   "outputs": [
    {
     "data": {
      "text/plain": [
       "'日本藝人PICO太郎所唱的歌曲《PPAP》，又有人推出新版本啦！除了網紅蔡阿嘎、藝人舒淇、周子瑜、夏宇童、解婕翎都推出屬於自己的版本惡搞外，還巨乳版、女警版等，現在又有了「控八控孔版」！超搞笑的台語歌詞還配上氣勢如虹的跳舞場面，又台又夠力，被網友讚「一定火」'"
      ]
     },
     "execution_count": 42,
     "metadata": {},
     "output_type": "execute_result"
    }
   ],
   "source": [
    "s = '日本藝人PICO太郎所唱的歌曲《PPAP》，又有人推出新版本啦！除了網紅蔡阿嘎、藝人舒淇、周子瑜、夏宇童、解婕翎都推出屬於自己的版本惡搞外，還巨乳版、女警版等，現在又有了「控八控孔版」！超搞笑的台語歌詞還配上氣勢如虹的跳舞場面，又台又夠力，被網友讚「一定火」'\n",
    "s"
   ]
  },
  {
   "cell_type": "code",
   "execution_count": 45,
   "metadata": {
    "collapsed": false
   },
   "outputs": [
    {
     "data": {
      "text/plain": [
       "['日本藝人PICO太郎所唱的歌曲《PPAP》',\n",
       " '又有人推出新版本啦',\n",
       " '除了網紅蔡阿嘎',\n",
       " '藝人舒淇',\n",
       " '周子瑜',\n",
       " '夏宇童',\n",
       " '解婕翎都推出屬於自己的版本惡搞外',\n",
       " '還巨乳版',\n",
       " '女警版等',\n",
       " '現在又有了「控八控孔版」',\n",
       " '超搞笑的台語歌詞還配上氣勢如虹的跳舞場面',\n",
       " '又台又夠力',\n",
       " '被網友讚「一定火」']"
      ]
     },
     "execution_count": 45,
     "metadata": {},
     "output_type": "execute_result"
    }
   ],
   "source": [
    "import re\n",
    "re.split('，|！|、', s)"
   ]
  },
  {
   "cell_type": "markdown",
   "metadata": {},
   "source": [
    "## 使用Jieba 斷詞"
   ]
  },
  {
   "cell_type": "code",
   "execution_count": 48,
   "metadata": {
    "collapsed": false
   },
   "outputs": [
    {
     "name": "stdout",
     "output_type": "stream",
     "text": [
      "大/巨蛋/案對/市府/同仁/下/封口令/？/　/柯/P/否認\n"
     ]
    }
   ],
   "source": [
    "import jieba\n",
    "seg = jieba.cut(\"大巨蛋案對市府同仁下封口令？　柯P否認\")\n",
    "print('/'.join(seg))"
   ]
  },
  {
   "cell_type": "code",
   "execution_count": 49,
   "metadata": {
    "collapsed": false
   },
   "outputs": [
    {
     "name": "stdout",
     "output_type": "stream",
     "text": [
      "大/巨蛋/案/對/市府/同仁/下/封口/封口令/口令////柯/P/否/認\n"
     ]
    }
   ],
   "source": [
    "seg = jieba.cut(\"大巨蛋案對市府同仁下封口令？　柯P否認\", cut_all=True)\n",
    "print('/'.join(seg))"
   ]
  },
  {
   "cell_type": "code",
   "execution_count": 54,
   "metadata": {
    "collapsed": false
   },
   "outputs": [],
   "source": [
    "jieba.load_userdict(\"userdict.txt\")"
   ]
  },
  {
   "cell_type": "code",
   "execution_count": 52,
   "metadata": {
    "collapsed": false
   },
   "outputs": [
    {
     "name": "stdout",
     "output_type": "stream",
     "text": [
      "大巨蛋/案對/市府/同仁/下/封口令/？/　/柯P/否認\n"
     ]
    }
   ],
   "source": [
    "seg = jieba.cut(\"大巨蛋案對市府同仁下封口令？　柯P否認\")\n",
    "print('/'.join(seg))"
   ]
  },
  {
   "cell_type": "code",
   "execution_count": 55,
   "metadata": {
    "collapsed": false,
    "scrolled": true
   },
   "outputs": [
    {
     "name": "stdout",
     "output_type": "stream",
     "text": [
      "大巨蛋 n\n",
      "案 ng\n",
      "對 p\n",
      "市府 n\n",
      "同仁 nr\n",
      "下 f\n",
      "封口令 n\n",
      "？ x\n",
      "　 x\n",
      "柯P n\n",
      "否認 v\n"
     ]
    }
   ],
   "source": [
    "import jieba.posseg as pseg\n",
    "words = pseg.cut(\"大巨蛋案對市府同仁下封口令？　柯P否認\")\n",
    "for w in words:\n",
    "    print(w.word, w.flag)"
   ]
  },
  {
   "cell_type": "code",
   "execution_count": 60,
   "metadata": {
    "collapsed": false
   },
   "outputs": [
    {
     "name": "stdout",
     "output_type": "stream",
     "text": [
      "大巨蛋/ 案對/ 市府/ 同仁/ 下/ 封口令/ ？/ 　/ 柯P/ 否認\n"
     ]
    }
   ],
   "source": [
    "sentence = \"大巨蛋案對市府同仁下封口令？　柯P否認\"\n",
    "words = jieba.cut(sentence, cut_all=False)\n",
    "print(\"/ \".join(words))"
   ]
  },
  {
   "cell_type": "code",
   "execution_count": 61,
   "metadata": {
    "collapsed": false
   },
   "outputs": [
    {
     "data": {
      "text/plain": [
       "'日本藝人PICO太郎所唱的歌曲《PPAP》，又有人推出新版本啦！除了網紅蔡阿嘎、藝人舒淇、周子瑜、夏宇童、解婕翎都推出屬於自己的版本惡搞外，還巨乳版、女警版等，現在又有了「控八控孔版」！超搞笑的台語歌詞還配上氣勢如虹的跳舞場面，又台又夠力，被網友讚「一定火」'"
      ]
     },
     "execution_count": 61,
     "metadata": {},
     "output_type": "execute_result"
    }
   ],
   "source": [
    "s = '日本藝人PICO太郎所唱的歌曲《PPAP》，又有人推出新版本啦！除了網紅蔡阿嘎、藝人舒淇、周子瑜、夏宇童、解婕翎都推出屬於自己的版本惡搞外，還巨乳版、女警版等，現在又有了「控八控孔版」！超搞笑的台語歌詞還配上氣勢如虹的跳舞場面，又台又夠力，被網友讚「一定火」'\n",
    "s"
   ]
  },
  {
   "cell_type": "code",
   "execution_count": 63,
   "metadata": {
    "collapsed": false
   },
   "outputs": [
    {
     "name": "stdout",
     "output_type": "stream",
     "text": [
      "日本/ 藝人/ PICO/ 太郎/ 所唱/ 的/ 歌曲/ 《/ PPAP/ 》/ ，/ 又/ 有人/ 推出/ 新/ 版本/ 啦/ ！/ 除了/ 網紅/ 蔡阿嘎/ 、/ 藝人/ 舒淇/ 、/ 周子/ 瑜/ 、/ 夏宇童/ 、/ 解婕/ 翎/ 都/ 推出/ 屬/ 於/ 自己/ 的/ 版本/ 惡/ 搞/ 外/ ，/ 還/ 巨乳/ 版/ 、/ 女警/ 版/ 等/ ，/ 現在/ 又/ 有/ 了/ 「/ 控八控/ 孔版/ 」/ ！/ 超/ 搞笑/ 的/ 台語/ 歌詞/ 還配/ 上/ 氣勢/ 如虹/ 的/ 跳舞/ 場面/ ，/ 又/ 台/ 又/ 夠力/ ，/ 被網/ 友/ 讚/ 「/ 一定/ 火/ 」\n"
     ]
    }
   ],
   "source": [
    "words = jieba.cut(s, cut_all=False)\n",
    "print(\"/ \".join(words))"
   ]
  },
  {
   "cell_type": "code",
   "execution_count": 66,
   "metadata": {
    "collapsed": true
   },
   "outputs": [],
   "source": [
    "jieba.add_word('周子瑜')\n",
    "jieba.add_word('控八控孔')"
   ]
  },
  {
   "cell_type": "code",
   "execution_count": 67,
   "metadata": {
    "collapsed": false
   },
   "outputs": [
    {
     "name": "stdout",
     "output_type": "stream",
     "text": [
      "日本/ 藝人/ PICO/ 太郎/ 所唱/ 的/ 歌曲/ 《/ PPAP/ 》/ ，/ 又/ 有人/ 推出/ 新/ 版本/ 啦/ ！/ 除了/ 網紅/ 蔡阿嘎/ 、/ 藝人/ 舒淇/ 、/ 周子瑜/ 、/ 夏宇童/ 、/ 解婕/ 翎/ 都/ 推出/ 屬/ 於/ 自己/ 的/ 版本/ 惡/ 搞/ 外/ ，/ 還/ 巨乳/ 版/ 、/ 女警/ 版/ 等/ ，/ 現在/ 又/ 有/ 了/ 「/ 控八控孔/ 版/ 」/ ！/ 超/ 搞笑/ 的/ 台語/ 歌詞/ 還配/ 上/ 氣勢/ 如虹/ 的/ 跳舞/ 場面/ ，/ 又/ 台/ 又/ 夠力/ ，/ 被網/ 友/ 讚/ 「/ 一定/ 火/ 」\n"
     ]
    }
   ],
   "source": [
    "words = jieba.cut(s, cut_all=False)\n",
    "print(\"/ \".join(words))"
   ]
  },
  {
   "cell_type": "code",
   "execution_count": 68,
   "metadata": {
    "collapsed": false
   },
   "outputs": [
    {
     "name": "stdout",
     "output_type": "stream",
     "text": [
      "封口令\n"
     ]
    }
   ],
   "source": [
    "sentence = \"大巨蛋案對市府同仁下封口令？　柯P否認\"\n",
    "import jieba.analyse\n",
    "tags = jieba.analyse.extract_tags(sentence, 1)\n",
    "print(\",\".join(tags))"
   ]
  },
  {
   "cell_type": "code",
   "execution_count": 69,
   "metadata": {
    "collapsed": false
   },
   "outputs": [
    {
     "name": "stdout",
     "output_type": "stream",
     "text": [
      "同仁\n"
     ]
    }
   ],
   "source": [
    "tags = jieba.analyse.extract_tags(sentence, 1, allowPOS = ['nr'])\n",
    "print(\",\".join(tags))"
   ]
  },
  {
   "cell_type": "markdown",
   "metadata": {},
   "source": [
    "## 統計最常出現的字詞"
   ]
  },
  {
   "cell_type": "code",
   "execution_count": 71,
   "metadata": {
    "collapsed": false
   },
   "outputs": [],
   "source": [
    "import requests\n",
    "res = requests.get('https://www.cathaybk.com.tw/cathaybk/card/card/card_15.asp')\n",
    "res.encoding = 'big5'\n",
    "#print(res.text)"
   ]
  },
  {
   "cell_type": "code",
   "execution_count": 76,
   "metadata": {
    "collapsed": false
   },
   "outputs": [],
   "source": [
    "from bs4 import BeautifulSoup\n",
    "soup = BeautifulSoup(res.text, 'html.parser')\n",
    "#print(soup.select('#d02')[0].text)\n",
    "article = soup.select('#d02')[0].text"
   ]
  },
  {
   "cell_type": "code",
   "execution_count": 79,
   "metadata": {
    "collapsed": false
   },
   "outputs": [],
   "source": [
    "import jieba\n",
    "#print('/'.join(jieba.cut(article)))"
   ]
  },
  {
   "cell_type": "code",
   "execution_count": 91,
   "metadata": {
    "collapsed": false
   },
   "outputs": [],
   "source": [
    "article = ' '.join(article.strip().split())"
   ]
  },
  {
   "cell_type": "code",
   "execution_count": 95,
   "metadata": {
    "collapsed": true
   },
   "outputs": [],
   "source": [
    "stat_dic = {}\n",
    "for w in jieba.cut(article):\n",
    "    m = re.match(\"[\\u4e00-\\u9fa5]+\" , w) #只要中文字\n",
    "    if m:\n",
    "        if w not in stat_dic: # 字詞不存在\n",
    "            stat_dic[w] = 1\n",
    "        else:\n",
    "            stat_dic[w] = stat_dic[w] + 1"
   ]
  },
  {
   "cell_type": "code",
   "execution_count": 96,
   "metadata": {
    "collapsed": false
   },
   "outputs": [],
   "source": [
    "import operator\n",
    "swd = sorted(stat_dic.items(), key= operator.itemgetter(1), reverse=True)"
   ]
  },
  {
   "cell_type": "code",
   "execution_count": 99,
   "metadata": {
    "collapsed": false
   },
   "outputs": [
    {
     "name": "stdout",
     "output_type": "stream",
     "text": [
      "優惠 31\n",
      "本行 26\n",
      "回饋 21\n",
      "悠遊 15\n",
      "持卡人 14\n",
      "訂票 13\n"
     ]
    }
   ],
   "source": [
    "for word, freq in swd[0:10]:\n",
    "    if len(word) >=2: # 挑字詞長度>=2\n",
    "        print(word, freq)"
   ]
  },
  {
   "cell_type": "markdown",
   "metadata": {},
   "source": [
    "## 使用Counter 統計"
   ]
  },
  {
   "cell_type": "code",
   "execution_count": 104,
   "metadata": {
    "collapsed": false
   },
   "outputs": [],
   "source": [
    "from collections import Counter\n",
    "c = Counter()\n",
    "for w in jieba.cut(article):\n",
    "    m = re.match(\"[\\u4e00-\\u9fa5]+\" , w) #只要中文字\n",
    "    if m and len(w) >=2 :\n",
    "        c[w] +=1"
   ]
  },
  {
   "cell_type": "code",
   "execution_count": 105,
   "metadata": {
    "collapsed": false
   },
   "outputs": [
    {
     "data": {
      "text/plain": [
       "[('優惠', 31),\n",
       " ('本行', 26),\n",
       " ('回饋', 21),\n",
       " ('悠遊', 15),\n",
       " ('持卡人', 14),\n",
       " ('訂票', 13),\n",
       " ('影城', 13),\n",
       " ('刷卡', 13),\n",
       " ('期間', 12),\n",
       " ('國賓', 12)]"
      ]
     },
     "execution_count": 105,
     "metadata": {},
     "output_type": "execute_result"
    }
   ],
   "source": [
    "c.most_common(10)"
   ]
  },
  {
   "cell_type": "code",
   "execution_count": 112,
   "metadata": {
    "collapsed": true
   },
   "outputs": [],
   "source": [
    "import requests\n",
    "from bs4 import BeautifulSoup\n",
    "res = requests.get('https://www.cathaybk.com.tw/cathaybk/card/card/card_15.asp')\n",
    "res.encoding = 'big5'\n",
    "\n",
    "soup = BeautifulSoup(res.text, 'html.parser')\n",
    "article = soup.select('#d05')[0].text"
   ]
  },
  {
   "cell_type": "code",
   "execution_count": 113,
   "metadata": {
    "collapsed": false
   },
   "outputs": [
    {
     "data": {
      "text/plain": [
       "[('加值', 26),\n",
       " ('自動', 22),\n",
       " ('悠遊卡', 21),\n",
       " ('悠遊', 16),\n",
       " ('功能', 9),\n",
       " ('開啟', 8),\n",
       " ('設備', 8),\n",
       " ('卡加', 7),\n",
       " ('閘門', 6),\n",
       " ('值機', 6)]"
      ]
     },
     "execution_count": 113,
     "metadata": {},
     "output_type": "execute_result"
    }
   ],
   "source": [
    "from collections import Counter\n",
    "c = Counter()\n",
    "for w in jieba.cut(article):\n",
    "    m = re.match(\"[\\u4e00-\\u9fa5]+\" , w) #只要中文字\n",
    "    if m and len(w) >=2 :\n",
    "        c[w] +=1\n",
    "c.most_common(10)"
   ]
  },
  {
   "cell_type": "markdown",
   "metadata": {},
   "source": [
    "## TF-IDF"
   ]
  },
  {
   "cell_type": "code",
   "execution_count": 114,
   "metadata": {
    "collapsed": false
   },
   "outputs": [
    {
     "data": {
      "text/plain": [
       "3"
      ]
     },
     "execution_count": 114,
     "metadata": {},
     "output_type": "execute_result"
    }
   ],
   "source": [
    "ary= ['a', 'b', 'a', 'c', 'a']\n",
    "ary.count('a')"
   ]
  },
  {
   "cell_type": "code",
   "execution_count": 122,
   "metadata": {
    "collapsed": false
   },
   "outputs": [
    {
     "name": "stdout",
     "output_type": "stream",
     "text": [
      "0.0\n",
      "0.270310072072\n",
      "0.0\n",
      "0.135155036036\n",
      "0.366204096223\n"
     ]
    }
   ],
   "source": [
    "import scipy as sp\n",
    "def tfidf(t, d, D):\n",
    "    tf = float(d.count(t)) / sum(d.count(w) for w in set(d))\n",
    "    idf = sp.log(float(len(D)) / (len([doc for doc in D if t in doc])))\n",
    "    return tf * idf\n",
    "\n",
    "a, abb, abc = [\"a\"], [\"a\", \"b\", \"b\"], [\"a\", \"b\", \"c\"]\n",
    "D = [a, abb, abc]\n",
    "\n",
    "print(tfidf(\"a\", a, D))\n",
    "print(tfidf(\"b\", abb, D))\n",
    "print(tfidf(\"a\", abc, D))\n",
    "print(tfidf(\"b\", abc, D))\n",
    "print(tfidf(\"c\", abc, D))\n"
   ]
  },
  {
   "cell_type": "code",
   "execution_count": 120,
   "metadata": {
    "collapsed": false
   },
   "outputs": [
    {
     "name": "stdout",
     "output_type": "stream",
     "text": [
      "1\n",
      "1\n",
      "1.0\n"
     ]
    }
   ],
   "source": [
    "a  = [\"a\"]\n",
    "print(a.count('a') )\n",
    "print(sum(a.count('a') for w in set(a)))\n",
    "tf = a.count('a')  / sum(a.count('a') for w in set(a))\n",
    "print(tf)"
   ]
  },
  {
   "cell_type": "code",
   "execution_count": 128,
   "metadata": {
    "collapsed": false
   },
   "outputs": [
    {
     "name": "stdout",
     "output_type": "stream",
     "text": [
      "3\n",
      "3\n",
      "0.0\n"
     ]
    }
   ],
   "source": [
    "print(len(D))\n",
    "print(len([doc for doc in D if 'a' in doc]))\n",
    "import scipy as sp\n",
    "idf= sp.log((len(D) / len([doc for doc in D if 'a' in doc])))\n",
    "print(idf)"
   ]
  },
  {
   "cell_type": "markdown",
   "metadata": {},
   "source": [
    "## 取得各頁分詞結果"
   ]
  },
  {
   "cell_type": "code",
   "execution_count": 142,
   "metadata": {
    "collapsed": false
   },
   "outputs": [],
   "source": [
    "jieba.add_word('悠遊卡')\n",
    "jieba.add_word('悠遊')\n",
    "jieba.add_word('小額')"
   ]
  },
  {
   "cell_type": "code",
   "execution_count": 143,
   "metadata": {
    "collapsed": true
   },
   "outputs": [],
   "source": [
    "import jieba\n",
    "corpus = []\n",
    "res = requests.get('https://www.cathaybk.com.tw/cathaybk/card/card/card_15.asp')\n",
    "res.encoding = 'big5'\n",
    "for tag in ['#d01', '#d02', '#d03', '#d04', '#d05']:\n",
    "    soup = BeautifulSoup(res.text, 'html.parser')\n",
    "    article = soup.select(tag)\n",
    "    corpus.append(' '.join(jieba.cut(article[0].text.strip())))\n"
   ]
  },
  {
   "cell_type": "code",
   "execution_count": 144,
   "metadata": {
    "collapsed": false
   },
   "outputs": [
    {
     "data": {
      "text/plain": [
       "'卡片 介紹 \\n 專屬 優惠 \\n 卡友 權益 \\n 立即 申請 \\n \\n 悠遊卡 介紹 \\n \\n \\n \\n \\n \\n \\n 結合 信用卡 、 悠遊卡 功能 ， 免付 NT $ 100 悠遊卡 押金 ， 即可 輕 鬆 悠遊 大台北 地區 捷運 、 聯營 公車 、 市立 停車場 、 臺 鐵 【 特定 區段 】 、 高鐵 、 貓空纜 車及 超過 10 , 000 家 小額 消費 特約 商店 ， 讓 您 交通 、 消費 、 生活 ， 一卡 就 GO ！ \\r\\n                                                     \\n \\n \\n \\n \\n \\n \\n \\n PLAY   悠遊 聯名 卡 \\r\\n                                                 信用卡 、 悠遊卡   ALL   IN   ONE \\r\\n                                                   \\n 信用卡 ： 刷卡 購物   快速 無限 \\r\\n                                                 悠遊卡 ： 自動 加值   便利 無限 \\r\\n                                                   \\n \\n \\n \\n \\n \\n \\n \\n \\n PLAY   COMBO 悠遊 聯名 卡 \\r\\n                                                     信用卡 、 金融 卡 、 悠遊卡 、 三合一 \\r\\n                                                     \\n 整合 信用卡 及個 人 帳戶 ， 可 於 全省 ATM 提款 / 轉帳 ， 更 可 輕 鬆 享受 悠遊卡 便利 功能 ， 立即 減輕 身上 多卡及 一堆 零錢 的 負擔 ！ \\r\\n \\n \\n 注意 事項 : \\n \\n 開卡時 ， 您 所 設定 的 金融 卡新 密碼 為 COMBO 悠遊 聯名 卡 的 提款 密碼 ； 於 ATM 預借 現金 或 國外 ATM 提領 當地 貨幣 時 ， 須輸入 四位 數磁條 密碼 。 請 您 謹記 此密 碼並 切勿 向 任何人 透露 密碼 ， 以 保障 您 的 用 卡 安全 。 \\r\\n 日後若 您 需要 變 更 金融 卡密碼 ， 請 至 貼 有 金色 金框 晶片 跨行 標誌 的 國泰世華 ATM 自動 櫃員機 進行 變 更 。   \\r\\n 如 您 因密碼 操作 錯誤 達 三次 導致 晶片 金融 卡 功能 被鎖 住 ， 或 因忘記 晶片 密碼 而 無法 使用 時 ， 您 可以 至 本行 各 分行 單位 進行 晶片 密碼 解鎖 （ 每次 需 收取 NT $ 50 手續費 ） 之作業 ， 方得 再 啟動 您 的 金融 卡 功能 。 \\r\\n COMBO 悠遊 聯名 卡 完成 啟用 手續 後 ， 原 持有 的 金融 卡 、 毀損 補發 （ 或 到期 ） 之 COMBO 悠遊 聯名 卡 的 金融 卡 功能 將 立即 失效 ， 如將 舊卡 插入 ATM 遭 留置 者 ， 本行 將 予以 回收 作廢 。 \\r\\n \\r\\n 如 您 使用 同一 存款 帳號 申辦 本行 不同 之 COMBO 財富卡 、 COMBO 悠遊卡 、 ｉ 刷 金融 卡 ， 新卡 一旦 開啟 ， 舊卡 之 金融 卡 功能 即 行 失效 ， 舊卡 之 信用卡 功能 可 使用 至 信用卡 有效期 為止 ， 於 到期 後 本行 即 不再 續發 ； 若 您 有 以 該 舊卡號 辦理 信用卡 自動 扣 繳費用 ， 則需 先行 辦理辦 更 。'"
      ]
     },
     "execution_count": 144,
     "metadata": {},
     "output_type": "execute_result"
    }
   ],
   "source": [
    "corpus[0]"
   ]
  },
  {
   "cell_type": "code",
   "execution_count": 133,
   "metadata": {
    "collapsed": false
   },
   "outputs": [
    {
     "data": {
      "text/plain": [
       "5"
      ]
     },
     "execution_count": 133,
     "metadata": {},
     "output_type": "execute_result"
    }
   ],
   "source": [
    "#corpus\n",
    "len(corpus)"
   ]
  },
  {
   "cell_type": "code",
   "execution_count": 132,
   "metadata": {
    "collapsed": true
   },
   "outputs": [],
   "source": [
    "from sklearn.feature_extraction.text import CountVectorizer\n"
   ]
  },
  {
   "cell_type": "code",
   "execution_count": 155,
   "metadata": {
    "collapsed": false
   },
   "outputs": [
    {
     "data": {
      "text/plain": [
       "'000/01/02/036/04/0800/10/100/105/106/12/20/22062550/23/230/24/24tms/25/299/2d/30/300/31/3d/50/500/599/600/63/70/700/750/77330589/788/799/80/800/888/95/all/ambassador/android/app/apple/atm/avm/callcar/com/combo/easy/eleven/email/freeliving/go/google/html/http/https/in/iphone/itunes/jcb/kkbox/line/mastercard/nt/one/pay/pchome/play/pricing/project016/sogo/store/table/tw/visa/vp/www/yahoo/一份/一個/一卡/一堆/一家/一年/一旦/一期/一杯/一樣/一次/一盤/一般/一送/七天/三合一/三次/上述/上限/上須/下列/不予/不便/不再/不可/不可抗力/不同/不含/不在此限/不得/不繳/不良/不足/不限時/並以/並於指/中心/中杯/中油/主管/之作業/之個/之停/之分類/之國際/之會員/之範圍/之金額/乙次/了解/予以/事業/事業費/事由/事項/二張/交易/交通/亦不得/享不/享免/享免費/享受/享可樂/享有/享現/享紅利/享週/享首/人工/人帳/人證明/介紹/付款/付費/以上/以下/以價/以國/以康/以現/以順利/任一/任何/任何人/任選/低者/作廢/作業/作業將/使用/例假日/依據/依照/依營業/依購物/便利/便利商店/保留/保費/保障/保險/信用/信用卡/修改/倘因/倘未/倘活動/假日/假期/停車/停車並/停車場/傷害/僅持/僅適/價依訂/價優惠/價格/價計算/優惠/優惠價/優惠內/優惠加/優惠期/優惠票/優惠票種/優惠表及/優惠限以/優惠須/優惠餐/儲值/元時/元至/元起/先由/先行/光影/兌換/免付/免帶/免年費/免手續費/免費/免費次數/入口/入場/入帳/內同/內含/內容/內容及/內無持/內無法/內餘額/全台/全家/全省/全票/全鋒/全額/公共/公共利益/公司/公告/公用/公車/公里/其他/其倍數/其它/出停/出場/出示/分期/分行/分鐘/切勿/列入/別約定/利息/到期/刷卡/刷國/則不適/則需/前且/功能/加值/加入/加收/加油/加油站/加購/加贈/劫機/動且/勞動節/區段/升級/半年/協助/博客/卡別/卡友/卡友須/卡密碼/卡年費/卡持卡/卡新/卡新戶/卡正卡/卡活/卡為/卡片/卡特/卡號/即可/即日起/原價購/原回饋/原權益/參加/參閱/及個/及國/及怡客/及本/取消/取票/受扶養/只要/可享/可以/可樂/可用/台中/台北/各大/各店/各百貨/各車/各項/合格/同一/同卡號/同等/含單/含稅款/咖啡/哩程/售卡/商品/商城/商店/啟動/啟用/單位/單匯入/單品/單店/單日/單次/單筆/單者/單趟/單限購/單點/四位/四張/回收/回饋/因密碼/因忘記/因素/固定/國外/國定/國泰世華/國泰世華卡享/國泰世華卡友/國泰世華銀行/國泰人壽/國賓/國賓入/國際/國際線/圖示/團費/團費且/地區/地點/城可補/城限購/執行/場次/填寫/壽險/外圍/外送/多卡及/大台北/大眾/天天/太平洋/失效/奇摩/如上/如以/如因/如將/如遇/子女/存款/學雜費/安全/完成/完畢/官網/定期/客戶/客服/家人/容並/密碼/實付/實支/實體/將撥入/將改/將無法/專區/專屬/專接/專櫃/專線/對象/導致/小時/小港/小額/崗機場/工具/差額/市立/帳單/帳戶/帳號/帳號者/幣元/幫手/平安/年免/年度/年費/店內/店員為/店址/座位/康是/延誤/張且/張數/彈性/影城/影片/影票/影院/得以/得變/快速/怡客/性質經/悠卡/悠遊/悠遊卡/情形/惟出場/惟台/惟天災/惟自動/感應/感應區/憑近/成功者/或國賓/手冊/手刷式/手寫/手續/手續費/扣抵/扣款/扣繳/批次/折及/折扣/折抵/折起/抵用/押金/拆帳/拖吊/持卡/持卡人/持國/持有/指定/指示/挑選/捷運/授權/授權碼/掛有/接送/提供/提手/提款/提現/提領/插入/換場/搭乘/播映/操作/支付/收取/收費/改以/放假/政府/政策/故障/救援/敬老/整合/數將/數磁條/文件/新卡/新增/方享/方可/方式/方得/旅行/旅遊/旗下/日前/日後發生/日後若/日期/早場/明為準/是否/時勾選/時止/時段/時起/時間/晚須/普卡/晶片/暫停/更多/書店/最新/最高/會員紅利/會員者/月份/有效/有效期/有關/服務/服務人員/服務前/服務費/服務金額/期帳/期會員/期間/期限/未來/未婚/未滿/本人/本活動/本行/核准/核卡/核卡後之/案件/條款/標明/標準/標示/標誌/機之/機器/機場/機構/機票/機關/櫃員機/權利/權益/次之/次年/次次/正卡/正品/此密/歸責/毀損/每人/每半年/每卡/每張/每戶/每日/每月/每次/每筆訂/注意/泰世華/泰世華卡/泰贈/活動/消費/消費享/消費合/消費時/消費次期/消費款/消費滿/消費達/淘寶網/清泉/減免/減輕/滿額/為止/為準/無法/無限/營業/爆米花/爭議/爭鮮/特價/特別/特定/特店/特殊/特約/現場/現折/現行/現金/現金且/理財好/生活/用代繳/用以/用國賓/用餐/申請/申辦/留存/留置/當地/當天/當您已/當日/當日場/當日電/當時/當期/當次/登錄/登錄並/發行/白金卡/百貨/直營/相關/瞭解/確認/碼並/票價以/票及/票根/票款/票種/票頁/移靈費用/程序/積點/窗口/立即/端末/符合/第一年/筆數/筆未滿/節日/範圍/簽單/簽單限/簽帳/精心/系統/紀錄/紀錄者/紅利/紅利點/紅利點數/累積/累計/累點/終止/結合/結帳/結束/網址/網站/網路/線上/縮短/總金額/繳付/繳款/繳納/繳者/繳費用/續發/續費/美滿/美門市/考量/聯名/聯營/自動/自民國/自行/至國賓/至怡客/至捷運/至桃園/至民國/至該/舊卡/舊卡號/航空/萊爾富/萬元/萬家/藍標/處處享/行李/行程/被鎖/補償/補發/要求/規定/規範/規費及/視同/觀賞/解鎖/訂單/訂票/訂票者/訂購/計畫/計算/計算免/計費/訊息/設備/設定/詢問/詳參/詳情/詳細/語音/說明/請款/請致/謝禮/謹記/證件/證字號/貓空纜/負擔/財富卡/貨幣/販賣部/費代繳/費次數/費為/費用/資料/資格/資格時/資辨識/購物/購物享/購票/購票享/購買/購買國外/購買贈/贈送/起年費/起算/超值/超商/超多/超市/超級/超過/跨行/路邊/身上/身分/身心/車及/車場/車號/載明/輕觸/轉壽司/轉帳/辦法/辦理/辦理辦/迅速/退款/退票/退貨/送品/透過/透露/通知/通過/連續/週一至/週二刷/週五/週六補班/週四/週日/進行/逾期/運輸/運輸業者/過卡/道路/違約/適用/遺失/還享/部份/部分/部門/配偶/配合/酬賓/醫療/醫藥費/重新/重置/金儲值/金框/金活動/金色/金融/金額/金額享/金額須/錯誤/門市/開卡時/開啟/開演/閘門/附卡/附卡免/限刷國/限折/限次/限死/限當次/限購/限額/除外/障礙/隨時/集點/零錢/電子/電影/電影場/電洽/電當/電話/需一/需主動/需為/需要/面顯示/音樂會員/項目/須單筆/須持/須經/須至/須輸入/預借/預收制/預約/預訂/預設/預購/飛機/飲品/飲料/餐飲/餘額/首年/骨力/高鐵/高雄/點數/點紅利網'"
      ]
     },
     "execution_count": 155,
     "metadata": {},
     "output_type": "execute_result"
    }
   ],
   "source": [
    "from sklearn.feature_extraction.text import CountVectorizer\n",
    "vectorizer = CountVectorizer() \n",
    "X = vectorizer.fit_transform(corpus)\n",
    "word = vectorizer.get_feature_names() \n",
    "'/'.join(w for w in word)\n"
   ]
  },
  {
   "cell_type": "code",
   "execution_count": 151,
   "metadata": {
    "collapsed": false
   },
   "outputs": [
    {
     "data": {
      "text/plain": [
       "array([[1, 0, 0, ..., 0, 0, 0],\n",
       "       [6, 0, 1, ..., 2, 1, 1],\n",
       "       [6, 4, 0, ..., 0, 0, 0],\n",
       "       [0, 0, 0, ..., 0, 0, 0],\n",
       "       [2, 0, 0, ..., 0, 0, 0]], dtype=int64)"
      ]
     },
     "execution_count": 151,
     "metadata": {},
     "output_type": "execute_result"
    }
   ],
   "source": [
    "#for w in word:\n",
    "#    print(w,)\n",
    "X.toarray()"
   ]
  },
  {
   "cell_type": "code",
   "execution_count": 152,
   "metadata": {
    "collapsed": false
   },
   "outputs": [
    {
     "name": "stdout",
     "output_type": "stream",
     "text": [
      "[[ 0.02889662  0.          0.         ...,  0.          0.          0.        ]\n",
      " [ 0.0480435   0.          0.01421281 ...,  0.02842562  0.01421281\n",
      "   0.01421281]\n",
      " [ 0.14806245  0.17520653  0.         ...,  0.          0.          0.        ]\n",
      " [ 0.          0.          0.         ...,  0.          0.          0.        ]\n",
      " [ 0.02744237  0.          0.         ...,  0.          0.          0.        ]]\n"
     ]
    }
   ],
   "source": [
    "from sklearn.feature_extraction.text import TfidfTransformer\n",
    "transformer = TfidfTransformer()\n",
    "tfidf = transformer.fit_transform(X)\n",
    "weight = tfidf.toarray()    \n",
    "print(weight)\n"
   ]
  },
  {
   "cell_type": "code",
   "execution_count": 156,
   "metadata": {
    "collapsed": false
   },
   "outputs": [
    {
     "data": {
      "text/plain": [
       "(5, 918)"
      ]
     },
     "execution_count": 156,
     "metadata": {},
     "output_type": "execute_result"
    }
   ],
   "source": [
    "weight.shape"
   ]
  },
  {
   "cell_type": "code",
   "execution_count": 169,
   "metadata": {
    "collapsed": false
   },
   "outputs": [
    {
     "name": "stdout",
     "output_type": "stream",
     "text": [
      "加值 0.538257393244\n",
      "悠遊卡 0.429395728258\n",
      "自動 0.358838262163\n",
      "設備 0.19484003287\n",
      "功能 0.17684517567\n",
      "開啟 0.157195711707\n",
      "閘門 0.146130024653\n",
      "作業 0.121775020544\n",
      "執行 0.121775020544\n"
     ]
    }
   ],
   "source": [
    "for pos in weight[4].argsort()[:-10:-1]:\n",
    "    print(word[pos], weight[4][pos])"
   ]
  },
  {
   "cell_type": "markdown",
   "metadata": {},
   "source": [
    "## 取得所有動作標籤"
   ]
  },
  {
   "cell_type": "code",
   "execution_count": 170,
   "metadata": {
    "collapsed": true
   },
   "outputs": [],
   "source": [
    "import pandas\n",
    "dftotal = []\n",
    "\n",
    "click = pandas.read_csv('clickdata/yaa', sep = ',' \\\n",
    "                     , encoding = 'utf-8' \\\n",
    "                     , header=None \\\n",
    "                     , parse_dates=[1]\\\n",
    "                     , na_values=['NaN','Null'])"
   ]
  },
  {
   "cell_type": "code",
   "execution_count": 232,
   "metadata": {
    "collapsed": true
   },
   "outputs": [],
   "source": [
    "col = ['EventID','EventTimestamp','FieldIsChainedItemSelect','FormID','FormName',\\\n",
    "       'ObjectAlttext','ObjectClass','ObjectHierarchyID','ObjectHierarchyName','ObjectHref',\\\n",
    "       'ObjectID','ObjectIsDownload','ObjectIsLink','ObjectName','ObjectSourceType','ObjectSrc',\\\n",
    "       'ObjectTagName','ObjectType','PageEventIndex','PageInstanceID','PreviousChainedISEventIndex',\\\n",
    "       'SessionNumber','TrackingUuid',\\\n",
    "       'UnformattedHierarchyID','UnformattedHierarchyName']"
   ]
  },
  {
   "cell_type": "code",
   "execution_count": 233,
   "metadata": {
    "collapsed": false
   },
   "outputs": [],
   "source": [
    "click.columns = col"
   ]
  },
  {
   "cell_type": "code",
   "execution_count": 234,
   "metadata": {
    "collapsed": false
   },
   "outputs": [],
   "source": [
    "click_behavior = click[['ObjectHref', 'ObjectHierarchyID']]"
   ]
  },
  {
   "cell_type": "code",
   "execution_count": 235,
   "metadata": {
    "collapsed": false
   },
   "outputs": [],
   "source": [
    "click_behavior = click_behavior.drop_duplicates()"
   ]
  },
  {
   "cell_type": "code",
   "execution_count": 236,
   "metadata": {
    "collapsed": false
   },
   "outputs": [
    {
     "data": {
      "text/plain": [
       "ObjectHref            5159\n",
       "ObjectHierarchyID    10147\n",
       "dtype: int64"
      ]
     },
     "execution_count": 236,
     "metadata": {},
     "output_type": "execute_result"
    }
   ],
   "source": [
    "click_behavior.count()"
   ]
  },
  {
   "cell_type": "code",
   "execution_count": 237,
   "metadata": {
    "collapsed": false
   },
   "outputs": [],
   "source": [
    "click_behavior_with_href = click_behavior[~ click_behavior.ObjectHref.isnull() ]"
   ]
  },
  {
   "cell_type": "code",
   "execution_count": 239,
   "metadata": {
    "collapsed": false
   },
   "outputs": [
    {
     "data": {
      "text/html": [
       "<div>\n",
       "<table border=\"1\" class=\"dataframe\">\n",
       "  <thead>\n",
       "    <tr style=\"text-align: right;\">\n",
       "      <th></th>\n",
       "      <th>ObjectHref</th>\n",
       "      <th>ObjectHierarchyID</th>\n",
       "    </tr>\n",
       "  </thead>\n",
       "  <tbody>\n",
       "    <tr>\n",
       "      <th>2</th>\n",
       "      <td>https://www.mybank.com.tw/MyBank/Quicklinks/Ac...</td>\n",
       "      <td>main-wrapper/mIframe/content/sidenav/pc-submen...</td>\n",
       "    </tr>\n",
       "    <tr>\n",
       "      <th>6</th>\n",
       "      <td>https://www.mybank.com.tw/MyBank/Quicklinks/Fo...</td>\n",
       "      <td>main-wrapper/mIframe/navigation/nav</td>\n",
       "    </tr>\n",
       "    <tr>\n",
       "      <th>17</th>\n",
       "      <td>https://www.kokobank.com/KOKO/ChangePassword</td>\n",
       "      <td>data/loginSplash/loginForm</td>\n",
       "    </tr>\n",
       "    <tr>\n",
       "      <th>19</th>\n",
       "      <td>https://www.cathayholdings.com/securities</td>\n",
       "      <td>header/site-menu</td>\n",
       "    </tr>\n",
       "    <tr>\n",
       "      <th>21</th>\n",
       "      <td>https://www.cathaybk.com.tw/cathaybk/mobile/co...</td>\n",
       "      <td>footer_btn</td>\n",
       "    </tr>\n",
       "  </tbody>\n",
       "</table>\n",
       "</div>"
      ],
      "text/plain": [
       "                                           ObjectHref  \\\n",
       "2   https://www.mybank.com.tw/MyBank/Quicklinks/Ac...   \n",
       "6   https://www.mybank.com.tw/MyBank/Quicklinks/Fo...   \n",
       "17       https://www.kokobank.com/KOKO/ChangePassword   \n",
       "19          https://www.cathayholdings.com/securities   \n",
       "21  https://www.cathaybk.com.tw/cathaybk/mobile/co...   \n",
       "\n",
       "                                    ObjectHierarchyID  \n",
       "2   main-wrapper/mIframe/content/sidenav/pc-submen...  \n",
       "6                 main-wrapper/mIframe/navigation/nav  \n",
       "17                         data/loginSplash/loginForm  \n",
       "19                                   header/site-menu  \n",
       "21                                         footer_btn  "
      ]
     },
     "execution_count": 239,
     "metadata": {},
     "output_type": "execute_result"
    }
   ],
   "source": [
    "click_behavior_with_href.head()"
   ]
  },
  {
   "cell_type": "code",
   "execution_count": 241,
   "metadata": {
    "collapsed": false
   },
   "outputs": [
    {
     "name": "stderr",
     "output_type": "stream",
     "text": [
      "C:\\Anaconda3\\lib\\site-packages\\pandas\\core\\generic.py:2701: SettingWithCopyWarning: \n",
      "A value is trying to be set on a copy of a slice from a DataFrame.\n",
      "Try using .loc[row_indexer,col_indexer] = value instead\n",
      "\n",
      "See the caveats in the documentation: http://pandas.pydata.org/pandas-docs/stable/indexing.html#indexing-view-versus-copy\n",
      "  self[name] = value\n"
     ]
    }
   ],
   "source": [
    "def pageHierarchyID(url):\n",
    "    try:\n",
    "        return ' '.join(['#' + u for u in url.split('/')])\n",
    "    except:\n",
    "        return None\n",
    "\n",
    "\n",
    "click_behavior_with_href.ObjectHierarchyID = click_behavior_with_href.ObjectHierarchyID.map(lambda url: pageHierarchyID(url)) "
   ]
  },
  {
   "cell_type": "code",
   "execution_count": 243,
   "metadata": {
    "collapsed": false
   },
   "outputs": [],
   "source": [
    "card_behavior_with_href = click_behavior_with_href[click_behavior_with_href.ObjectHref.str.contains('card')]\n",
    "#card_behavior_with_href\n",
    "card_behavior_with_href = card_behavior_with_href[~ card_behavior_with_href.ObjectHierarchyID.isnull()]"
   ]
  },
  {
   "cell_type": "code",
   "execution_count": 253,
   "metadata": {
    "collapsed": false
   },
   "outputs": [],
   "source": [
    "import requests\n",
    "from bs4 import BeautifulSoup\n",
    "def getURLElement(href, hierarchyid):\n",
    "    article = None\n",
    "    try:\n",
    "        res = requests.get(href)\n",
    "        res.encoding  = 'big5'\n",
    "        soup = BeautifulSoup(res.text, 'html.parser')\n",
    "        print(hierarchyid)\n",
    "        article = soup.select(hierarchyid)[0].text\n",
    "        article = ' '.join(article.strip().split())\n",
    "    except:\n",
    "        pass\n",
    "    return article"
   ]
  },
  {
   "cell_type": "code",
   "execution_count": 256,
   "metadata": {
    "collapsed": false
   },
   "outputs": [
    {
     "name": "stdout",
     "output_type": "stream",
     "text": [
      "#main-wrap #content-wrap\n",
      "#content #cotent-left #main\n",
      "#form1 #aaa\n",
      "#d01\n",
      "#Map\n",
      "#pmenu #tr2\n",
      "#content #cotent-left #main #main_bottom #main_bottom02\n",
      "#header #sub-menu\n",
      "#tabsbox #C_tab07 #tabinother #tabinotherbt\n",
      "#cardchooseresult\n",
      "#form1\n",
      "#header #sub-menu\n",
      "#pmenu\n",
      "#cardchooseresult\n",
      "#form1 #aaa\n",
      "#form1\n",
      "#card3show\n",
      "#form1 #pay_nav #card_pay02\n",
      "#pmenu\n",
      "#submitbtn\n",
      "#form1\n",
      "#Map\n",
      "#pmenu\n",
      "#tabsbox #C_tab03 #tabinbox #tabinw #tabintit\n",
      "#Map\n",
      "#content #cotent-left #main\n",
      "#card3show\n",
      "#pmenu\n",
      "#wrapperb #slider\n",
      "#content #cotent-left #main #main_bottom #main_bottom02\n",
      "#card3show #card3_right_id\n",
      "#pay_nav #card_pay03\n",
      "#home-wrapper #banner-wrapper\n",
      "#credit_apply_index #tab_protrait\n",
      "#header #sub-menu\n",
      "#credit_apply_index #tab_all\n",
      "#form1\n",
      "#Image5\n",
      "#wrapperb #slider\n",
      "#pmenu #tr2\n",
      "#content #cotent-left #main\n",
      "#pmenu\n",
      "#Image1\n",
      "#form1 #aaa\n",
      "#credit_apply_index #tab_transport\n",
      "#header #info-menu\n",
      "#form1 #bbb\n",
      "#header #sub-menu\n",
      "#wrpBg #wrp\n",
      "#form1\n",
      "#mapDiv #mapDiv_in3 #mapDiv_in3_img\n",
      "#tabsbox #C_tab02 #tabinother #tabinotherbt\n",
      "#mci_middle #mci_body #Label1\n",
      "#mapDiv #mapDiv_in6 #mapDiv_in6_img\n",
      "#form1 #aaa\n",
      "#form1\n",
      "#form1\n",
      "#form1 #credit_apply_step2\n",
      "#credit_apply_index #tab_shopping\n",
      "#table01 #Map\n",
      "#credit_apply_index #tab_combo\n",
      "#floor\n",
      "#form1 #pmenu\n",
      "#header #sub-menu\n",
      "#content #cotent-left #main\n",
      "#content #cotent-left #main\n",
      "#content #cotent-left #main\n",
      "#Map\n",
      "#mci_middle #mci_body #Label1\n",
      "#form1\n",
      "#mapDiv #mapDiv_in5 #mapDiv_in5_img\n",
      "#form1 #aaa\n",
      "#form1 #event-main #event-block #event-block-inner #event-form #btn-submit\n",
      "#content #cotent-left #main #main_bottom #main_bottom01\n",
      "#d01\n",
      "#table01\n",
      "#bbb\n",
      "#credit_apply_index #tab_mobipay\n",
      "#credit_apply_index #form1 #content_tab_all\n",
      "#applybt\n",
      "#form1 #event-main #event-block #event-block-inner #event-form #btn-submit\n",
      "#header #sub-menu\n",
      "#list\n",
      "#event-main #event-head #Map\n",
      "#form1 #pmenu #tr1\n",
      "#tabsbox #C_tab01 #tabinbox #tabinw #tabinmore\n",
      "#credit_apply_index #tab_top\n",
      "#d02\n",
      "#main-wrapper #mIframe #content #sidenav #pc-submenu #submenu\n",
      "#pmenu #tr4\n",
      "#pmenu #tr2\n",
      "#pmenu #tr1\n",
      "#syno-nsc-ext-gen3 #form1\n",
      "#tabsbox #C_tab03 #tabinother\n",
      "#footer\n",
      "#card1show\n",
      "#main-wrap #content-wrap\n",
      "#syno-nsc-ext-gen3 #form1\n",
      "#card1show\n",
      "#tabsbox #C_tab02 #tabinbox #tabinw #tabintit\n"
     ]
    }
   ],
   "source": [
    "article_list = []\n",
    "for rec in card_behavior_with_href.head(100).iterrows():\n",
    "    item = rec[1]\n",
    "    article = getURLElement(item.ObjectHref, item.ObjectHierarchyID)\n",
    "    article_list .append({'url': item.ObjectHref, 'ID': item.ObjectHierarchyID, 'article': article})"
   ]
  },
  {
   "cell_type": "code",
   "execution_count": 257,
   "metadata": {
    "collapsed": false
   },
   "outputs": [
    {
     "data": {
      "text/html": [
       "<div>\n",
       "<table border=\"1\" class=\"dataframe\">\n",
       "  <thead>\n",
       "    <tr style=\"text-align: right;\">\n",
       "      <th></th>\n",
       "      <th>ID</th>\n",
       "      <th>article</th>\n",
       "      <th>url</th>\n",
       "    </tr>\n",
       "  </thead>\n",
       "  <tbody>\n",
       "    <tr>\n",
       "      <th>0</th>\n",
       "      <td>#main-wrap #content-wrap</td>\n",
       "      <td>None</td>\n",
       "      <td>https://www.cathaybk.com.tw/cathaybk/OnlineLoa...</td>\n",
       "    </tr>\n",
       "    <tr>\n",
       "      <th>1</th>\n",
       "      <td>#content #cotent-left #main</td>\n",
       "      <td>None</td>\n",
       "      <td>https://www.cathaybk.com.tw/cathaybk/card/mybi...</td>\n",
       "    </tr>\n",
       "    <tr>\n",
       "      <th>2</th>\n",
       "      <td>#form1 #aaa</td>\n",
       "      <td>None</td>\n",
       "      <td>https://www.cathaybk.com.tw/cathaybk/card/even...</td>\n",
       "    </tr>\n",
       "    <tr>\n",
       "      <th>3</th>\n",
       "      <td>#d01</td>\n",
       "      <td>卡片介紹 專屬優惠 卡友權益 立即申請 悠遊卡介紹 結合信用卡、悠遊卡功能，免付NT$100...</td>\n",
       "      <td>https://www.cathaybk.com.tw/cathaybk/card/card...</td>\n",
       "    </tr>\n",
       "    <tr>\n",
       "      <th>4</th>\n",
       "      <td>#Map</td>\n",
       "      <td>None</td>\n",
       "      <td>https://www.cathaybk.com.tw/cathaybk/card/even...</td>\n",
       "    </tr>\n",
       "    <tr>\n",
       "      <th>5</th>\n",
       "      <td>#pmenu #tr2</td>\n",
       "      <td>代扣代繳服務 信用卡繳學費 繳信用卡費</td>\n",
       "      <td>https://www.cathaybk.com.tw/cathaybk/card/serv...</td>\n",
       "    </tr>\n",
       "    <tr>\n",
       "      <th>6</th>\n",
       "      <td>#content #cotent-left #main #main_bottom #main...</td>\n",
       "      <td>None</td>\n",
       "      <td>https://www.cathaybk.com.tw/cathaybk/card/mybi...</td>\n",
       "    </tr>\n",
       "    <tr>\n",
       "      <th>7</th>\n",
       "      <td>#header #sub-menu</td>\n",
       "      <td>信用卡服務 信用卡服務首頁 卡片介紹 精選優惠 卡友權益 紅利兌換 迎新有禮 信用卡服務首頁...</td>\n",
       "      <td>https://www.cathaybk.com.tw/cathaybk/card/inde...</td>\n",
       "    </tr>\n",
       "    <tr>\n",
       "      <th>8</th>\n",
       "      <td>#tabsbox #C_tab07 #tabinother #tabinotherbt</td>\n",
       "      <td>None</td>\n",
       "      <td>https://www.cathaybk.com.tw/cathaybk/card/list...</td>\n",
       "    </tr>\n",
       "    <tr>\n",
       "      <th>9</th>\n",
       "      <td>#cardchooseresult</td>\n",
       "      <td>None</td>\n",
       "      <td>https://www.cathaybk.com.tw/cathaybk/card/card...</td>\n",
       "    </tr>\n",
       "    <tr>\n",
       "      <th>10</th>\n",
       "      <td>#form1</td>\n",
       "      <td>&lt;!-- function MM_jumpMenu(targ,selObj,restore)...</td>\n",
       "      <td>https://www.cathaybk.com.tw/cathaybk/card/serv...</td>\n",
       "    </tr>\n",
       "    <tr>\n",
       "      <th>11</th>\n",
       "      <td>#header #sub-menu</td>\n",
       "      <td>None</td>\n",
       "      <td>https://www.cathaybk.com.tw/cathaybk/card/even...</td>\n",
       "    </tr>\n",
       "    <tr>\n",
       "      <th>12</th>\n",
       "      <td>#pmenu</td>\n",
       "      <td>卡片介紹 產品介紹 我的最佳信用卡 卡友權益 用卡及繳款須知 刷卡優惠 精選優惠 信用卡活動...</td>\n",
       "      <td>https://www.cathaybk.com.tw/cathaybk/card/even...</td>\n",
       "    </tr>\n",
       "    <tr>\n",
       "      <th>13</th>\n",
       "      <td>#cardchooseresult</td>\n",
       "      <td>None</td>\n",
       "      <td>https://www.cathaybk.com.tw/cathaybk/card/imag...</td>\n",
       "    </tr>\n",
       "    <tr>\n",
       "      <th>14</th>\n",
       "      <td>#form1 #aaa</td>\n",
       "      <td>None</td>\n",
       "      <td>https://www.cathaybk.com.tw/cathaybk/card/even...</td>\n",
       "    </tr>\n",
       "    <tr>\n",
       "      <th>15</th>\n",
       "      <td>#form1</td>\n",
       "      <td>&lt;!-- function MM_jumpMenu(targ,selObj,restore)...</td>\n",
       "      <td>https://www.cathaybk.com.tw/cathaybk/card/serv...</td>\n",
       "    </tr>\n",
       "    <tr>\n",
       "      <th>16</th>\n",
       "      <td>#card3show</td>\n",
       "      <td>None</td>\n",
       "      <td>https://www.cathaybk.com.tw/cathaybk/card/card...</td>\n",
       "    </tr>\n",
       "    <tr>\n",
       "      <th>17</th>\n",
       "      <td>#form1 #pay_nav #card_pay02</td>\n",
       "      <td>確認繳款資訊</td>\n",
       "      <td>https://www.cathaybk.com.tw/cathaybk/card/serv...</td>\n",
       "    </tr>\n",
       "    <tr>\n",
       "      <th>18</th>\n",
       "      <td>#pmenu</td>\n",
       "      <td>卡片介紹 產品介紹 我的最佳信用卡 卡友權益 用卡及繳款須知 刷卡優惠 精選優惠 信用卡活動...</td>\n",
       "      <td>https://www.cathaybk.com.tw/cathaybk/card/card...</td>\n",
       "    </tr>\n",
       "    <tr>\n",
       "      <th>19</th>\n",
       "      <td>#submitbtn</td>\n",
       "      <td>None</td>\n",
       "      <td>https://www.cathaybk.com.tw/cathaybk/card/imag...</td>\n",
       "    </tr>\n",
       "    <tr>\n",
       "      <th>20</th>\n",
       "      <td>#form1</td>\n",
       "      <td>None</td>\n",
       "      <td>https://www.cathaybk.com.tw/cathaybk/card/even...</td>\n",
       "    </tr>\n",
       "    <tr>\n",
       "      <th>21</th>\n",
       "      <td>#Map</td>\n",
       "      <td>None</td>\n",
       "      <td>https://www.cathaybk.com.tw/cathaybk/card/even...</td>\n",
       "    </tr>\n",
       "    <tr>\n",
       "      <th>22</th>\n",
       "      <td>#pmenu</td>\n",
       "      <td>卡片介紹 產品介紹 我的最佳信用卡 卡友權益 用卡及繳款須知 刷卡優惠 精選優惠 信用卡活動...</td>\n",
       "      <td>https://www.cathaybk.com.tw/cathaybk/card/card...</td>\n",
       "    </tr>\n",
       "    <tr>\n",
       "      <th>23</th>\n",
       "      <td>#tabsbox #C_tab03 #tabinbox #tabinw #tabintit</td>\n",
       "      <td>None</td>\n",
       "      <td>https://www.cathaybk.com.tw/cathaybk/card/even...</td>\n",
       "    </tr>\n",
       "    <tr>\n",
       "      <th>24</th>\n",
       "      <td>#Map</td>\n",
       "      <td>None</td>\n",
       "      <td>https://www.cathaybk.com.tw/cathaybk/card/even...</td>\n",
       "    </tr>\n",
       "    <tr>\n",
       "      <th>25</th>\n",
       "      <td>#content #cotent-left #main</td>\n",
       "      <td>None</td>\n",
       "      <td>https://www.cathaybk.com.tw/cathaybk/card/MyBi...</td>\n",
       "    </tr>\n",
       "    <tr>\n",
       "      <th>26</th>\n",
       "      <td>#card3show</td>\n",
       "      <td>None</td>\n",
       "      <td>https://www.cathaybk.com.tw/cathaybk/card/card...</td>\n",
       "    </tr>\n",
       "    <tr>\n",
       "      <th>27</th>\n",
       "      <td>#pmenu</td>\n",
       "      <td>卡片介紹 產品介紹 我的最佳信用卡 卡友權益 用卡及繳款須知 刷卡優惠 精選優惠 信用卡活動...</td>\n",
       "      <td>https://www.cathaybk.com.tw/cathaybk/card/logi...</td>\n",
       "    </tr>\n",
       "    <tr>\n",
       "      <th>28</th>\n",
       "      <td>#wrapperb #slider</td>\n",
       "      <td>None</td>\n",
       "      <td>https://www.cathaybk.com.tw/cathaybk/card/even...</td>\n",
       "    </tr>\n",
       "    <tr>\n",
       "      <th>29</th>\n",
       "      <td>#content #cotent-left #main #main_bottom #main...</td>\n",
       "      <td>None</td>\n",
       "      <td>https://www.cathaybk.com.tw/cathaybk/card/MyBi...</td>\n",
       "    </tr>\n",
       "    <tr>\n",
       "      <th>...</th>\n",
       "      <td>...</td>\n",
       "      <td>...</td>\n",
       "      <td>...</td>\n",
       "    </tr>\n",
       "    <tr>\n",
       "      <th>70</th>\n",
       "      <td>#mapDiv #mapDiv_in5 #mapDiv_in5_img</td>\n",
       "      <td></td>\n",
       "      <td>https://www.cathaybk.com.tw/cathaybk/card/even...</td>\n",
       "    </tr>\n",
       "    <tr>\n",
       "      <th>71</th>\n",
       "      <td>#form1 #aaa</td>\n",
       "      <td>None</td>\n",
       "      <td>https://www.cathaybk.com.tw/cathaybk/card/even...</td>\n",
       "    </tr>\n",
       "    <tr>\n",
       "      <th>72</th>\n",
       "      <td>#form1 #event-main #event-block #event-block-i...</td>\n",
       "      <td></td>\n",
       "      <td>https://www.cathaybk.com.tw/cathaybk/card/even...</td>\n",
       "    </tr>\n",
       "    <tr>\n",
       "      <th>73</th>\n",
       "      <td>#content #cotent-left #main #main_bottom #main...</td>\n",
       "      <td>None</td>\n",
       "      <td>https://www.cathaybk.com.tw/cathaybk/card/mybi...</td>\n",
       "    </tr>\n",
       "    <tr>\n",
       "      <th>74</th>\n",
       "      <td>#d01</td>\n",
       "      <td>專屬優惠 優惠手冊 卡友權益 新卡活動 立即申請 台北慕軒酒店晚間指定套餐二人同行一人免費 ...</td>\n",
       "      <td>https://www.cathaybk.com.tw/cathaybk/card/card...</td>\n",
       "    </tr>\n",
       "    <tr>\n",
       "      <th>75</th>\n",
       "      <td>#table01</td>\n",
       "      <td>None</td>\n",
       "      <td>https://www.cathaybk.com.tw/cathaybk/card/even...</td>\n",
       "    </tr>\n",
       "    <tr>\n",
       "      <th>76</th>\n",
       "      <td>#bbb</td>\n",
       "      <td>None</td>\n",
       "      <td>https://www.cathaybk.com.tw/cathaybk/card/even...</td>\n",
       "    </tr>\n",
       "    <tr>\n",
       "      <th>77</th>\n",
       "      <td>#credit_apply_index #tab_mobipay</td>\n",
       "      <td>銵������臭��</td>\n",
       "      <td>https://www.cathaybk.com.tw/cathaybk/OnlineLoa...</td>\n",
       "    </tr>\n",
       "    <tr>\n",
       "      <th>78</th>\n",
       "      <td>#credit_apply_index #form1 #content_tab_all</td>\n",
       "      <td>None</td>\n",
       "      <td>https://www.cathaybk.com.tw/cathaybk/OnlineLoa...</td>\n",
       "    </tr>\n",
       "    <tr>\n",
       "      <th>79</th>\n",
       "      <td>#applybt</td>\n",
       "      <td>None</td>\n",
       "      <td>https://www.cathaybk.com.tw/cathaybk/card/even...</td>\n",
       "    </tr>\n",
       "    <tr>\n",
       "      <th>80</th>\n",
       "      <td>#form1 #event-main #event-block #event-block-i...</td>\n",
       "      <td></td>\n",
       "      <td>https://www.cathaybk.com.tw/cathaybk/card/even...</td>\n",
       "    </tr>\n",
       "    <tr>\n",
       "      <th>81</th>\n",
       "      <td>#header #sub-menu</td>\n",
       "      <td>信用卡服務 信用卡服務首頁 卡片介紹 精選優惠 卡友權益 紅利兌換 迎新有禮 信用卡服務首頁...</td>\n",
       "      <td>https://www.cathaybk.com.tw/cathaybk/card/news...</td>\n",
       "    </tr>\n",
       "    <tr>\n",
       "      <th>82</th>\n",
       "      <td>#list</td>\n",
       "      <td>None</td>\n",
       "      <td>https://www.cathaybk.com.tw/cathaybk/card/even...</td>\n",
       "    </tr>\n",
       "    <tr>\n",
       "      <th>83</th>\n",
       "      <td>#event-main #event-head #Map</td>\n",
       "      <td>None</td>\n",
       "      <td>https://www.cathaybk.com.tw/cathaybk/card/even...</td>\n",
       "    </tr>\n",
       "    <tr>\n",
       "      <th>84</th>\n",
       "      <td>#form1 #pmenu #tr1</td>\n",
       "      <td>None</td>\n",
       "      <td>https://www.cathaybk.com.tw/cathaybk/card/even...</td>\n",
       "    </tr>\n",
       "    <tr>\n",
       "      <th>85</th>\n",
       "      <td>#tabsbox #C_tab01 #tabinbox #tabinw #tabinmore</td>\n",
       "      <td>None</td>\n",
       "      <td>https://www.cathaybk.com.tw/cathaybk/card/even...</td>\n",
       "    </tr>\n",
       "    <tr>\n",
       "      <th>86</th>\n",
       "      <td>#credit_apply_index #tab_top</td>\n",
       "      <td>���蝝�/������憿�</td>\n",
       "      <td>https://www.cathaybk.com.tw/cathaybk/OnlineLoa...</td>\n",
       "    </tr>\n",
       "    <tr>\n",
       "      <th>87</th>\n",
       "      <td>#d02</td>\n",
       "      <td>專屬優惠 優惠手冊 卡友權益 新卡活動 立即申請 超值旅遊保險保障 只要您以國泰世華世界卡為...</td>\n",
       "      <td>https://www.cathaybk.com.tw/cathaybk/card/card...</td>\n",
       "    </tr>\n",
       "    <tr>\n",
       "      <th>88</th>\n",
       "      <td>#main-wrapper #mIframe #content #sidenav #pc-s...</td>\n",
       "      <td>None</td>\n",
       "      <td>https://www.cathaybk.com.tw/cathaybk/card/even...</td>\n",
       "    </tr>\n",
       "    <tr>\n",
       "      <th>89</th>\n",
       "      <td>#pmenu #tr4</td>\n",
       "      <td>紅利兌換商品 紅利折抵消費 紅利回饋專區 紅利累積辦法 紅利折抵辦法</td>\n",
       "      <td>https://www.cathaybk.com.tw/cathaybk/card/even...</td>\n",
       "    </tr>\n",
       "    <tr>\n",
       "      <th>90</th>\n",
       "      <td>#pmenu #tr2</td>\n",
       "      <td>代扣代繳服務 信用卡繳學費 繳信用卡費</td>\n",
       "      <td>https://www.cathaybk.com.tw/Cathaybk/card/even...</td>\n",
       "    </tr>\n",
       "    <tr>\n",
       "      <th>91</th>\n",
       "      <td>#pmenu #tr1</td>\n",
       "      <td>刷卡樂分期 帳單分期 預借現金 錢易通(預借現金分期專案) 餘額代償</td>\n",
       "      <td>https://www.cathaybk.com.tw/cathaybk/card/even...</td>\n",
       "    </tr>\n",
       "    <tr>\n",
       "      <th>92</th>\n",
       "      <td>#syno-nsc-ext-gen3 #form1</td>\n",
       "      <td>None</td>\n",
       "      <td>https://www.cathaybk.com.tw/cathaybk/card/serv...</td>\n",
       "    </tr>\n",
       "    <tr>\n",
       "      <th>93</th>\n",
       "      <td>#tabsbox #C_tab03 #tabinother</td>\n",
       "      <td>None</td>\n",
       "      <td>https://www.cathaybk.com.tw/cathaybk/card/even...</td>\n",
       "    </tr>\n",
       "    <tr>\n",
       "      <th>94</th>\n",
       "      <td>#footer</td>\n",
       "      <td>None</td>\n",
       "      <td>https://www.cathaybk.com.tw/cathaybk/card/card...</td>\n",
       "    </tr>\n",
       "    <tr>\n",
       "      <th>95</th>\n",
       "      <td>#card1show</td>\n",
       "      <td>None</td>\n",
       "      <td>https://www.cathaybk.com.tw/cathaybk/card/card...</td>\n",
       "    </tr>\n",
       "    <tr>\n",
       "      <th>96</th>\n",
       "      <td>#main-wrap #content-wrap</td>\n",
       "      <td>None</td>\n",
       "      <td>https://www.cathaybk.com.tw/cathaybk/card/MyBi...</td>\n",
       "    </tr>\n",
       "    <tr>\n",
       "      <th>97</th>\n",
       "      <td>#syno-nsc-ext-gen3 #form1</td>\n",
       "      <td>None</td>\n",
       "      <td>https://www.cathaybk.com.tw/cathaybk/card/imag...</td>\n",
       "    </tr>\n",
       "    <tr>\n",
       "      <th>98</th>\n",
       "      <td>#card1show</td>\n",
       "      <td>None</td>\n",
       "      <td>https://www.cathaybk.com.tw/cathaybk/card/card...</td>\n",
       "    </tr>\n",
       "    <tr>\n",
       "      <th>99</th>\n",
       "      <td>#tabsbox #C_tab02 #tabinbox #tabinw #tabintit</td>\n",
       "      <td>None</td>\n",
       "      <td>https://www.cathaybk.com.tw/cathaybk/card/even...</td>\n",
       "    </tr>\n",
       "  </tbody>\n",
       "</table>\n",
       "<p>100 rows × 3 columns</p>\n",
       "</div>"
      ],
      "text/plain": [
       "                                                   ID  \\\n",
       "0                            #main-wrap #content-wrap   \n",
       "1                         #content #cotent-left #main   \n",
       "2                                         #form1 #aaa   \n",
       "3                                                #d01   \n",
       "4                                                #Map   \n",
       "5                                         #pmenu #tr2   \n",
       "6   #content #cotent-left #main #main_bottom #main...   \n",
       "7                                   #header #sub-menu   \n",
       "8         #tabsbox #C_tab07 #tabinother #tabinotherbt   \n",
       "9                                   #cardchooseresult   \n",
       "10                                             #form1   \n",
       "11                                  #header #sub-menu   \n",
       "12                                             #pmenu   \n",
       "13                                  #cardchooseresult   \n",
       "14                                        #form1 #aaa   \n",
       "15                                             #form1   \n",
       "16                                         #card3show   \n",
       "17                        #form1 #pay_nav #card_pay02   \n",
       "18                                             #pmenu   \n",
       "19                                         #submitbtn   \n",
       "20                                             #form1   \n",
       "21                                               #Map   \n",
       "22                                             #pmenu   \n",
       "23      #tabsbox #C_tab03 #tabinbox #tabinw #tabintit   \n",
       "24                                               #Map   \n",
       "25                        #content #cotent-left #main   \n",
       "26                                         #card3show   \n",
       "27                                             #pmenu   \n",
       "28                                  #wrapperb #slider   \n",
       "29  #content #cotent-left #main #main_bottom #main...   \n",
       "..                                                ...   \n",
       "70                #mapDiv #mapDiv_in5 #mapDiv_in5_img   \n",
       "71                                        #form1 #aaa   \n",
       "72  #form1 #event-main #event-block #event-block-i...   \n",
       "73  #content #cotent-left #main #main_bottom #main...   \n",
       "74                                               #d01   \n",
       "75                                           #table01   \n",
       "76                                               #bbb   \n",
       "77                   #credit_apply_index #tab_mobipay   \n",
       "78        #credit_apply_index #form1 #content_tab_all   \n",
       "79                                           #applybt   \n",
       "80  #form1 #event-main #event-block #event-block-i...   \n",
       "81                                  #header #sub-menu   \n",
       "82                                              #list   \n",
       "83                       #event-main #event-head #Map   \n",
       "84                                 #form1 #pmenu #tr1   \n",
       "85     #tabsbox #C_tab01 #tabinbox #tabinw #tabinmore   \n",
       "86                       #credit_apply_index #tab_top   \n",
       "87                                               #d02   \n",
       "88  #main-wrapper #mIframe #content #sidenav #pc-s...   \n",
       "89                                        #pmenu #tr4   \n",
       "90                                        #pmenu #tr2   \n",
       "91                                        #pmenu #tr1   \n",
       "92                          #syno-nsc-ext-gen3 #form1   \n",
       "93                      #tabsbox #C_tab03 #tabinother   \n",
       "94                                            #footer   \n",
       "95                                         #card1show   \n",
       "96                           #main-wrap #content-wrap   \n",
       "97                          #syno-nsc-ext-gen3 #form1   \n",
       "98                                         #card1show   \n",
       "99      #tabsbox #C_tab02 #tabinbox #tabinw #tabintit   \n",
       "\n",
       "                                              article  \\\n",
       "0                                                None   \n",
       "1                                                None   \n",
       "2                                                None   \n",
       "3   卡片介紹 專屬優惠 卡友權益 立即申請 悠遊卡介紹 結合信用卡、悠遊卡功能，免付NT$100...   \n",
       "4                                                None   \n",
       "5                                 代扣代繳服務 信用卡繳學費 繳信用卡費   \n",
       "6                                                None   \n",
       "7   信用卡服務 信用卡服務首頁 卡片介紹 精選優惠 卡友權益 紅利兌換 迎新有禮 信用卡服務首頁...   \n",
       "8                                                None   \n",
       "9                                                None   \n",
       "10  <!-- function MM_jumpMenu(targ,selObj,restore)...   \n",
       "11                                               None   \n",
       "12  卡片介紹 產品介紹 我的最佳信用卡 卡友權益 用卡及繳款須知 刷卡優惠 精選優惠 信用卡活動...   \n",
       "13                                               None   \n",
       "14                                               None   \n",
       "15  <!-- function MM_jumpMenu(targ,selObj,restore)...   \n",
       "16                                               None   \n",
       "17                                             確認繳款資訊   \n",
       "18  卡片介紹 產品介紹 我的最佳信用卡 卡友權益 用卡及繳款須知 刷卡優惠 精選優惠 信用卡活動...   \n",
       "19                                               None   \n",
       "20                                               None   \n",
       "21                                               None   \n",
       "22  卡片介紹 產品介紹 我的最佳信用卡 卡友權益 用卡及繳款須知 刷卡優惠 精選優惠 信用卡活動...   \n",
       "23                                               None   \n",
       "24                                               None   \n",
       "25                                               None   \n",
       "26                                               None   \n",
       "27  卡片介紹 產品介紹 我的最佳信用卡 卡友權益 用卡及繳款須知 刷卡優惠 精選優惠 信用卡活動...   \n",
       "28                                               None   \n",
       "29                                               None   \n",
       "..                                                ...   \n",
       "70                                                      \n",
       "71                                               None   \n",
       "72                                                      \n",
       "73                                               None   \n",
       "74  專屬優惠 優惠手冊 卡友權益 新卡活動 立即申請 台北慕軒酒店晚間指定套餐二人同行一人免費 ...   \n",
       "75                                               None   \n",
       "76                                               None   \n",
       "77                                         銵������臭��   \n",
       "78                                               None   \n",
       "79                                               None   \n",
       "80                                                      \n",
       "81  信用卡服務 信用卡服務首頁 卡片介紹 精選優惠 卡友權益 紅利兌換 迎新有禮 信用卡服務首頁...   \n",
       "82                                               None   \n",
       "83                                               None   \n",
       "84                                               None   \n",
       "85                                               None   \n",
       "86                                     ���蝝�/������憿�   \n",
       "87  專屬優惠 優惠手冊 卡友權益 新卡活動 立即申請 超值旅遊保險保障 只要您以國泰世華世界卡為...   \n",
       "88                                               None   \n",
       "89                 紅利兌換商品 紅利折抵消費 紅利回饋專區 紅利累積辦法 紅利折抵辦法   \n",
       "90                                代扣代繳服務 信用卡繳學費 繳信用卡費   \n",
       "91                 刷卡樂分期 帳單分期 預借現金 錢易通(預借現金分期專案) 餘額代償   \n",
       "92                                               None   \n",
       "93                                               None   \n",
       "94                                               None   \n",
       "95                                               None   \n",
       "96                                               None   \n",
       "97                                               None   \n",
       "98                                               None   \n",
       "99                                               None   \n",
       "\n",
       "                                                  url  \n",
       "0   https://www.cathaybk.com.tw/cathaybk/OnlineLoa...  \n",
       "1   https://www.cathaybk.com.tw/cathaybk/card/mybi...  \n",
       "2   https://www.cathaybk.com.tw/cathaybk/card/even...  \n",
       "3   https://www.cathaybk.com.tw/cathaybk/card/card...  \n",
       "4   https://www.cathaybk.com.tw/cathaybk/card/even...  \n",
       "5   https://www.cathaybk.com.tw/cathaybk/card/serv...  \n",
       "6   https://www.cathaybk.com.tw/cathaybk/card/mybi...  \n",
       "7   https://www.cathaybk.com.tw/cathaybk/card/inde...  \n",
       "8   https://www.cathaybk.com.tw/cathaybk/card/list...  \n",
       "9   https://www.cathaybk.com.tw/cathaybk/card/card...  \n",
       "10  https://www.cathaybk.com.tw/cathaybk/card/serv...  \n",
       "11  https://www.cathaybk.com.tw/cathaybk/card/even...  \n",
       "12  https://www.cathaybk.com.tw/cathaybk/card/even...  \n",
       "13  https://www.cathaybk.com.tw/cathaybk/card/imag...  \n",
       "14  https://www.cathaybk.com.tw/cathaybk/card/even...  \n",
       "15  https://www.cathaybk.com.tw/cathaybk/card/serv...  \n",
       "16  https://www.cathaybk.com.tw/cathaybk/card/card...  \n",
       "17  https://www.cathaybk.com.tw/cathaybk/card/serv...  \n",
       "18  https://www.cathaybk.com.tw/cathaybk/card/card...  \n",
       "19  https://www.cathaybk.com.tw/cathaybk/card/imag...  \n",
       "20  https://www.cathaybk.com.tw/cathaybk/card/even...  \n",
       "21  https://www.cathaybk.com.tw/cathaybk/card/even...  \n",
       "22  https://www.cathaybk.com.tw/cathaybk/card/card...  \n",
       "23  https://www.cathaybk.com.tw/cathaybk/card/even...  \n",
       "24  https://www.cathaybk.com.tw/cathaybk/card/even...  \n",
       "25  https://www.cathaybk.com.tw/cathaybk/card/MyBi...  \n",
       "26  https://www.cathaybk.com.tw/cathaybk/card/card...  \n",
       "27  https://www.cathaybk.com.tw/cathaybk/card/logi...  \n",
       "28  https://www.cathaybk.com.tw/cathaybk/card/even...  \n",
       "29  https://www.cathaybk.com.tw/cathaybk/card/MyBi...  \n",
       "..                                                ...  \n",
       "70  https://www.cathaybk.com.tw/cathaybk/card/even...  \n",
       "71  https://www.cathaybk.com.tw/cathaybk/card/even...  \n",
       "72  https://www.cathaybk.com.tw/cathaybk/card/even...  \n",
       "73  https://www.cathaybk.com.tw/cathaybk/card/mybi...  \n",
       "74  https://www.cathaybk.com.tw/cathaybk/card/card...  \n",
       "75  https://www.cathaybk.com.tw/cathaybk/card/even...  \n",
       "76  https://www.cathaybk.com.tw/cathaybk/card/even...  \n",
       "77  https://www.cathaybk.com.tw/cathaybk/OnlineLoa...  \n",
       "78  https://www.cathaybk.com.tw/cathaybk/OnlineLoa...  \n",
       "79  https://www.cathaybk.com.tw/cathaybk/card/even...  \n",
       "80  https://www.cathaybk.com.tw/cathaybk/card/even...  \n",
       "81  https://www.cathaybk.com.tw/cathaybk/card/news...  \n",
       "82  https://www.cathaybk.com.tw/cathaybk/card/even...  \n",
       "83  https://www.cathaybk.com.tw/cathaybk/card/even...  \n",
       "84  https://www.cathaybk.com.tw/cathaybk/card/even...  \n",
       "85  https://www.cathaybk.com.tw/cathaybk/card/even...  \n",
       "86  https://www.cathaybk.com.tw/cathaybk/OnlineLoa...  \n",
       "87  https://www.cathaybk.com.tw/cathaybk/card/card...  \n",
       "88  https://www.cathaybk.com.tw/cathaybk/card/even...  \n",
       "89  https://www.cathaybk.com.tw/cathaybk/card/even...  \n",
       "90  https://www.cathaybk.com.tw/Cathaybk/card/even...  \n",
       "91  https://www.cathaybk.com.tw/cathaybk/card/even...  \n",
       "92  https://www.cathaybk.com.tw/cathaybk/card/serv...  \n",
       "93  https://www.cathaybk.com.tw/cathaybk/card/even...  \n",
       "94  https://www.cathaybk.com.tw/cathaybk/card/card...  \n",
       "95  https://www.cathaybk.com.tw/cathaybk/card/card...  \n",
       "96  https://www.cathaybk.com.tw/cathaybk/card/MyBi...  \n",
       "97  https://www.cathaybk.com.tw/cathaybk/card/imag...  \n",
       "98  https://www.cathaybk.com.tw/cathaybk/card/card...  \n",
       "99  https://www.cathaybk.com.tw/cathaybk/card/even...  \n",
       "\n",
       "[100 rows x 3 columns]"
      ]
     },
     "execution_count": 257,
     "metadata": {},
     "output_type": "execute_result"
    }
   ],
   "source": [
    "df = pandas.DataFrame(article_list)\n",
    "df"
   ]
  },
  {
   "cell_type": "code",
   "execution_count": null,
   "metadata": {
    "collapsed": true
   },
   "outputs": [],
   "source": []
  },
  {
   "cell_type": "code",
   "execution_count": null,
   "metadata": {
    "collapsed": true
   },
   "outputs": [],
   "source": []
  }
 ],
 "metadata": {
  "kernelspec": {
   "display_name": "Python [Root]",
   "language": "python",
   "name": "Python [Root]"
  },
  "language_info": {
   "codemirror_mode": {
    "name": "ipython",
    "version": 3
   },
   "file_extension": ".py",
   "mimetype": "text/x-python",
   "name": "python",
   "nbconvert_exporter": "python",
   "pygments_lexer": "ipython3",
   "version": "3.5.2"
  }
 },
 "nbformat": 4,
 "nbformat_minor": 0
}
